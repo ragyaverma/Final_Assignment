





<!DOCTYPE html>
<html
  lang="en"
  
  data-color-mode="auto" data-light-theme="light" data-dark-theme="dark"
  data-a11y-animated-images="system" data-a11y-link-underlines="true"
  >



  <head>
    <meta charset="utf-8">
  <link rel="dns-prefetch" href="https://github.githubassets.com">
  <link rel="dns-prefetch" href="https://avatars.githubusercontent.com">
  <link rel="dns-prefetch" href="https://github-cloud.s3.amazonaws.com">
  <link rel="dns-prefetch" href="https://user-images.githubusercontent.com/">
  <link rel="preconnect" href="https://github.githubassets.com" crossorigin>
  <link rel="preconnect" href="https://avatars.githubusercontent.com">

  


  <link crossorigin="anonymous" media="all" rel="stylesheet" href="https://github.githubassets.com/assets/light-efd2f2257c96.css" /><link crossorigin="anonymous" media="all" rel="stylesheet" href="https://github.githubassets.com/assets/dark-6b1e37da2254.css" /><link data-color-theme="dark_dimmed" crossorigin="anonymous" media="all" rel="stylesheet" data-href="https://github.githubassets.com/assets/dark_dimmed-aa16bfa90fb8.css" /><link data-color-theme="dark_high_contrast" crossorigin="anonymous" media="all" rel="stylesheet" data-href="https://github.githubassets.com/assets/dark_high_contrast-f4daad25d8cf.css" /><link data-color-theme="dark_colorblind" crossorigin="anonymous" media="all" rel="stylesheet" data-href="https://github.githubassets.com/assets/dark_colorblind-a4629b2e906b.css" /><link data-color-theme="light_colorblind" crossorigin="anonymous" media="all" rel="stylesheet" data-href="https://github.githubassets.com/assets/light_colorblind-afcc3a6a38dd.css" /><link data-color-theme="light_high_contrast" crossorigin="anonymous" media="all" rel="stylesheet" data-href="https://github.githubassets.com/assets/light_high_contrast-79bca7145393.css" /><link data-color-theme="light_tritanopia" crossorigin="anonymous" media="all" rel="stylesheet" data-href="https://github.githubassets.com/assets/light_tritanopia-fe4137b54b26.css" /><link data-color-theme="dark_tritanopia" crossorigin="anonymous" media="all" rel="stylesheet" data-href="https://github.githubassets.com/assets/dark_tritanopia-1911f0cf0db4.css" />
    <link crossorigin="anonymous" media="all" rel="stylesheet" href="https://github.githubassets.com/assets/primer-primitives-8500c2c7ce5f.css" />
    <link crossorigin="anonymous" media="all" rel="stylesheet" href="https://github.githubassets.com/assets/primer-87f353b17355.css" />
    <link crossorigin="anonymous" media="all" rel="stylesheet" href="https://github.githubassets.com/assets/global-0a085de8e14d.css" />
    <link crossorigin="anonymous" media="all" rel="stylesheet" href="https://github.githubassets.com/assets/github-4ceef60c9c95.css" />
  <link crossorigin="anonymous" media="all" rel="stylesheet" href="https://github.githubassets.com/assets/repository-2e900f0ac288.css" />
<link crossorigin="anonymous" media="all" rel="stylesheet" href="https://github.githubassets.com/assets/code-19d847090480.css" />

  


  <script type="application/json" id="client-env">{"locale":"en","featureFlags":["code_vulnerability_scanning","copilot_chat_static_thread_suggestions","copilot_conversational_ux_history_refs","copilot_followup_to_agent","copilot_smell_icebreaker_ux","copilot_implicit_context","copilot_stop_response","failbot_handle_non_errors","geojson_azure_maps","ghost_pilot_vnext","image_metric_tracking","marketing_forms_api_integration_contact_request","marketing_pages_search_explore_provider","repository_suggester_elastic_search","turbo_experiment_risky","sample_network_conn_type","no_character_key_shortcuts_in_inputs","react_start_transition_for_navigations","custom_inp","remove_child_patch","kb_source_repos","filter_prefetch_suggestions"]}</script>
<script crossorigin="anonymous" defer="defer" type="application/javascript" src="https://github.githubassets.com/assets/wp-runtime-ef3fd8e60489.js"></script>
<script crossorigin="anonymous" defer="defer" type="application/javascript" src="https://github.githubassets.com/assets/vendors-node_modules_dompurify_dist_purify_js-810e4b1b9abd.js"></script>
<script crossorigin="anonymous" defer="defer" type="application/javascript" src="https://github.githubassets.com/assets/vendors-node_modules_oddbird_popover-polyfill_dist_popover_js-4ac41d0a76fd.js"></script>
<script crossorigin="anonymous" defer="defer" type="application/javascript" src="https://github.githubassets.com/assets/vendors-node_modules_smoothscroll-polyfill_dist_smoothscroll_js-node_modules_stacktrace-parse-a448e4-bdc28e06dc01.js"></script>
<script crossorigin="anonymous" defer="defer" type="application/javascript" src="https://github.githubassets.com/assets/environment-65dcc25bed15.js"></script>
<script crossorigin="anonymous" defer="defer" type="application/javascript" src="https://github.githubassets.com/assets/vendors-node_modules_primer_behaviors_dist_esm_focus-zone_js-03bcda509ec9.js"></script>
<script crossorigin="anonymous" defer="defer" type="application/javascript" src="https://github.githubassets.com/assets/vendors-node_modules_github_selector-observer_dist_index_esm_js-9f960d9b217c.js"></script>
<script crossorigin="anonymous" defer="defer" type="application/javascript" src="https://github.githubassets.com/assets/vendors-node_modules_github_combobox-nav_dist_index_js-node_modules_github_markdown-toolbar-e-820fc0-1176135e4d90.js"></script>
<script crossorigin="anonymous" defer="defer" type="application/javascript" src="https://github.githubassets.com/assets/vendors-node_modules_github_auto-complete-element_dist_index_js-node_modules_github_catalyst_-392fe4-5df1d85d02da.js"></script>
<script crossorigin="anonymous" defer="defer" type="application/javascript" src="https://github.githubassets.com/assets/vendors-node_modules_github_text-expander-element_dist_index_js-b2135edb5ced.js"></script>
<script crossorigin="anonymous" defer="defer" type="application/javascript" src="https://github.githubassets.com/assets/vendors-node_modules_github_filter-input-element_dist_index_js-node_modules_github_remote-inp-b7d8f4-6e6f83bcc978.js"></script>
<script crossorigin="anonymous" defer="defer" type="application/javascript" src="https://github.githubassets.com/assets/vendors-node_modules_github_mini-throttle_dist_index_js-node_modules_delegated-events_dist_in-b63d41-1e3984e4dd2f.js"></script>
<script crossorigin="anonymous" defer="defer" type="application/javascript" src="https://github.githubassets.com/assets/vendors-node_modules_github_file-attachment-element_dist_index_js-node_modules_primer_view-co-3959a9-1ccb1cef5682.js"></script>
<script crossorigin="anonymous" defer="defer" type="application/javascript" src="https://github.githubassets.com/assets/app_assets_modules_github_onfocus_ts-ui_packages_trusted-types-policies_policy_ts-ui_packages-6fe316-4083e7233d28.js"></script>
<script crossorigin="anonymous" defer="defer" type="application/javascript" src="https://github.githubassets.com/assets/github-elements-c9cd2492b1b3.js"></script>
<script crossorigin="anonymous" defer="defer" type="application/javascript" src="https://github.githubassets.com/assets/element-registry-648d295e722a.js"></script>
<script crossorigin="anonymous" defer="defer" type="application/javascript" src="https://github.githubassets.com/assets/vendors-node_modules_braintree_browser-detection_dist_browser-detection_js-node_modules_githu-fd5530-79ffdad54bcd.js"></script>
<script crossorigin="anonymous" defer="defer" type="application/javascript" src="https://github.githubassets.com/assets/vendors-node_modules_lit-html_lit-html_js-cc7cb714ead5.js"></script>
<script crossorigin="anonymous" defer="defer" type="application/javascript" src="https://github.githubassets.com/assets/vendors-node_modules_morphdom_dist_morphdom-esm_js-node_modules_github_memoize_dist_esm_index_js-8d7117d67c36.js"></script>
<script crossorigin="anonymous" defer="defer" type="application/javascript" src="https://github.githubassets.com/assets/vendors-node_modules_github_turbo_dist_turbo_es2017-esm_js-1cea0f5eff45.js"></script>
<script crossorigin="anonymous" defer="defer" type="application/javascript" src="https://github.githubassets.com/assets/vendors-node_modules_github_remote-form_dist_index_js-node_modules_delegated-events_dist_inde-893f9f-880ac2bbb719.js"></script>
<script crossorigin="anonymous" defer="defer" type="application/javascript" src="https://github.githubassets.com/assets/vendors-node_modules_scroll-anchoring_dist_scroll-anchoring_esm_js-node_modules_github_hotkey-1a1d91-1bb71f3f93c2.js"></script>
<script crossorigin="anonymous" defer="defer" type="application/javascript" src="https://github.githubassets.com/assets/vendors-node_modules_color-convert_index_js-cdd1e82b3795.js"></script>
<script crossorigin="anonymous" defer="defer" type="application/javascript" src="https://github.githubassets.com/assets/vendors-node_modules_primer_behaviors_dist_esm_dimensions_js-node_modules_github_jtml_lib_index_js-b1947a1d4855.js"></script>
<script crossorigin="anonymous" defer="defer" type="application/javascript" src="https://github.githubassets.com/assets/vendors-node_modules_github_session-resume_dist_index_js-node_modules_primer_behaviors_dist_e-da6ec6-77ce2f267f4e.js"></script>
<script crossorigin="anonymous" defer="defer" type="application/javascript" src="https://github.githubassets.com/assets/vendors-node_modules_github_quote-selection_dist_index_js-node_modules_github_textarea-autosi-9e0349-7c78ee755ad3.js"></script>
<script crossorigin="anonymous" defer="defer" type="application/javascript" src="https://github.githubassets.com/assets/app_assets_modules_github_updatable-content_ts-7fcc5f2841d8.js"></script>
<script crossorigin="anonymous" defer="defer" type="application/javascript" src="https://github.githubassets.com/assets/app_assets_modules_github_behaviors_task-list_ts-app_assets_modules_github_onfocus_ts-app_ass-421cec-d3af2356fb47.js"></script>
<script crossorigin="anonymous" defer="defer" type="application/javascript" src="https://github.githubassets.com/assets/app_assets_modules_github_sticky-scroll-into-view_ts-3dc342dedcb0.js"></script>
<script crossorigin="anonymous" defer="defer" type="application/javascript" src="https://github.githubassets.com/assets/app_assets_modules_github_behaviors_ajax-error_ts-app_assets_modules_github_behaviors_include-467754-0b06f9573e1c.js"></script>
<script crossorigin="anonymous" defer="defer" type="application/javascript" src="https://github.githubassets.com/assets/app_assets_modules_github_behaviors_commenting_edit_ts-app_assets_modules_github_behaviors_ht-83c235-5276a3faf037.js"></script>
<script crossorigin="anonymous" defer="defer" type="application/javascript" src="https://github.githubassets.com/assets/app_assets_modules_github_blob-anchor_ts-app_assets_modules_github_filter-sort_ts-app_assets_-c96432-b934f03f8602.js"></script>
<script crossorigin="anonymous" defer="defer" type="application/javascript" src="https://github.githubassets.com/assets/behaviors-4a2e178d5769.js"></script>
<script crossorigin="anonymous" defer="defer" type="application/javascript" src="https://github.githubassets.com/assets/vendors-node_modules_delegated-events_dist_index_js-node_modules_github_catalyst_lib_index_js-06ff531-2ea61fcc9a71.js"></script>
<script crossorigin="anonymous" defer="defer" type="application/javascript" src="https://github.githubassets.com/assets/notifications-global-0409f6303340.js"></script>
<script crossorigin="anonymous" defer="defer" type="application/javascript" src="https://github.githubassets.com/assets/app_assets_modules_github_repositories_get-repo-element_ts-e21ae6671295.js"></script>
<script crossorigin="anonymous" defer="defer" type="application/javascript" src="https://github.githubassets.com/assets/code-menu-67595c3a6d0c.js"></script>
  
  <script crossorigin="anonymous" defer="defer" type="application/javascript" src="https://github.githubassets.com/assets/react-lib-dc88c1a68b28.js"></script>
<script crossorigin="anonymous" defer="defer" type="application/javascript" src="https://github.githubassets.com/assets/vendors-node_modules_primer_octicons-react_dist_index_esm_js-node_modules_primer_react_lib-es-541a38-2ad77ede4dad.js"></script>
<script crossorigin="anonymous" defer="defer" type="application/javascript" src="https://github.githubassets.com/assets/vendors-node_modules_primer_react_lib-esm_Box_Box_js-5a335cbe71ad.js"></script>
<script crossorigin="anonymous" defer="defer" type="application/javascript" src="https://github.githubassets.com/assets/vendors-node_modules_primer_react_lib-esm_FeatureFlags_FeatureFlags_js-node_modules_github_ca-9009bd-47065f21e9ac.js"></script>
<script crossorigin="anonymous" defer="defer" type="application/javascript" src="https://github.githubassets.com/assets/vendors-node_modules_primer_react_lib-esm_Button_Button_js-618154c88198.js"></script>
<script crossorigin="anonymous" defer="defer" type="application/javascript" src="https://github.githubassets.com/assets/vendors-node_modules_primer_react_lib-esm_TooltipV2_Tooltip_js-98aea6945770.js"></script>
<script crossorigin="anonymous" defer="defer" type="application/javascript" src="https://github.githubassets.com/assets/vendors-node_modules_primer_react_node_modules_primer_octicons-react_dist_index_esm_mjs-dc98a76c65d6.js"></script>
<script crossorigin="anonymous" defer="defer" type="application/javascript" src="https://github.githubassets.com/assets/vendors-node_modules_primer_react_lib-esm_ActionList_index_js-a2fe8fc7236e.js"></script>
<script crossorigin="anonymous" defer="defer" type="application/javascript" src="https://github.githubassets.com/assets/vendors-node_modules_primer_react_lib-esm_TextInput_TextInput_js-57e9c5f82efe.js"></script>
<script crossorigin="anonymous" defer="defer" type="application/javascript" src="https://github.githubassets.com/assets/vendors-node_modules_primer_react_lib-esm_FormControl_FormControl_js-61ac46c67a7e.js"></script>
<script crossorigin="anonymous" defer="defer" type="application/javascript" src="https://github.githubassets.com/assets/vendors-node_modules_primer_react_lib-esm_ActionMenu_ActionMenu_js-node_modules_primer_react_-5b2420-3d111386e1c1.js"></script>
<script crossorigin="anonymous" defer="defer" type="application/javascript" src="https://github.githubassets.com/assets/vendors-node_modules_react-router-dom_dist_index_js-2b1dbeadb6d4.js"></script>
<script crossorigin="anonymous" defer="defer" type="application/javascript" src="https://github.githubassets.com/assets/vendors-node_modules_primer_react_lib-esm_Link_Link_js-node_modules_primer_react_lib-esm_Rela-a903d7-17c01d44f123.js"></script>
<script crossorigin="anonymous" defer="defer" type="application/javascript" src="https://github.githubassets.com/assets/vendors-node_modules_primer_react_lib-esm_ConfirmationDialog_ConfirmationDialog_js-1811321a7c22.js"></script>
<script crossorigin="anonymous" defer="defer" type="application/javascript" src="https://github.githubassets.com/assets/vendors-node_modules_primer_react_lib-esm_Heading_Heading_js-node_modules_primer_react_lib-es-d8d6f0-041d9de40b9a.js"></script>
<script crossorigin="anonymous" defer="defer" type="application/javascript" src="https://github.githubassets.com/assets/vendors-node_modules_primer_react_lib-esm_Button_LinkButton_js-node_modules_primer_react_lib--a52ff3-7e9e67a2b35e.js"></script>
<script crossorigin="anonymous" defer="defer" type="application/javascript" src="https://github.githubassets.com/assets/vendors-node_modules_primer_react_lib-esm_TreeView_TreeView_js-9456d871c361.js"></script>
<script crossorigin="anonymous" defer="defer" type="application/javascript" src="https://github.githubassets.com/assets/vendors-node_modules_primer_react_lib-esm_Flash_Flash_js-node_modules_primer_react_lib-esm_La-0046ca-f78267fddf9f.js"></script>
<script crossorigin="anonymous" defer="defer" type="application/javascript" src="https://github.githubassets.com/assets/vendors-node_modules_primer_react_lib-esm_AvatarStack_AvatarStack_js-node_modules_primer_reac-b27144-74a13f323a4c.js"></script>
<script crossorigin="anonymous" defer="defer" type="application/javascript" src="https://github.githubassets.com/assets/ui_packages_react-core_create-browser-history_ts-ui_packages_safe-storage_safe-storage_ts-ui_-682c2c-44ed51a2083d.js"></script>
<script crossorigin="anonymous" defer="defer" type="application/javascript" src="https://github.githubassets.com/assets/ui_packages_react-core_register-app_ts-a7b9de7616e6.js"></script>
<script crossorigin="anonymous" defer="defer" type="application/javascript" src="https://github.githubassets.com/assets/ui_packages_paths_index_ts-3271f4d81cab.js"></script>
<script crossorigin="anonymous" defer="defer" type="application/javascript" src="https://github.githubassets.com/assets/ui_packages_ref-selector_RefSelector_tsx-84a0dce6bcb2.js"></script>
<script crossorigin="anonymous" defer="defer" type="application/javascript" src="https://github.githubassets.com/assets/ui_packages_code-view-shared_hooks_shortcuts_ts-ui_packages_code-view-shared_utilities_web-wo-02859b-9ab39a48c0f9.js"></script>
<script crossorigin="anonymous" defer="defer" type="application/javascript" src="https://github.githubassets.com/assets/ui_packages_code-view-shared_hooks_use-canonical-object_ts-ui_packages_code-view-shared_hooks-5efa81-354e6a50d2b7.js"></script>
<script crossorigin="anonymous" defer="defer" type="application/javascript" src="https://github.githubassets.com/assets/ui_packages_code-view-shared_components_files-search_FileResultsList_tsx-c58157244fbb.js"></script>
<script crossorigin="anonymous" defer="defer" type="application/javascript" src="https://github.githubassets.com/assets/ui_packages_code-view-shared_hooks_use-file-page-payload_ts-ui_packages_code-view-shared_util-0109ca-90beba3b1d15.js"></script>
<script crossorigin="anonymous" defer="defer" type="application/javascript" src="https://github.githubassets.com/assets/ui_packages_repos-file-tree-view_repos-file-tree-view_ts-ui_packages_react-core_JsonRoute_tsx-cdf9ad5903ec.js"></script>
<script crossorigin="anonymous" defer="defer" type="application/javascript" src="https://github.githubassets.com/assets/react-code-view-1e502b1aeb63.js"></script>
<link crossorigin="anonymous" media="all" rel="stylesheet" href="https://github.githubassets.com/assets/react-code-view.98a0f4bdacd6223a0b70.module.css" />


  <title>FinalAssignment/8. Spacex-machine-learning-prediction-api.ipynb at main · CoroaPT/FinalAssignment</title>



  <meta name="route-pattern" content="/:user_id/:repository/blob/*name(/*path)" data-turbo-transient>
  <meta name="route-controller" content="blob" data-turbo-transient>
  <meta name="route-action" content="show" data-turbo-transient>

    
  <meta name="current-catalog-service-hash" content="82c569b93da5c18ed649ebd4c2c79437db4611a6a1373e805a3cb001c64130b7">


  <meta name="request-id" content="C063:36C860:47388C:611B3C:6675E751" data-turbo-transient="true" /><meta name="html-safe-nonce" content="ee370fc6ebd2a6f6b872c9c798b6018c8229885140249041048d231a11b34c60" data-turbo-transient="true" /><meta name="visitor-payload" content="eyJyZWZlcnJlciI6Imh0dHBzOi8vZ2l0aHViLmNvbS9Db3JvYVBUL0ZpbmFsQXNzaWdubWVudCIsInJlcXVlc3RfaWQiOiJDMDYzOjM2Qzg2MDo0NzM4OEM6NjExQjNDOjY2NzVFNzUxIiwidmlzaXRvcl9pZCI6IjgxODc4NDg1OTg3OTc5NzEwNDEiLCJyZWdpb25fZWRnZSI6ImlhZCIsInJlZ2lvbl9yZW5kZXIiOiJpYWQifQ==" data-turbo-transient="true" /><meta name="visitor-hmac" content="cf1fb5cf089df7bed30d1e56017bdcb98b7a8dbb61ab588489eeda6c5c54bb46" data-turbo-transient="true" />


    <meta name="hovercard-subject-tag" content="repository:691261244" data-turbo-transient>


  <meta name="github-keyboard-shortcuts" content="repository,source-code,file-tree,copilot" data-turbo-transient="true" />
  

  <meta name="selected-link" value="repo_source" data-turbo-transient>
  <link rel="assets" href="https://github.githubassets.com/">

    <meta name="google-site-verification" content="Apib7-x98H0j5cPqHWwSMm6dNU4GmODRoqxLiDzdx9I">

<meta name="octolytics-url" content="https://collector.github.com/github/collect" /><meta name="octolytics-actor-id" content="68703032" /><meta name="octolytics-actor-login" content="ragyaverma" /><meta name="octolytics-actor-hash" content="4e6c4d790a7640918868c015a625e51793f3ca8238dad8d42b138f18afdb4d8c" />

  <meta name="analytics-location" content="/&lt;user-name&gt;/&lt;repo-name&gt;/blob/show" data-turbo-transient="true" />

  




    <meta name="user-login" content="ragyaverma">

  <link rel="sudo-modal" href="/sessions/sudo_modal">

    <meta name="viewport" content="width=device-width">

    

      <meta name="description" content="Contribute to CoroaPT/FinalAssignment development by creating an account on GitHub.">

      <link rel="search" type="application/opensearchdescription+xml" href="/opensearch.xml" title="GitHub">

    <link rel="fluid-icon" href="https://github.com/fluidicon.png" title="GitHub">
    <meta property="fb:app_id" content="1401488693436528">
    <meta name="apple-itunes-app" content="app-id=1477376905, app-argument=https://github.com/CoroaPT/FinalAssignment/blob/main/8.%20Spacex-machine-learning-prediction-api.ipynb" />

      <meta name="twitter:image:src" content="https://opengraph.githubassets.com/f0b2240835b97d0e8aa386daa7f33de5d729431a864096eb4c712a0e1910b8be/CoroaPT/FinalAssignment" /><meta name="twitter:site" content="@github" /><meta name="twitter:card" content="summary_large_image" /><meta name="twitter:title" content="FinalAssignment/8. Spacex-machine-learning-prediction-api.ipynb at main · CoroaPT/FinalAssignment" /><meta name="twitter:description" content="Contribute to CoroaPT/FinalAssignment development by creating an account on GitHub." />
  <meta property="og:image" content="https://opengraph.githubassets.com/f0b2240835b97d0e8aa386daa7f33de5d729431a864096eb4c712a0e1910b8be/CoroaPT/FinalAssignment" /><meta property="og:image:alt" content="Contribute to CoroaPT/FinalAssignment development by creating an account on GitHub." /><meta property="og:image:width" content="1200" /><meta property="og:image:height" content="600" /><meta property="og:site_name" content="GitHub" /><meta property="og:type" content="object" /><meta property="og:title" content="FinalAssignment/8. Spacex-machine-learning-prediction-api.ipynb at main · CoroaPT/FinalAssignment" /><meta property="og:url" content="https://github.com/CoroaPT/FinalAssignment/blob/main/8.%20Spacex-machine-learning-prediction-api.ipynb" /><meta property="og:description" content="Contribute to CoroaPT/FinalAssignment development by creating an account on GitHub." />
  


      <link rel="shared-web-socket" href="wss://alive.github.com/_sockets/u/68703032/ws?session=eyJ2IjoiVjMiLCJ1Ijo2ODcwMzAzMiwicyI6MTM5ODg2MjgzMywiYyI6NDIwNzUyODc2MywidCI6MTcxOTAwMjk2OX0=--9449857d68693e0479d633120ed849235e3fadee3c47ac39827cc1f89674fbdf" data-refresh-url="/_alive" data-session-id="e6916ea9da501e1e9201469494e08a8531519af1b68ff838b8da50a5f27d6ad2">
      <link rel="shared-web-socket-src" href="/assets-cdn/worker/socket-worker-1a9b1a7a6108.js">


      <meta name="hostname" content="github.com">


      <meta name="keyboard-shortcuts-preference" content="all">

        <meta name="expected-hostname" content="github.com">


  <meta http-equiv="x-pjax-version" content="0ba4e6088c24e330d39c3624d518fdf00d528c520d53c711e0c8f63378aa43b7" data-turbo-track="reload">
  <meta http-equiv="x-pjax-csp-version" content="f6e41c3092c5e1167d95330a2a482f695598c31ad79963c59b07ab79dbfb87f7" data-turbo-track="reload">
  <meta http-equiv="x-pjax-css-version" content="14d404b2f4b13f052d9503983629222864f8dc9e33b6a76dba9100621a3e0cf8" data-turbo-track="reload">
  <meta http-equiv="x-pjax-js-version" content="12b658c952fc4a4818806e8d77e0a5bc30a409eb347b0c91fd1c31fcb7fe94fb" data-turbo-track="reload">

  <meta name="turbo-cache-control" content="no-preview" data-turbo-transient="">

      <meta name="turbo-cache-control" content="no-cache" data-turbo-transient>
    <meta data-hydrostats="publish">
  <meta name="go-import" content="github.com/CoroaPT/FinalAssignment git https://github.com/CoroaPT/FinalAssignment.git">

  <meta name="octolytics-dimension-user_id" content="143448065" /><meta name="octolytics-dimension-user_login" content="CoroaPT" /><meta name="octolytics-dimension-repository_id" content="691261244" /><meta name="octolytics-dimension-repository_nwo" content="CoroaPT/FinalAssignment" /><meta name="octolytics-dimension-repository_public" content="true" /><meta name="octolytics-dimension-repository_is_fork" content="false" /><meta name="octolytics-dimension-repository_network_root_id" content="691261244" /><meta name="octolytics-dimension-repository_network_root_nwo" content="CoroaPT/FinalAssignment" />



    

    <meta name="turbo-body-classes" content="logged-in env-production page-responsive">


  <meta name="browser-stats-url" content="https://api.github.com/_private/browser/stats">

  <meta name="browser-errors-url" content="https://api.github.com/_private/browser/errors">

  <link rel="mask-icon" href="https://github.githubassets.com/assets/pinned-octocat-093da3e6fa40.svg" color="#000000">
  <link rel="alternate icon" class="js-site-favicon" type="image/png" href="https://github.githubassets.com/favicons/favicon.png">
  <link rel="icon" class="js-site-favicon" type="image/svg+xml" href="https://github.githubassets.com/favicons/favicon.svg">

<meta name="theme-color" content="#1e2327">
<meta name="color-scheme" content="light dark" />


  <link rel="manifest" href="/manifest.json" crossOrigin="use-credentials">

  </head>

  <body class="logged-in env-production page-responsive" style="word-wrap: break-word;">
    <div data-turbo-body class="logged-in env-production page-responsive" style="word-wrap: break-word;">
      


    <div class="position-relative js-header-wrapper ">
      <a href="#start-of-content" data-skip-target-assigned="false" class="p-3 color-bg-accent-emphasis color-fg-on-emphasis show-on-focus js-skip-to-content">Skip to content</a>

      <span data-view-component="true" class="progress-pjax-loader Progress position-fixed width-full">
    <span style="width: 0%;" data-view-component="true" class="Progress-item progress-pjax-loader-bar left-0 top-0 color-bg-accent-emphasis"></span>
</span>      
      
      







<script crossorigin="anonymous" defer="defer" type="application/javascript" src="https://github.githubassets.com/assets/vendors-node_modules_primer_react_lib-esm_Button_IconButton_js-node_modules_primer_react_lib--1cd808-94bb79d8a6de.js"></script>

<script crossorigin="anonymous" defer="defer" type="application/javascript" src="https://github.githubassets.com/assets/keyboard-shortcuts-dialog-a295f4fdc247.js"></script>

<react-partial
  partial-name="keyboard-shortcuts-dialog"
  data-ssr="false"
>
  
  <script type="application/json" data-target="react-partial.embeddedData">{"props":{"docsUrl":"https://docs.github.com/get-started/accessibility/keyboard-shortcuts"}}</script>
  <div data-target="react-partial.reactRoot"></div>
</react-partial>




      

        <script crossorigin="anonymous" defer="defer" type="application/javascript" src="https://github.githubassets.com/assets/vendors-node_modules_allex_crc32_lib_crc32_esm_js-node_modules_github_mini-throttle_dist_deco-a9eeba-555e7418878d.js"></script>
<script crossorigin="anonymous" defer="defer" type="application/javascript" src="https://github.githubassets.com/assets/vendors-node_modules_github_clipboard-copy-element_dist_index_esm_js-node_modules_delegated-e-b37f7d-cb3d06ead51a.js"></script>
<script crossorigin="anonymous" defer="defer" type="application/javascript" src="https://github.githubassets.com/assets/app_assets_modules_github_command-palette_items_help-item_ts-app_assets_modules_github_comman-48ad9d-cd4d1523cddf.js"></script>
<script crossorigin="anonymous" defer="defer" type="application/javascript" src="https://github.githubassets.com/assets/command-palette-a99cf9e9f4ca.js"></script>

            <header class="AppHeader" role="banner">
  <h2 class="sr-only">Navigation Menu</h2>

    

    <div class="AppHeader-globalBar pb-2 js-global-bar">
      <div class="AppHeader-globalBar-start">
          <deferred-side-panel data-url="/_side-panels/global">
  <include-fragment data-target="deferred-side-panel.fragment">
      <button aria-label="Open global navigation menu" data-action="click:deferred-side-panel#loadPanel click:deferred-side-panel#panelOpened" data-show-dialog-id="dialog-f5129e75-7c7f-4a0d-8802-45679f60ae7a" id="dialog-show-dialog-f5129e75-7c7f-4a0d-8802-45679f60ae7a" type="button" data-view-component="true" class="Button Button--iconOnly Button--secondary Button--medium AppHeader-button color-bg-transparent p-0 color-fg-muted">  <svg aria-hidden="true" height="16" viewBox="0 0 16 16" version="1.1" width="16" data-view-component="true" class="octicon octicon-three-bars Button-visual">
    <path d="M1 2.75A.75.75 0 0 1 1.75 2h12.5a.75.75 0 0 1 0 1.5H1.75A.75.75 0 0 1 1 2.75Zm0 5A.75.75 0 0 1 1.75 7h12.5a.75.75 0 0 1 0 1.5H1.75A.75.75 0 0 1 1 7.75ZM1.75 12h12.5a.75.75 0 0 1 0 1.5H1.75a.75.75 0 0 1 0-1.5Z"></path>
</svg>
</button>

<dialog-helper>
  <dialog data-target="deferred-side-panel.panel" id="dialog-f5129e75-7c7f-4a0d-8802-45679f60ae7a" aria-modal="true" aria-labelledby="dialog-f5129e75-7c7f-4a0d-8802-45679f60ae7a-title" aria-describedby="dialog-f5129e75-7c7f-4a0d-8802-45679f60ae7a-description" data-view-component="true" class="Overlay Overlay-whenNarrow Overlay--size-small-portrait Overlay--motion-scaleFade Overlay--placement-left SidePanel">
    <div styles="flex-direction: row;" data-view-component="true" class="Overlay-header">
  <div class="Overlay-headerContentWrap">
    <div class="Overlay-titleWrap">
      <h1 class="Overlay-title sr-only" id="dialog-f5129e75-7c7f-4a0d-8802-45679f60ae7a-title">
        Global navigation
      </h1>
            <div data-view-component="true" class="d-flex">
      <div data-view-component="true" class="AppHeader-logo position-relative">
        <svg aria-hidden="true" height="24" viewBox="0 0 16 16" version="1.1" width="24" data-view-component="true" class="octicon octicon-mark-github">
    <path d="M8 0c4.42 0 8 3.58 8 8a8.013 8.013 0 0 1-5.45 7.59c-.4.08-.55-.17-.55-.38 0-.27.01-1.13.01-2.2 0-.75-.25-1.23-.54-1.48 1.78-.2 3.65-.88 3.65-3.95 0-.88-.31-1.59-.82-2.15.08-.2.36-1.02-.08-2.12 0 0-.67-.22-2.2.82-.64-.18-1.32-.27-2-.27-.68 0-1.36.09-2 .27-1.53-1.03-2.2-.82-2.2-.82-.44 1.1-.16 1.92-.08 2.12-.51.56-.82 1.28-.82 2.15 0 3.06 1.86 3.75 3.64 3.95-.23.2-.44.55-.51 1.07-.46.21-1.61.55-2.33-.66-.15-.24-.6-.83-1.23-.82-.67.01-.27.38.01.53.34.19.73.9.82 1.13.16.45.68 1.31 2.69.94 0 .67.01 1.3.01 1.49 0 .21-.15.45-.55.38A7.995 7.995 0 0 1 0 8c0-4.42 3.58-8 8-8Z"></path>
</svg>
</div></div>
    </div>
    <div class="Overlay-actionWrap">
      <button data-close-dialog-id="dialog-f5129e75-7c7f-4a0d-8802-45679f60ae7a" aria-label="Close" type="button" data-view-component="true" class="close-button Overlay-closeButton"><svg aria-hidden="true" height="16" viewBox="0 0 16 16" version="1.1" width="16" data-view-component="true" class="octicon octicon-x">
    <path d="M3.72 3.72a.75.75 0 0 1 1.06 0L8 6.94l3.22-3.22a.749.749 0 0 1 1.275.326.749.749 0 0 1-.215.734L9.06 8l3.22 3.22a.749.749 0 0 1-.326 1.275.749.749 0 0 1-.734-.215L8 9.06l-3.22 3.22a.751.751 0 0 1-1.042-.018.751.751 0 0 1-.018-1.042L6.94 8 3.72 4.78a.75.75 0 0 1 0-1.06Z"></path>
</svg></button>
    </div>
  </div>
  
</div>
      <scrollable-region data-labelled-by="dialog-f5129e75-7c7f-4a0d-8802-45679f60ae7a-title">
        <div data-view-component="true" class="Overlay-body d-flex flex-column px-2">    <div data-view-component="true" class="d-flex flex-column mb-3">
        <nav aria-label="Site navigation" data-view-component="true" class="ActionList">
  
  <nav-list>
    <ul data-target="nav-list.topLevelList" data-view-component="true" class="ActionListWrap">
        
          
<li data-item-id="" data-targets="nav-list.items" data-view-component="true" class="ActionListItem">
    
    
    <a data-hotkey="g d" data-analytics-event="{&quot;category&quot;:&quot;Global navigation&quot;,&quot;action&quot;:&quot;HOME&quot;,&quot;label&quot;:null}" id="item-24e8eab0-2167-4d60-9112-24619600c043" href="/dashboard" data-view-component="true" class="ActionListContent ActionListContent--visual16">
        <span class="ActionListItem-visual ActionListItem-visual--leading">
          <svg aria-hidden="true" height="16" viewBox="0 0 16 16" version="1.1" width="16" data-view-component="true" class="octicon octicon-home">
    <path d="M6.906.664a1.749 1.749 0 0 1 2.187 0l5.25 4.2c.415.332.657.835.657 1.367v7.019A1.75 1.75 0 0 1 13.25 15h-3.5a.75.75 0 0 1-.75-.75V9H7v5.25a.75.75 0 0 1-.75.75h-3.5A1.75 1.75 0 0 1 1 13.25V6.23c0-.531.242-1.034.657-1.366l5.25-4.2Zm1.25 1.171a.25.25 0 0 0-.312 0l-5.25 4.2a.25.25 0 0 0-.094.196v7.019c0 .138.112.25.25.25H5.5V8.25a.75.75 0 0 1 .75-.75h3.5a.75.75 0 0 1 .75.75v5.25h2.75a.25.25 0 0 0 .25-.25V6.23a.25.25 0 0 0-.094-.195Z"></path>
</svg>
        </span>
      
        <span data-view-component="true" class="ActionListItem-label">
          Home
</span></a>
  
</li>

        
          
<li data-item-id="" data-targets="nav-list.items" data-view-component="true" class="ActionListItem">
    
    
    <a data-hotkey="g i" data-analytics-event="{&quot;category&quot;:&quot;Global navigation&quot;,&quot;action&quot;:&quot;ISSUES&quot;,&quot;label&quot;:null}" id="item-9f4c5afe-31e2-42f6-9324-5543ce0fe2df" href="/issues" data-view-component="true" class="ActionListContent ActionListContent--visual16">
        <span class="ActionListItem-visual ActionListItem-visual--leading">
          <svg aria-hidden="true" height="16" viewBox="0 0 16 16" version="1.1" width="16" data-view-component="true" class="octicon octicon-issue-opened">
    <path d="M8 9.5a1.5 1.5 0 1 0 0-3 1.5 1.5 0 0 0 0 3Z"></path><path d="M8 0a8 8 0 1 1 0 16A8 8 0 0 1 8 0ZM1.5 8a6.5 6.5 0 1 0 13 0 6.5 6.5 0 0 0-13 0Z"></path>
</svg>
        </span>
      
        <span data-view-component="true" class="ActionListItem-label">
          Issues
</span></a>
  
</li>

        
          
<li data-item-id="" data-targets="nav-list.items" data-view-component="true" class="ActionListItem">
    
    
    <a data-hotkey="g p" data-analytics-event="{&quot;category&quot;:&quot;Global navigation&quot;,&quot;action&quot;:&quot;PULL_REQUESTS&quot;,&quot;label&quot;:null}" id="item-efe926ad-b4f4-4820-b952-42050af8c580" href="/pulls" data-view-component="true" class="ActionListContent ActionListContent--visual16">
        <span class="ActionListItem-visual ActionListItem-visual--leading">
          <svg aria-hidden="true" height="16" viewBox="0 0 16 16" version="1.1" width="16" data-view-component="true" class="octicon octicon-git-pull-request">
    <path d="M1.5 3.25a2.25 2.25 0 1 1 3 2.122v5.256a2.251 2.251 0 1 1-1.5 0V5.372A2.25 2.25 0 0 1 1.5 3.25Zm5.677-.177L9.573.677A.25.25 0 0 1 10 .854V2.5h1A2.5 2.5 0 0 1 13.5 5v5.628a2.251 2.251 0 1 1-1.5 0V5a1 1 0 0 0-1-1h-1v1.646a.25.25 0 0 1-.427.177L7.177 3.427a.25.25 0 0 1 0-.354ZM3.75 2.5a.75.75 0 1 0 0 1.5.75.75 0 0 0 0-1.5Zm0 9.5a.75.75 0 1 0 0 1.5.75.75 0 0 0 0-1.5Zm8.25.75a.75.75 0 1 0 1.5 0 .75.75 0 0 0-1.5 0Z"></path>
</svg>
        </span>
      
        <span data-view-component="true" class="ActionListItem-label">
          Pull requests
</span></a>
  
</li>

        
          
<li data-item-id="" data-targets="nav-list.items" data-item-id="projects" data-view-component="true" class="ActionListItem">
    
    
    <a data-analytics-event="{&quot;category&quot;:&quot;Global navigation&quot;,&quot;action&quot;:&quot;PROJECTS&quot;,&quot;label&quot;:null}" id="item-70701a44-898b-42f3-824b-edb596760cc3" href="/projects" data-view-component="true" class="ActionListContent ActionListContent--visual16">
        <span class="ActionListItem-visual ActionListItem-visual--leading">
          <svg aria-hidden="true" height="16" viewBox="0 0 16 16" version="1.1" width="16" data-view-component="true" class="octicon octicon-table">
    <path d="M0 1.75C0 .784.784 0 1.75 0h12.5C15.216 0 16 .784 16 1.75v12.5A1.75 1.75 0 0 1 14.25 16H1.75A1.75 1.75 0 0 1 0 14.25ZM6.5 6.5v8h7.75a.25.25 0 0 0 .25-.25V6.5Zm8-1.5V1.75a.25.25 0 0 0-.25-.25H6.5V5Zm-13 1.5v7.75c0 .138.112.25.25.25H5v-8ZM5 5V1.5H1.75a.25.25 0 0 0-.25.25V5Z"></path>
</svg>
        </span>
      
        <span data-view-component="true" class="ActionListItem-label">
          Projects
</span></a>
  
</li>

        
          
<li data-item-id="" data-targets="nav-list.items" data-view-component="true" class="ActionListItem">
    
    
    <a data-analytics-event="{&quot;category&quot;:&quot;Global navigation&quot;,&quot;action&quot;:&quot;DISCUSSIONS&quot;,&quot;label&quot;:null}" id="item-9c30afa6-1f17-4d48-b854-303645bf09c8" href="/discussions" data-view-component="true" class="ActionListContent ActionListContent--visual16">
        <span class="ActionListItem-visual ActionListItem-visual--leading">
          <svg aria-hidden="true" height="16" viewBox="0 0 16 16" version="1.1" width="16" data-view-component="true" class="octicon octicon-comment-discussion">
    <path d="M1.75 1h8.5c.966 0 1.75.784 1.75 1.75v5.5A1.75 1.75 0 0 1 10.25 10H7.061l-2.574 2.573A1.458 1.458 0 0 1 2 11.543V10h-.25A1.75 1.75 0 0 1 0 8.25v-5.5C0 1.784.784 1 1.75 1ZM1.5 2.75v5.5c0 .138.112.25.25.25h1a.75.75 0 0 1 .75.75v2.19l2.72-2.72a.749.749 0 0 1 .53-.22h3.5a.25.25 0 0 0 .25-.25v-5.5a.25.25 0 0 0-.25-.25h-8.5a.25.25 0 0 0-.25.25Zm13 2a.25.25 0 0 0-.25-.25h-.5a.75.75 0 0 1 0-1.5h.5c.966 0 1.75.784 1.75 1.75v5.5A1.75 1.75 0 0 1 14.25 12H14v1.543a1.458 1.458 0 0 1-2.487 1.03L9.22 12.28a.749.749 0 0 1 .326-1.275.749.749 0 0 1 .734.215l2.22 2.22v-2.19a.75.75 0 0 1 .75-.75h1a.25.25 0 0 0 .25-.25Z"></path>
</svg>
        </span>
      
        <span data-view-component="true" class="ActionListItem-label">
          Discussions
</span></a>
  
</li>

        
          
<li data-item-id="" data-targets="nav-list.items" data-view-component="true" class="ActionListItem">
    
    
    <a data-analytics-event="{&quot;category&quot;:&quot;Global navigation&quot;,&quot;action&quot;:&quot;CODESPACES&quot;,&quot;label&quot;:null}" id="item-41898034-4498-4988-b1eb-9b977b416b35" href="https://github.com/codespaces" data-view-component="true" class="ActionListContent ActionListContent--visual16">
        <span class="ActionListItem-visual ActionListItem-visual--leading">
          <svg aria-hidden="true" height="16" viewBox="0 0 16 16" version="1.1" width="16" data-view-component="true" class="octicon octicon-codespaces">
    <path d="M0 11.25c0-.966.784-1.75 1.75-1.75h12.5c.966 0 1.75.784 1.75 1.75v3A1.75 1.75 0 0 1 14.25 16H1.75A1.75 1.75 0 0 1 0 14.25Zm2-9.5C2 .784 2.784 0 3.75 0h8.5C13.216 0 14 .784 14 1.75v5a1.75 1.75 0 0 1-1.75 1.75h-8.5A1.75 1.75 0 0 1 2 6.75Zm1.75-.25a.25.25 0 0 0-.25.25v5c0 .138.112.25.25.25h8.5a.25.25 0 0 0 .25-.25v-5a.25.25 0 0 0-.25-.25Zm-2 9.5a.25.25 0 0 0-.25.25v3c0 .138.112.25.25.25h12.5a.25.25 0 0 0 .25-.25v-3a.25.25 0 0 0-.25-.25Z"></path><path d="M7 12.75a.75.75 0 0 1 .75-.75h4.5a.75.75 0 0 1 0 1.5h-4.5a.75.75 0 0 1-.75-.75Zm-4 0a.75.75 0 0 1 .75-.75h.5a.75.75 0 0 1 0 1.5h-.5a.75.75 0 0 1-.75-.75Z"></path>
</svg>
        </span>
      
        <span data-view-component="true" class="ActionListItem-label">
          Codespaces
</span></a>
  
</li>

        
          <li role="presentation" aria-hidden="true" data-view-component="true" class="ActionList-sectionDivider"></li>
        
          
<li data-item-id="" data-targets="nav-list.items" data-view-component="true" class="ActionListItem">
    
    
    <a data-analytics-event="{&quot;category&quot;:&quot;Global navigation&quot;,&quot;action&quot;:&quot;EXPLORE&quot;,&quot;label&quot;:null}" id="item-3202305e-2511-4d90-9385-d0fa69fcb2b9" href="/explore" data-view-component="true" class="ActionListContent ActionListContent--visual16">
        <span class="ActionListItem-visual ActionListItem-visual--leading">
          <svg aria-hidden="true" height="16" viewBox="0 0 16 16" version="1.1" width="16" data-view-component="true" class="octicon octicon-telescope">
    <path d="M14.184 1.143v-.001l1.422 2.464a1.75 1.75 0 0 1-.757 2.451L3.104 11.713a1.75 1.75 0 0 1-2.275-.702l-.447-.775a1.75 1.75 0 0 1 .53-2.32L11.682.573a1.748 1.748 0 0 1 2.502.57Zm-4.709 9.32h-.001l2.644 3.863a.75.75 0 1 1-1.238.848l-1.881-2.75v2.826a.75.75 0 0 1-1.5 0v-2.826l-1.881 2.75a.75.75 0 1 1-1.238-.848l2.049-2.992a.746.746 0 0 1 .293-.253l1.809-.87a.749.749 0 0 1 .944.252ZM9.436 3.92h-.001l-4.97 3.39.942 1.63 5.42-2.61Zm3.091-2.108h.001l-1.85 1.26 1.505 2.605 2.016-.97a.247.247 0 0 0 .13-.151.247.247 0 0 0-.022-.199l-1.422-2.464a.253.253 0 0 0-.161-.119.254.254 0 0 0-.197.038ZM1.756 9.157a.25.25 0 0 0-.075.33l.447.775a.25.25 0 0 0 .325.1l1.598-.769-.83-1.436-1.465 1Z"></path>
</svg>
        </span>
      
        <span data-view-component="true" class="ActionListItem-label">
          Explore
</span></a>
  
</li>

        
          
<li data-item-id="" data-targets="nav-list.items" data-view-component="true" class="ActionListItem">
    
    
    <a data-analytics-event="{&quot;category&quot;:&quot;Global navigation&quot;,&quot;action&quot;:&quot;MARKETPLACE&quot;,&quot;label&quot;:null}" id="item-ca07ad9e-4c32-49a8-81e6-72cff29d30c9" href="/marketplace" data-view-component="true" class="ActionListContent ActionListContent--visual16">
        <span class="ActionListItem-visual ActionListItem-visual--leading">
          <svg aria-hidden="true" height="16" viewBox="0 0 16 16" version="1.1" width="16" data-view-component="true" class="octicon octicon-gift">
    <path d="M2 2.75A2.75 2.75 0 0 1 4.75 0c.983 0 1.873.42 2.57 1.232.268.318.497.668.68 1.042.183-.375.411-.725.68-1.044C9.376.42 10.266 0 11.25 0a2.75 2.75 0 0 1 2.45 4h.55c.966 0 1.75.784 1.75 1.75v2c0 .698-.409 1.301-1 1.582v4.918A1.75 1.75 0 0 1 13.25 16H2.75A1.75 1.75 0 0 1 1 14.25V9.332C.409 9.05 0 8.448 0 7.75v-2C0 4.784.784 4 1.75 4h.55c-.192-.375-.3-.8-.3-1.25ZM7.25 9.5H2.5v4.75c0 .138.112.25.25.25h4.5Zm1.5 0v5h4.5a.25.25 0 0 0 .25-.25V9.5Zm0-4V8h5.5a.25.25 0 0 0 .25-.25v-2a.25.25 0 0 0-.25-.25Zm-7 0a.25.25 0 0 0-.25.25v2c0 .138.112.25.25.25h5.5V5.5h-5.5Zm3-4a1.25 1.25 0 0 0 0 2.5h2.309c-.233-.818-.542-1.401-.878-1.793-.43-.502-.915-.707-1.431-.707ZM8.941 4h2.309a1.25 1.25 0 0 0 0-2.5c-.516 0-1 .205-1.43.707-.337.392-.646.975-.879 1.793Z"></path>
</svg>
        </span>
      
        <span data-view-component="true" class="ActionListItem-label">
          Marketplace
</span></a>
  
</li>

</ul>  </nav-list>
</nav>

        <div data-view-component="true" class="my-3 d-flex flex-justify-center height-full">
          <svg style="box-sizing: content-box; color: var(--color-icon-primary);" width="16" height="16" viewBox="0 0 16 16" fill="none" data-view-component="true" class="anim-rotate">
  <circle cx="8" cy="8" r="7" stroke="currentColor" stroke-opacity="0.25" stroke-width="2" vector-effect="non-scaling-stroke" fill="none" />
  <path d="M15 8a7.002 7.002 0 00-7-7" stroke="currentColor" stroke-width="2" stroke-linecap="round" vector-effect="non-scaling-stroke" />
</svg>
</div>
</div>
      <div data-view-component="true" class="flex-1"></div>


      <div data-view-component="true" class="px-2">      <p class="color-fg-subtle text-small text-light">&copy; 2024 GitHub, Inc.</p>

      <div data-view-component="true" class="d-flex flex-wrap text-small text-light">
          <a target="_blank" href="https://github.com/about" data-view-component="true" class="Link mr-2">About</a>
          <a target="_blank" href="https://github.blog" data-view-component="true" class="Link mr-2">Blog</a>
          <a target="_blank" href="https://docs.github.com/site-policy/github-terms/github-terms-of-service" data-view-component="true" class="Link mr-2">Terms</a>
          <a target="_blank" href="https://docs.github.com/site-policy/privacy-policies/github-privacy-statement" data-view-component="true" class="Link mr-2">Privacy</a>
          <a target="_blank" href="https://github.com/security" data-view-component="true" class="Link mr-2">Security</a>
          <a target="_blank" href="https://www.githubstatus.com/" data-view-component="true" class="Link mr-3">Status</a>

</div></div>
</div>
      </scrollable-region>
      
</dialog></dialog-helper>

  </include-fragment>
</deferred-side-panel>

        <a
          class="AppHeader-logo ml-2"
          href="https://github.com/"
          data-hotkey="g d"
          aria-label="Homepage "
          data-turbo="false"
          data-analytics-event="{&quot;category&quot;:&quot;Header&quot;,&quot;action&quot;:&quot;go to dashboard&quot;,&quot;label&quot;:&quot;icon:logo&quot;}"
        >
          <svg height="32" aria-hidden="true" viewBox="0 0 16 16" version="1.1" width="32" data-view-component="true" class="octicon octicon-mark-github v-align-middle color-fg-default">
    <path d="M8 0c4.42 0 8 3.58 8 8a8.013 8.013 0 0 1-5.45 7.59c-.4.08-.55-.17-.55-.38 0-.27.01-1.13.01-2.2 0-.75-.25-1.23-.54-1.48 1.78-.2 3.65-.88 3.65-3.95 0-.88-.31-1.59-.82-2.15.08-.2.36-1.02-.08-2.12 0 0-.67-.22-2.2.82-.64-.18-1.32-.27-2-.27-.68 0-1.36.09-2 .27-1.53-1.03-2.2-.82-2.2-.82-.44 1.1-.16 1.92-.08 2.12-.51.56-.82 1.28-.82 2.15 0 3.06 1.86 3.75 3.64 3.95-.23.2-.44.55-.51 1.07-.46.21-1.61.55-2.33-.66-.15-.24-.6-.83-1.23-.82-.67.01-.27.38.01.53.34.19.73.9.82 1.13.16.45.68 1.31 2.69.94 0 .67.01 1.3.01 1.49 0 .21-.15.45-.55.38A7.995 7.995 0 0 1 0 8c0-4.42 3.58-8 8-8Z"></path>
</svg>
        </a>

          <div class="AppHeader-context" >
  <div class="AppHeader-context-compact">
      <button aria-expanded="false" aria-haspopup="dialog" aria-label="Page context: CoroaPT / FinalAssignment" id="dialog-show-context-region-dialog" data-show-dialog-id="context-region-dialog" type="button" data-view-component="true" class="AppHeader-context-compact-trigger Truncate Button--secondary Button--medium Button box-shadow-none">  <span class="Button-content">
    <span class="Button-label"><span class="AppHeader-context-compact-lead">
                <span class="AppHeader-context-compact-parentItem">CoroaPT</span>
                <span class="no-wrap">&nbsp;/</span>

            </span>

            <strong class="AppHeader-context-compact-mainItem d-flex flex-items-center Truncate" >
  <span class="Truncate-text ">FinalAssignment</span>

</strong></span>
  </span>
</button>

<dialog-helper>
  <dialog id="context-region-dialog" aria-modal="true" aria-labelledby="context-region-dialog-title" aria-describedby="context-region-dialog-description" data-view-component="true" class="Overlay Overlay-whenNarrow Overlay--size-medium Overlay--motion-scaleFade">
    <div data-view-component="true" class="Overlay-header">
  <div class="Overlay-headerContentWrap">
    <div class="Overlay-titleWrap">
      <h1 class="Overlay-title " id="context-region-dialog-title">
        Navigate back to
      </h1>
        
    </div>
    <div class="Overlay-actionWrap">
      <button data-close-dialog-id="context-region-dialog" aria-label="Close" type="button" data-view-component="true" class="close-button Overlay-closeButton"><svg aria-hidden="true" height="16" viewBox="0 0 16 16" version="1.1" width="16" data-view-component="true" class="octicon octicon-x">
    <path d="M3.72 3.72a.75.75 0 0 1 1.06 0L8 6.94l3.22-3.22a.749.749 0 0 1 1.275.326.749.749 0 0 1-.215.734L9.06 8l3.22 3.22a.749.749 0 0 1-.326 1.275.749.749 0 0 1-.734-.215L8 9.06l-3.22 3.22a.751.751 0 0 1-1.042-.018.751.751 0 0 1-.018-1.042L6.94 8 3.72 4.78a.75.75 0 0 1 0-1.06Z"></path>
</svg></button>
    </div>
  </div>
  
</div>
      <scrollable-region data-labelled-by="context-region-dialog-title">
        <div data-view-component="true" class="Overlay-body">          <ul role="list" class="list-style-none" >
    <li>
      <a data-analytics-event="{&quot;category&quot;:&quot;SiteHeaderComponent&quot;,&quot;action&quot;:&quot;context_region_crumb&quot;,&quot;label&quot;:&quot;CoroaPT&quot;,&quot;screen_size&quot;:&quot;compact&quot;}" href="/CoroaPT" data-view-component="true" class="Link--primary Truncate d-flex flex-items-center py-1">
        <span class="AppHeader-context-item-label Truncate-text ">
            <svg aria-hidden="true" height="12" viewBox="0 0 16 16" version="1.1" width="12" data-view-component="true" class="octicon octicon-person mr-1">
    <path d="M10.561 8.073a6.005 6.005 0 0 1 3.432 5.142.75.75 0 1 1-1.498.07 4.5 4.5 0 0 0-8.99 0 .75.75 0 0 1-1.498-.07 6.004 6.004 0 0 1 3.431-5.142 3.999 3.999 0 1 1 5.123 0ZM10.5 5a2.5 2.5 0 1 0-5 0 2.5 2.5 0 0 0 5 0Z"></path>
</svg>

          CoroaPT
        </span>

</a>
    </li>
    <li>
      <a data-analytics-event="{&quot;category&quot;:&quot;SiteHeaderComponent&quot;,&quot;action&quot;:&quot;context_region_crumb&quot;,&quot;label&quot;:&quot;FinalAssignment&quot;,&quot;screen_size&quot;:&quot;compact&quot;}" href="/CoroaPT/FinalAssignment" data-view-component="true" class="Link--primary Truncate d-flex flex-items-center py-1">
        <span class="AppHeader-context-item-label Truncate-text ">
            <svg aria-hidden="true" height="12" viewBox="0 0 16 16" version="1.1" width="12" data-view-component="true" class="octicon octicon-repo mr-1">
    <path d="M2 2.5A2.5 2.5 0 0 1 4.5 0h8.75a.75.75 0 0 1 .75.75v12.5a.75.75 0 0 1-.75.75h-2.5a.75.75 0 0 1 0-1.5h1.75v-2h-8a1 1 0 0 0-.714 1.7.75.75 0 1 1-1.072 1.05A2.495 2.495 0 0 1 2 11.5Zm10.5-1h-8a1 1 0 0 0-1 1v6.708A2.486 2.486 0 0 1 4.5 9h8ZM5 12.25a.25.25 0 0 1 .25-.25h3.5a.25.25 0 0 1 .25.25v3.25a.25.25 0 0 1-.4.2l-1.45-1.087a.249.249 0 0 0-.3 0L5.4 15.7a.25.25 0 0 1-.4-.2Z"></path>
</svg>

          FinalAssignment
        </span>

</a>
    </li>
</ul>

</div>
      </scrollable-region>
      
</dialog></dialog-helper>
  </div>

  <div class="AppHeader-context-full">
    <nav role="navigation" aria-label="Page context">
      <ul role="list" class="list-style-none" >
    <li>
      <a data-analytics-event="{&quot;category&quot;:&quot;SiteHeaderComponent&quot;,&quot;action&quot;:&quot;context_region_crumb&quot;,&quot;label&quot;:&quot;CoroaPT&quot;,&quot;screen_size&quot;:&quot;full&quot;}" data-hovercard-type="user" data-hovercard-url="/users/CoroaPT/hovercard" data-octo-click="hovercard-link-click" data-octo-dimensions="link_type:self" href="/CoroaPT" data-view-component="true" class="AppHeader-context-item">
        <span class="AppHeader-context-item-label  ">

          CoroaPT
        </span>

</a>
        <span class="AppHeader-context-item-separator">/</span>
    </li>
    <li>
      <a data-analytics-event="{&quot;category&quot;:&quot;SiteHeaderComponent&quot;,&quot;action&quot;:&quot;context_region_crumb&quot;,&quot;label&quot;:&quot;FinalAssignment&quot;,&quot;screen_size&quot;:&quot;full&quot;}" href="/CoroaPT/FinalAssignment" data-view-component="true" class="AppHeader-context-item">
        <span class="AppHeader-context-item-label  ">

          FinalAssignment
        </span>

</a>
    </li>
</ul>

    </nav>
  </div>
</div>

      </div>
      <div class="AppHeader-globalBar-end">
          <div class="AppHeader-search" >
              


<qbsearch-input class="search-input" data-scope="repo:CoroaPT/FinalAssignment" data-custom-scopes-path="/search/custom_scopes" data-delete-custom-scopes-csrf="P3ixvmuXKwUSw3in1z3im2JKjzCkB6OLq1JOid575BKN9mA0fck1p0b7_QjYUDDLPxsYojAGfTbzSULwkz2LJw" data-max-custom-scopes="10" data-header-redesign-enabled="true" data-initial-value="" data-blackbird-suggestions-path="/search/suggestions" data-jump-to-suggestions-path="/_graphql/GetSuggestedNavigationDestinations" data-current-repository="CoroaPT/FinalAssignment" data-current-org="" data-current-owner="CoroaPT" data-logged-in="true" data-copilot-chat-enabled="false" data-blackbird-indexed-repo-csrf="<input type=&quot;hidden&quot; value=&quot;jbVYbizpuTGJS4vfmAof3SvzHhdvGN-nFn6jYDaBqehZVe7xCbGs0f5mAKTNSJlX3J27RGlgWKJ21avLTnq8NA&quot; data-csrf=&quot;true&quot; />">
  <div
    class="search-input-container search-with-dialog position-relative d-flex flex-row flex-items-center height-auto color-bg-transparent border-0 color-fg-subtle mx-0"
    data-action="click:qbsearch-input#searchInputContainerClicked"
  >
      
            <button type="button" data-action="click:qbsearch-input#handleExpand" class="AppHeader-button AppHeader-search-whenNarrow" aria-label="Search or jump to…" aria-expanded="false" aria-haspopup="dialog">
            <svg aria-hidden="true" height="16" viewBox="0 0 16 16" version="1.1" width="16" data-view-component="true" class="octicon octicon-search">
    <path d="M10.68 11.74a6 6 0 0 1-7.922-8.982 6 6 0 0 1 8.982 7.922l3.04 3.04a.749.749 0 0 1-.326 1.275.749.749 0 0 1-.734-.215ZM11.5 7a4.499 4.499 0 1 0-8.997 0A4.499 4.499 0 0 0 11.5 7Z"></path>
</svg>
          </button>


<div class="AppHeader-search-whenRegular">
  <div class="AppHeader-search-wrap AppHeader-search-wrap--hasTrailing">
    <div class="AppHeader-search-control">
      <label
        for="AppHeader-searchInput"
        aria-label="Search or jump to…"
        class="AppHeader-search-visual--leading"
      >
        <svg aria-hidden="true" height="16" viewBox="0 0 16 16" version="1.1" width="16" data-view-component="true" class="octicon octicon-search">
    <path d="M10.68 11.74a6 6 0 0 1-7.922-8.982 6 6 0 0 1 8.982 7.922l3.04 3.04a.749.749 0 0 1-.326 1.275.749.749 0 0 1-.734-.215ZM11.5 7a4.499 4.499 0 1 0-8.997 0A4.499 4.499 0 0 0 11.5 7Z"></path>
</svg>
      </label>

                <button
            type="button"
            data-target="qbsearch-input.inputButton"
            data-action="click:qbsearch-input#handleExpand"
            class="AppHeader-searchButton form-control input-contrast text-left color-fg-subtle no-wrap"
            data-hotkey="s,/"
            data-analytics-event="{&quot;category&quot;:&quot;Global navigation&quot;,&quot;action&quot;:&quot;SEARCH&quot;,&quot;label&quot;:null}"
            aria-describedby="search-error-message-flash"
          >
            <div class="overflow-hidden">
              <span id="qb-input-query" data-target="qbsearch-input.inputButtonText">
                  Type <kbd class="AppHeader-search-kbd">/</kbd> to search
              </span>
            </div>
          </button>

    </div>


      <button type="button" id="AppHeader-commandPalette-button" class="AppHeader-search-action--trailing js-activate-command-palette" data-analytics-event="{&quot;category&quot;:&quot;SiteHeaderComponent&quot;,&quot;action&quot;:&quot;command_palette&quot;,&quot;label&quot;:&quot;open command palette&quot;}">
        <svg aria-hidden="true" height="16" viewBox="0 0 16 16" version="1.1" width="16" data-view-component="true" class="octicon octicon-command-palette">
    <path d="m6.354 8.04-4.773 4.773a.75.75 0 1 0 1.061 1.06L7.945 8.57a.75.75 0 0 0 0-1.06L2.642 2.206a.75.75 0 0 0-1.06 1.061L6.353 8.04ZM8.75 11.5a.75.75 0 0 0 0 1.5h5.5a.75.75 0 0 0 0-1.5h-5.5Z"></path>
</svg>
      </button>

      <tool-tip id="tooltip-509c7bf2-371e-4c06-9c05-b0a5efc9f98f" for="AppHeader-commandPalette-button" popover="manual" data-direction="s" data-type="label" data-view-component="true" class="sr-only position-absolute">Command palette</tool-tip>
  </div>
</div>

    <input type="hidden" name="type" class="js-site-search-type-field">

    
<div class="Overlay--hidden " data-modal-dialog-overlay>
  <modal-dialog data-action="close:qbsearch-input#handleClose cancel:qbsearch-input#handleClose" data-target="qbsearch-input.searchSuggestionsDialog" role="dialog" id="search-suggestions-dialog" aria-modal="true" aria-labelledby="search-suggestions-dialog-header" data-view-component="true" class="Overlay Overlay--width-medium Overlay--height-auto">
      <h1 id="search-suggestions-dialog-header" class="sr-only">Search code, repositories, users, issues, pull requests...</h1>
    <div class="Overlay-body Overlay-body--paddingNone">
      
          <div data-view-component="true">        <div class="search-suggestions position-absolute width-full color-shadow-large border color-fg-default color-bg-default overflow-hidden d-flex flex-column query-builder-container"
          style="border-radius: 12px;"
          data-target="qbsearch-input.queryBuilderContainer"
          hidden
        >
          <!-- '"` --><!-- </textarea></xmp> --></option></form><form id="query-builder-test-form" action="" accept-charset="UTF-8" method="get">
  <query-builder data-target="qbsearch-input.queryBuilder" id="query-builder-query-builder-test" data-filter-key=":" data-view-component="true" class="QueryBuilder search-query-builder">
    <div class="FormControl FormControl--fullWidth">
      <label id="query-builder-test-label" for="query-builder-test" class="FormControl-label sr-only">
        Search
      </label>
      <div
        class="QueryBuilder-StyledInput width-fit "
        data-target="query-builder.styledInput"
      >
          <span id="query-builder-test-leadingvisual-wrap" class="FormControl-input-leadingVisualWrap QueryBuilder-leadingVisualWrap">
            <svg aria-hidden="true" height="16" viewBox="0 0 16 16" version="1.1" width="16" data-view-component="true" class="octicon octicon-search FormControl-input-leadingVisual">
    <path d="M10.68 11.74a6 6 0 0 1-7.922-8.982 6 6 0 0 1 8.982 7.922l3.04 3.04a.749.749 0 0 1-.326 1.275.749.749 0 0 1-.734-.215ZM11.5 7a4.499 4.499 0 1 0-8.997 0A4.499 4.499 0 0 0 11.5 7Z"></path>
</svg>
          </span>
        <div data-target="query-builder.styledInputContainer" class="QueryBuilder-StyledInputContainer">
          <div
            aria-hidden="true"
            class="QueryBuilder-StyledInputContent"
            data-target="query-builder.styledInputContent"
          ></div>
          <div class="QueryBuilder-InputWrapper">
            <div aria-hidden="true" class="QueryBuilder-Sizer" data-target="query-builder.sizer"></div>
            <input id="query-builder-test" name="query-builder-test" value="" autocomplete="off" type="text" role="combobox" spellcheck="false" aria-expanded="false" aria-describedby="validation-de1e4865-da31-456a-a593-4c56dc5a5c43" data-target="query-builder.input" data-action="
          input:query-builder#inputChange
          blur:query-builder#inputBlur
          keydown:query-builder#inputKeydown
          focus:query-builder#inputFocus
        " data-view-component="true" class="FormControl-input QueryBuilder-Input FormControl-medium" />
          </div>
        </div>
          <span class="sr-only" id="query-builder-test-clear">Clear</span>
          <button role="button" id="query-builder-test-clear-button" aria-labelledby="query-builder-test-clear query-builder-test-label" data-target="query-builder.clearButton" data-action="
                click:query-builder#clear
                focus:query-builder#clearButtonFocus
                blur:query-builder#clearButtonBlur
              " variant="small" hidden="hidden" type="button" data-view-component="true" class="Button Button--iconOnly Button--invisible Button--medium mr-1 px-2 py-0 d-flex flex-items-center rounded-1 color-fg-muted">  <svg aria-hidden="true" height="16" viewBox="0 0 16 16" version="1.1" width="16" data-view-component="true" class="octicon octicon-x-circle-fill Button-visual">
    <path d="M2.343 13.657A8 8 0 1 1 13.658 2.343 8 8 0 0 1 2.343 13.657ZM6.03 4.97a.751.751 0 0 0-1.042.018.751.751 0 0 0-.018 1.042L6.94 8 4.97 9.97a.749.749 0 0 0 .326 1.275.749.749 0 0 0 .734-.215L8 9.06l1.97 1.97a.749.749 0 0 0 1.275-.326.749.749 0 0 0-.215-.734L9.06 8l1.97-1.97a.749.749 0 0 0-.326-1.275.749.749 0 0 0-.734.215L8 6.94Z"></path>
</svg>
</button>

      </div>
      <template id="search-icon">
  <svg aria-hidden="true" height="16" viewBox="0 0 16 16" version="1.1" width="16" data-view-component="true" class="octicon octicon-search">
    <path d="M10.68 11.74a6 6 0 0 1-7.922-8.982 6 6 0 0 1 8.982 7.922l3.04 3.04a.749.749 0 0 1-.326 1.275.749.749 0 0 1-.734-.215ZM11.5 7a4.499 4.499 0 1 0-8.997 0A4.499 4.499 0 0 0 11.5 7Z"></path>
</svg>
</template>

<template id="code-icon">
  <svg aria-hidden="true" height="16" viewBox="0 0 16 16" version="1.1" width="16" data-view-component="true" class="octicon octicon-code">
    <path d="m11.28 3.22 4.25 4.25a.75.75 0 0 1 0 1.06l-4.25 4.25a.749.749 0 0 1-1.275-.326.749.749 0 0 1 .215-.734L13.94 8l-3.72-3.72a.749.749 0 0 1 .326-1.275.749.749 0 0 1 .734.215Zm-6.56 0a.751.751 0 0 1 1.042.018.751.751 0 0 1 .018 1.042L2.06 8l3.72 3.72a.749.749 0 0 1-.326 1.275.749.749 0 0 1-.734-.215L.47 8.53a.75.75 0 0 1 0-1.06Z"></path>
</svg>
</template>

<template id="file-code-icon">
  <svg aria-hidden="true" height="16" viewBox="0 0 16 16" version="1.1" width="16" data-view-component="true" class="octicon octicon-file-code">
    <path d="M4 1.75C4 .784 4.784 0 5.75 0h5.586c.464 0 .909.184 1.237.513l2.914 2.914c.329.328.513.773.513 1.237v8.586A1.75 1.75 0 0 1 14.25 15h-9a.75.75 0 0 1 0-1.5h9a.25.25 0 0 0 .25-.25V6h-2.75A1.75 1.75 0 0 1 10 4.25V1.5H5.75a.25.25 0 0 0-.25.25v2.5a.75.75 0 0 1-1.5 0Zm1.72 4.97a.75.75 0 0 1 1.06 0l2 2a.75.75 0 0 1 0 1.06l-2 2a.749.749 0 0 1-1.275-.326.749.749 0 0 1 .215-.734l1.47-1.47-1.47-1.47a.75.75 0 0 1 0-1.06ZM3.28 7.78 1.81 9.25l1.47 1.47a.751.751 0 0 1-.018 1.042.751.751 0 0 1-1.042.018l-2-2a.75.75 0 0 1 0-1.06l2-2a.751.751 0 0 1 1.042.018.751.751 0 0 1 .018 1.042Zm8.22-6.218V4.25c0 .138.112.25.25.25h2.688l-.011-.013-2.914-2.914-.013-.011Z"></path>
</svg>
</template>

<template id="history-icon">
  <svg aria-hidden="true" height="16" viewBox="0 0 16 16" version="1.1" width="16" data-view-component="true" class="octicon octicon-history">
    <path d="m.427 1.927 1.215 1.215a8.002 8.002 0 1 1-1.6 5.685.75.75 0 1 1 1.493-.154 6.5 6.5 0 1 0 1.18-4.458l1.358 1.358A.25.25 0 0 1 3.896 6H.25A.25.25 0 0 1 0 5.75V2.104a.25.25 0 0 1 .427-.177ZM7.75 4a.75.75 0 0 1 .75.75v2.992l2.028.812a.75.75 0 0 1-.557 1.392l-2.5-1A.751.751 0 0 1 7 8.25v-3.5A.75.75 0 0 1 7.75 4Z"></path>
</svg>
</template>

<template id="repo-icon">
  <svg aria-hidden="true" height="16" viewBox="0 0 16 16" version="1.1" width="16" data-view-component="true" class="octicon octicon-repo">
    <path d="M2 2.5A2.5 2.5 0 0 1 4.5 0h8.75a.75.75 0 0 1 .75.75v12.5a.75.75 0 0 1-.75.75h-2.5a.75.75 0 0 1 0-1.5h1.75v-2h-8a1 1 0 0 0-.714 1.7.75.75 0 1 1-1.072 1.05A2.495 2.495 0 0 1 2 11.5Zm10.5-1h-8a1 1 0 0 0-1 1v6.708A2.486 2.486 0 0 1 4.5 9h8ZM5 12.25a.25.25 0 0 1 .25-.25h3.5a.25.25 0 0 1 .25.25v3.25a.25.25 0 0 1-.4.2l-1.45-1.087a.249.249 0 0 0-.3 0L5.4 15.7a.25.25 0 0 1-.4-.2Z"></path>
</svg>
</template>

<template id="bookmark-icon">
  <svg aria-hidden="true" height="16" viewBox="0 0 16 16" version="1.1" width="16" data-view-component="true" class="octicon octicon-bookmark">
    <path d="M3 2.75C3 1.784 3.784 1 4.75 1h6.5c.966 0 1.75.784 1.75 1.75v11.5a.75.75 0 0 1-1.227.579L8 11.722l-3.773 3.107A.751.751 0 0 1 3 14.25Zm1.75-.25a.25.25 0 0 0-.25.25v9.91l3.023-2.489a.75.75 0 0 1 .954 0l3.023 2.49V2.75a.25.25 0 0 0-.25-.25Z"></path>
</svg>
</template>

<template id="plus-circle-icon">
  <svg aria-hidden="true" height="16" viewBox="0 0 16 16" version="1.1" width="16" data-view-component="true" class="octicon octicon-plus-circle">
    <path d="M8 0a8 8 0 1 1 0 16A8 8 0 0 1 8 0ZM1.5 8a6.5 6.5 0 1 0 13 0 6.5 6.5 0 0 0-13 0Zm7.25-3.25v2.5h2.5a.75.75 0 0 1 0 1.5h-2.5v2.5a.75.75 0 0 1-1.5 0v-2.5h-2.5a.75.75 0 0 1 0-1.5h2.5v-2.5a.75.75 0 0 1 1.5 0Z"></path>
</svg>
</template>

<template id="circle-icon">
  <svg aria-hidden="true" height="16" viewBox="0 0 16 16" version="1.1" width="16" data-view-component="true" class="octicon octicon-dot-fill">
    <path d="M8 4a4 4 0 1 1 0 8 4 4 0 0 1 0-8Z"></path>
</svg>
</template>

<template id="trash-icon">
  <svg aria-hidden="true" height="16" viewBox="0 0 16 16" version="1.1" width="16" data-view-component="true" class="octicon octicon-trash">
    <path d="M11 1.75V3h2.25a.75.75 0 0 1 0 1.5H2.75a.75.75 0 0 1 0-1.5H5V1.75C5 .784 5.784 0 6.75 0h2.5C10.216 0 11 .784 11 1.75ZM4.496 6.675l.66 6.6a.25.25 0 0 0 .249.225h5.19a.25.25 0 0 0 .249-.225l.66-6.6a.75.75 0 0 1 1.492.149l-.66 6.6A1.748 1.748 0 0 1 10.595 15h-5.19a1.75 1.75 0 0 1-1.741-1.575l-.66-6.6a.75.75 0 1 1 1.492-.15ZM6.5 1.75V3h3V1.75a.25.25 0 0 0-.25-.25h-2.5a.25.25 0 0 0-.25.25Z"></path>
</svg>
</template>

<template id="team-icon">
  <svg aria-hidden="true" height="16" viewBox="0 0 16 16" version="1.1" width="16" data-view-component="true" class="octicon octicon-people">
    <path d="M2 5.5a3.5 3.5 0 1 1 5.898 2.549 5.508 5.508 0 0 1 3.034 4.084.75.75 0 1 1-1.482.235 4 4 0 0 0-7.9 0 .75.75 0 0 1-1.482-.236A5.507 5.507 0 0 1 3.102 8.05 3.493 3.493 0 0 1 2 5.5ZM11 4a3.001 3.001 0 0 1 2.22 5.018 5.01 5.01 0 0 1 2.56 3.012.749.749 0 0 1-.885.954.752.752 0 0 1-.549-.514 3.507 3.507 0 0 0-2.522-2.372.75.75 0 0 1-.574-.73v-.352a.75.75 0 0 1 .416-.672A1.5 1.5 0 0 0 11 5.5.75.75 0 0 1 11 4Zm-5.5-.5a2 2 0 1 0-.001 3.999A2 2 0 0 0 5.5 3.5Z"></path>
</svg>
</template>

<template id="project-icon">
  <svg aria-hidden="true" height="16" viewBox="0 0 16 16" version="1.1" width="16" data-view-component="true" class="octicon octicon-project">
    <path d="M1.75 0h12.5C15.216 0 16 .784 16 1.75v12.5A1.75 1.75 0 0 1 14.25 16H1.75A1.75 1.75 0 0 1 0 14.25V1.75C0 .784.784 0 1.75 0ZM1.5 1.75v12.5c0 .138.112.25.25.25h12.5a.25.25 0 0 0 .25-.25V1.75a.25.25 0 0 0-.25-.25H1.75a.25.25 0 0 0-.25.25ZM11.75 3a.75.75 0 0 1 .75.75v7.5a.75.75 0 0 1-1.5 0v-7.5a.75.75 0 0 1 .75-.75Zm-8.25.75a.75.75 0 0 1 1.5 0v5.5a.75.75 0 0 1-1.5 0ZM8 3a.75.75 0 0 1 .75.75v3.5a.75.75 0 0 1-1.5 0v-3.5A.75.75 0 0 1 8 3Z"></path>
</svg>
</template>

<template id="pencil-icon">
  <svg aria-hidden="true" height="16" viewBox="0 0 16 16" version="1.1" width="16" data-view-component="true" class="octicon octicon-pencil">
    <path d="M11.013 1.427a1.75 1.75 0 0 1 2.474 0l1.086 1.086a1.75 1.75 0 0 1 0 2.474l-8.61 8.61c-.21.21-.47.364-.756.445l-3.251.93a.75.75 0 0 1-.927-.928l.929-3.25c.081-.286.235-.547.445-.758l8.61-8.61Zm.176 4.823L9.75 4.81l-6.286 6.287a.253.253 0 0 0-.064.108l-.558 1.953 1.953-.558a.253.253 0 0 0 .108-.064Zm1.238-3.763a.25.25 0 0 0-.354 0L10.811 3.75l1.439 1.44 1.263-1.263a.25.25 0 0 0 0-.354Z"></path>
</svg>
</template>

<template id="copilot-icon">
  <svg aria-hidden="true" height="16" viewBox="0 0 16 16" version="1.1" width="16" data-view-component="true" class="octicon octicon-copilot">
    <path d="M7.998 15.035c-4.562 0-7.873-2.914-7.998-3.749V9.338c.085-.628.677-1.686 1.588-2.065.013-.07.024-.143.036-.218.029-.183.06-.384.126-.612-.201-.508-.254-1.084-.254-1.656 0-.87.128-1.769.693-2.484.579-.733 1.494-1.124 2.724-1.261 1.206-.134 2.262.034 2.944.765.05.053.096.108.139.165.044-.057.094-.112.143-.165.682-.731 1.738-.899 2.944-.765 1.23.137 2.145.528 2.724 1.261.566.715.693 1.614.693 2.484 0 .572-.053 1.148-.254 1.656.066.228.098.429.126.612.012.076.024.148.037.218.924.385 1.522 1.471 1.591 2.095v1.872c0 .766-3.351 3.795-8.002 3.795Zm0-1.485c2.28 0 4.584-1.11 5.002-1.433V7.862l-.023-.116c-.49.21-1.075.291-1.727.291-1.146 0-2.059-.327-2.71-.991A3.222 3.222 0 0 1 8 6.303a3.24 3.24 0 0 1-.544.743c-.65.664-1.563.991-2.71.991-.652 0-1.236-.081-1.727-.291l-.023.116v4.255c.419.323 2.722 1.433 5.002 1.433ZM6.762 2.83c-.193-.206-.637-.413-1.682-.297-1.019.113-1.479.404-1.713.7-.247.312-.369.789-.369 1.554 0 .793.129 1.171.308 1.371.162.181.519.379 1.442.379.853 0 1.339-.235 1.638-.54.315-.322.527-.827.617-1.553.117-.935-.037-1.395-.241-1.614Zm4.155-.297c-1.044-.116-1.488.091-1.681.297-.204.219-.359.679-.242 1.614.091.726.303 1.231.618 1.553.299.305.784.54 1.638.54.922 0 1.28-.198 1.442-.379.179-.2.308-.578.308-1.371 0-.765-.123-1.242-.37-1.554-.233-.296-.693-.587-1.713-.7Z"></path><path d="M6.25 9.037a.75.75 0 0 1 .75.75v1.501a.75.75 0 0 1-1.5 0V9.787a.75.75 0 0 1 .75-.75Zm4.25.75v1.501a.75.75 0 0 1-1.5 0V9.787a.75.75 0 0 1 1.5 0Z"></path>
</svg>
</template>

<template id="workflow-icon">
  <svg aria-hidden="true" height="16" viewBox="0 0 16 16" version="1.1" width="16" data-view-component="true" class="octicon octicon-workflow">
    <path d="M0 1.75C0 .784.784 0 1.75 0h3.5C6.216 0 7 .784 7 1.75v3.5A1.75 1.75 0 0 1 5.25 7H4v4a1 1 0 0 0 1 1h4v-1.25C9 9.784 9.784 9 10.75 9h3.5c.966 0 1.75.784 1.75 1.75v3.5A1.75 1.75 0 0 1 14.25 16h-3.5A1.75 1.75 0 0 1 9 14.25v-.75H5A2.5 2.5 0 0 1 2.5 11V7h-.75A1.75 1.75 0 0 1 0 5.25Zm1.75-.25a.25.25 0 0 0-.25.25v3.5c0 .138.112.25.25.25h3.5a.25.25 0 0 0 .25-.25v-3.5a.25.25 0 0 0-.25-.25Zm9 9a.25.25 0 0 0-.25.25v3.5c0 .138.112.25.25.25h3.5a.25.25 0 0 0 .25-.25v-3.5a.25.25 0 0 0-.25-.25Z"></path>
</svg>
</template>

<template id="book-icon">
  <svg aria-hidden="true" height="16" viewBox="0 0 16 16" version="1.1" width="16" data-view-component="true" class="octicon octicon-book">
    <path d="M0 1.75A.75.75 0 0 1 .75 1h4.253c1.227 0 2.317.59 3 1.501A3.743 3.743 0 0 1 11.006 1h4.245a.75.75 0 0 1 .75.75v10.5a.75.75 0 0 1-.75.75h-4.507a2.25 2.25 0 0 0-1.591.659l-.622.621a.75.75 0 0 1-1.06 0l-.622-.621A2.25 2.25 0 0 0 5.258 13H.75a.75.75 0 0 1-.75-.75Zm7.251 10.324.004-5.073-.002-2.253A2.25 2.25 0 0 0 5.003 2.5H1.5v9h3.757a3.75 3.75 0 0 1 1.994.574ZM8.755 4.75l-.004 7.322a3.752 3.752 0 0 1 1.992-.572H14.5v-9h-3.495a2.25 2.25 0 0 0-2.25 2.25Z"></path>
</svg>
</template>

<template id="code-review-icon">
  <svg aria-hidden="true" height="16" viewBox="0 0 16 16" version="1.1" width="16" data-view-component="true" class="octicon octicon-code-review">
    <path d="M1.75 1h12.5c.966 0 1.75.784 1.75 1.75v8.5A1.75 1.75 0 0 1 14.25 13H8.061l-2.574 2.573A1.458 1.458 0 0 1 3 14.543V13H1.75A1.75 1.75 0 0 1 0 11.25v-8.5C0 1.784.784 1 1.75 1ZM1.5 2.75v8.5c0 .138.112.25.25.25h2a.75.75 0 0 1 .75.75v2.19l2.72-2.72a.749.749 0 0 1 .53-.22h6.5a.25.25 0 0 0 .25-.25v-8.5a.25.25 0 0 0-.25-.25H1.75a.25.25 0 0 0-.25.25Zm5.28 1.72a.75.75 0 0 1 0 1.06L5.31 7l1.47 1.47a.751.751 0 0 1-.018 1.042.751.751 0 0 1-1.042.018l-2-2a.75.75 0 0 1 0-1.06l2-2a.75.75 0 0 1 1.06 0Zm2.44 0a.75.75 0 0 1 1.06 0l2 2a.75.75 0 0 1 0 1.06l-2 2a.751.751 0 0 1-1.042-.018.751.751 0 0 1-.018-1.042L10.69 7 9.22 5.53a.75.75 0 0 1 0-1.06Z"></path>
</svg>
</template>

<template id="codespaces-icon">
  <svg aria-hidden="true" height="16" viewBox="0 0 16 16" version="1.1" width="16" data-view-component="true" class="octicon octicon-codespaces">
    <path d="M0 11.25c0-.966.784-1.75 1.75-1.75h12.5c.966 0 1.75.784 1.75 1.75v3A1.75 1.75 0 0 1 14.25 16H1.75A1.75 1.75 0 0 1 0 14.25Zm2-9.5C2 .784 2.784 0 3.75 0h8.5C13.216 0 14 .784 14 1.75v5a1.75 1.75 0 0 1-1.75 1.75h-8.5A1.75 1.75 0 0 1 2 6.75Zm1.75-.25a.25.25 0 0 0-.25.25v5c0 .138.112.25.25.25h8.5a.25.25 0 0 0 .25-.25v-5a.25.25 0 0 0-.25-.25Zm-2 9.5a.25.25 0 0 0-.25.25v3c0 .138.112.25.25.25h12.5a.25.25 0 0 0 .25-.25v-3a.25.25 0 0 0-.25-.25Z"></path><path d="M7 12.75a.75.75 0 0 1 .75-.75h4.5a.75.75 0 0 1 0 1.5h-4.5a.75.75 0 0 1-.75-.75Zm-4 0a.75.75 0 0 1 .75-.75h.5a.75.75 0 0 1 0 1.5h-.5a.75.75 0 0 1-.75-.75Z"></path>
</svg>
</template>

<template id="comment-icon">
  <svg aria-hidden="true" height="16" viewBox="0 0 16 16" version="1.1" width="16" data-view-component="true" class="octicon octicon-comment">
    <path d="M1 2.75C1 1.784 1.784 1 2.75 1h10.5c.966 0 1.75.784 1.75 1.75v7.5A1.75 1.75 0 0 1 13.25 12H9.06l-2.573 2.573A1.458 1.458 0 0 1 4 13.543V12H2.75A1.75 1.75 0 0 1 1 10.25Zm1.75-.25a.25.25 0 0 0-.25.25v7.5c0 .138.112.25.25.25h2a.75.75 0 0 1 .75.75v2.19l2.72-2.72a.749.749 0 0 1 .53-.22h4.5a.25.25 0 0 0 .25-.25v-7.5a.25.25 0 0 0-.25-.25Z"></path>
</svg>
</template>

<template id="comment-discussion-icon">
  <svg aria-hidden="true" height="16" viewBox="0 0 16 16" version="1.1" width="16" data-view-component="true" class="octicon octicon-comment-discussion">
    <path d="M1.75 1h8.5c.966 0 1.75.784 1.75 1.75v5.5A1.75 1.75 0 0 1 10.25 10H7.061l-2.574 2.573A1.458 1.458 0 0 1 2 11.543V10h-.25A1.75 1.75 0 0 1 0 8.25v-5.5C0 1.784.784 1 1.75 1ZM1.5 2.75v5.5c0 .138.112.25.25.25h1a.75.75 0 0 1 .75.75v2.19l2.72-2.72a.749.749 0 0 1 .53-.22h3.5a.25.25 0 0 0 .25-.25v-5.5a.25.25 0 0 0-.25-.25h-8.5a.25.25 0 0 0-.25.25Zm13 2a.25.25 0 0 0-.25-.25h-.5a.75.75 0 0 1 0-1.5h.5c.966 0 1.75.784 1.75 1.75v5.5A1.75 1.75 0 0 1 14.25 12H14v1.543a1.458 1.458 0 0 1-2.487 1.03L9.22 12.28a.749.749 0 0 1 .326-1.275.749.749 0 0 1 .734.215l2.22 2.22v-2.19a.75.75 0 0 1 .75-.75h1a.25.25 0 0 0 .25-.25Z"></path>
</svg>
</template>

<template id="organization-icon">
  <svg aria-hidden="true" height="16" viewBox="0 0 16 16" version="1.1" width="16" data-view-component="true" class="octicon octicon-organization">
    <path d="M1.75 16A1.75 1.75 0 0 1 0 14.25V1.75C0 .784.784 0 1.75 0h8.5C11.216 0 12 .784 12 1.75v12.5c0 .085-.006.168-.018.25h2.268a.25.25 0 0 0 .25-.25V8.285a.25.25 0 0 0-.111-.208l-1.055-.703a.749.749 0 1 1 .832-1.248l1.055.703c.487.325.779.871.779 1.456v5.965A1.75 1.75 0 0 1 14.25 16h-3.5a.766.766 0 0 1-.197-.026c-.099.017-.2.026-.303.026h-3a.75.75 0 0 1-.75-.75V14h-1v1.25a.75.75 0 0 1-.75.75Zm-.25-1.75c0 .138.112.25.25.25H4v-1.25a.75.75 0 0 1 .75-.75h2.5a.75.75 0 0 1 .75.75v1.25h2.25a.25.25 0 0 0 .25-.25V1.75a.25.25 0 0 0-.25-.25h-8.5a.25.25 0 0 0-.25.25ZM3.75 6h.5a.75.75 0 0 1 0 1.5h-.5a.75.75 0 0 1 0-1.5ZM3 3.75A.75.75 0 0 1 3.75 3h.5a.75.75 0 0 1 0 1.5h-.5A.75.75 0 0 1 3 3.75Zm4 3A.75.75 0 0 1 7.75 6h.5a.75.75 0 0 1 0 1.5h-.5A.75.75 0 0 1 7 6.75ZM7.75 3h.5a.75.75 0 0 1 0 1.5h-.5a.75.75 0 0 1 0-1.5ZM3 9.75A.75.75 0 0 1 3.75 9h.5a.75.75 0 0 1 0 1.5h-.5A.75.75 0 0 1 3 9.75ZM7.75 9h.5a.75.75 0 0 1 0 1.5h-.5a.75.75 0 0 1 0-1.5Z"></path>
</svg>
</template>

<template id="rocket-icon">
  <svg aria-hidden="true" height="16" viewBox="0 0 16 16" version="1.1" width="16" data-view-component="true" class="octicon octicon-rocket">
    <path d="M14.064 0h.186C15.216 0 16 .784 16 1.75v.186a8.752 8.752 0 0 1-2.564 6.186l-.458.459c-.314.314-.641.616-.979.904v3.207c0 .608-.315 1.172-.833 1.49l-2.774 1.707a.749.749 0 0 1-1.11-.418l-.954-3.102a1.214 1.214 0 0 1-.145-.125L3.754 9.816a1.218 1.218 0 0 1-.124-.145L.528 8.717a.749.749 0 0 1-.418-1.11l1.71-2.774A1.748 1.748 0 0 1 3.31 4h3.204c.288-.338.59-.665.904-.979l.459-.458A8.749 8.749 0 0 1 14.064 0ZM8.938 3.623h-.002l-.458.458c-.76.76-1.437 1.598-2.02 2.5l-1.5 2.317 2.143 2.143 2.317-1.5c.902-.583 1.74-1.26 2.499-2.02l.459-.458a7.25 7.25 0 0 0 2.123-5.127V1.75a.25.25 0 0 0-.25-.25h-.186a7.249 7.249 0 0 0-5.125 2.123ZM3.56 14.56c-.732.732-2.334 1.045-3.005 1.148a.234.234 0 0 1-.201-.064.234.234 0 0 1-.064-.201c.103-.671.416-2.273 1.15-3.003a1.502 1.502 0 1 1 2.12 2.12Zm6.94-3.935c-.088.06-.177.118-.266.175l-2.35 1.521.548 1.783 1.949-1.2a.25.25 0 0 0 .119-.213ZM3.678 8.116 5.2 5.766c.058-.09.117-.178.176-.266H3.309a.25.25 0 0 0-.213.119l-1.2 1.95ZM12 5a1 1 0 1 1-2 0 1 1 0 0 1 2 0Z"></path>
</svg>
</template>

<template id="shield-check-icon">
  <svg aria-hidden="true" height="16" viewBox="0 0 16 16" version="1.1" width="16" data-view-component="true" class="octicon octicon-shield-check">
    <path d="m8.533.133 5.25 1.68A1.75 1.75 0 0 1 15 3.48V7c0 1.566-.32 3.182-1.303 4.682-.983 1.498-2.585 2.813-5.032 3.855a1.697 1.697 0 0 1-1.33 0c-2.447-1.042-4.049-2.357-5.032-3.855C1.32 10.182 1 8.566 1 7V3.48a1.75 1.75 0 0 1 1.217-1.667l5.25-1.68a1.748 1.748 0 0 1 1.066 0Zm-.61 1.429.001.001-5.25 1.68a.251.251 0 0 0-.174.237V7c0 1.36.275 2.666 1.057 3.859.784 1.194 2.121 2.342 4.366 3.298a.196.196 0 0 0 .154 0c2.245-.957 3.582-2.103 4.366-3.297C13.225 9.666 13.5 8.358 13.5 7V3.48a.25.25 0 0 0-.174-.238l-5.25-1.68a.25.25 0 0 0-.153 0ZM11.28 6.28l-3.5 3.5a.75.75 0 0 1-1.06 0l-1.5-1.5a.749.749 0 0 1 .326-1.275.749.749 0 0 1 .734.215l.97.97 2.97-2.97a.751.751 0 0 1 1.042.018.751.751 0 0 1 .018 1.042Z"></path>
</svg>
</template>

<template id="heart-icon">
  <svg aria-hidden="true" height="16" viewBox="0 0 16 16" version="1.1" width="16" data-view-component="true" class="octicon octicon-heart">
    <path d="m8 14.25.345.666a.75.75 0 0 1-.69 0l-.008-.004-.018-.01a7.152 7.152 0 0 1-.31-.17 22.055 22.055 0 0 1-3.434-2.414C2.045 10.731 0 8.35 0 5.5 0 2.836 2.086 1 4.25 1 5.797 1 7.153 1.802 8 3.02 8.847 1.802 10.203 1 11.75 1 13.914 1 16 2.836 16 5.5c0 2.85-2.045 5.231-3.885 6.818a22.066 22.066 0 0 1-3.744 2.584l-.018.01-.006.003h-.002ZM4.25 2.5c-1.336 0-2.75 1.164-2.75 3 0 2.15 1.58 4.144 3.365 5.682A20.58 20.58 0 0 0 8 13.393a20.58 20.58 0 0 0 3.135-2.211C12.92 9.644 14.5 7.65 14.5 5.5c0-1.836-1.414-3-2.75-3-1.373 0-2.609.986-3.029 2.456a.749.749 0 0 1-1.442 0C6.859 3.486 5.623 2.5 4.25 2.5Z"></path>
</svg>
</template>

<template id="server-icon">
  <svg aria-hidden="true" height="16" viewBox="0 0 16 16" version="1.1" width="16" data-view-component="true" class="octicon octicon-server">
    <path d="M1.75 1h12.5c.966 0 1.75.784 1.75 1.75v4c0 .372-.116.717-.314 1 .198.283.314.628.314 1v4a1.75 1.75 0 0 1-1.75 1.75H1.75A1.75 1.75 0 0 1 0 12.75v-4c0-.358.109-.707.314-1a1.739 1.739 0 0 1-.314-1v-4C0 1.784.784 1 1.75 1ZM1.5 2.75v4c0 .138.112.25.25.25h12.5a.25.25 0 0 0 .25-.25v-4a.25.25 0 0 0-.25-.25H1.75a.25.25 0 0 0-.25.25Zm.25 5.75a.25.25 0 0 0-.25.25v4c0 .138.112.25.25.25h12.5a.25.25 0 0 0 .25-.25v-4a.25.25 0 0 0-.25-.25ZM7 4.75A.75.75 0 0 1 7.75 4h4.5a.75.75 0 0 1 0 1.5h-4.5A.75.75 0 0 1 7 4.75ZM7.75 10h4.5a.75.75 0 0 1 0 1.5h-4.5a.75.75 0 0 1 0-1.5ZM3 4.75A.75.75 0 0 1 3.75 4h.5a.75.75 0 0 1 0 1.5h-.5A.75.75 0 0 1 3 4.75ZM3.75 10h.5a.75.75 0 0 1 0 1.5h-.5a.75.75 0 0 1 0-1.5Z"></path>
</svg>
</template>

<template id="globe-icon">
  <svg aria-hidden="true" height="16" viewBox="0 0 16 16" version="1.1" width="16" data-view-component="true" class="octicon octicon-globe">
    <path d="M8 0a8 8 0 1 1 0 16A8 8 0 0 1 8 0ZM5.78 8.75a9.64 9.64 0 0 0 1.363 4.177c.255.426.542.832.857 1.215.245-.296.551-.705.857-1.215A9.64 9.64 0 0 0 10.22 8.75Zm4.44-1.5a9.64 9.64 0 0 0-1.363-4.177c-.307-.51-.612-.919-.857-1.215a9.927 9.927 0 0 0-.857 1.215A9.64 9.64 0 0 0 5.78 7.25Zm-5.944 1.5H1.543a6.507 6.507 0 0 0 4.666 5.5c-.123-.181-.24-.365-.352-.552-.715-1.192-1.437-2.874-1.581-4.948Zm-2.733-1.5h2.733c.144-2.074.866-3.756 1.58-4.948.12-.197.237-.381.353-.552a6.507 6.507 0 0 0-4.666 5.5Zm10.181 1.5c-.144 2.074-.866 3.756-1.58 4.948-.12.197-.237.381-.353.552a6.507 6.507 0 0 0 4.666-5.5Zm2.733-1.5a6.507 6.507 0 0 0-4.666-5.5c.123.181.24.365.353.552.714 1.192 1.436 2.874 1.58 4.948Z"></path>
</svg>
</template>

<template id="issue-opened-icon">
  <svg aria-hidden="true" height="16" viewBox="0 0 16 16" version="1.1" width="16" data-view-component="true" class="octicon octicon-issue-opened">
    <path d="M8 9.5a1.5 1.5 0 1 0 0-3 1.5 1.5 0 0 0 0 3Z"></path><path d="M8 0a8 8 0 1 1 0 16A8 8 0 0 1 8 0ZM1.5 8a6.5 6.5 0 1 0 13 0 6.5 6.5 0 0 0-13 0Z"></path>
</svg>
</template>

<template id="device-mobile-icon">
  <svg aria-hidden="true" height="16" viewBox="0 0 16 16" version="1.1" width="16" data-view-component="true" class="octicon octicon-device-mobile">
    <path d="M3.75 0h8.5C13.216 0 14 .784 14 1.75v12.5A1.75 1.75 0 0 1 12.25 16h-8.5A1.75 1.75 0 0 1 2 14.25V1.75C2 .784 2.784 0 3.75 0ZM3.5 1.75v12.5c0 .138.112.25.25.25h8.5a.25.25 0 0 0 .25-.25V1.75a.25.25 0 0 0-.25-.25h-8.5a.25.25 0 0 0-.25.25ZM8 13a1 1 0 1 1 0-2 1 1 0 0 1 0 2Z"></path>
</svg>
</template>

<template id="package-icon">
  <svg aria-hidden="true" height="16" viewBox="0 0 16 16" version="1.1" width="16" data-view-component="true" class="octicon octicon-package">
    <path d="m8.878.392 5.25 3.045c.54.314.872.89.872 1.514v6.098a1.75 1.75 0 0 1-.872 1.514l-5.25 3.045a1.75 1.75 0 0 1-1.756 0l-5.25-3.045A1.75 1.75 0 0 1 1 11.049V4.951c0-.624.332-1.201.872-1.514L7.122.392a1.75 1.75 0 0 1 1.756 0ZM7.875 1.69l-4.63 2.685L8 7.133l4.755-2.758-4.63-2.685a.248.248 0 0 0-.25 0ZM2.5 5.677v5.372c0 .09.047.171.125.216l4.625 2.683V8.432Zm6.25 8.271 4.625-2.683a.25.25 0 0 0 .125-.216V5.677L8.75 8.432Z"></path>
</svg>
</template>

<template id="credit-card-icon">
  <svg aria-hidden="true" height="16" viewBox="0 0 16 16" version="1.1" width="16" data-view-component="true" class="octicon octicon-credit-card">
    <path d="M10.75 9a.75.75 0 0 0 0 1.5h1.5a.75.75 0 0 0 0-1.5h-1.5Z"></path><path d="M0 3.75C0 2.784.784 2 1.75 2h12.5c.966 0 1.75.784 1.75 1.75v8.5A1.75 1.75 0 0 1 14.25 14H1.75A1.75 1.75 0 0 1 0 12.25ZM14.5 6.5h-13v5.75c0 .138.112.25.25.25h12.5a.25.25 0 0 0 .25-.25Zm0-2.75a.25.25 0 0 0-.25-.25H1.75a.25.25 0 0 0-.25.25V5h13Z"></path>
</svg>
</template>

<template id="play-icon">
  <svg aria-hidden="true" height="16" viewBox="0 0 16 16" version="1.1" width="16" data-view-component="true" class="octicon octicon-play">
    <path d="M8 0a8 8 0 1 1 0 16A8 8 0 0 1 8 0ZM1.5 8a6.5 6.5 0 1 0 13 0 6.5 6.5 0 0 0-13 0Zm4.879-2.773 4.264 2.559a.25.25 0 0 1 0 .428l-4.264 2.559A.25.25 0 0 1 6 10.559V5.442a.25.25 0 0 1 .379-.215Z"></path>
</svg>
</template>

<template id="gift-icon">
  <svg aria-hidden="true" height="16" viewBox="0 0 16 16" version="1.1" width="16" data-view-component="true" class="octicon octicon-gift">
    <path d="M2 2.75A2.75 2.75 0 0 1 4.75 0c.983 0 1.873.42 2.57 1.232.268.318.497.668.68 1.042.183-.375.411-.725.68-1.044C9.376.42 10.266 0 11.25 0a2.75 2.75 0 0 1 2.45 4h.55c.966 0 1.75.784 1.75 1.75v2c0 .698-.409 1.301-1 1.582v4.918A1.75 1.75 0 0 1 13.25 16H2.75A1.75 1.75 0 0 1 1 14.25V9.332C.409 9.05 0 8.448 0 7.75v-2C0 4.784.784 4 1.75 4h.55c-.192-.375-.3-.8-.3-1.25ZM7.25 9.5H2.5v4.75c0 .138.112.25.25.25h4.5Zm1.5 0v5h4.5a.25.25 0 0 0 .25-.25V9.5Zm0-4V8h5.5a.25.25 0 0 0 .25-.25v-2a.25.25 0 0 0-.25-.25Zm-7 0a.25.25 0 0 0-.25.25v2c0 .138.112.25.25.25h5.5V5.5h-5.5Zm3-4a1.25 1.25 0 0 0 0 2.5h2.309c-.233-.818-.542-1.401-.878-1.793-.43-.502-.915-.707-1.431-.707ZM8.941 4h2.309a1.25 1.25 0 0 0 0-2.5c-.516 0-1 .205-1.43.707-.337.392-.646.975-.879 1.793Z"></path>
</svg>
</template>

<template id="code-square-icon">
  <svg aria-hidden="true" height="16" viewBox="0 0 16 16" version="1.1" width="16" data-view-component="true" class="octicon octicon-code-square">
    <path d="M0 1.75C0 .784.784 0 1.75 0h12.5C15.216 0 16 .784 16 1.75v12.5A1.75 1.75 0 0 1 14.25 16H1.75A1.75 1.75 0 0 1 0 14.25Zm1.75-.25a.25.25 0 0 0-.25.25v12.5c0 .138.112.25.25.25h12.5a.25.25 0 0 0 .25-.25V1.75a.25.25 0 0 0-.25-.25Zm7.47 3.97a.75.75 0 0 1 1.06 0l2 2a.75.75 0 0 1 0 1.06l-2 2a.749.749 0 0 1-1.275-.326.749.749 0 0 1 .215-.734L10.69 8 9.22 6.53a.75.75 0 0 1 0-1.06ZM6.78 6.53 5.31 8l1.47 1.47a.749.749 0 0 1-.326 1.275.749.749 0 0 1-.734-.215l-2-2a.75.75 0 0 1 0-1.06l2-2a.751.751 0 0 1 1.042.018.751.751 0 0 1 .018 1.042Z"></path>
</svg>
</template>

<template id="device-desktop-icon">
  <svg aria-hidden="true" height="16" viewBox="0 0 16 16" version="1.1" width="16" data-view-component="true" class="octicon octicon-device-desktop">
    <path d="M14.25 1c.966 0 1.75.784 1.75 1.75v7.5A1.75 1.75 0 0 1 14.25 12h-3.727c.099 1.041.52 1.872 1.292 2.757A.752.752 0 0 1 11.25 16h-6.5a.75.75 0 0 1-.565-1.243c.772-.885 1.192-1.716 1.292-2.757H1.75A1.75 1.75 0 0 1 0 10.25v-7.5C0 1.784.784 1 1.75 1ZM1.75 2.5a.25.25 0 0 0-.25.25v7.5c0 .138.112.25.25.25h12.5a.25.25 0 0 0 .25-.25v-7.5a.25.25 0 0 0-.25-.25ZM9.018 12H6.982a5.72 5.72 0 0 1-.765 2.5h3.566a5.72 5.72 0 0 1-.765-2.5Z"></path>
</svg>
</template>

        <div class="position-relative">
                <ul
                  role="listbox"
                  class="ActionListWrap QueryBuilder-ListWrap"
                  aria-label="Suggestions"
                  data-action="
                    combobox-commit:query-builder#comboboxCommit
                    mousedown:query-builder#resultsMousedown
                  "
                  data-target="query-builder.resultsList"
                  data-persist-list=false
                  id="query-builder-test-results"
                ></ul>
        </div>
      <div class="FormControl-inlineValidation" id="validation-de1e4865-da31-456a-a593-4c56dc5a5c43" hidden="hidden">
        <span class="FormControl-inlineValidation--visual">
          <svg aria-hidden="true" height="12" viewBox="0 0 12 12" version="1.1" width="12" data-view-component="true" class="octicon octicon-alert-fill">
    <path d="M4.855.708c.5-.896 1.79-.896 2.29 0l4.675 8.351a1.312 1.312 0 0 1-1.146 1.954H1.33A1.313 1.313 0 0 1 .183 9.058ZM7 7V3H5v4Zm-1 3a1 1 0 1 0 0-2 1 1 0 0 0 0 2Z"></path>
</svg>
        </span>
        <span></span>
</div>    </div>
    <div data-target="query-builder.screenReaderFeedback" aria-live="polite" aria-atomic="true" class="sr-only"></div>
</query-builder></form>
          <div class="d-flex flex-row color-fg-muted px-3 text-small color-bg-default search-feedback-prompt">
            <a target="_blank" href="https://docs.github.com/search-github/github-code-search/understanding-github-code-search-syntax" data-view-component="true" class="Link color-fg-accent text-normal ml-2">
              Search syntax tips
</a>            <div class="d-flex flex-1"></div>
              <button data-action="click:qbsearch-input#showFeedbackDialog" type="button" data-view-component="true" class="Button--link Button--medium Button color-fg-accent text-normal ml-2">  <span class="Button-content">
    <span class="Button-label">Give feedback</span>
  </span>
</button>
          </div>
        </div>
</div>

    </div>
</modal-dialog></div>
  </div>
  <div data-action="click:qbsearch-input#retract" class="dark-backdrop position-fixed" hidden data-target="qbsearch-input.darkBackdrop"></div>
  <div class="color-fg-default">
    
<dialog-helper>
  <dialog data-target="qbsearch-input.feedbackDialog" data-action="close:qbsearch-input#handleDialogClose cancel:qbsearch-input#handleDialogClose" id="feedback-dialog" aria-modal="true" aria-labelledby="feedback-dialog-title" aria-describedby="feedback-dialog-description" data-view-component="true" class="Overlay Overlay-whenNarrow Overlay--size-medium Overlay--motion-scaleFade">
    <div data-view-component="true" class="Overlay-header">
  <div class="Overlay-headerContentWrap">
    <div class="Overlay-titleWrap">
      <h1 class="Overlay-title " id="feedback-dialog-title">
        Provide feedback
      </h1>
        
    </div>
    <div class="Overlay-actionWrap">
      <button data-close-dialog-id="feedback-dialog" aria-label="Close" type="button" data-view-component="true" class="close-button Overlay-closeButton"><svg aria-hidden="true" height="16" viewBox="0 0 16 16" version="1.1" width="16" data-view-component="true" class="octicon octicon-x">
    <path d="M3.72 3.72a.75.75 0 0 1 1.06 0L8 6.94l3.22-3.22a.749.749 0 0 1 1.275.326.749.749 0 0 1-.215.734L9.06 8l3.22 3.22a.749.749 0 0 1-.326 1.275.749.749 0 0 1-.734-.215L8 9.06l-3.22 3.22a.751.751 0 0 1-1.042-.018.751.751 0 0 1-.018-1.042L6.94 8 3.72 4.78a.75.75 0 0 1 0-1.06Z"></path>
</svg></button>
    </div>
  </div>
  
</div>
      <scrollable-region data-labelled-by="feedback-dialog-title">
        <div data-view-component="true" class="Overlay-body">        <!-- '"` --><!-- </textarea></xmp> --></option></form><form id="code-search-feedback-form" data-turbo="false" action="/search/feedback" accept-charset="UTF-8" method="post"><input type="hidden" name="authenticity_token" value="Vinhp2SDOznf2iZq6KxRqlaAGsV-yZ2kq0iF80clfiLs7LuSTzpeP4VotcsysuqT_gKakXQXeDFCXRj837C5gQ" />
          <p>We read every piece of feedback, and take your input very seriously.</p>
          <textarea name="feedback" class="form-control width-full mb-2" style="height: 120px" id="feedback"></textarea>
          <input name="include_email" id="include_email" aria-label="Include my email address so I can be contacted" class="form-control mr-2" type="checkbox">
          <label for="include_email" style="font-weight: normal">Include my email address so I can be contacted</label>
</form></div>
      </scrollable-region>
      <div data-view-component="true" class="Overlay-footer Overlay-footer--alignEnd">          <button data-close-dialog-id="feedback-dialog" type="button" data-view-component="true" class="btn">    Cancel
</button>
          <button form="code-search-feedback-form" data-action="click:qbsearch-input#submitFeedback" type="submit" data-view-component="true" class="btn-primary btn">    Submit feedback
</button>
</div>
</dialog></dialog-helper>

    <custom-scopes data-target="qbsearch-input.customScopesManager">
    
<dialog-helper>
  <dialog data-target="custom-scopes.customScopesModalDialog" data-action="close:qbsearch-input#handleDialogClose cancel:qbsearch-input#handleDialogClose" id="custom-scopes-dialog" aria-modal="true" aria-labelledby="custom-scopes-dialog-title" aria-describedby="custom-scopes-dialog-description" data-view-component="true" class="Overlay Overlay-whenNarrow Overlay--size-medium Overlay--motion-scaleFade">
    <div data-view-component="true" class="Overlay-header Overlay-header--divided">
  <div class="Overlay-headerContentWrap">
    <div class="Overlay-titleWrap">
      <h1 class="Overlay-title " id="custom-scopes-dialog-title">
        Saved searches
      </h1>
        <h2 id="custom-scopes-dialog-description" class="Overlay-description">Use saved searches to filter your results more quickly</h2>
    </div>
    <div class="Overlay-actionWrap">
      <button data-close-dialog-id="custom-scopes-dialog" aria-label="Close" type="button" data-view-component="true" class="close-button Overlay-closeButton"><svg aria-hidden="true" height="16" viewBox="0 0 16 16" version="1.1" width="16" data-view-component="true" class="octicon octicon-x">
    <path d="M3.72 3.72a.75.75 0 0 1 1.06 0L8 6.94l3.22-3.22a.749.749 0 0 1 1.275.326.749.749 0 0 1-.215.734L9.06 8l3.22 3.22a.749.749 0 0 1-.326 1.275.749.749 0 0 1-.734-.215L8 9.06l-3.22 3.22a.751.751 0 0 1-1.042-.018.751.751 0 0 1-.018-1.042L6.94 8 3.72 4.78a.75.75 0 0 1 0-1.06Z"></path>
</svg></button>
    </div>
  </div>
  
</div>
      <scrollable-region data-labelled-by="custom-scopes-dialog-title">
        <div data-view-component="true" class="Overlay-body">        <div data-target="custom-scopes.customScopesModalDialogFlash"></div>

        <div hidden class="create-custom-scope-form" data-target="custom-scopes.createCustomScopeForm">
        <!-- '"` --><!-- </textarea></xmp> --></option></form><form id="custom-scopes-dialog-form" data-turbo="false" action="/search/custom_scopes" accept-charset="UTF-8" method="post"><input type="hidden" name="authenticity_token" value="WgLU-cq9_eaPKaDP1mt0AqdZQVec-SbVKX7o_EN0RpvV2284uxMybjvSajWpqAi64WfwR5PC7ghvlIoHp4DGPA" />
          <div data-target="custom-scopes.customScopesModalDialogFlash"></div>

          <input type="hidden" id="custom_scope_id" name="custom_scope_id" data-target="custom-scopes.customScopesIdField">

          <div class="form-group">
            <label for="custom_scope_name">Name</label>
            <auto-check src="/search/custom_scopes/check_name" required>
              <input
                type="text"
                name="custom_scope_name"
                id="custom_scope_name"
                data-target="custom-scopes.customScopesNameField"
                class="form-control"
                autocomplete="off"
                placeholder="github-ruby"
                required
                maxlength="50">
              <input type="hidden" value="vIEXwbgtgAfIf4Vpl7Ti5WvfD8MCr40PLsz_o1NVk9GwvXOhlvyG6xtRWE_00HPFEdCsIn4tjFi6OVZpGY1hhQ" data-csrf="true" />
            </auto-check>
          </div>

          <div class="form-group">
            <label for="custom_scope_query">Query</label>
            <input
              type="text"
              name="custom_scope_query"
              id="custom_scope_query"
              data-target="custom-scopes.customScopesQueryField"
              class="form-control"
              autocomplete="off"
              placeholder="(repo:mona/a OR repo:mona/b) AND lang:python"
              required
              maxlength="500">
          </div>

          <p class="text-small color-fg-muted">
            To see all available qualifiers, see our <a class="Link--inTextBlock" href="https://docs.github.com/search-github/github-code-search/understanding-github-code-search-syntax">documentation</a>.
          </p>
</form>        </div>

        <div data-target="custom-scopes.manageCustomScopesForm">
          <div data-target="custom-scopes.list"></div>
        </div>

</div>
      </scrollable-region>
      <div data-view-component="true" class="Overlay-footer Overlay-footer--alignEnd Overlay-footer--divided">          <button data-action="click:custom-scopes#customScopesCancel" type="button" data-view-component="true" class="btn">    Cancel
</button>
          <button form="custom-scopes-dialog-form" data-action="click:custom-scopes#customScopesSubmit" data-target="custom-scopes.customScopesSubmitButton" type="submit" data-view-component="true" class="btn-primary btn">    Create saved search
</button>
</div>
</dialog></dialog-helper>
    </custom-scopes>
  </div>
</qbsearch-input><input type="hidden" value="3pDNUR7GGJ-9_z3oq0DhvzN7ztVXmQw2ZfSpeRM6LXzhQiAsvh0YiB1fcN63P2aOFajjcyQXu5vnn-nmm4uYjQ" data-csrf="true" class="js-data-jump-to-suggestions-path-csrf" />

          </div>

        <div class="AppHeader-actions position-relative">
             <react-partial-anchor>
      <button id="global-create-menu-anchor" aria-label="Create something new" data-target="react-partial-anchor.anchor" type="button" disabled="disabled" data-view-component="true" class="AppHeader-button global-create-button cursor-wait Button--secondary Button--medium Button width-auto color-fg-muted">  <span class="Button-content">
      <span class="Button-visual Button-leadingVisual">
        <svg aria-hidden="true" height="16" viewBox="0 0 16 16" version="1.1" width="16" data-view-component="true" class="octicon octicon-plus">
    <path d="M7.75 2a.75.75 0 0 1 .75.75V7h4.25a.75.75 0 0 1 0 1.5H8.5v4.25a.75.75 0 0 1-1.5 0V8.5H2.75a.75.75 0 0 1 0-1.5H7V2.75A.75.75 0 0 1 7.75 2Z"></path>
</svg>
      </span>
    <span class="Button-label"><svg aria-hidden="true" height="16" viewBox="0 0 16 16" version="1.1" width="16" data-view-component="true" class="octicon octicon-triangle-down">
    <path d="m4.427 7.427 3.396 3.396a.25.25 0 0 0 .354 0l3.396-3.396A.25.25 0 0 0 11.396 7H4.604a.25.25 0 0 0-.177.427Z"></path>
</svg></span>
  </span>
</button><tool-tip id="tooltip-6db304ed-c68a-410d-ab83-6ba371e032d6" for="global-create-menu-anchor" popover="manual" data-direction="s" data-type="description" data-view-component="true" class="sr-only position-absolute">Create new...</tool-tip>

      <template data-target="react-partial-anchor.template">
        








<script crossorigin="anonymous" defer="defer" type="application/javascript" src="https://github.githubassets.com/assets/vendors-node_modules_primer_react_lib-esm_Heading_Heading_js-node_modules_primer_react_lib-es-fb1d41-3656792e8019.js"></script>

<script crossorigin="anonymous" defer="defer" type="application/javascript" src="https://github.githubassets.com/assets/ui_packages_react-core_register-partial_ts-ui_packages_global-create-menu_GlobalCreateMenu_tsx-d903ed65506a.js"></script>
<script crossorigin="anonymous" defer="defer" type="application/javascript" src="https://github.githubassets.com/assets/global-create-menu-13d11aff58d2.js"></script>

<react-partial
  partial-name="global-create-menu"
  data-ssr="false"
>
  
  <script type="application/json" data-target="react-partial.embeddedData">{"props":{"createRepo":true,"importRepo":true,"codespaces":true,"gist":true,"createOrg":true,"createProject":false,"createProjectUrl":"/ragyaverma?tab=projects","createLegacyProject":false,"createIssue":false,"org":null,"owner":"CoroaPT","repo":"FinalAssignment"}}</script>
  <div data-target="react-partial.reactRoot"></div>
</react-partial>

      </template>
    </react-partial-anchor>


          <a href="/issues" data-analytics-event="{&quot;category&quot;:&quot;Global navigation&quot;,&quot;action&quot;:&quot;ISSUES_HEADER&quot;,&quot;label&quot;:null}" id="icon-button-ed534f41-1baf-47a6-8c19-45187fcc9c2a" aria-labelledby="tooltip-9d81ee8d-d5d7-4084-9fed-4b588796c581" data-view-component="true" class="Button Button--iconOnly Button--secondary Button--medium AppHeader-button color-fg-muted">  <svg aria-hidden="true" height="16" viewBox="0 0 16 16" version="1.1" width="16" data-view-component="true" class="octicon octicon-issue-opened Button-visual">
    <path d="M8 9.5a1.5 1.5 0 1 0 0-3 1.5 1.5 0 0 0 0 3Z"></path><path d="M8 0a8 8 0 1 1 0 16A8 8 0 0 1 8 0ZM1.5 8a6.5 6.5 0 1 0 13 0 6.5 6.5 0 0 0-13 0Z"></path>
</svg>
</a><tool-tip id="tooltip-9d81ee8d-d5d7-4084-9fed-4b588796c581" for="icon-button-ed534f41-1baf-47a6-8c19-45187fcc9c2a" popover="manual" data-direction="s" data-type="label" data-view-component="true" class="sr-only position-absolute">Issues</tool-tip>

          <a href="/pulls" data-analytics-event="{&quot;category&quot;:&quot;Global navigation&quot;,&quot;action&quot;:&quot;PULL_REQUESTS_HEADER&quot;,&quot;label&quot;:null}" id="icon-button-c85a89da-451c-4aaa-a72a-f88528d617d3" aria-labelledby="tooltip-a323cc51-b93b-4935-8335-e127ccff63d0" data-view-component="true" class="Button Button--iconOnly Button--secondary Button--medium AppHeader-button color-fg-muted">  <svg aria-hidden="true" height="16" viewBox="0 0 16 16" version="1.1" width="16" data-view-component="true" class="octicon octicon-git-pull-request Button-visual">
    <path d="M1.5 3.25a2.25 2.25 0 1 1 3 2.122v5.256a2.251 2.251 0 1 1-1.5 0V5.372A2.25 2.25 0 0 1 1.5 3.25Zm5.677-.177L9.573.677A.25.25 0 0 1 10 .854V2.5h1A2.5 2.5 0 0 1 13.5 5v5.628a2.251 2.251 0 1 1-1.5 0V5a1 1 0 0 0-1-1h-1v1.646a.25.25 0 0 1-.427.177L7.177 3.427a.25.25 0 0 1 0-.354ZM3.75 2.5a.75.75 0 1 0 0 1.5.75.75 0 0 0 0-1.5Zm0 9.5a.75.75 0 1 0 0 1.5.75.75 0 0 0 0-1.5Zm8.25.75a.75.75 0 1 0 1.5 0 .75.75 0 0 0-1.5 0Z"></path>
</svg>
</a><tool-tip id="tooltip-a323cc51-b93b-4935-8335-e127ccff63d0" for="icon-button-c85a89da-451c-4aaa-a72a-f88528d617d3" popover="manual" data-direction="s" data-type="label" data-view-component="true" class="sr-only position-absolute">Pull requests</tool-tip>

        </div>

        <notification-indicator data-channel="eyJjIjoibm90aWZpY2F0aW9uLWNoYW5nZWQ6Njg3MDMwMzIiLCJ0IjoxNzE5MDAyOTY5fQ==--fd5e16223d0748b786b8fa4fa2b1e7c626a0b04f783ad35f09beb89c48dcfa7a" data-indicator-mode="none" data-tooltip-global="You have unread notifications" data-tooltip-unavailable="Notifications are unavailable at the moment." data-tooltip-none="You have no unread notifications" data-header-redesign-enabled="true" data-fetch-indicator-src="/notifications/indicator" data-fetch-indicator-enabled="true" data-view-component="true" class="js-socket-channel">
    <a id="AppHeader-notifications-button" href="/notifications" aria-labelledby="notification-indicator-tooltip" data-hotkey="g n" data-target="notification-indicator.link" data-analytics-event="{&quot;category&quot;:&quot;Global navigation&quot;,&quot;action&quot;:&quot;NOTIFICATIONS_HEADER&quot;,&quot;label&quot;:null}" data-view-component="true" class="Button Button--iconOnly Button--secondary Button--medium AppHeader-button  color-fg-muted">  <svg aria-hidden="true" height="16" viewBox="0 0 16 16" version="1.1" width="16" data-view-component="true" class="octicon octicon-inbox Button-visual">
    <path d="M2.8 2.06A1.75 1.75 0 0 1 4.41 1h7.18c.7 0 1.333.417 1.61 1.06l2.74 6.395c.04.093.06.194.06.295v4.5A1.75 1.75 0 0 1 14.25 15H1.75A1.75 1.75 0 0 1 0 13.25v-4.5c0-.101.02-.202.06-.295Zm1.61.44a.25.25 0 0 0-.23.152L1.887 8H4.75a.75.75 0 0 1 .6.3L6.625 10h2.75l1.275-1.7a.75.75 0 0 1 .6-.3h2.863L11.82 2.652a.25.25 0 0 0-.23-.152Zm10.09 7h-2.875l-1.275 1.7a.75.75 0 0 1-.6.3h-3.5a.75.75 0 0 1-.6-.3L4.375 9.5H1.5v3.75c0 .138.112.25.25.25h12.5a.25.25 0 0 0 .25-.25Z"></path>
</svg>
</a>

    <tool-tip id="notification-indicator-tooltip" data-target="notification-indicator.tooltip" for="AppHeader-notifications-button" popover="manual" data-direction="s" data-type="label" data-view-component="true" class="sr-only position-absolute">Notifications</tool-tip>
</notification-indicator>

        

        <div class="AppHeader-user">
          <deferred-side-panel data-url="/_side-panels/user?react_global_nav=true&amp;repository_id=691261244">
  <include-fragment data-target="deferred-side-panel.fragment">
      <react-partial-anchor>
    <button data-target="react-partial-anchor.anchor" data-login="ragyaverma" aria-label="Open user navigation menu" type="button" data-view-component="true" class="cursor-wait Button--invisible Button--medium Button Button--invisible-noVisuals color-bg-transparent p-0">  <span class="Button-content">
    <span class="Button-label"><img src="https://avatars.githubusercontent.com/u/68703032?v=4" alt="" size="32" height="32" width="32" data-view-component="true" class="avatar circle" /></span>
  </span>
</button>
    <template data-target="react-partial-anchor.template">
      











<script crossorigin="anonymous" defer="defer" type="application/javascript" src="https://github.githubassets.com/assets/global-user-nav-drawer-3e08af761d17.js"></script>
<link crossorigin="anonymous" media="all" rel="stylesheet" href="https://github.githubassets.com/assets/global-user-nav-drawer.c80e6513685ad96a3f54.module.css" />

<react-partial
  partial-name="global-user-nav-drawer"
  data-ssr="false"
>
  
  <script type="application/json" data-target="react-partial.embeddedData">{"props":{"owner":{"login":"ragyaverma","name":null,"avatarUrl":"https://avatars.githubusercontent.com/u/68703032?v=4"},"drawerId":"global-user-nav-drawer","lazyLoadItemDataFetchUrl":"/_side-panels/user.json","addAccountPath":"/login?add_account=1\u0026return_to=https%3A%2F%2Fgithub.com%2FCoroaPT%2FFinalAssignment%2Fblob%2Fmain%2F8.%2520Spacex-machine-learning-prediction-api.ipynb","switchAccountPath":"/switch_account","loginAccountPath":"/login?add_account=1","projectsPath":"/ragyaverma?tab=projects","gistsUrl":"https://gist.github.com/mine","docsUrl":"https://docs.github.com","yourEnterpriseUrl":null,"enterpriseSettingsUrl":null,"supportUrl":"https://support.github.com","showAccountSwitcher":true,"showEnterprises":true,"showEnterprise":false,"showGists":true,"showSponsors":true,"showFeaturesPreviews":true,"showEnterpriseSettings":false,"createMenuProps":{"createRepo":true,"importRepo":true,"codespaces":true,"gist":true,"createOrg":true,"createProject":false,"createProjectUrl":"/ragyaverma?tab=projects","createLegacyProject":false,"createIssue":false,"org":null,"owner":"CoroaPT","repo":"FinalAssignment"}}}</script>
  <div data-target="react-partial.reactRoot"></div>
</react-partial>

    </template>
  </react-partial-anchor>

  </include-fragment>
</deferred-side-panel>
        </div>

        <div class="position-absolute mt-2">
            
<site-header-logged-in-user-menu>

</site-header-logged-in-user-menu>

        </div>
      </div>
    </div>


      <div class="AppHeader-localBar" >
        <nav data-pjax="#js-repo-pjax-container" aria-label="Repository" data-view-component="true" class="js-repo-nav js-sidenav-container-pjax js-responsive-underlinenav overflow-hidden UnderlineNav">

  <ul data-view-component="true" class="UnderlineNav-body list-style-none">
      <li data-view-component="true" class="d-inline-flex">
  <a id="code-tab" href="/CoroaPT/FinalAssignment" data-tab-item="i0code-tab" data-selected-links="repo_source repo_downloads repo_commits repo_releases repo_tags repo_branches repo_packages repo_deployments repo_attestations /CoroaPT/FinalAssignment" data-pjax="#repo-content-pjax-container" data-turbo-frame="repo-content-turbo-frame" data-hotkey="g c" data-analytics-event="{&quot;category&quot;:&quot;Underline navbar&quot;,&quot;action&quot;:&quot;Click tab&quot;,&quot;label&quot;:&quot;Code&quot;,&quot;target&quot;:&quot;UNDERLINE_NAV.TAB&quot;}" data-view-component="true" class="UnderlineNav-item no-wrap js-responsive-underlinenav-item js-selected-navigation-item">
    
              <svg aria-hidden="true" height="16" viewBox="0 0 16 16" version="1.1" width="16" data-view-component="true" class="octicon octicon-code UnderlineNav-octicon d-none d-sm-inline">
    <path d="m11.28 3.22 4.25 4.25a.75.75 0 0 1 0 1.06l-4.25 4.25a.749.749 0 0 1-1.275-.326.749.749 0 0 1 .215-.734L13.94 8l-3.72-3.72a.749.749 0 0 1 .326-1.275.749.749 0 0 1 .734.215Zm-6.56 0a.751.751 0 0 1 1.042.018.751.751 0 0 1 .018 1.042L2.06 8l3.72 3.72a.749.749 0 0 1-.326 1.275.749.749 0 0 1-.734-.215L.47 8.53a.75.75 0 0 1 0-1.06Z"></path>
</svg>
        <span data-content="Code">Code</span>
          <span id="code-repo-tab-count" data-pjax-replace="" data-turbo-replace="" title="Not available" data-view-component="true" class="Counter"></span>


    
</a></li>
      <li data-view-component="true" class="d-inline-flex">
  <a id="issues-tab" href="/CoroaPT/FinalAssignment/issues" data-tab-item="i1issues-tab" data-selected-links="repo_issues repo_labels repo_milestones /CoroaPT/FinalAssignment/issues /_view_fragments/issues/index/CoroaPT/FinalAssignment/layout" data-pjax="#repo-content-pjax-container" data-turbo-frame="repo-content-turbo-frame" data-hotkey="g i" data-analytics-event="{&quot;category&quot;:&quot;Underline navbar&quot;,&quot;action&quot;:&quot;Click tab&quot;,&quot;label&quot;:&quot;Issues&quot;,&quot;target&quot;:&quot;UNDERLINE_NAV.TAB&quot;}" data-view-component="true" class="UnderlineNav-item no-wrap js-responsive-underlinenav-item js-selected-navigation-item">
    
              <svg aria-hidden="true" height="16" viewBox="0 0 16 16" version="1.1" width="16" data-view-component="true" class="octicon octicon-issue-opened UnderlineNav-octicon d-none d-sm-inline">
    <path d="M8 9.5a1.5 1.5 0 1 0 0-3 1.5 1.5 0 0 0 0 3Z"></path><path d="M8 0a8 8 0 1 1 0 16A8 8 0 0 1 8 0ZM1.5 8a6.5 6.5 0 1 0 13 0 6.5 6.5 0 0 0-13 0Z"></path>
</svg>
        <span data-content="Issues">Issues</span>
          <span id="issues-repo-tab-count" data-pjax-replace="" data-turbo-replace="" title="0" hidden="hidden" data-view-component="true" class="Counter">0</span>


    
</a></li>
      <li data-view-component="true" class="d-inline-flex">
  <a id="pull-requests-tab" href="/CoroaPT/FinalAssignment/pulls" data-tab-item="i2pull-requests-tab" data-selected-links="repo_pulls checks /CoroaPT/FinalAssignment/pulls" data-pjax="#repo-content-pjax-container" data-turbo-frame="repo-content-turbo-frame" data-hotkey="g p" data-analytics-event="{&quot;category&quot;:&quot;Underline navbar&quot;,&quot;action&quot;:&quot;Click tab&quot;,&quot;label&quot;:&quot;Pull requests&quot;,&quot;target&quot;:&quot;UNDERLINE_NAV.TAB&quot;}" data-view-component="true" class="UnderlineNav-item no-wrap js-responsive-underlinenav-item js-selected-navigation-item">
    
              <svg aria-hidden="true" height="16" viewBox="0 0 16 16" version="1.1" width="16" data-view-component="true" class="octicon octicon-git-pull-request UnderlineNav-octicon d-none d-sm-inline">
    <path d="M1.5 3.25a2.25 2.25 0 1 1 3 2.122v5.256a2.251 2.251 0 1 1-1.5 0V5.372A2.25 2.25 0 0 1 1.5 3.25Zm5.677-.177L9.573.677A.25.25 0 0 1 10 .854V2.5h1A2.5 2.5 0 0 1 13.5 5v5.628a2.251 2.251 0 1 1-1.5 0V5a1 1 0 0 0-1-1h-1v1.646a.25.25 0 0 1-.427.177L7.177 3.427a.25.25 0 0 1 0-.354ZM3.75 2.5a.75.75 0 1 0 0 1.5.75.75 0 0 0 0-1.5Zm0 9.5a.75.75 0 1 0 0 1.5.75.75 0 0 0 0-1.5Zm8.25.75a.75.75 0 1 0 1.5 0 .75.75 0 0 0-1.5 0Z"></path>
</svg>
        <span data-content="Pull requests">Pull requests</span>
          <span id="pull-requests-repo-tab-count" data-pjax-replace="" data-turbo-replace="" title="0" hidden="hidden" data-view-component="true" class="Counter">0</span>


    
</a></li>
      <li data-view-component="true" class="d-inline-flex">
  <a id="actions-tab" href="/CoroaPT/FinalAssignment/actions" data-tab-item="i3actions-tab" data-selected-links="repo_actions /CoroaPT/FinalAssignment/actions" data-pjax="#repo-content-pjax-container" data-turbo-frame="repo-content-turbo-frame" data-hotkey="g a" data-analytics-event="{&quot;category&quot;:&quot;Underline navbar&quot;,&quot;action&quot;:&quot;Click tab&quot;,&quot;label&quot;:&quot;Actions&quot;,&quot;target&quot;:&quot;UNDERLINE_NAV.TAB&quot;}" data-view-component="true" class="UnderlineNav-item no-wrap js-responsive-underlinenav-item js-selected-navigation-item">
    
              <svg aria-hidden="true" height="16" viewBox="0 0 16 16" version="1.1" width="16" data-view-component="true" class="octicon octicon-play UnderlineNav-octicon d-none d-sm-inline">
    <path d="M8 0a8 8 0 1 1 0 16A8 8 0 0 1 8 0ZM1.5 8a6.5 6.5 0 1 0 13 0 6.5 6.5 0 0 0-13 0Zm4.879-2.773 4.264 2.559a.25.25 0 0 1 0 .428l-4.264 2.559A.25.25 0 0 1 6 10.559V5.442a.25.25 0 0 1 .379-.215Z"></path>
</svg>
        <span data-content="Actions">Actions</span>
          <span id="actions-repo-tab-count" data-pjax-replace="" data-turbo-replace="" title="Not available" data-view-component="true" class="Counter"></span>


    
</a></li>
      <li data-view-component="true" class="d-inline-flex">
  <a id="projects-tab" href="/CoroaPT/FinalAssignment/projects" data-tab-item="i4projects-tab" data-selected-links="repo_projects new_repo_project repo_project /CoroaPT/FinalAssignment/projects" data-pjax="#repo-content-pjax-container" data-turbo-frame="repo-content-turbo-frame" data-hotkey="g b" data-analytics-event="{&quot;category&quot;:&quot;Underline navbar&quot;,&quot;action&quot;:&quot;Click tab&quot;,&quot;label&quot;:&quot;Projects&quot;,&quot;target&quot;:&quot;UNDERLINE_NAV.TAB&quot;}" data-view-component="true" class="UnderlineNav-item no-wrap js-responsive-underlinenav-item js-selected-navigation-item">
    
              <svg aria-hidden="true" height="16" viewBox="0 0 16 16" version="1.1" width="16" data-view-component="true" class="octicon octicon-table UnderlineNav-octicon d-none d-sm-inline">
    <path d="M0 1.75C0 .784.784 0 1.75 0h12.5C15.216 0 16 .784 16 1.75v12.5A1.75 1.75 0 0 1 14.25 16H1.75A1.75 1.75 0 0 1 0 14.25ZM6.5 6.5v8h7.75a.25.25 0 0 0 .25-.25V6.5Zm8-1.5V1.75a.25.25 0 0 0-.25-.25H6.5V5Zm-13 1.5v7.75c0 .138.112.25.25.25H5v-8ZM5 5V1.5H1.75a.25.25 0 0 0-.25.25V5Z"></path>
</svg>
        <span data-content="Projects">Projects</span>
          <span id="projects-repo-tab-count" data-pjax-replace="" data-turbo-replace="" title="0" hidden="hidden" data-view-component="true" class="Counter">0</span>


    
</a></li>
      <li data-view-component="true" class="d-inline-flex">
  <a id="security-tab" href="/CoroaPT/FinalAssignment/security" data-tab-item="i5security-tab" data-selected-links="security overview alerts policy token_scanning code_scanning /CoroaPT/FinalAssignment/security" data-pjax="#repo-content-pjax-container" data-turbo-frame="repo-content-turbo-frame" data-hotkey="g s" data-analytics-event="{&quot;category&quot;:&quot;Underline navbar&quot;,&quot;action&quot;:&quot;Click tab&quot;,&quot;label&quot;:&quot;Security&quot;,&quot;target&quot;:&quot;UNDERLINE_NAV.TAB&quot;}" data-view-component="true" class="UnderlineNav-item no-wrap js-responsive-underlinenav-item js-selected-navigation-item">
    
              <svg aria-hidden="true" height="16" viewBox="0 0 16 16" version="1.1" width="16" data-view-component="true" class="octicon octicon-shield UnderlineNav-octicon d-none d-sm-inline">
    <path d="M7.467.133a1.748 1.748 0 0 1 1.066 0l5.25 1.68A1.75 1.75 0 0 1 15 3.48V7c0 1.566-.32 3.182-1.303 4.682-.983 1.498-2.585 2.813-5.032 3.855a1.697 1.697 0 0 1-1.33 0c-2.447-1.042-4.049-2.357-5.032-3.855C1.32 10.182 1 8.566 1 7V3.48a1.75 1.75 0 0 1 1.217-1.667Zm.61 1.429a.25.25 0 0 0-.153 0l-5.25 1.68a.25.25 0 0 0-.174.238V7c0 1.358.275 2.666 1.057 3.86.784 1.194 2.121 2.34 4.366 3.297a.196.196 0 0 0 .154 0c2.245-.956 3.582-2.104 4.366-3.298C13.225 9.666 13.5 8.36 13.5 7V3.48a.251.251 0 0 0-.174-.237l-5.25-1.68ZM8.75 4.75v3a.75.75 0 0 1-1.5 0v-3a.75.75 0 0 1 1.5 0ZM9 10.5a1 1 0 1 1-2 0 1 1 0 0 1 2 0Z"></path>
</svg>
        <span data-content="Security">Security</span>
          <include-fragment src="/CoroaPT/FinalAssignment/security/overall-count" accept="text/fragment+html"></include-fragment>

    
</a></li>
      <li data-view-component="true" class="d-inline-flex">
  <a id="insights-tab" href="/CoroaPT/FinalAssignment/pulse" data-tab-item="i6insights-tab" data-selected-links="repo_graphs repo_contributors dependency_graph dependabot_updates pulse people community /CoroaPT/FinalAssignment/pulse" data-pjax="#repo-content-pjax-container" data-turbo-frame="repo-content-turbo-frame" data-analytics-event="{&quot;category&quot;:&quot;Underline navbar&quot;,&quot;action&quot;:&quot;Click tab&quot;,&quot;label&quot;:&quot;Insights&quot;,&quot;target&quot;:&quot;UNDERLINE_NAV.TAB&quot;}" data-view-component="true" class="UnderlineNav-item no-wrap js-responsive-underlinenav-item js-selected-navigation-item">
    
              <svg aria-hidden="true" height="16" viewBox="0 0 16 16" version="1.1" width="16" data-view-component="true" class="octicon octicon-graph UnderlineNav-octicon d-none d-sm-inline">
    <path d="M1.5 1.75V13.5h13.75a.75.75 0 0 1 0 1.5H.75a.75.75 0 0 1-.75-.75V1.75a.75.75 0 0 1 1.5 0Zm14.28 2.53-5.25 5.25a.75.75 0 0 1-1.06 0L7 7.06 4.28 9.78a.751.751 0 0 1-1.042-.018.751.751 0 0 1-.018-1.042l3.25-3.25a.75.75 0 0 1 1.06 0L10 7.94l4.72-4.72a.751.751 0 0 1 1.042.018.751.751 0 0 1 .018 1.042Z"></path>
</svg>
        <span data-content="Insights">Insights</span>
          <span id="insights-repo-tab-count" data-pjax-replace="" data-turbo-replace="" title="Not available" data-view-component="true" class="Counter"></span>


    
</a></li>
</ul>
    <div style="visibility:hidden;" data-view-component="true" class="UnderlineNav-actions js-responsive-underlinenav-overflow position-absolute pr-3 pr-md-4 pr-lg-5 right-0">      <action-menu data-select-variant="none" data-view-component="true">
  <focus-group direction="vertical" mnemonics retain>
    <button id="action-menu-c73b2866-7b96-4eed-bfa3-34ecf1ba8fe6-button" popovertarget="action-menu-c73b2866-7b96-4eed-bfa3-34ecf1ba8fe6-overlay" aria-controls="action-menu-c73b2866-7b96-4eed-bfa3-34ecf1ba8fe6-list" aria-haspopup="true" aria-labelledby="tooltip-5338c33d-2783-4470-86ff-7172332a46d3" type="button" data-view-component="true" class="Button Button--iconOnly Button--secondary Button--medium UnderlineNav-item">  <svg aria-hidden="true" height="16" viewBox="0 0 16 16" version="1.1" width="16" data-view-component="true" class="octicon octicon-kebab-horizontal Button-visual">
    <path d="M8 9a1.5 1.5 0 1 0 0-3 1.5 1.5 0 0 0 0 3ZM1.5 9a1.5 1.5 0 1 0 0-3 1.5 1.5 0 0 0 0 3Zm13 0a1.5 1.5 0 1 0 0-3 1.5 1.5 0 0 0 0 3Z"></path>
</svg>
</button><tool-tip id="tooltip-5338c33d-2783-4470-86ff-7172332a46d3" for="action-menu-c73b2866-7b96-4eed-bfa3-34ecf1ba8fe6-button" popover="manual" data-direction="s" data-type="label" data-view-component="true" class="sr-only position-absolute">Additional navigation options</tool-tip>


<anchored-position id="action-menu-c73b2866-7b96-4eed-bfa3-34ecf1ba8fe6-overlay" anchor="action-menu-c73b2866-7b96-4eed-bfa3-34ecf1ba8fe6-button" align="start" side="outside-bottom" anchor-offset="normal" popover="auto" data-view-component="true">
  <div data-view-component="true" class="Overlay Overlay--size-auto">
    
      <div data-view-component="true" class="Overlay-body Overlay-body--paddingNone">          <action-list>
  <div data-view-component="true">
    <ul aria-labelledby="action-menu-c73b2866-7b96-4eed-bfa3-34ecf1ba8fe6-button" id="action-menu-c73b2866-7b96-4eed-bfa3-34ecf1ba8fe6-list" role="menu" data-view-component="true" class="ActionListWrap--inset ActionListWrap">
        <li hidden="hidden" data-menu-item="i0code-tab" data-targets="action-list.items" role="none" data-view-component="true" class="ActionListItem">
    
    
    <a tabindex="-1" id="item-139a7709-a123-405c-a85a-38e3f3707621" href="/CoroaPT/FinalAssignment" role="menuitem" data-view-component="true" class="ActionListContent ActionListContent--visual16">
        <span class="ActionListItem-visual ActionListItem-visual--leading">
          <svg aria-hidden="true" height="16" viewBox="0 0 16 16" version="1.1" width="16" data-view-component="true" class="octicon octicon-code">
    <path d="m11.28 3.22 4.25 4.25a.75.75 0 0 1 0 1.06l-4.25 4.25a.749.749 0 0 1-1.275-.326.749.749 0 0 1 .215-.734L13.94 8l-3.72-3.72a.749.749 0 0 1 .326-1.275.749.749 0 0 1 .734.215Zm-6.56 0a.751.751 0 0 1 1.042.018.751.751 0 0 1 .018 1.042L2.06 8l3.72 3.72a.749.749 0 0 1-.326 1.275.749.749 0 0 1-.734-.215L.47 8.53a.75.75 0 0 1 0-1.06Z"></path>
</svg>
        </span>
      
        <span data-view-component="true" class="ActionListItem-label">
          Code
</span></a>
  
</li>
        <li hidden="hidden" data-menu-item="i1issues-tab" data-targets="action-list.items" role="none" data-view-component="true" class="ActionListItem">
    
    
    <a tabindex="-1" id="item-8c88fb66-501d-4b84-a415-893af6a91d00" href="/CoroaPT/FinalAssignment/issues" role="menuitem" data-view-component="true" class="ActionListContent ActionListContent--visual16">
        <span class="ActionListItem-visual ActionListItem-visual--leading">
          <svg aria-hidden="true" height="16" viewBox="0 0 16 16" version="1.1" width="16" data-view-component="true" class="octicon octicon-issue-opened">
    <path d="M8 9.5a1.5 1.5 0 1 0 0-3 1.5 1.5 0 0 0 0 3Z"></path><path d="M8 0a8 8 0 1 1 0 16A8 8 0 0 1 8 0ZM1.5 8a6.5 6.5 0 1 0 13 0 6.5 6.5 0 0 0-13 0Z"></path>
</svg>
        </span>
      
        <span data-view-component="true" class="ActionListItem-label">
          Issues
</span></a>
  
</li>
        <li hidden="hidden" data-menu-item="i2pull-requests-tab" data-targets="action-list.items" role="none" data-view-component="true" class="ActionListItem">
    
    
    <a tabindex="-1" id="item-a68fb851-d1cb-44f5-95b5-69bc708c1561" href="/CoroaPT/FinalAssignment/pulls" role="menuitem" data-view-component="true" class="ActionListContent ActionListContent--visual16">
        <span class="ActionListItem-visual ActionListItem-visual--leading">
          <svg aria-hidden="true" height="16" viewBox="0 0 16 16" version="1.1" width="16" data-view-component="true" class="octicon octicon-git-pull-request">
    <path d="M1.5 3.25a2.25 2.25 0 1 1 3 2.122v5.256a2.251 2.251 0 1 1-1.5 0V5.372A2.25 2.25 0 0 1 1.5 3.25Zm5.677-.177L9.573.677A.25.25 0 0 1 10 .854V2.5h1A2.5 2.5 0 0 1 13.5 5v5.628a2.251 2.251 0 1 1-1.5 0V5a1 1 0 0 0-1-1h-1v1.646a.25.25 0 0 1-.427.177L7.177 3.427a.25.25 0 0 1 0-.354ZM3.75 2.5a.75.75 0 1 0 0 1.5.75.75 0 0 0 0-1.5Zm0 9.5a.75.75 0 1 0 0 1.5.75.75 0 0 0 0-1.5Zm8.25.75a.75.75 0 1 0 1.5 0 .75.75 0 0 0-1.5 0Z"></path>
</svg>
        </span>
      
        <span data-view-component="true" class="ActionListItem-label">
          Pull requests
</span></a>
  
</li>
        <li hidden="hidden" data-menu-item="i3actions-tab" data-targets="action-list.items" role="none" data-view-component="true" class="ActionListItem">
    
    
    <a tabindex="-1" id="item-0b4dd80b-2519-490f-8f91-38242eed1c89" href="/CoroaPT/FinalAssignment/actions" role="menuitem" data-view-component="true" class="ActionListContent ActionListContent--visual16">
        <span class="ActionListItem-visual ActionListItem-visual--leading">
          <svg aria-hidden="true" height="16" viewBox="0 0 16 16" version="1.1" width="16" data-view-component="true" class="octicon octicon-play">
    <path d="M8 0a8 8 0 1 1 0 16A8 8 0 0 1 8 0ZM1.5 8a6.5 6.5 0 1 0 13 0 6.5 6.5 0 0 0-13 0Zm4.879-2.773 4.264 2.559a.25.25 0 0 1 0 .428l-4.264 2.559A.25.25 0 0 1 6 10.559V5.442a.25.25 0 0 1 .379-.215Z"></path>
</svg>
        </span>
      
        <span data-view-component="true" class="ActionListItem-label">
          Actions
</span></a>
  
</li>
        <li hidden="hidden" data-menu-item="i4projects-tab" data-targets="action-list.items" role="none" data-view-component="true" class="ActionListItem">
    
    
    <a tabindex="-1" id="item-1a5daddf-61d3-4436-a59b-7489426104e2" href="/CoroaPT/FinalAssignment/projects" role="menuitem" data-view-component="true" class="ActionListContent ActionListContent--visual16">
        <span class="ActionListItem-visual ActionListItem-visual--leading">
          <svg aria-hidden="true" height="16" viewBox="0 0 16 16" version="1.1" width="16" data-view-component="true" class="octicon octicon-table">
    <path d="M0 1.75C0 .784.784 0 1.75 0h12.5C15.216 0 16 .784 16 1.75v12.5A1.75 1.75 0 0 1 14.25 16H1.75A1.75 1.75 0 0 1 0 14.25ZM6.5 6.5v8h7.75a.25.25 0 0 0 .25-.25V6.5Zm8-1.5V1.75a.25.25 0 0 0-.25-.25H6.5V5Zm-13 1.5v7.75c0 .138.112.25.25.25H5v-8ZM5 5V1.5H1.75a.25.25 0 0 0-.25.25V5Z"></path>
</svg>
        </span>
      
        <span data-view-component="true" class="ActionListItem-label">
          Projects
</span></a>
  
</li>
        <li hidden="hidden" data-menu-item="i5security-tab" data-targets="action-list.items" role="none" data-view-component="true" class="ActionListItem">
    
    
    <a tabindex="-1" id="item-4da50841-22dd-48ad-b523-65474e7ac90b" href="/CoroaPT/FinalAssignment/security" role="menuitem" data-view-component="true" class="ActionListContent ActionListContent--visual16">
        <span class="ActionListItem-visual ActionListItem-visual--leading">
          <svg aria-hidden="true" height="16" viewBox="0 0 16 16" version="1.1" width="16" data-view-component="true" class="octicon octicon-shield">
    <path d="M7.467.133a1.748 1.748 0 0 1 1.066 0l5.25 1.68A1.75 1.75 0 0 1 15 3.48V7c0 1.566-.32 3.182-1.303 4.682-.983 1.498-2.585 2.813-5.032 3.855a1.697 1.697 0 0 1-1.33 0c-2.447-1.042-4.049-2.357-5.032-3.855C1.32 10.182 1 8.566 1 7V3.48a1.75 1.75 0 0 1 1.217-1.667Zm.61 1.429a.25.25 0 0 0-.153 0l-5.25 1.68a.25.25 0 0 0-.174.238V7c0 1.358.275 2.666 1.057 3.86.784 1.194 2.121 2.34 4.366 3.297a.196.196 0 0 0 .154 0c2.245-.956 3.582-2.104 4.366-3.298C13.225 9.666 13.5 8.36 13.5 7V3.48a.251.251 0 0 0-.174-.237l-5.25-1.68ZM8.75 4.75v3a.75.75 0 0 1-1.5 0v-3a.75.75 0 0 1 1.5 0ZM9 10.5a1 1 0 1 1-2 0 1 1 0 0 1 2 0Z"></path>
</svg>
        </span>
      
        <span data-view-component="true" class="ActionListItem-label">
          Security
</span></a>
  
</li>
        <li hidden="hidden" data-menu-item="i6insights-tab" data-targets="action-list.items" role="none" data-view-component="true" class="ActionListItem">
    
    
    <a tabindex="-1" id="item-60124b92-16cf-4efe-92b5-6098ce01079a" href="/CoroaPT/FinalAssignment/pulse" role="menuitem" data-view-component="true" class="ActionListContent ActionListContent--visual16">
        <span class="ActionListItem-visual ActionListItem-visual--leading">
          <svg aria-hidden="true" height="16" viewBox="0 0 16 16" version="1.1" width="16" data-view-component="true" class="octicon octicon-graph">
    <path d="M1.5 1.75V13.5h13.75a.75.75 0 0 1 0 1.5H.75a.75.75 0 0 1-.75-.75V1.75a.75.75 0 0 1 1.5 0Zm14.28 2.53-5.25 5.25a.75.75 0 0 1-1.06 0L7 7.06 4.28 9.78a.751.751 0 0 1-1.042-.018.751.751 0 0 1-.018-1.042l3.25-3.25a.75.75 0 0 1 1.06 0L10 7.94l4.72-4.72a.751.751 0 0 1 1.042.018.751.751 0 0 1 .018 1.042Z"></path>
</svg>
        </span>
      
        <span data-view-component="true" class="ActionListItem-label">
          Insights
</span></a>
  
</li>
</ul>    
</div></action-list>


</div>
      
</div></anchored-position>  </focus-group>
</action-menu></div>
</nav>
      </div>
</header>


      <div hidden="hidden" data-view-component="true" class="js-stale-session-flash stale-session-flash flash flash-warn flash-full mb-3">
  
        <svg aria-hidden="true" height="16" viewBox="0 0 16 16" version="1.1" width="16" data-view-component="true" class="octicon octicon-alert">
    <path d="M6.457 1.047c.659-1.234 2.427-1.234 3.086 0l6.082 11.378A1.75 1.75 0 0 1 14.082 15H1.918a1.75 1.75 0 0 1-1.543-2.575Zm1.763.707a.25.25 0 0 0-.44 0L1.698 13.132a.25.25 0 0 0 .22.368h12.164a.25.25 0 0 0 .22-.368Zm.53 3.996v2.5a.75.75 0 0 1-1.5 0v-2.5a.75.75 0 0 1 1.5 0ZM9 11a1 1 0 1 1-2 0 1 1 0 0 1 2 0Z"></path>
</svg>
        <span class="js-stale-session-flash-signed-in" hidden>You signed in with another tab or window. <a class="Link--inTextBlock" href="">Reload</a> to refresh your session.</span>
        <span class="js-stale-session-flash-signed-out" hidden>You signed out in another tab or window. <a class="Link--inTextBlock" href="">Reload</a> to refresh your session.</span>
        <span class="js-stale-session-flash-switched" hidden>You switched accounts on another tab or window. <a class="Link--inTextBlock" href="">Reload</a> to refresh your session.</span>

    <button id="icon-button-41eaee80-e139-4b7a-81e6-3d34af4965f5" aria-labelledby="tooltip-78c10874-bf89-4016-ac61-dd332569b6dc" type="button" data-view-component="true" class="Button Button--iconOnly Button--invisible Button--medium flash-close js-flash-close">  <svg aria-hidden="true" height="16" viewBox="0 0 16 16" version="1.1" width="16" data-view-component="true" class="octicon octicon-x Button-visual">
    <path d="M3.72 3.72a.75.75 0 0 1 1.06 0L8 6.94l3.22-3.22a.749.749 0 0 1 1.275.326.749.749 0 0 1-.215.734L9.06 8l3.22 3.22a.749.749 0 0 1-.326 1.275.749.749 0 0 1-.734-.215L8 9.06l-3.22 3.22a.751.751 0 0 1-1.042-.018.751.751 0 0 1-.018-1.042L6.94 8 3.72 4.78a.75.75 0 0 1 0-1.06Z"></path>
</svg>
</button><tool-tip id="tooltip-78c10874-bf89-4016-ac61-dd332569b6dc" for="icon-button-41eaee80-e139-4b7a-81e6-3d34af4965f5" popover="manual" data-direction="s" data-type="label" data-view-component="true" class="sr-only position-absolute">Dismiss alert</tool-tip>


  
</div>
          
    </div>

  <div id="start-of-content" class="show-on-focus"></div>








    <div id="js-flash-container" class="flash-container" data-turbo-replace>





  <template class="js-flash-template">
    
<div class="flash flash-full   {{ className }}">
  <div >
    <button autofocus class="flash-close js-flash-close" type="button" aria-label="Dismiss this message">
      <svg aria-hidden="true" height="16" viewBox="0 0 16 16" version="1.1" width="16" data-view-component="true" class="octicon octicon-x">
    <path d="M3.72 3.72a.75.75 0 0 1 1.06 0L8 6.94l3.22-3.22a.749.749 0 0 1 1.275.326.749.749 0 0 1-.215.734L9.06 8l3.22 3.22a.749.749 0 0 1-.326 1.275.749.749 0 0 1-.734-.215L8 9.06l-3.22 3.22a.751.751 0 0 1-1.042-.018.751.751 0 0 1-.018-1.042L6.94 8 3.72 4.78a.75.75 0 0 1 0-1.06Z"></path>
</svg>
    </button>
    <div aria-atomic="true" role="alert" class="js-flash-alert">
      
      <div>{{ message }}</div>

    </div>
  </div>
</div>
  </template>
</div>


    
    <notification-shelf-watcher data-base-url="https://github.com/notifications/beta/shelf" data-channel="eyJjIjoibm90aWZpY2F0aW9uLWNoYW5nZWQ6Njg3MDMwMzIiLCJ0IjoxNzE5MDAyOTY5fQ==--fd5e16223d0748b786b8fa4fa2b1e7c626a0b04f783ad35f09beb89c48dcfa7a" data-view-component="true" class="js-socket-channel"></notification-shelf-watcher>
  <div hidden data-initial data-target="notification-shelf-watcher.placeholder"></div>





      <details
  class="details-reset details-overlay details-overlay-dark js-command-palette-dialog"
  id="command-palette-pjax-container"
  data-turbo-replace
>
  <summary aria-label="Command palette trigger" tabindex="-1"></summary>
  <details-dialog class="command-palette-details-dialog d-flex flex-column flex-justify-center height-fit" aria-label="Command palette">
    <command-palette
      class="command-palette color-bg-default rounded-3 border color-shadow-small"
      return-to=/CoroaPT/FinalAssignment/blob/main/8.%20Spacex-machine-learning-prediction-api.ipynb
      user-id="68703032"
      activation-hotkey="Mod+k,Mod+Alt+k"
      command-mode-hotkey="Mod+Shift+K"
      data-action="
        command-palette-input-ready:command-palette#inputReady
        command-palette-page-stack-updated:command-palette#updateInputScope
        itemsUpdated:command-palette#itemsUpdated
        keydown:command-palette#onKeydown
        loadingStateChanged:command-palette#loadingStateChanged
        selectedItemChanged:command-palette#selectedItemChanged
        pageFetchError:command-palette#pageFetchError
      ">

        <command-palette-mode
          data-char="#"
            data-scope-types="[&quot;&quot;]"
            data-placeholder="Search issues and pull requests"
        ></command-palette-mode>
        <command-palette-mode
          data-char="#"
            data-scope-types="[&quot;owner&quot;,&quot;repository&quot;]"
            data-placeholder="Search issues, pull requests, discussions, and projects"
        ></command-palette-mode>
        <command-palette-mode
          data-char="!"
            data-scope-types="[&quot;owner&quot;,&quot;repository&quot;]"
            data-placeholder="Search projects"
        ></command-palette-mode>
        <command-palette-mode
          data-char="@"
            data-scope-types="[&quot;&quot;]"
            data-placeholder="Search or jump to a user, organization, or repository"
        ></command-palette-mode>
        <command-palette-mode
          data-char="@"
            data-scope-types="[&quot;owner&quot;]"
            data-placeholder="Search or jump to a repository"
        ></command-palette-mode>
        <command-palette-mode
          data-char="/"
            data-scope-types="[&quot;repository&quot;]"
            data-placeholder="Search files"
        ></command-palette-mode>
        <command-palette-mode
          data-char="?"
        ></command-palette-mode>
        <command-palette-mode
          data-char="&gt;"
            data-placeholder="Run a command"
        ></command-palette-mode>
        <command-palette-mode
          data-char=""
            data-scope-types="[&quot;&quot;]"
            data-placeholder="Search or jump to..."
        ></command-palette-mode>
        <command-palette-mode
          data-char=""
            data-scope-types="[&quot;owner&quot;]"
            data-placeholder="Search or jump to..."
        ></command-palette-mode>
      <command-palette-mode
        class="js-command-palette-default-mode"
        data-char=""
        data-placeholder="Search or jump to..."
      ></command-palette-mode>

      <command-palette-input placeholder="Search or jump to..."

        data-action="
          command-palette-input:command-palette#onInput
          command-palette-select:command-palette#onSelect
          command-palette-descope:command-palette#onDescope
          command-palette-cleared:command-palette#onInputClear
        "
      >
        <div class="js-search-icon d-flex flex-items-center mr-2" style="height: 26px">
          <svg aria-hidden="true" height="16" viewBox="0 0 16 16" version="1.1" width="16" data-view-component="true" class="octicon octicon-search color-fg-muted">
    <path d="M10.68 11.74a6 6 0 0 1-7.922-8.982 6 6 0 0 1 8.982 7.922l3.04 3.04a.749.749 0 0 1-.326 1.275.749.749 0 0 1-.734-.215ZM11.5 7a4.499 4.499 0 1 0-8.997 0A4.499 4.499 0 0 0 11.5 7Z"></path>
</svg>
        </div>
        <div class="js-spinner d-flex flex-items-center mr-2 color-fg-muted" hidden>
          <svg aria-label="Loading" class="anim-rotate" viewBox="0 0 16 16" fill="none" width="16" height="16">
            <circle
              cx="8"
              cy="8"
              r="7"
              stroke="currentColor"
              stroke-opacity="0.25"
              stroke-width="2"
              vector-effect="non-scaling-stroke"
            ></circle>
            <path
              d="M15 8a7.002 7.002 0 00-7-7"
              stroke="currentColor"
              stroke-width="2"
              stroke-linecap="round"
              vector-effect="non-scaling-stroke"
            ></path>
          </svg>
        </div>
        <command-palette-scope >
          <div data-target="command-palette-scope.placeholder" hidden class="color-fg-subtle">/&nbsp;&nbsp;<span class="text-semibold color-fg-default">...</span>&nbsp;&nbsp;/&nbsp;&nbsp;</div>
              <command-palette-token
                data-text="CoroaPT"
                data-id="U_kgDOCIzYAQ"
                data-type="owner"
                data-value="CoroaPT"
                data-targets="command-palette-scope.tokens"
                class="color-fg-default text-semibold"
                style="white-space:nowrap;line-height:20px;"
                >CoroaPT<span class="color-fg-subtle text-normal">&nbsp;&nbsp;/&nbsp;&nbsp;</span></command-palette-token>
              <command-palette-token
                data-text="FinalAssignment"
                data-id="R_kgDOKTPPPA"
                data-type="repository"
                data-value="FinalAssignment"
                data-targets="command-palette-scope.tokens"
                class="color-fg-default text-semibold"
                style="white-space:nowrap;line-height:20px;"
                >FinalAssignment<span class="color-fg-subtle text-normal">&nbsp;&nbsp;/&nbsp;&nbsp;</span></command-palette-token>
        </command-palette-scope>
        <div class="command-palette-input-group flex-1 form-control border-0 box-shadow-none" style="z-index: 0">
          <div class="command-palette-typeahead position-absolute d-flex flex-items-center Truncate">
            <span class="typeahead-segment input-mirror" data-target="command-palette-input.mirror"></span>
            <span class="Truncate-text" data-target="command-palette-input.typeaheadText"></span>
            <span class="typeahead-segment" data-target="command-palette-input.typeaheadPlaceholder"></span>
          </div>
          <input
            class="js-overlay-input typeahead-input d-none"
            disabled
            tabindex="-1"
            aria-label="Hidden input for typeahead"
          >
          <input
            type="text"
            autocomplete="off"
            autocorrect="off"
            autocapitalize="off"
            spellcheck="false"
            class="js-input typeahead-input form-control border-0 box-shadow-none input-block width-full no-focus-indicator"
            aria-label="Command palette input"
            aria-haspopup="listbox"
            aria-expanded="false"
            aria-autocomplete="list"
            aria-controls="command-palette-page-stack"
            role="combobox"
            data-action="
              input:command-palette-input#onInput
              keydown:command-palette-input#onKeydown
            "
          >
        </div>
          <div data-view-component="true" class="position-relative d-inline-block">
    <button aria-keyshortcuts="Meta+Delete" data-action="click:command-palette-input#onClear keypress:command-palette-input#onClear" data-target="command-palette-input.clearButton" id="command-palette-clear-button" hidden="hidden" type="button" data-view-component="true" class="btn-octicon command-palette-input-clear-button">      <svg aria-hidden="true" height="16" viewBox="0 0 16 16" version="1.1" width="16" data-view-component="true" class="octicon octicon-x-circle-fill">
    <path d="M2.343 13.657A8 8 0 1 1 13.658 2.343 8 8 0 0 1 2.343 13.657ZM6.03 4.97a.751.751 0 0 0-1.042.018.751.751 0 0 0-.018 1.042L6.94 8 4.97 9.97a.749.749 0 0 0 .326 1.275.749.749 0 0 0 .734-.215L8 9.06l1.97 1.97a.749.749 0 0 0 1.275-.326.749.749 0 0 0-.215-.734L9.06 8l1.97-1.97a.749.749 0 0 0-.326-1.275.749.749 0 0 0-.734.215L8 6.94Z"></path>
</svg>
</button>    <tool-tip id="tooltip-98356ddf-4f74-4906-bd11-0f77cf1823ac" for="command-palette-clear-button" popover="manual" data-direction="w" data-type="label" data-view-component="true" class="sr-only position-absolute">Clear Command Palette</tool-tip>
</div>
      </command-palette-input>

      <command-palette-page-stack
        data-default-scope-id="R_kgDOKTPPPA"
        data-default-scope-type="Repository"
        data-action="command-palette-page-octicons-cached:command-palette-page-stack#cacheOcticons"
      >
          <command-palette-tip
            class="color-fg-muted f6 px-3 py-1 my-2"
              data-scope-types="[&quot;&quot;,&quot;owner&quot;,&quot;repository&quot;]"
            data-mode=""
            data-value="">
            <div class="d-flex flex-items-start flex-justify-between">
              <div>
                <span class="text-bold">Tip:</span>
                  Type <kbd class="hx_kbd">#</kbd> to search pull requests
              </div>
              <div class="ml-2 flex-shrink-0">
                Type <kbd class="hx_kbd">?</kbd> for help and tips
              </div>
            </div>
          </command-palette-tip>
          <command-palette-tip
            class="color-fg-muted f6 px-3 py-1 my-2"
              data-scope-types="[&quot;&quot;,&quot;owner&quot;,&quot;repository&quot;]"
            data-mode=""
            data-value="">
            <div class="d-flex flex-items-start flex-justify-between">
              <div>
                <span class="text-bold">Tip:</span>
                  Type <kbd class="hx_kbd">#</kbd> to search issues
              </div>
              <div class="ml-2 flex-shrink-0">
                Type <kbd class="hx_kbd">?</kbd> for help and tips
              </div>
            </div>
          </command-palette-tip>
          <command-palette-tip
            class="color-fg-muted f6 px-3 py-1 my-2"
              data-scope-types="[&quot;owner&quot;,&quot;repository&quot;]"
            data-mode=""
            data-value="">
            <div class="d-flex flex-items-start flex-justify-between">
              <div>
                <span class="text-bold">Tip:</span>
                  Type <kbd class="hx_kbd">#</kbd> to search discussions
              </div>
              <div class="ml-2 flex-shrink-0">
                Type <kbd class="hx_kbd">?</kbd> for help and tips
              </div>
            </div>
          </command-palette-tip>
          <command-palette-tip
            class="color-fg-muted f6 px-3 py-1 my-2"
              data-scope-types="[&quot;owner&quot;,&quot;repository&quot;]"
            data-mode=""
            data-value="">
            <div class="d-flex flex-items-start flex-justify-between">
              <div>
                <span class="text-bold">Tip:</span>
                  Type <kbd class="hx_kbd">!</kbd> to search projects
              </div>
              <div class="ml-2 flex-shrink-0">
                Type <kbd class="hx_kbd">?</kbd> for help and tips
              </div>
            </div>
          </command-palette-tip>
          <command-palette-tip
            class="color-fg-muted f6 px-3 py-1 my-2"
              data-scope-types="[&quot;owner&quot;]"
            data-mode=""
            data-value="">
            <div class="d-flex flex-items-start flex-justify-between">
              <div>
                <span class="text-bold">Tip:</span>
                  Type <kbd class="hx_kbd">@</kbd> to search teams
              </div>
              <div class="ml-2 flex-shrink-0">
                Type <kbd class="hx_kbd">?</kbd> for help and tips
              </div>
            </div>
          </command-palette-tip>
          <command-palette-tip
            class="color-fg-muted f6 px-3 py-1 my-2"
              data-scope-types="[&quot;&quot;]"
            data-mode=""
            data-value="">
            <div class="d-flex flex-items-start flex-justify-between">
              <div>
                <span class="text-bold">Tip:</span>
                  Type <kbd class="hx_kbd">@</kbd> to search people and organizations
              </div>
              <div class="ml-2 flex-shrink-0">
                Type <kbd class="hx_kbd">?</kbd> for help and tips
              </div>
            </div>
          </command-palette-tip>
          <command-palette-tip
            class="color-fg-muted f6 px-3 py-1 my-2"
              data-scope-types="[&quot;&quot;,&quot;owner&quot;,&quot;repository&quot;]"
            data-mode=""
            data-value="">
            <div class="d-flex flex-items-start flex-justify-between">
              <div>
                <span class="text-bold">Tip:</span>
                  Type <kbd class="hx_kbd">&gt;</kbd> to activate command mode
              </div>
              <div class="ml-2 flex-shrink-0">
                Type <kbd class="hx_kbd">?</kbd> for help and tips
              </div>
            </div>
          </command-palette-tip>
          <command-palette-tip
            class="color-fg-muted f6 px-3 py-1 my-2"
              data-scope-types="[&quot;&quot;,&quot;owner&quot;,&quot;repository&quot;]"
            data-mode=""
            data-value="">
            <div class="d-flex flex-items-start flex-justify-between">
              <div>
                <span class="text-bold">Tip:</span>
                  Go to your accessibility settings to change your keyboard shortcuts
              </div>
              <div class="ml-2 flex-shrink-0">
                Type <kbd class="hx_kbd">?</kbd> for help and tips
              </div>
            </div>
          </command-palette-tip>
          <command-palette-tip
            class="color-fg-muted f6 px-3 py-1 my-2"
              data-scope-types="[&quot;&quot;,&quot;owner&quot;,&quot;repository&quot;]"
            data-mode="#"
            data-value="">
            <div class="d-flex flex-items-start flex-justify-between">
              <div>
                <span class="text-bold">Tip:</span>
                  Type author:@me to search your content
              </div>
              <div class="ml-2 flex-shrink-0">
                Type <kbd class="hx_kbd">?</kbd> for help and tips
              </div>
            </div>
          </command-palette-tip>
          <command-palette-tip
            class="color-fg-muted f6 px-3 py-1 my-2"
              data-scope-types="[&quot;&quot;,&quot;owner&quot;,&quot;repository&quot;]"
            data-mode="#"
            data-value="">
            <div class="d-flex flex-items-start flex-justify-between">
              <div>
                <span class="text-bold">Tip:</span>
                  Type is:pr to filter to pull requests
              </div>
              <div class="ml-2 flex-shrink-0">
                Type <kbd class="hx_kbd">?</kbd> for help and tips
              </div>
            </div>
          </command-palette-tip>
          <command-palette-tip
            class="color-fg-muted f6 px-3 py-1 my-2"
              data-scope-types="[&quot;&quot;,&quot;owner&quot;,&quot;repository&quot;]"
            data-mode="#"
            data-value="">
            <div class="d-flex flex-items-start flex-justify-between">
              <div>
                <span class="text-bold">Tip:</span>
                  Type is:issue to filter to issues
              </div>
              <div class="ml-2 flex-shrink-0">
                Type <kbd class="hx_kbd">?</kbd> for help and tips
              </div>
            </div>
          </command-palette-tip>
          <command-palette-tip
            class="color-fg-muted f6 px-3 py-1 my-2"
              data-scope-types="[&quot;owner&quot;,&quot;repository&quot;]"
            data-mode="#"
            data-value="">
            <div class="d-flex flex-items-start flex-justify-between">
              <div>
                <span class="text-bold">Tip:</span>
                  Type is:project to filter to projects
              </div>
              <div class="ml-2 flex-shrink-0">
                Type <kbd class="hx_kbd">?</kbd> for help and tips
              </div>
            </div>
          </command-palette-tip>
          <command-palette-tip
            class="color-fg-muted f6 px-3 py-1 my-2"
              data-scope-types="[&quot;&quot;,&quot;owner&quot;,&quot;repository&quot;]"
            data-mode="#"
            data-value="">
            <div class="d-flex flex-items-start flex-justify-between">
              <div>
                <span class="text-bold">Tip:</span>
                  Type is:open to filter to open content
              </div>
              <div class="ml-2 flex-shrink-0">
                Type <kbd class="hx_kbd">?</kbd> for help and tips
              </div>
            </div>
          </command-palette-tip>
        <command-palette-tip class="mx-3 my-2 flash flash-error d-flex flex-items-center" data-scope-types="*" data-on-error>
          <div>
            <svg aria-hidden="true" height="16" viewBox="0 0 16 16" version="1.1" width="16" data-view-component="true" class="octicon octicon-alert">
    <path d="M6.457 1.047c.659-1.234 2.427-1.234 3.086 0l6.082 11.378A1.75 1.75 0 0 1 14.082 15H1.918a1.75 1.75 0 0 1-1.543-2.575Zm1.763.707a.25.25 0 0 0-.44 0L1.698 13.132a.25.25 0 0 0 .22.368h12.164a.25.25 0 0 0 .22-.368Zm.53 3.996v2.5a.75.75 0 0 1-1.5 0v-2.5a.75.75 0 0 1 1.5 0ZM9 11a1 1 0 1 1-2 0 1 1 0 0 1 2 0Z"></path>
</svg>
          </div>
          <div class="px-2">
            We’ve encountered an error and some results aren't available at this time. Type a new search or try again later.
          </div>
        </command-palette-tip>
        <command-palette-tip class="h4 color-fg-default pl-3 pb-2 pt-3" data-on-empty data-scope-types="*" data-match-mode="[^?]|^$">
          No results matched your search
        </command-palette-tip>

        <div hidden>

            <div data-targets="command-palette-page-stack.localOcticons" data-octicon-id="arrow-right-color-fg-muted">
              <svg height="16" class="octicon octicon-arrow-right color-fg-muted" viewBox="0 0 16 16" version="1.1" width="16" aria-hidden="true"><path d="M8.22 2.97a.75.75 0 0 1 1.06 0l4.25 4.25a.75.75 0 0 1 0 1.06l-4.25 4.25a.751.751 0 0 1-1.042-.018.751.751 0 0 1-.018-1.042l2.97-2.97H3.75a.75.75 0 0 1 0-1.5h7.44L8.22 4.03a.75.75 0 0 1 0-1.06Z"></path></svg>
            </div>
            <div data-targets="command-palette-page-stack.localOcticons" data-octicon-id="arrow-right-color-fg-default">
              <svg height="16" class="octicon octicon-arrow-right color-fg-default" viewBox="0 0 16 16" version="1.1" width="16" aria-hidden="true"><path d="M8.22 2.97a.75.75 0 0 1 1.06 0l4.25 4.25a.75.75 0 0 1 0 1.06l-4.25 4.25a.751.751 0 0 1-1.042-.018.751.751 0 0 1-.018-1.042l2.97-2.97H3.75a.75.75 0 0 1 0-1.5h7.44L8.22 4.03a.75.75 0 0 1 0-1.06Z"></path></svg>
            </div>
            <div data-targets="command-palette-page-stack.localOcticons" data-octicon-id="codespaces-color-fg-muted">
              <svg height="16" class="octicon octicon-codespaces color-fg-muted" viewBox="0 0 16 16" version="1.1" width="16" aria-hidden="true"><path d="M0 11.25c0-.966.784-1.75 1.75-1.75h12.5c.966 0 1.75.784 1.75 1.75v3A1.75 1.75 0 0 1 14.25 16H1.75A1.75 1.75 0 0 1 0 14.25Zm2-9.5C2 .784 2.784 0 3.75 0h8.5C13.216 0 14 .784 14 1.75v5a1.75 1.75 0 0 1-1.75 1.75h-8.5A1.75 1.75 0 0 1 2 6.75Zm1.75-.25a.25.25 0 0 0-.25.25v5c0 .138.112.25.25.25h8.5a.25.25 0 0 0 .25-.25v-5a.25.25 0 0 0-.25-.25Zm-2 9.5a.25.25 0 0 0-.25.25v3c0 .138.112.25.25.25h12.5a.25.25 0 0 0 .25-.25v-3a.25.25 0 0 0-.25-.25Z"></path><path d="M7 12.75a.75.75 0 0 1 .75-.75h4.5a.75.75 0 0 1 0 1.5h-4.5a.75.75 0 0 1-.75-.75Zm-4 0a.75.75 0 0 1 .75-.75h.5a.75.75 0 0 1 0 1.5h-.5a.75.75 0 0 1-.75-.75Z"></path></svg>
            </div>
            <div data-targets="command-palette-page-stack.localOcticons" data-octicon-id="copy-color-fg-muted">
              <svg height="16" class="octicon octicon-copy color-fg-muted" viewBox="0 0 16 16" version="1.1" width="16" aria-hidden="true"><path d="M0 6.75C0 5.784.784 5 1.75 5h1.5a.75.75 0 0 1 0 1.5h-1.5a.25.25 0 0 0-.25.25v7.5c0 .138.112.25.25.25h7.5a.25.25 0 0 0 .25-.25v-1.5a.75.75 0 0 1 1.5 0v1.5A1.75 1.75 0 0 1 9.25 16h-7.5A1.75 1.75 0 0 1 0 14.25Z"></path><path d="M5 1.75C5 .784 5.784 0 6.75 0h7.5C15.216 0 16 .784 16 1.75v7.5A1.75 1.75 0 0 1 14.25 11h-7.5A1.75 1.75 0 0 1 5 9.25Zm1.75-.25a.25.25 0 0 0-.25.25v7.5c0 .138.112.25.25.25h7.5a.25.25 0 0 0 .25-.25v-7.5a.25.25 0 0 0-.25-.25Z"></path></svg>
            </div>
            <div data-targets="command-palette-page-stack.localOcticons" data-octicon-id="dash-color-fg-muted">
              <svg height="16" class="octicon octicon-dash color-fg-muted" viewBox="0 0 16 16" version="1.1" width="16" aria-hidden="true"><path d="M2 7.75A.75.75 0 0 1 2.75 7h10a.75.75 0 0 1 0 1.5h-10A.75.75 0 0 1 2 7.75Z"></path></svg>
            </div>
            <div data-targets="command-palette-page-stack.localOcticons" data-octicon-id="file-color-fg-muted">
              <svg height="16" class="octicon octicon-file color-fg-muted" viewBox="0 0 16 16" version="1.1" width="16" aria-hidden="true"><path d="M2 1.75C2 .784 2.784 0 3.75 0h6.586c.464 0 .909.184 1.237.513l2.914 2.914c.329.328.513.773.513 1.237v9.586A1.75 1.75 0 0 1 13.25 16h-9.5A1.75 1.75 0 0 1 2 14.25Zm1.75-.25a.25.25 0 0 0-.25.25v12.5c0 .138.112.25.25.25h9.5a.25.25 0 0 0 .25-.25V6h-2.75A1.75 1.75 0 0 1 9 4.25V1.5Zm6.75.062V4.25c0 .138.112.25.25.25h2.688l-.011-.013-2.914-2.914-.013-.011Z"></path></svg>
            </div>
            <div data-targets="command-palette-page-stack.localOcticons" data-octicon-id="gear-color-fg-muted">
              <svg height="16" class="octicon octicon-gear color-fg-muted" viewBox="0 0 16 16" version="1.1" width="16" aria-hidden="true"><path d="M8 0a8.2 8.2 0 0 1 .701.031C9.444.095 9.99.645 10.16 1.29l.288 1.107c.018.066.079.158.212.224.231.114.454.243.668.386.123.082.233.09.299.071l1.103-.303c.644-.176 1.392.021 1.82.63.27.385.506.792.704 1.218.315.675.111 1.422-.364 1.891l-.814.806c-.049.048-.098.147-.088.294.016.257.016.515 0 .772-.01.147.038.246.088.294l.814.806c.475.469.679 1.216.364 1.891a7.977 7.977 0 0 1-.704 1.217c-.428.61-1.176.807-1.82.63l-1.102-.302c-.067-.019-.177-.011-.3.071a5.909 5.909 0 0 1-.668.386c-.133.066-.194.158-.211.224l-.29 1.106c-.168.646-.715 1.196-1.458 1.26a8.006 8.006 0 0 1-1.402 0c-.743-.064-1.289-.614-1.458-1.26l-.289-1.106c-.018-.066-.079-.158-.212-.224a5.738 5.738 0 0 1-.668-.386c-.123-.082-.233-.09-.299-.071l-1.103.303c-.644.176-1.392-.021-1.82-.63a8.12 8.12 0 0 1-.704-1.218c-.315-.675-.111-1.422.363-1.891l.815-.806c.05-.048.098-.147.088-.294a6.214 6.214 0 0 1 0-.772c.01-.147-.038-.246-.088-.294l-.815-.806C.635 6.045.431 5.298.746 4.623a7.92 7.92 0 0 1 .704-1.217c.428-.61 1.176-.807 1.82-.63l1.102.302c.067.019.177.011.3-.071.214-.143.437-.272.668-.386.133-.066.194-.158.211-.224l.29-1.106C6.009.645 6.556.095 7.299.03 7.53.01 7.764 0 8 0Zm-.571 1.525c-.036.003-.108.036-.137.146l-.289 1.105c-.147.561-.549.967-.998 1.189-.173.086-.34.183-.5.29-.417.278-.97.423-1.529.27l-1.103-.303c-.109-.03-.175.016-.195.045-.22.312-.412.644-.573.99-.014.031-.021.11.059.19l.815.806c.411.406.562.957.53 1.456a4.709 4.709 0 0 0 0 .582c.032.499-.119 1.05-.53 1.456l-.815.806c-.081.08-.073.159-.059.19.162.346.353.677.573.989.02.03.085.076.195.046l1.102-.303c.56-.153 1.113-.008 1.53.27.161.107.328.204.501.29.447.222.85.629.997 1.189l.289 1.105c.029.109.101.143.137.146a6.6 6.6 0 0 0 1.142 0c.036-.003.108-.036.137-.146l.289-1.105c.147-.561.549-.967.998-1.189.173-.086.34-.183.5-.29.417-.278.97-.423 1.529-.27l1.103.303c.109.029.175-.016.195-.045.22-.313.411-.644.573-.99.014-.031.021-.11-.059-.19l-.815-.806c-.411-.406-.562-.957-.53-1.456a4.709 4.709 0 0 0 0-.582c-.032-.499.119-1.05.53-1.456l.815-.806c.081-.08.073-.159.059-.19a6.464 6.464 0 0 0-.573-.989c-.02-.03-.085-.076-.195-.046l-1.102.303c-.56.153-1.113.008-1.53-.27a4.44 4.44 0 0 0-.501-.29c-.447-.222-.85-.629-.997-1.189l-.289-1.105c-.029-.11-.101-.143-.137-.146a6.6 6.6 0 0 0-1.142 0ZM11 8a3 3 0 1 1-6 0 3 3 0 0 1 6 0ZM9.5 8a1.5 1.5 0 1 0-3.001.001A1.5 1.5 0 0 0 9.5 8Z"></path></svg>
            </div>
            <div data-targets="command-palette-page-stack.localOcticons" data-octicon-id="lock-color-fg-muted">
              <svg height="16" class="octicon octicon-lock color-fg-muted" viewBox="0 0 16 16" version="1.1" width="16" aria-hidden="true"><path d="M4 4a4 4 0 0 1 8 0v2h.25c.966 0 1.75.784 1.75 1.75v5.5A1.75 1.75 0 0 1 12.25 15h-8.5A1.75 1.75 0 0 1 2 13.25v-5.5C2 6.784 2.784 6 3.75 6H4Zm8.25 3.5h-8.5a.25.25 0 0 0-.25.25v5.5c0 .138.112.25.25.25h8.5a.25.25 0 0 0 .25-.25v-5.5a.25.25 0 0 0-.25-.25ZM10.5 6V4a2.5 2.5 0 1 0-5 0v2Z"></path></svg>
            </div>
            <div data-targets="command-palette-page-stack.localOcticons" data-octicon-id="moon-color-fg-muted">
              <svg height="16" class="octicon octicon-moon color-fg-muted" viewBox="0 0 16 16" version="1.1" width="16" aria-hidden="true"><path d="M9.598 1.591a.749.749 0 0 1 .785-.175 7.001 7.001 0 1 1-8.967 8.967.75.75 0 0 1 .961-.96 5.5 5.5 0 0 0 7.046-7.046.75.75 0 0 1 .175-.786Zm1.616 1.945a7 7 0 0 1-7.678 7.678 5.499 5.499 0 1 0 7.678-7.678Z"></path></svg>
            </div>
            <div data-targets="command-palette-page-stack.localOcticons" data-octicon-id="person-color-fg-muted">
              <svg height="16" class="octicon octicon-person color-fg-muted" viewBox="0 0 16 16" version="1.1" width="16" aria-hidden="true"><path d="M10.561 8.073a6.005 6.005 0 0 1 3.432 5.142.75.75 0 1 1-1.498.07 4.5 4.5 0 0 0-8.99 0 .75.75 0 0 1-1.498-.07 6.004 6.004 0 0 1 3.431-5.142 3.999 3.999 0 1 1 5.123 0ZM10.5 5a2.5 2.5 0 1 0-5 0 2.5 2.5 0 0 0 5 0Z"></path></svg>
            </div>
            <div data-targets="command-palette-page-stack.localOcticons" data-octicon-id="pencil-color-fg-muted">
              <svg height="16" class="octicon octicon-pencil color-fg-muted" viewBox="0 0 16 16" version="1.1" width="16" aria-hidden="true"><path d="M11.013 1.427a1.75 1.75 0 0 1 2.474 0l1.086 1.086a1.75 1.75 0 0 1 0 2.474l-8.61 8.61c-.21.21-.47.364-.756.445l-3.251.93a.75.75 0 0 1-.927-.928l.929-3.25c.081-.286.235-.547.445-.758l8.61-8.61Zm.176 4.823L9.75 4.81l-6.286 6.287a.253.253 0 0 0-.064.108l-.558 1.953 1.953-.558a.253.253 0 0 0 .108-.064Zm1.238-3.763a.25.25 0 0 0-.354 0L10.811 3.75l1.439 1.44 1.263-1.263a.25.25 0 0 0 0-.354Z"></path></svg>
            </div>
            <div data-targets="command-palette-page-stack.localOcticons" data-octicon-id="issue-opened-open">
              <svg height="16" class="octicon octicon-issue-opened open" viewBox="0 0 16 16" version="1.1" width="16" aria-hidden="true"><path d="M8 9.5a1.5 1.5 0 1 0 0-3 1.5 1.5 0 0 0 0 3Z"></path><path d="M8 0a8 8 0 1 1 0 16A8 8 0 0 1 8 0ZM1.5 8a6.5 6.5 0 1 0 13 0 6.5 6.5 0 0 0-13 0Z"></path></svg>
            </div>
            <div data-targets="command-palette-page-stack.localOcticons" data-octicon-id="git-pull-request-draft-color-fg-muted">
              <svg height="16" class="octicon octicon-git-pull-request-draft color-fg-muted" viewBox="0 0 16 16" version="1.1" width="16" aria-hidden="true"><path d="M3.25 1A2.25 2.25 0 0 1 4 5.372v5.256a2.251 2.251 0 1 1-1.5 0V5.372A2.251 2.251 0 0 1 3.25 1Zm9.5 14a2.25 2.25 0 1 1 0-4.5 2.25 2.25 0 0 1 0 4.5ZM2.5 3.25a.75.75 0 1 0 1.5 0 .75.75 0 0 0-1.5 0ZM3.25 12a.75.75 0 1 0 0 1.5.75.75 0 0 0 0-1.5Zm9.5 0a.75.75 0 1 0 0 1.5.75.75 0 0 0 0-1.5ZM14 7.5a1.25 1.25 0 1 1-2.5 0 1.25 1.25 0 0 1 2.5 0Zm0-4.25a1.25 1.25 0 1 1-2.5 0 1.25 1.25 0 0 1 2.5 0Z"></path></svg>
            </div>
            <div data-targets="command-palette-page-stack.localOcticons" data-octicon-id="search-color-fg-muted">
              <svg height="16" class="octicon octicon-search color-fg-muted" viewBox="0 0 16 16" version="1.1" width="16" aria-hidden="true"><path d="M10.68 11.74a6 6 0 0 1-7.922-8.982 6 6 0 0 1 8.982 7.922l3.04 3.04a.749.749 0 0 1-.326 1.275.749.749 0 0 1-.734-.215ZM11.5 7a4.499 4.499 0 1 0-8.997 0A4.499 4.499 0 0 0 11.5 7Z"></path></svg>
            </div>
            <div data-targets="command-palette-page-stack.localOcticons" data-octicon-id="sun-color-fg-muted">
              <svg height="16" class="octicon octicon-sun color-fg-muted" viewBox="0 0 16 16" version="1.1" width="16" aria-hidden="true"><path d="M8 12a4 4 0 1 1 0-8 4 4 0 0 1 0 8Zm0-1.5a2.5 2.5 0 1 0 0-5 2.5 2.5 0 0 0 0 5Zm5.657-8.157a.75.75 0 0 1 0 1.061l-1.061 1.06a.749.749 0 0 1-1.275-.326.749.749 0 0 1 .215-.734l1.06-1.06a.75.75 0 0 1 1.06 0Zm-9.193 9.193a.75.75 0 0 1 0 1.06l-1.06 1.061a.75.75 0 1 1-1.061-1.06l1.06-1.061a.75.75 0 0 1 1.061 0ZM8 0a.75.75 0 0 1 .75.75v1.5a.75.75 0 0 1-1.5 0V.75A.75.75 0 0 1 8 0ZM3 8a.75.75 0 0 1-.75.75H.75a.75.75 0 0 1 0-1.5h1.5A.75.75 0 0 1 3 8Zm13 0a.75.75 0 0 1-.75.75h-1.5a.75.75 0 0 1 0-1.5h1.5A.75.75 0 0 1 16 8Zm-8 5a.75.75 0 0 1 .75.75v1.5a.75.75 0 0 1-1.5 0v-1.5A.75.75 0 0 1 8 13Zm3.536-1.464a.75.75 0 0 1 1.06 0l1.061 1.06a.75.75 0 0 1-1.06 1.061l-1.061-1.06a.75.75 0 0 1 0-1.061ZM2.343 2.343a.75.75 0 0 1 1.061 0l1.06 1.061a.751.751 0 0 1-.018 1.042.751.751 0 0 1-1.042.018l-1.06-1.06a.75.75 0 0 1 0-1.06Z"></path></svg>
            </div>
            <div data-targets="command-palette-page-stack.localOcticons" data-octicon-id="sync-color-fg-muted">
              <svg height="16" class="octicon octicon-sync color-fg-muted" viewBox="0 0 16 16" version="1.1" width="16" aria-hidden="true"><path d="M1.705 8.005a.75.75 0 0 1 .834.656 5.5 5.5 0 0 0 9.592 2.97l-1.204-1.204a.25.25 0 0 1 .177-.427h3.646a.25.25 0 0 1 .25.25v3.646a.25.25 0 0 1-.427.177l-1.38-1.38A7.002 7.002 0 0 1 1.05 8.84a.75.75 0 0 1 .656-.834ZM8 2.5a5.487 5.487 0 0 0-4.131 1.869l1.204 1.204A.25.25 0 0 1 4.896 6H1.25A.25.25 0 0 1 1 5.75V2.104a.25.25 0 0 1 .427-.177l1.38 1.38A7.002 7.002 0 0 1 14.95 7.16a.75.75 0 0 1-1.49.178A5.5 5.5 0 0 0 8 2.5Z"></path></svg>
            </div>
            <div data-targets="command-palette-page-stack.localOcticons" data-octicon-id="trash-color-fg-muted">
              <svg height="16" class="octicon octicon-trash color-fg-muted" viewBox="0 0 16 16" version="1.1" width="16" aria-hidden="true"><path d="M11 1.75V3h2.25a.75.75 0 0 1 0 1.5H2.75a.75.75 0 0 1 0-1.5H5V1.75C5 .784 5.784 0 6.75 0h2.5C10.216 0 11 .784 11 1.75ZM4.496 6.675l.66 6.6a.25.25 0 0 0 .249.225h5.19a.25.25 0 0 0 .249-.225l.66-6.6a.75.75 0 0 1 1.492.149l-.66 6.6A1.748 1.748 0 0 1 10.595 15h-5.19a1.75 1.75 0 0 1-1.741-1.575l-.66-6.6a.75.75 0 1 1 1.492-.15ZM6.5 1.75V3h3V1.75a.25.25 0 0 0-.25-.25h-2.5a.25.25 0 0 0-.25.25Z"></path></svg>
            </div>
            <div data-targets="command-palette-page-stack.localOcticons" data-octicon-id="key-color-fg-muted">
              <svg height="16" class="octicon octicon-key color-fg-muted" viewBox="0 0 16 16" version="1.1" width="16" aria-hidden="true"><path d="M10.5 0a5.499 5.499 0 1 1-1.288 10.848l-.932.932a.749.749 0 0 1-.53.22H7v.75a.749.749 0 0 1-.22.53l-.5.5a.749.749 0 0 1-.53.22H5v.75a.749.749 0 0 1-.22.53l-.5.5a.749.749 0 0 1-.53.22h-2A1.75 1.75 0 0 1 0 14.25v-2c0-.199.079-.389.22-.53l4.932-4.932A5.5 5.5 0 0 1 10.5 0Zm-4 5.5c-.001.431.069.86.205 1.269a.75.75 0 0 1-.181.768L1.5 12.56v1.69c0 .138.112.25.25.25h1.69l.06-.06v-1.19a.75.75 0 0 1 .75-.75h1.19l.06-.06v-1.19a.75.75 0 0 1 .75-.75h1.19l1.023-1.025a.75.75 0 0 1 .768-.18A4 4 0 1 0 6.5 5.5ZM11 6a1 1 0 1 1 0-2 1 1 0 0 1 0 2Z"></path></svg>
            </div>
            <div data-targets="command-palette-page-stack.localOcticons" data-octicon-id="comment-discussion-color-fg-muted">
              <svg height="16" class="octicon octicon-comment-discussion color-fg-muted" viewBox="0 0 16 16" version="1.1" width="16" aria-hidden="true"><path d="M1.75 1h8.5c.966 0 1.75.784 1.75 1.75v5.5A1.75 1.75 0 0 1 10.25 10H7.061l-2.574 2.573A1.458 1.458 0 0 1 2 11.543V10h-.25A1.75 1.75 0 0 1 0 8.25v-5.5C0 1.784.784 1 1.75 1ZM1.5 2.75v5.5c0 .138.112.25.25.25h1a.75.75 0 0 1 .75.75v2.19l2.72-2.72a.749.749 0 0 1 .53-.22h3.5a.25.25 0 0 0 .25-.25v-5.5a.25.25 0 0 0-.25-.25h-8.5a.25.25 0 0 0-.25.25Zm13 2a.25.25 0 0 0-.25-.25h-.5a.75.75 0 0 1 0-1.5h.5c.966 0 1.75.784 1.75 1.75v5.5A1.75 1.75 0 0 1 14.25 12H14v1.543a1.458 1.458 0 0 1-2.487 1.03L9.22 12.28a.749.749 0 0 1 .326-1.275.749.749 0 0 1 .734.215l2.22 2.22v-2.19a.75.75 0 0 1 .75-.75h1a.25.25 0 0 0 .25-.25Z"></path></svg>
            </div>
            <div data-targets="command-palette-page-stack.localOcticons" data-octicon-id="bell-color-fg-muted">
              <svg height="16" class="octicon octicon-bell color-fg-muted" viewBox="0 0 16 16" version="1.1" width="16" aria-hidden="true"><path d="M8 16a2 2 0 0 0 1.985-1.75c.017-.137-.097-.25-.235-.25h-3.5c-.138 0-.252.113-.235.25A2 2 0 0 0 8 16ZM3 5a5 5 0 0 1 10 0v2.947c0 .05.015.098.042.139l1.703 2.555A1.519 1.519 0 0 1 13.482 13H2.518a1.516 1.516 0 0 1-1.263-2.36l1.703-2.554A.255.255 0 0 0 3 7.947Zm5-3.5A3.5 3.5 0 0 0 4.5 5v2.947c0 .346-.102.683-.294.97l-1.703 2.556a.017.017 0 0 0-.003.01l.001.006c0 .002.002.004.004.006l.006.004.007.001h10.964l.007-.001.006-.004.004-.006.001-.007a.017.017 0 0 0-.003-.01l-1.703-2.554a1.745 1.745 0 0 1-.294-.97V5A3.5 3.5 0 0 0 8 1.5Z"></path></svg>
            </div>
            <div data-targets="command-palette-page-stack.localOcticons" data-octicon-id="bell-slash-color-fg-muted">
              <svg height="16" class="octicon octicon-bell-slash color-fg-muted" viewBox="0 0 16 16" version="1.1" width="16" aria-hidden="true"><path d="m4.182 4.31.016.011 10.104 7.316.013.01 1.375.996a.75.75 0 1 1-.88 1.214L13.626 13H2.518a1.516 1.516 0 0 1-1.263-2.36l1.703-2.554A.255.255 0 0 0 3 7.947V5.305L.31 3.357a.75.75 0 1 1 .88-1.214Zm7.373 7.19L4.5 6.391v1.556c0 .346-.102.683-.294.97l-1.703 2.556a.017.017 0 0 0-.003.01c0 .005.002.009.005.012l.006.004.007.001ZM8 1.5c-.997 0-1.895.416-2.534 1.086A.75.75 0 1 1 4.38 1.55 5 5 0 0 1 13 5v2.373a.75.75 0 0 1-1.5 0V5A3.5 3.5 0 0 0 8 1.5ZM8 16a2 2 0 0 1-1.985-1.75c-.017-.137.097-.25.235-.25h3.5c.138 0 .252.113.235.25A2 2 0 0 1 8 16Z"></path></svg>
            </div>
            <div data-targets="command-palette-page-stack.localOcticons" data-octicon-id="paintbrush-color-fg-muted">
              <svg height="16" class="octicon octicon-paintbrush color-fg-muted" viewBox="0 0 16 16" version="1.1" width="16" aria-hidden="true"><path d="M11.134 1.535c.7-.509 1.416-.942 2.076-1.155.649-.21 1.463-.267 2.069.34.603.601.568 1.411.368 2.07-.202.668-.624 1.39-1.125 2.096-1.011 1.424-2.496 2.987-3.775 4.249-1.098 1.084-2.132 1.839-3.04 2.3a3.744 3.744 0 0 1-1.055 3.217c-.431.431-1.065.691-1.657.861-.614.177-1.294.287-1.914.357A21.151 21.151 0 0 1 .797 16H.743l.007-.75H.749L.742 16a.75.75 0 0 1-.743-.742l.743-.008-.742.007v-.054a21.25 21.25 0 0 1 .13-2.284c.067-.647.187-1.287.358-1.914.17-.591.43-1.226.86-1.657a3.746 3.746 0 0 1 3.227-1.054c.466-.893 1.225-1.907 2.314-2.982 1.271-1.255 2.833-2.75 4.245-3.777ZM1.62 13.089c-.051.464-.086.929-.104 1.395.466-.018.932-.053 1.396-.104a10.511 10.511 0 0 0 1.668-.309c.526-.151.856-.325 1.011-.48a2.25 2.25 0 1 0-3.182-3.182c-.155.155-.329.485-.48 1.01a10.515 10.515 0 0 0-.309 1.67Zm10.396-10.34c-1.224.89-2.605 2.189-3.822 3.384l1.718 1.718c1.21-1.205 2.51-2.597 3.387-3.833.47-.662.78-1.227.912-1.662.134-.444.032-.551.009-.575h-.001V1.78c-.014-.014-.113-.113-.548.027-.432.14-.995.462-1.655.942Zm-4.832 7.266-.001.001a9.859 9.859 0 0 0 1.63-1.142L7.155 7.216a9.7 9.7 0 0 0-1.161 1.607c.482.302.889.71 1.19 1.192Z"></path></svg>
            </div>

            <command-palette-item-group
              data-group-id="top"
              data-group-title="Top result"
              data-group-hint=""
              data-group-limits="{}"
              data-default-priority="0"
            >
            </command-palette-item-group>
            <command-palette-item-group
              data-group-id="commands"
              data-group-title="Commands"
              data-group-hint="Type &gt; to filter"
              data-group-limits="{&quot;static_items_page&quot;:50,&quot;issue&quot;:50,&quot;pull_request&quot;:50,&quot;discussion&quot;:50}"
              data-default-priority="1"
            >
            </command-palette-item-group>
            <command-palette-item-group
              data-group-id="global_commands"
              data-group-title="Global Commands"
              data-group-hint="Type &gt; to filter"
              data-group-limits="{&quot;issue&quot;:0,&quot;pull_request&quot;:0,&quot;discussion&quot;:0}"
              data-default-priority="2"
            >
            </command-palette-item-group>
            <command-palette-item-group
              data-group-id="this_page"
              data-group-title="This Page"
              data-group-hint=""
              data-group-limits="{}"
              data-default-priority="3"
            >
            </command-palette-item-group>
            <command-palette-item-group
              data-group-id="files"
              data-group-title="Files"
              data-group-hint=""
              data-group-limits="{}"
              data-default-priority="4"
            >
            </command-palette-item-group>
            <command-palette-item-group
              data-group-id="default"
              data-group-title="Default"
              data-group-hint=""
              data-group-limits="{&quot;static_items_page&quot;:50}"
              data-default-priority="5"
            >
            </command-palette-item-group>
            <command-palette-item-group
              data-group-id="pages"
              data-group-title="Pages"
              data-group-hint=""
              data-group-limits="{&quot;repository&quot;:10}"
              data-default-priority="6"
            >
            </command-palette-item-group>
            <command-palette-item-group
              data-group-id="access_policies"
              data-group-title="Access Policies"
              data-group-hint=""
              data-group-limits="{}"
              data-default-priority="7"
            >
            </command-palette-item-group>
            <command-palette-item-group
              data-group-id="organizations"
              data-group-title="Organizations"
              data-group-hint=""
              data-group-limits="{}"
              data-default-priority="8"
            >
            </command-palette-item-group>
            <command-palette-item-group
              data-group-id="repositories"
              data-group-title="Repositories"
              data-group-hint=""
              data-group-limits="{}"
              data-default-priority="9"
            >
            </command-palette-item-group>
            <command-palette-item-group
              data-group-id="references"
              data-group-title="Issues, pull requests, and discussions"
              data-group-hint="Type # to filter"
              data-group-limits="{}"
              data-default-priority="10"
            >
            </command-palette-item-group>
            <command-palette-item-group
              data-group-id="teams"
              data-group-title="Teams"
              data-group-hint=""
              data-group-limits="{}"
              data-default-priority="11"
            >
            </command-palette-item-group>
            <command-palette-item-group
              data-group-id="users"
              data-group-title="Users"
              data-group-hint=""
              data-group-limits="{}"
              data-default-priority="12"
            >
            </command-palette-item-group>
            <command-palette-item-group
              data-group-id="memex_projects"
              data-group-title="Projects"
              data-group-hint=""
              data-group-limits="{}"
              data-default-priority="13"
            >
            </command-palette-item-group>
            <command-palette-item-group
              data-group-id="projects"
              data-group-title="Projects (classic)"
              data-group-hint=""
              data-group-limits="{}"
              data-default-priority="14"
            >
            </command-palette-item-group>
            <command-palette-item-group
              data-group-id="footer"
              data-group-title="Footer"
              data-group-hint=""
              data-group-limits="{}"
              data-default-priority="15"
            >
            </command-palette-item-group>
            <command-palette-item-group
              data-group-id="modes_help"
              data-group-title="Modes"
              data-group-hint=""
              data-group-limits="{}"
              data-default-priority="16"
            >
            </command-palette-item-group>
            <command-palette-item-group
              data-group-id="filters_help"
              data-group-title="Use filters in issues, pull requests, discussions, and projects"
              data-group-hint=""
              data-group-limits="{}"
              data-default-priority="17"
            >
            </command-palette-item-group>

            <command-palette-page
              data-page-title="CoroaPT"
              data-scope-id="U_kgDOCIzYAQ"
              data-scope-type="owner"
              data-targets="command-palette-page-stack.defaultPages"
              hidden
            >
            </command-palette-page>
            <command-palette-page
              data-page-title="FinalAssignment"
              data-scope-id="R_kgDOKTPPPA"
              data-scope-type="repository"
              data-targets="command-palette-page-stack.defaultPages"
              hidden
            >
            </command-palette-page>
        </div>

        <command-palette-page data-is-root>
        </command-palette-page>
          <command-palette-page
            data-page-title="CoroaPT"
            data-scope-id="U_kgDOCIzYAQ"
            data-scope-type="owner"
          >
          </command-palette-page>
          <command-palette-page
            data-page-title="FinalAssignment"
            data-scope-id="R_kgDOKTPPPA"
            data-scope-type="repository"
          >
          </command-palette-page>
      </command-palette-page-stack>

      <server-defined-provider data-type="search-links" data-targets="command-palette.serverDefinedProviderElements"></server-defined-provider>
      <server-defined-provider data-type="help" data-targets="command-palette.serverDefinedProviderElements">
          <command-palette-help
            data-group="modes_help"
              data-prefix="#"
              data-scope-types="[&quot;&quot;]"
          >
            <span data-target="command-palette-help.titleElement">Search for <strong>issues</strong> and <strong>pull requests</strong></span>
              <span data-target="command-palette-help.hintElement">
                <kbd class="hx_kbd">#</kbd>
              </span>
          </command-palette-help>
          <command-palette-help
            data-group="modes_help"
              data-prefix="#"
              data-scope-types="[&quot;owner&quot;,&quot;repository&quot;]"
          >
            <span data-target="command-palette-help.titleElement">Search for <strong>issues, pull requests, discussions,</strong> and <strong>projects</strong></span>
              <span data-target="command-palette-help.hintElement">
                <kbd class="hx_kbd">#</kbd>
              </span>
          </command-palette-help>
          <command-palette-help
            data-group="modes_help"
              data-prefix="@"
              data-scope-types="[&quot;&quot;]"
          >
            <span data-target="command-palette-help.titleElement">Search for <strong>organizations, repositories,</strong> and <strong>users</strong></span>
              <span data-target="command-palette-help.hintElement">
                <kbd class="hx_kbd">@</kbd>
              </span>
          </command-palette-help>
          <command-palette-help
            data-group="modes_help"
              data-prefix="!"
              data-scope-types="[&quot;owner&quot;,&quot;repository&quot;]"
          >
            <span data-target="command-palette-help.titleElement">Search for <strong>projects</strong></span>
              <span data-target="command-palette-help.hintElement">
                <kbd class="hx_kbd">!</kbd>
              </span>
          </command-palette-help>
          <command-palette-help
            data-group="modes_help"
              data-prefix="/"
              data-scope-types="[&quot;repository&quot;]"
          >
            <span data-target="command-palette-help.titleElement">Search for <strong>files</strong></span>
              <span data-target="command-palette-help.hintElement">
                <kbd class="hx_kbd">/</kbd>
              </span>
          </command-palette-help>
          <command-palette-help
            data-group="modes_help"
              data-prefix="&gt;"
          >
            <span data-target="command-palette-help.titleElement">Activate <strong>command mode</strong></span>
              <span data-target="command-palette-help.hintElement">
                <kbd class="hx_kbd">&gt;</kbd>
              </span>
          </command-palette-help>
          <command-palette-help
            data-group="filters_help"
              data-prefix="# author:@me"
          >
            <span data-target="command-palette-help.titleElement">Search your issues, pull requests, and discussions</span>
              <span data-target="command-palette-help.hintElement">
                <kbd class="hx_kbd"># author:@me</kbd>
              </span>
          </command-palette-help>
          <command-palette-help
            data-group="filters_help"
              data-prefix="# author:@me"
          >
            <span data-target="command-palette-help.titleElement">Search your issues, pull requests, and discussions</span>
              <span data-target="command-palette-help.hintElement">
                <kbd class="hx_kbd"># author:@me</kbd>
              </span>
          </command-palette-help>
          <command-palette-help
            data-group="filters_help"
              data-prefix="# is:pr"
          >
            <span data-target="command-palette-help.titleElement">Filter to pull requests</span>
              <span data-target="command-palette-help.hintElement">
                <kbd class="hx_kbd"># is:pr</kbd>
              </span>
          </command-palette-help>
          <command-palette-help
            data-group="filters_help"
              data-prefix="# is:issue"
          >
            <span data-target="command-palette-help.titleElement">Filter to issues</span>
              <span data-target="command-palette-help.hintElement">
                <kbd class="hx_kbd"># is:issue</kbd>
              </span>
          </command-palette-help>
          <command-palette-help
            data-group="filters_help"
              data-prefix="# is:discussion"
              data-scope-types="[&quot;owner&quot;,&quot;repository&quot;]"
          >
            <span data-target="command-palette-help.titleElement">Filter to discussions</span>
              <span data-target="command-palette-help.hintElement">
                <kbd class="hx_kbd"># is:discussion</kbd>
              </span>
          </command-palette-help>
          <command-palette-help
            data-group="filters_help"
              data-prefix="# is:project"
              data-scope-types="[&quot;owner&quot;,&quot;repository&quot;]"
          >
            <span data-target="command-palette-help.titleElement">Filter to projects</span>
              <span data-target="command-palette-help.hintElement">
                <kbd class="hx_kbd"># is:project</kbd>
              </span>
          </command-palette-help>
          <command-palette-help
            data-group="filters_help"
              data-prefix="# is:open"
          >
            <span data-target="command-palette-help.titleElement">Filter to open issues, pull requests, and discussions</span>
              <span data-target="command-palette-help.hintElement">
                <kbd class="hx_kbd"># is:open</kbd>
              </span>
          </command-palette-help>
      </server-defined-provider>

        <server-defined-provider
          data-type="commands"
          data-fetch-debounce="0"
            data-src="/command_palette/commands"
          data-supported-modes="[]"
            data-supports-commands
          
          data-targets="command-palette.serverDefinedProviderElements"
          ></server-defined-provider>
        <server-defined-provider
          data-type="prefetched"
          data-fetch-debounce="0"
            data-src="/command_palette/jump_to_page_navigation"
          data-supported-modes="[&quot;&quot;]"
            data-supported-scope-types="[&quot;&quot;,&quot;owner&quot;,&quot;repository&quot;]"
          
          data-targets="command-palette.serverDefinedProviderElements"
          ></server-defined-provider>
        <server-defined-provider
          data-type="remote"
          data-fetch-debounce="200"
            data-src="/command_palette/issues"
          data-supported-modes="[&quot;#&quot;,&quot;#&quot;]"
            data-supported-scope-types="[&quot;owner&quot;,&quot;repository&quot;,&quot;&quot;]"
          
          data-targets="command-palette.serverDefinedProviderElements"
          ></server-defined-provider>
        <server-defined-provider
          data-type="remote"
          data-fetch-debounce="200"
            data-src="/command_palette/jump_to"
          data-supported-modes="[&quot;@&quot;,&quot;@&quot;]"
            data-supported-scope-types="[&quot;&quot;,&quot;owner&quot;]"
          
          data-targets="command-palette.serverDefinedProviderElements"
          ></server-defined-provider>
        <server-defined-provider
          data-type="remote"
          data-fetch-debounce="200"
            data-src="/command_palette/jump_to_members_only"
          data-supported-modes="[&quot;@&quot;,&quot;@&quot;,&quot;&quot;,&quot;&quot;]"
            data-supported-scope-types="[&quot;&quot;,&quot;owner&quot;]"
          
          data-targets="command-palette.serverDefinedProviderElements"
          ></server-defined-provider>
        <server-defined-provider
          data-type="prefetched"
          data-fetch-debounce="0"
            data-src="/command_palette/jump_to_members_only_prefetched"
          data-supported-modes="[&quot;@&quot;,&quot;@&quot;,&quot;&quot;,&quot;&quot;]"
            data-supported-scope-types="[&quot;&quot;,&quot;owner&quot;]"
          
          data-targets="command-palette.serverDefinedProviderElements"
          ></server-defined-provider>
        <server-defined-provider
          data-type="files"
          data-fetch-debounce="0"
            data-src="/command_palette/files"
          data-supported-modes="[&quot;/&quot;]"
            data-supported-scope-types="[&quot;repository&quot;]"
          
          data-targets="command-palette.serverDefinedProviderElements"
          ></server-defined-provider>
        <server-defined-provider
          data-type="remote"
          data-fetch-debounce="200"
            data-src="/command_palette/discussions"
          data-supported-modes="[&quot;#&quot;]"
            data-supported-scope-types="[&quot;owner&quot;,&quot;repository&quot;]"
          
          data-targets="command-palette.serverDefinedProviderElements"
          ></server-defined-provider>
        <server-defined-provider
          data-type="remote"
          data-fetch-debounce="200"
            data-src="/command_palette/projects"
          data-supported-modes="[&quot;#&quot;,&quot;!&quot;]"
            data-supported-scope-types="[&quot;owner&quot;,&quot;repository&quot;]"
          
          data-targets="command-palette.serverDefinedProviderElements"
          ></server-defined-provider>
        <server-defined-provider
          data-type="prefetched"
          data-fetch-debounce="0"
            data-src="/command_palette/recent_issues"
          data-supported-modes="[&quot;#&quot;,&quot;#&quot;]"
            data-supported-scope-types="[&quot;owner&quot;,&quot;repository&quot;,&quot;&quot;]"
          
          data-targets="command-palette.serverDefinedProviderElements"
          ></server-defined-provider>
        <server-defined-provider
          data-type="remote"
          data-fetch-debounce="200"
            data-src="/command_palette/teams"
          data-supported-modes="[&quot;@&quot;,&quot;&quot;]"
            data-supported-scope-types="[&quot;owner&quot;]"
          
          data-targets="command-palette.serverDefinedProviderElements"
          ></server-defined-provider>
        <server-defined-provider
          data-type="remote"
          data-fetch-debounce="200"
            data-src="/command_palette/name_with_owner_repository"
          data-supported-modes="[&quot;@&quot;,&quot;@&quot;,&quot;&quot;,&quot;&quot;]"
            data-supported-scope-types="[&quot;&quot;,&quot;owner&quot;]"
          
          data-targets="command-palette.serverDefinedProviderElements"
          ></server-defined-provider>
    </command-palette>
  </details-dialog>
</details>

<div class="position-fixed bottom-0 left-0 ml-5 mb-5 js-command-palette-toasts" style="z-index: 1000">
  <div hidden class="Toast Toast--loading">
    <span class="Toast-icon">
      <svg class="Toast--spinner" viewBox="0 0 32 32" width="18" height="18" aria-hidden="true">
        <path
          fill="#959da5"
          d="M16 0 A16 16 0 0 0 16 32 A16 16 0 0 0 16 0 M16 4 A12 12 0 0 1 16 28 A12 12 0 0 1 16 4"
        />
        <path fill="#ffffff" d="M16 0 A16 16 0 0 1 32 16 L28 16 A12 12 0 0 0 16 4z"></path>
      </svg>
    </span>
    <span class="Toast-content"></span>
  </div>

  <div hidden class="anim-fade-in fast Toast Toast--error">
    <span class="Toast-icon">
      <svg aria-hidden="true" height="16" viewBox="0 0 16 16" version="1.1" width="16" data-view-component="true" class="octicon octicon-stop">
    <path d="M4.47.22A.749.749 0 0 1 5 0h6c.199 0 .389.079.53.22l4.25 4.25c.141.14.22.331.22.53v6a.749.749 0 0 1-.22.53l-4.25 4.25A.749.749 0 0 1 11 16H5a.749.749 0 0 1-.53-.22L.22 11.53A.749.749 0 0 1 0 11V5c0-.199.079-.389.22-.53Zm.84 1.28L1.5 5.31v5.38l3.81 3.81h5.38l3.81-3.81V5.31L10.69 1.5ZM8 4a.75.75 0 0 1 .75.75v3.5a.75.75 0 0 1-1.5 0v-3.5A.75.75 0 0 1 8 4Zm0 8a1 1 0 1 1 0-2 1 1 0 0 1 0 2Z"></path>
</svg>
    </span>
    <span class="Toast-content"></span>
  </div>

  <div hidden class="anim-fade-in fast Toast Toast--warning">
    <span class="Toast-icon">
      <svg aria-hidden="true" height="16" viewBox="0 0 16 16" version="1.1" width="16" data-view-component="true" class="octicon octicon-alert">
    <path d="M6.457 1.047c.659-1.234 2.427-1.234 3.086 0l6.082 11.378A1.75 1.75 0 0 1 14.082 15H1.918a1.75 1.75 0 0 1-1.543-2.575Zm1.763.707a.25.25 0 0 0-.44 0L1.698 13.132a.25.25 0 0 0 .22.368h12.164a.25.25 0 0 0 .22-.368Zm.53 3.996v2.5a.75.75 0 0 1-1.5 0v-2.5a.75.75 0 0 1 1.5 0ZM9 11a1 1 0 1 1-2 0 1 1 0 0 1 2 0Z"></path>
</svg>
    </span>
    <span class="Toast-content"></span>
  </div>


  <div hidden class="anim-fade-in fast Toast Toast--success">
    <span class="Toast-icon">
      <svg aria-hidden="true" height="16" viewBox="0 0 16 16" version="1.1" width="16" data-view-component="true" class="octicon octicon-check">
    <path d="M13.78 4.22a.75.75 0 0 1 0 1.06l-7.25 7.25a.75.75 0 0 1-1.06 0L2.22 9.28a.751.751 0 0 1 .018-1.042.751.751 0 0 1 1.042-.018L6 10.94l6.72-6.72a.75.75 0 0 1 1.06 0Z"></path>
</svg>
    </span>
    <span class="Toast-content"></span>
  </div>

  <div hidden class="anim-fade-in fast Toast">
    <span class="Toast-icon">
      <svg aria-hidden="true" height="16" viewBox="0 0 16 16" version="1.1" width="16" data-view-component="true" class="octicon octicon-info">
    <path d="M0 8a8 8 0 1 1 16 0A8 8 0 0 1 0 8Zm8-6.5a6.5 6.5 0 1 0 0 13 6.5 6.5 0 0 0 0-13ZM6.5 7.75A.75.75 0 0 1 7.25 7h1a.75.75 0 0 1 .75.75v2.75h.25a.75.75 0 0 1 0 1.5h-2a.75.75 0 0 1 0-1.5h.25v-2h-.25a.75.75 0 0 1-.75-.75ZM8 6a1 1 0 1 1 0-2 1 1 0 0 1 0 2Z"></path>
</svg>
    </span>
    <span class="Toast-content"></span>
  </div>
</div>


  <div
    class="application-main "
    data-commit-hovercards-enabled
    data-discussion-hovercards-enabled
    data-issue-and-pr-hovercards-enabled
  >
        <div itemscope itemtype="http://schema.org/SoftwareSourceCode" class="">
    <main id="js-repo-pjax-container" >
      
      






    
  <div id="repository-container-header" data-turbo-replace hidden></div>




<turbo-frame id="repo-content-turbo-frame" target="_top" data-turbo-action="advance" class="">
    <div id="repo-content-pjax-container" class="repository-content " >
      <a href="https://github.dev/" class="d-none js-github-dev-shortcut" data-hotkey=".,Mod+Alt+.">Open in github.dev</a>
  <a href="https://github.dev/" class="d-none js-github-dev-new-tab-shortcut" data-hotkey="Shift+.,Shift+&gt;,&gt;" target="_blank" rel="noopener noreferrer">Open in a new github.dev tab</a>
    <a class="d-none" data-hotkey=",,Mod+Alt+," target="_blank" href="/codespaces/new/CoroaPT/FinalAssignment/tree/main?resume=1">Open in codespace</a>




    
      
    






<react-app
  app-name="react-code-view"
  initial-path="/CoroaPT/FinalAssignment/blob/main/8.%20Spacex-machine-learning-prediction-api.ipynb"
  style="display: block; min-height: calc(100vh - 64px)" 
  data-ssr="true"
  data-lazy="false"
  data-alternate="false"
>
  
  <script type="application/json" data-target="react-app.embeddedData">{"payload":{"allShortcutsEnabled":true,"fileTree":{"":{"items":[{"name":"1. Spacex-data-collection-api.pdf","path":"1. Spacex-data-collection-api.pdf","contentType":"file"},{"name":"2. Spacex-webscraping-api.pdf","path":"2. Spacex-webscraping-api.pdf","contentType":"file"},{"name":"3. Spacex-data-wrangling-api.pdf","path":"3. Spacex-data-wrangling-api.pdf","contentType":"file"},{"name":"4. Spacex-data-visualisation-api.ipynb","path":"4. Spacex-data-visualisation-api.ipynb","contentType":"file"},{"name":"5. Spacex-sqllite-api.pdf","path":"5. Spacex-sqllite-api.pdf","contentType":"file"},{"name":"6. Spacex-folium-map-api.ipynb","path":"6. Spacex-folium-map-api.ipynb","contentType":"file"},{"name":"7. Spacex-dash-app-api.py","path":"7. Spacex-dash-app-api.py","contentType":"file"},{"name":"8. Spacex-machine-learning-prediction-api.ipynb","path":"8. Spacex-machine-learning-prediction-api.ipynb","contentType":"file"},{"name":"README.md","path":"README.md","contentType":"file"}],"totalCount":9}},"fileTreeProcessingTime":1.3509039999999999,"foldersToFetch":[],"repo":{"id":691261244,"defaultBranch":"main","name":"FinalAssignment","ownerLogin":"CoroaPT","currentUserCanPush":false,"isFork":false,"isEmpty":false,"createdAt":"2023-09-13T16:22:00.000-04:00","ownerAvatar":"https://avatars.githubusercontent.com/u/143448065?v=4","public":true,"private":false,"isOrgOwned":false},"codeLineWrapEnabled":false,"symbolsExpanded":false,"treeExpanded":true,"refInfo":{"name":"main","listCacheKey":"v0:1694636521.954656","canEdit":true,"refType":"branch","currentOid":"3b46e8c461fc659448d6de4445647d71de2c6087"},"path":"8. Spacex-machine-learning-prediction-api.ipynb","currentUser":{"id":68703032,"login":"ragyaverma","userEmail":"ragyaverma29@gmail.com"},"blob":{"rawLines":["{","  \"metadata\": {","    \"kernelspec\": {","      \"name\": \"python\",","      \"display_name\": \"Python (Pyodide)\",","      \"language\": \"python\"","    },","    \"language_info\": {","      \"codemirror_mode\": {","        \"name\": \"python\",","        \"version\": 3","      },","      \"file_extension\": \".py\",","      \"mimetype\": \"text/x-python\",","      \"name\": \"python\",","      \"nbconvert_exporter\": \"python\",","      \"pygments_lexer\": \"ipython3\",","      \"version\": \"3.8\"","    }","  },","  \"nbformat_minor\": 4,","  \"nbformat\": 4,","  \"cells\": [","    {","      \"cell_type\": \"markdown\",","      \"source\": \"\u003cp style=\\\"text-align:center\\\"\u003e\\n    \u003ca href=\\\"https://skills.network/?utm_medium=Exinfluencer\u0026utm_source=Exinfluencer\u0026utm_content=000026UJ\u0026utm_term=10006555\u0026utm_id=NA-SkillsNetwork-Channel-SkillsNetworkCoursesIBMDS0321ENSkillsNetwork26802033-2022-01-01\\\"\u003e\\n    \u003cimg src=\\\"https://cf-courses-data.s3.us.cloud-object-storage.appdomain.cloud/assets/logos/SN_web_lightmode.png\\\" width=\\\"200\\\" alt=\\\"Skills Network Logo\\\"  /\u003e\\n    \u003c/a\u003e\\n\u003c/p\u003e\\n\",","      \"metadata\": {}","    },","    {","      \"cell_type\": \"markdown\",","      \"source\": \"# **Space X  Falcon 9 First Stage Landing Prediction**\\n\",","      \"metadata\": {}","    },","    {","      \"cell_type\": \"markdown\",","      \"source\": \"## Assignment:  Machine Learning Prediction\\n\",","      \"metadata\": {}","    },","    {","      \"cell_type\": \"markdown\",","      \"source\": \"Estimated time needed: **60** minutes\\n\",","      \"metadata\": {}","    },","    {","      \"cell_type\": \"markdown\",","      \"source\": \"Space X advertises Falcon 9 rocket launches on its website with a cost of 62 million dollars; other providers cost upward of 165 million dollars each, much of the savings is because Space X can reuse the first stage. Therefore if we can determine if the first stage will land, we can determine the cost of a launch. This information can be used if an alternate company wants to bid against space X for a rocket launch.   In this lab, you will create a machine learning pipeline  to predict if the first stage will land given the data from the preceding labs.\\n\",","      \"metadata\": {}","    },","    {","      \"cell_type\": \"markdown\",","      \"source\": \"![](https://cf-courses-data.s3.us.cloud-object-storage.appdomain.cloud/IBMDeveloperSkillsNetwork-DS0701EN-SkillsNetwork/api/Images/landing_1.gif)\\n\",","      \"metadata\": {}","    },","    {","      \"cell_type\": \"markdown\",","      \"source\": \"Several examples of an unsuccessful landing are shown here:\\n\",","      \"metadata\": {}","    },","    {","      \"cell_type\": \"markdown\",","      \"source\": \"![](https://cf-courses-data.s3.us.cloud-object-storage.appdomain.cloud/IBMDeveloperSkillsNetwork-DS0701EN-SkillsNetwork/api/Images/crash.gif)\\n\",","      \"metadata\": {}","    },","    {","      \"cell_type\": \"markdown\",","      \"source\": \"Most unsuccessful landings are planed. Space X; performs a controlled landing in the oceans.\\n\",","      \"metadata\": {}","    },","    {","      \"cell_type\": \"markdown\",","      \"source\": \"## Objectives\\n\",","      \"metadata\": {}","    },","    {","      \"cell_type\": \"markdown\",","      \"source\": \"Perform exploratory  Data Analysis and determine Training Labels\\n\\n*   create a column for the class\\n*   Standardize the data\\n*   Split into training data and test data\\n\\n\\\\-Find best Hyperparameter for SVM, Classification Trees and Logistic Regression\\n\\n*   Find the method performs best using test data\\n\",","      \"metadata\": {}","    },","    {","      \"cell_type\": \"markdown\",","      \"source\": \"## Import Libraries and Define Auxiliary Functions\\n\",","      \"metadata\": {}","    },","    {","      \"cell_type\": \"code\",","      \"source\": \"import piplite\\nawait piplite.install(['numpy'])\\nawait piplite.install(['pandas'])\\nawait piplite.install(['seaborn'])\",","      \"metadata\": {","        \"trusted\": true","      },","      \"outputs\": [],","      \"execution_count\": 1","    },","    {","      \"cell_type\": \"markdown\",","      \"source\": \"We will import the following libraries for the lab\\n\",","      \"metadata\": {}","    },","    {","      \"cell_type\": \"code\",","      \"source\": \"# Pandas is a software library written for the Python programming language for data manipulation and analysis.\\nimport pandas as pd\\n# NumPy is a library for the Python programming language, adding support for large, multi-dimensional arrays and matrices, along with a large collection of high-level mathematical functions to operate on these arrays\\nimport numpy as np\\n# Matplotlib is a plotting library for python and pyplot gives us a MatLab like plotting framework. We will use this in our plotter function to plot data.\\nimport matplotlib.pyplot as plt\\n#Seaborn is a Python data visualization library based on matplotlib. It provides a high-level interface for drawing attractive and informative statistical graphics\\nimport seaborn as sns\\n# Preprocessing allows us to standarsize our data\\nfrom sklearn import preprocessing\\n# Allows us to split our data into training and testing data\\nfrom sklearn.model_selection import train_test_split\\n# Allows us to test parameters of classification algorithms and find the best one\\nfrom sklearn.model_selection import GridSearchCV\\n# Logistic Regression classification algorithm\\nfrom sklearn.linear_model import LogisticRegression\\n# Support Vector Machine classification algorithm\\nfrom sklearn.svm import SVC\\n# Decision Tree classification algorithm\\nfrom sklearn.tree import DecisionTreeClassifier\\n# K Nearest Neighbors classification algorithm\\nfrom sklearn.neighbors import KNeighborsClassifier\",","      \"metadata\": {","        \"trusted\": true","      },","      \"outputs\": [],","      \"execution_count\": 2","    },","    {","      \"cell_type\": \"markdown\",","      \"source\": \"This function is to plot the confusion matrix.\\n\",","      \"metadata\": {}","    },","    {","      \"cell_type\": \"code\",","      \"source\": \"def plot_confusion_matrix(y,y_predict):\\n    \\\"this function plots the confusion matrix\\\"\\n    from sklearn.metrics import confusion_matrix\\n\\n    cm = confusion_matrix(y, y_predict)\\n    ax= plt.subplot()\\n    sns.heatmap(cm, annot=True, ax = ax); #annot=True to annotate cells\\n    ax.set_xlabel('Predicted labels')\\n    ax.set_ylabel('True labels')\\n    ax.set_title('Confusion Matrix'); \\n    ax.xaxis.set_ticklabels(['did not land', 'land']); ax.yaxis.set_ticklabels(['did not land', 'landed']) \\n    plt.show() \",","      \"metadata\": {","        \"trusted\": true","      },","      \"outputs\": [],","      \"execution_count\": 3","    },","    {","      \"cell_type\": \"markdown\",","      \"source\": \"## Load the dataframe\\n\",","      \"metadata\": {}","    },","    {","      \"cell_type\": \"markdown\",","      \"source\": \"Load the data\\n\",","      \"metadata\": {}","    },","    {","      \"cell_type\": \"code\",","      \"source\": \"from js import fetch\\nimport io\\n\\nURL1 = \\\"https://cf-courses-data.s3.us.cloud-object-storage.appdomain.cloud/IBM-DS0321EN-SkillsNetwork/datasets/dataset_part_2.csv\\\"\\nresp1 = await fetch(URL1)\\ntext1 = io.BytesIO((await resp1.arrayBuffer()).to_py())\\ndata = pd.read_csv(text1)\",","      \"metadata\": {","        \"trusted\": true","      },","      \"outputs\": [],","      \"execution_count\": 6","    },","    {","      \"cell_type\": \"code\",","      \"source\": \"data.head()\",","      \"metadata\": {","        \"trusted\": true","      },","      \"outputs\": [","        {","          \"execution_count\": 7,","          \"output_type\": \"execute_result\",","          \"data\": {","            \"text/plain\": \"   FlightNumber        Date BoosterVersion  PayloadMass Orbit    LaunchSite  \\\\\\n0             1  2010-06-04       Falcon 9  6104.959412   LEO  CCAFS SLC 40   \\n1             2  2012-05-22       Falcon 9   525.000000   LEO  CCAFS SLC 40   \\n2             3  2013-03-01       Falcon 9   677.000000   ISS  CCAFS SLC 40   \\n3             4  2013-09-29       Falcon 9   500.000000    PO   VAFB SLC 4E   \\n4             5  2013-12-03       Falcon 9  3170.000000   GTO  CCAFS SLC 40   \\n\\n       Outcome  Flights  GridFins  Reused   Legs LandingPad  Block  \\\\\\n0    None None        1     False   False  False        NaN    1.0   \\n1    None None        1     False   False  False        NaN    1.0   \\n2    None None        1     False   False  False        NaN    1.0   \\n3  False Ocean        1     False   False  False        NaN    1.0   \\n4    None None        1     False   False  False        NaN    1.0   \\n\\n   ReusedCount Serial   Longitude   Latitude  Class  \\n0            0  B0003  -80.577366  28.561857      0  \\n1            0  B0005  -80.577366  28.561857      0  \\n2            0  B0007  -80.577366  28.561857      0  \\n3            0  B1003 -120.610829  34.632093      0  \\n4            0  B1004  -80.577366  28.561857      0  \",","            \"text/html\": \"\u003cdiv\u003e\\n\u003cstyle scoped\u003e\\n    .dataframe tbody tr th:only-of-type {\\n        vertical-align: middle;\\n    }\\n\\n    .dataframe tbody tr th {\\n        vertical-align: top;\\n    }\\n\\n    .dataframe thead th {\\n        text-align: right;\\n    }\\n\u003c/style\u003e\\n\u003ctable border=\\\"1\\\" class=\\\"dataframe\\\"\u003e\\n  \u003cthead\u003e\\n    \u003ctr style=\\\"text-align: right;\\\"\u003e\\n      \u003cth\u003e\u003c/th\u003e\\n      \u003cth\u003eFlightNumber\u003c/th\u003e\\n      \u003cth\u003eDate\u003c/th\u003e\\n      \u003cth\u003eBoosterVersion\u003c/th\u003e\\n      \u003cth\u003ePayloadMass\u003c/th\u003e\\n      \u003cth\u003eOrbit\u003c/th\u003e\\n      \u003cth\u003eLaunchSite\u003c/th\u003e\\n      \u003cth\u003eOutcome\u003c/th\u003e\\n      \u003cth\u003eFlights\u003c/th\u003e\\n      \u003cth\u003eGridFins\u003c/th\u003e\\n      \u003cth\u003eReused\u003c/th\u003e\\n      \u003cth\u003eLegs\u003c/th\u003e\\n      \u003cth\u003eLandingPad\u003c/th\u003e\\n      \u003cth\u003eBlock\u003c/th\u003e\\n      \u003cth\u003eReusedCount\u003c/th\u003e\\n      \u003cth\u003eSerial\u003c/th\u003e\\n      \u003cth\u003eLongitude\u003c/th\u003e\\n      \u003cth\u003eLatitude\u003c/th\u003e\\n      \u003cth\u003eClass\u003c/th\u003e\\n    \u003c/tr\u003e\\n  \u003c/thead\u003e\\n  \u003ctbody\u003e\\n    \u003ctr\u003e\\n      \u003cth\u003e0\u003c/th\u003e\\n      \u003ctd\u003e1\u003c/td\u003e\\n      \u003ctd\u003e2010-06-04\u003c/td\u003e\\n      \u003ctd\u003eFalcon 9\u003c/td\u003e\\n      \u003ctd\u003e6104.959412\u003c/td\u003e\\n      \u003ctd\u003eLEO\u003c/td\u003e\\n      \u003ctd\u003eCCAFS SLC 40\u003c/td\u003e\\n      \u003ctd\u003eNone None\u003c/td\u003e\\n      \u003ctd\u003e1\u003c/td\u003e\\n      \u003ctd\u003eFalse\u003c/td\u003e\\n      \u003ctd\u003eFalse\u003c/td\u003e\\n      \u003ctd\u003eFalse\u003c/td\u003e\\n      \u003ctd\u003eNaN\u003c/td\u003e\\n      \u003ctd\u003e1.0\u003c/td\u003e\\n      \u003ctd\u003e0\u003c/td\u003e\\n      \u003ctd\u003eB0003\u003c/td\u003e\\n      \u003ctd\u003e-80.577366\u003c/td\u003e\\n      \u003ctd\u003e28.561857\u003c/td\u003e\\n      \u003ctd\u003e0\u003c/td\u003e\\n    \u003c/tr\u003e\\n    \u003ctr\u003e\\n      \u003cth\u003e1\u003c/th\u003e\\n      \u003ctd\u003e2\u003c/td\u003e\\n      \u003ctd\u003e2012-05-22\u003c/td\u003e\\n      \u003ctd\u003eFalcon 9\u003c/td\u003e\\n      \u003ctd\u003e525.000000\u003c/td\u003e\\n      \u003ctd\u003eLEO\u003c/td\u003e\\n      \u003ctd\u003eCCAFS SLC 40\u003c/td\u003e\\n      \u003ctd\u003eNone None\u003c/td\u003e\\n      \u003ctd\u003e1\u003c/td\u003e\\n      \u003ctd\u003eFalse\u003c/td\u003e\\n      \u003ctd\u003eFalse\u003c/td\u003e\\n      \u003ctd\u003eFalse\u003c/td\u003e\\n      \u003ctd\u003eNaN\u003c/td\u003e\\n      \u003ctd\u003e1.0\u003c/td\u003e\\n      \u003ctd\u003e0\u003c/td\u003e\\n      \u003ctd\u003eB0005\u003c/td\u003e\\n      \u003ctd\u003e-80.577366\u003c/td\u003e\\n      \u003ctd\u003e28.561857\u003c/td\u003e\\n      \u003ctd\u003e0\u003c/td\u003e\\n    \u003c/tr\u003e\\n    \u003ctr\u003e\\n      \u003cth\u003e2\u003c/th\u003e\\n      \u003ctd\u003e3\u003c/td\u003e\\n      \u003ctd\u003e2013-03-01\u003c/td\u003e\\n      \u003ctd\u003eFalcon 9\u003c/td\u003e\\n      \u003ctd\u003e677.000000\u003c/td\u003e\\n      \u003ctd\u003eISS\u003c/td\u003e\\n      \u003ctd\u003eCCAFS SLC 40\u003c/td\u003e\\n      \u003ctd\u003eNone None\u003c/td\u003e\\n      \u003ctd\u003e1\u003c/td\u003e\\n      \u003ctd\u003eFalse\u003c/td\u003e\\n      \u003ctd\u003eFalse\u003c/td\u003e\\n      \u003ctd\u003eFalse\u003c/td\u003e\\n      \u003ctd\u003eNaN\u003c/td\u003e\\n      \u003ctd\u003e1.0\u003c/td\u003e\\n      \u003ctd\u003e0\u003c/td\u003e\\n      \u003ctd\u003eB0007\u003c/td\u003e\\n      \u003ctd\u003e-80.577366\u003c/td\u003e\\n      \u003ctd\u003e28.561857\u003c/td\u003e\\n      \u003ctd\u003e0\u003c/td\u003e\\n    \u003c/tr\u003e\\n    \u003ctr\u003e\\n      \u003cth\u003e3\u003c/th\u003e\\n      \u003ctd\u003e4\u003c/td\u003e\\n      \u003ctd\u003e2013-09-29\u003c/td\u003e\\n      \u003ctd\u003eFalcon 9\u003c/td\u003e\\n      \u003ctd\u003e500.000000\u003c/td\u003e\\n      \u003ctd\u003ePO\u003c/td\u003e\\n      \u003ctd\u003eVAFB SLC 4E\u003c/td\u003e\\n      \u003ctd\u003eFalse Ocean\u003c/td\u003e\\n      \u003ctd\u003e1\u003c/td\u003e\\n      \u003ctd\u003eFalse\u003c/td\u003e\\n      \u003ctd\u003eFalse\u003c/td\u003e\\n      \u003ctd\u003eFalse\u003c/td\u003e\\n      \u003ctd\u003eNaN\u003c/td\u003e\\n      \u003ctd\u003e1.0\u003c/td\u003e\\n      \u003ctd\u003e0\u003c/td\u003e\\n      \u003ctd\u003eB1003\u003c/td\u003e\\n      \u003ctd\u003e-120.610829\u003c/td\u003e\\n      \u003ctd\u003e34.632093\u003c/td\u003e\\n      \u003ctd\u003e0\u003c/td\u003e\\n    \u003c/tr\u003e\\n    \u003ctr\u003e\\n      \u003cth\u003e4\u003c/th\u003e\\n      \u003ctd\u003e5\u003c/td\u003e\\n      \u003ctd\u003e2013-12-03\u003c/td\u003e\\n      \u003ctd\u003eFalcon 9\u003c/td\u003e\\n      \u003ctd\u003e3170.000000\u003c/td\u003e\\n      \u003ctd\u003eGTO\u003c/td\u003e\\n      \u003ctd\u003eCCAFS SLC 40\u003c/td\u003e\\n      \u003ctd\u003eNone None\u003c/td\u003e\\n      \u003ctd\u003e1\u003c/td\u003e\\n      \u003ctd\u003eFalse\u003c/td\u003e\\n      \u003ctd\u003eFalse\u003c/td\u003e\\n      \u003ctd\u003eFalse\u003c/td\u003e\\n      \u003ctd\u003eNaN\u003c/td\u003e\\n      \u003ctd\u003e1.0\u003c/td\u003e\\n      \u003ctd\u003e0\u003c/td\u003e\\n      \u003ctd\u003eB1004\u003c/td\u003e\\n      \u003ctd\u003e-80.577366\u003c/td\u003e\\n      \u003ctd\u003e28.561857\u003c/td\u003e\\n      \u003ctd\u003e0\u003c/td\u003e\\n    \u003c/tr\u003e\\n  \u003c/tbody\u003e\\n\u003c/table\u003e\\n\u003c/div\u003e\"","          },","          \"metadata\": {}","        }","      ],","      \"execution_count\": 7","    },","    {","      \"cell_type\": \"code\",","      \"source\": \"URL2 = 'https://cf-courses-data.s3.us.cloud-object-storage.appdomain.cloud/IBM-DS0321EN-SkillsNetwork/datasets/dataset_part_3.csv'\\nresp2 = await fetch(URL2)\\ntext2 = io.BytesIO((await resp2.arrayBuffer()).to_py())\\nX = pd.read_csv(text2)\",","      \"metadata\": {","        \"trusted\": true","      },","      \"outputs\": [],","      \"execution_count\": 8","    },","    {","      \"cell_type\": \"code\",","      \"source\": \"X.head(100)\",","      \"metadata\": {","        \"trusted\": true","      },","      \"outputs\": [","        {","          \"execution_count\": 9,","          \"output_type\": \"execute_result\",","          \"data\": {","            \"text/plain\": \"    FlightNumber   PayloadMass  Flights  Block  ReusedCount  Orbit_ES-L1  \\\\\\n0            1.0   6104.959412      1.0    1.0          0.0          0.0   \\n1            2.0    525.000000      1.0    1.0          0.0          0.0   \\n2            3.0    677.000000      1.0    1.0          0.0          0.0   \\n3            4.0    500.000000      1.0    1.0          0.0          0.0   \\n4            5.0   3170.000000      1.0    1.0          0.0          0.0   \\n..           ...           ...      ...    ...          ...          ...   \\n85          86.0  15400.000000      2.0    5.0          2.0          0.0   \\n86          87.0  15400.000000      3.0    5.0          2.0          0.0   \\n87          88.0  15400.000000      6.0    5.0          5.0          0.0   \\n88          89.0  15400.000000      3.0    5.0          2.0          0.0   \\n89          90.0   3681.000000      1.0    5.0          0.0          0.0   \\n\\n    Orbit_GEO  Orbit_GTO  Orbit_HEO  Orbit_ISS  ...  Serial_B1058  \\\\\\n0         0.0        0.0        0.0        0.0  ...           0.0   \\n1         0.0        0.0        0.0        0.0  ...           0.0   \\n2         0.0        0.0        0.0        1.0  ...           0.0   \\n3         0.0        0.0        0.0        0.0  ...           0.0   \\n4         0.0        1.0        0.0        0.0  ...           0.0   \\n..        ...        ...        ...        ...  ...           ...   \\n85        0.0        0.0        0.0        0.0  ...           0.0   \\n86        0.0        0.0        0.0        0.0  ...           1.0   \\n87        0.0        0.0        0.0        0.0  ...           0.0   \\n88        0.0        0.0        0.0        0.0  ...           0.0   \\n89        0.0        0.0        0.0        0.0  ...           0.0   \\n\\n    Serial_B1059  Serial_B1060  Serial_B1062  GridFins_False  GridFins_True  \\\\\\n0            0.0           0.0           0.0             1.0            0.0   \\n1            0.0           0.0           0.0             1.0            0.0   \\n2            0.0           0.0           0.0             1.0            0.0   \\n3            0.0           0.0           0.0             1.0            0.0   \\n4            0.0           0.0           0.0             1.0            0.0   \\n..           ...           ...           ...             ...            ...   \\n85           0.0           1.0           0.0             0.0            1.0   \\n86           0.0           0.0           0.0             0.0            1.0   \\n87           0.0           0.0           0.0             0.0            1.0   \\n88           0.0           1.0           0.0             0.0            1.0   \\n89           0.0           0.0           1.0             0.0            1.0   \\n\\n    Reused_False  Reused_True  Legs_False  Legs_True  \\n0            1.0          0.0         1.0        0.0  \\n1            1.0          0.0         1.0        0.0  \\n2            1.0          0.0         1.0        0.0  \\n3            1.0          0.0         1.0        0.0  \\n4            1.0          0.0         1.0        0.0  \\n..           ...          ...         ...        ...  \\n85           0.0          1.0         0.0        1.0  \\n86           0.0          1.0         0.0        1.0  \\n87           0.0          1.0         0.0        1.0  \\n88           0.0          1.0         0.0        1.0  \\n89           1.0          0.0         0.0        1.0  \\n\\n[90 rows x 83 columns]\",","            \"text/html\": \"\u003cdiv\u003e\\n\u003cstyle scoped\u003e\\n    .dataframe tbody tr th:only-of-type {\\n        vertical-align: middle;\\n    }\\n\\n    .dataframe tbody tr th {\\n        vertical-align: top;\\n    }\\n\\n    .dataframe thead th {\\n        text-align: right;\\n    }\\n\u003c/style\u003e\\n\u003ctable border=\\\"1\\\" class=\\\"dataframe\\\"\u003e\\n  \u003cthead\u003e\\n    \u003ctr style=\\\"text-align: right;\\\"\u003e\\n      \u003cth\u003e\u003c/th\u003e\\n      \u003cth\u003eFlightNumber\u003c/th\u003e\\n      \u003cth\u003ePayloadMass\u003c/th\u003e\\n      \u003cth\u003eFlights\u003c/th\u003e\\n      \u003cth\u003eBlock\u003c/th\u003e\\n      \u003cth\u003eReusedCount\u003c/th\u003e\\n      \u003cth\u003eOrbit_ES-L1\u003c/th\u003e\\n      \u003cth\u003eOrbit_GEO\u003c/th\u003e\\n      \u003cth\u003eOrbit_GTO\u003c/th\u003e\\n      \u003cth\u003eOrbit_HEO\u003c/th\u003e\\n      \u003cth\u003eOrbit_ISS\u003c/th\u003e\\n      \u003cth\u003e...\u003c/th\u003e\\n      \u003cth\u003eSerial_B1058\u003c/th\u003e\\n      \u003cth\u003eSerial_B1059\u003c/th\u003e\\n      \u003cth\u003eSerial_B1060\u003c/th\u003e\\n      \u003cth\u003eSerial_B1062\u003c/th\u003e\\n      \u003cth\u003eGridFins_False\u003c/th\u003e\\n      \u003cth\u003eGridFins_True\u003c/th\u003e\\n      \u003cth\u003eReused_False\u003c/th\u003e\\n      \u003cth\u003eReused_True\u003c/th\u003e\\n      \u003cth\u003eLegs_False\u003c/th\u003e\\n      \u003cth\u003eLegs_True\u003c/th\u003e\\n    \u003c/tr\u003e\\n  \u003c/thead\u003e\\n  \u003ctbody\u003e\\n    \u003ctr\u003e\\n      \u003cth\u003e0\u003c/th\u003e\\n      \u003ctd\u003e1.0\u003c/td\u003e\\n      \u003ctd\u003e6104.959412\u003c/td\u003e\\n      \u003ctd\u003e1.0\u003c/td\u003e\\n      \u003ctd\u003e1.0\u003c/td\u003e\\n      \u003ctd\u003e0.0\u003c/td\u003e\\n      \u003ctd\u003e0.0\u003c/td\u003e\\n      \u003ctd\u003e0.0\u003c/td\u003e\\n      \u003ctd\u003e0.0\u003c/td\u003e\\n      \u003ctd\u003e0.0\u003c/td\u003e\\n      \u003ctd\u003e0.0\u003c/td\u003e\\n      \u003ctd\u003e...\u003c/td\u003e\\n      \u003ctd\u003e0.0\u003c/td\u003e\\n      \u003ctd\u003e0.0\u003c/td\u003e\\n      \u003ctd\u003e0.0\u003c/td\u003e\\n      \u003ctd\u003e0.0\u003c/td\u003e\\n      \u003ctd\u003e1.0\u003c/td\u003e\\n      \u003ctd\u003e0.0\u003c/td\u003e\\n      \u003ctd\u003e1.0\u003c/td\u003e\\n      \u003ctd\u003e0.0\u003c/td\u003e\\n      \u003ctd\u003e1.0\u003c/td\u003e\\n      \u003ctd\u003e0.0\u003c/td\u003e\\n    \u003c/tr\u003e\\n    \u003ctr\u003e\\n      \u003cth\u003e1\u003c/th\u003e\\n      \u003ctd\u003e2.0\u003c/td\u003e\\n      \u003ctd\u003e525.000000\u003c/td\u003e\\n      \u003ctd\u003e1.0\u003c/td\u003e\\n      \u003ctd\u003e1.0\u003c/td\u003e\\n      \u003ctd\u003e0.0\u003c/td\u003e\\n      \u003ctd\u003e0.0\u003c/td\u003e\\n      \u003ctd\u003e0.0\u003c/td\u003e\\n      \u003ctd\u003e0.0\u003c/td\u003e\\n      \u003ctd\u003e0.0\u003c/td\u003e\\n      \u003ctd\u003e0.0\u003c/td\u003e\\n      \u003ctd\u003e...\u003c/td\u003e\\n      \u003ctd\u003e0.0\u003c/td\u003e\\n      \u003ctd\u003e0.0\u003c/td\u003e\\n      \u003ctd\u003e0.0\u003c/td\u003e\\n      \u003ctd\u003e0.0\u003c/td\u003e\\n      \u003ctd\u003e1.0\u003c/td\u003e\\n      \u003ctd\u003e0.0\u003c/td\u003e\\n      \u003ctd\u003e1.0\u003c/td\u003e\\n      \u003ctd\u003e0.0\u003c/td\u003e\\n      \u003ctd\u003e1.0\u003c/td\u003e\\n      \u003ctd\u003e0.0\u003c/td\u003e\\n    \u003c/tr\u003e\\n    \u003ctr\u003e\\n      \u003cth\u003e2\u003c/th\u003e\\n      \u003ctd\u003e3.0\u003c/td\u003e\\n      \u003ctd\u003e677.000000\u003c/td\u003e\\n      \u003ctd\u003e1.0\u003c/td\u003e\\n      \u003ctd\u003e1.0\u003c/td\u003e\\n      \u003ctd\u003e0.0\u003c/td\u003e\\n      \u003ctd\u003e0.0\u003c/td\u003e\\n      \u003ctd\u003e0.0\u003c/td\u003e\\n      \u003ctd\u003e0.0\u003c/td\u003e\\n      \u003ctd\u003e0.0\u003c/td\u003e\\n      \u003ctd\u003e1.0\u003c/td\u003e\\n      \u003ctd\u003e...\u003c/td\u003e\\n      \u003ctd\u003e0.0\u003c/td\u003e\\n      \u003ctd\u003e0.0\u003c/td\u003e\\n      \u003ctd\u003e0.0\u003c/td\u003e\\n      \u003ctd\u003e0.0\u003c/td\u003e\\n      \u003ctd\u003e1.0\u003c/td\u003e\\n      \u003ctd\u003e0.0\u003c/td\u003e\\n      \u003ctd\u003e1.0\u003c/td\u003e\\n      \u003ctd\u003e0.0\u003c/td\u003e\\n      \u003ctd\u003e1.0\u003c/td\u003e\\n      \u003ctd\u003e0.0\u003c/td\u003e\\n    \u003c/tr\u003e\\n    \u003ctr\u003e\\n      \u003cth\u003e3\u003c/th\u003e\\n      \u003ctd\u003e4.0\u003c/td\u003e\\n      \u003ctd\u003e500.000000\u003c/td\u003e\\n      \u003ctd\u003e1.0\u003c/td\u003e\\n      \u003ctd\u003e1.0\u003c/td\u003e\\n      \u003ctd\u003e0.0\u003c/td\u003e\\n      \u003ctd\u003e0.0\u003c/td\u003e\\n      \u003ctd\u003e0.0\u003c/td\u003e\\n      \u003ctd\u003e0.0\u003c/td\u003e\\n      \u003ctd\u003e0.0\u003c/td\u003e\\n      \u003ctd\u003e0.0\u003c/td\u003e\\n      \u003ctd\u003e...\u003c/td\u003e\\n      \u003ctd\u003e0.0\u003c/td\u003e\\n      \u003ctd\u003e0.0\u003c/td\u003e\\n      \u003ctd\u003e0.0\u003c/td\u003e\\n      \u003ctd\u003e0.0\u003c/td\u003e\\n      \u003ctd\u003e1.0\u003c/td\u003e\\n      \u003ctd\u003e0.0\u003c/td\u003e\\n      \u003ctd\u003e1.0\u003c/td\u003e\\n      \u003ctd\u003e0.0\u003c/td\u003e\\n      \u003ctd\u003e1.0\u003c/td\u003e\\n      \u003ctd\u003e0.0\u003c/td\u003e\\n    \u003c/tr\u003e\\n    \u003ctr\u003e\\n      \u003cth\u003e4\u003c/th\u003e\\n      \u003ctd\u003e5.0\u003c/td\u003e\\n      \u003ctd\u003e3170.000000\u003c/td\u003e\\n      \u003ctd\u003e1.0\u003c/td\u003e\\n      \u003ctd\u003e1.0\u003c/td\u003e\\n      \u003ctd\u003e0.0\u003c/td\u003e\\n      \u003ctd\u003e0.0\u003c/td\u003e\\n      \u003ctd\u003e0.0\u003c/td\u003e\\n      \u003ctd\u003e1.0\u003c/td\u003e\\n      \u003ctd\u003e0.0\u003c/td\u003e\\n      \u003ctd\u003e0.0\u003c/td\u003e\\n      \u003ctd\u003e...\u003c/td\u003e\\n      \u003ctd\u003e0.0\u003c/td\u003e\\n      \u003ctd\u003e0.0\u003c/td\u003e\\n      \u003ctd\u003e0.0\u003c/td\u003e\\n      \u003ctd\u003e0.0\u003c/td\u003e\\n      \u003ctd\u003e1.0\u003c/td\u003e\\n      \u003ctd\u003e0.0\u003c/td\u003e\\n      \u003ctd\u003e1.0\u003c/td\u003e\\n      \u003ctd\u003e0.0\u003c/td\u003e\\n      \u003ctd\u003e1.0\u003c/td\u003e\\n      \u003ctd\u003e0.0\u003c/td\u003e\\n    \u003c/tr\u003e\\n    \u003ctr\u003e\\n      \u003cth\u003e...\u003c/th\u003e\\n      \u003ctd\u003e...\u003c/td\u003e\\n      \u003ctd\u003e...\u003c/td\u003e\\n      \u003ctd\u003e...\u003c/td\u003e\\n      \u003ctd\u003e...\u003c/td\u003e\\n      \u003ctd\u003e...\u003c/td\u003e\\n      \u003ctd\u003e...\u003c/td\u003e\\n      \u003ctd\u003e...\u003c/td\u003e\\n      \u003ctd\u003e...\u003c/td\u003e\\n      \u003ctd\u003e...\u003c/td\u003e\\n      \u003ctd\u003e...\u003c/td\u003e\\n      \u003ctd\u003e...\u003c/td\u003e\\n      \u003ctd\u003e...\u003c/td\u003e\\n      \u003ctd\u003e...\u003c/td\u003e\\n      \u003ctd\u003e...\u003c/td\u003e\\n      \u003ctd\u003e...\u003c/td\u003e\\n      \u003ctd\u003e...\u003c/td\u003e\\n      \u003ctd\u003e...\u003c/td\u003e\\n      \u003ctd\u003e...\u003c/td\u003e\\n      \u003ctd\u003e...\u003c/td\u003e\\n      \u003ctd\u003e...\u003c/td\u003e\\n      \u003ctd\u003e...\u003c/td\u003e\\n    \u003c/tr\u003e\\n    \u003ctr\u003e\\n      \u003cth\u003e85\u003c/th\u003e\\n      \u003ctd\u003e86.0\u003c/td\u003e\\n      \u003ctd\u003e15400.000000\u003c/td\u003e\\n      \u003ctd\u003e2.0\u003c/td\u003e\\n      \u003ctd\u003e5.0\u003c/td\u003e\\n      \u003ctd\u003e2.0\u003c/td\u003e\\n      \u003ctd\u003e0.0\u003c/td\u003e\\n      \u003ctd\u003e0.0\u003c/td\u003e\\n      \u003ctd\u003e0.0\u003c/td\u003e\\n      \u003ctd\u003e0.0\u003c/td\u003e\\n      \u003ctd\u003e0.0\u003c/td\u003e\\n      \u003ctd\u003e...\u003c/td\u003e\\n      \u003ctd\u003e0.0\u003c/td\u003e\\n      \u003ctd\u003e0.0\u003c/td\u003e\\n      \u003ctd\u003e1.0\u003c/td\u003e\\n      \u003ctd\u003e0.0\u003c/td\u003e\\n      \u003ctd\u003e0.0\u003c/td\u003e\\n      \u003ctd\u003e1.0\u003c/td\u003e\\n      \u003ctd\u003e0.0\u003c/td\u003e\\n      \u003ctd\u003e1.0\u003c/td\u003e\\n      \u003ctd\u003e0.0\u003c/td\u003e\\n      \u003ctd\u003e1.0\u003c/td\u003e\\n    \u003c/tr\u003e\\n    \u003ctr\u003e\\n      \u003cth\u003e86\u003c/th\u003e\\n      \u003ctd\u003e87.0\u003c/td\u003e\\n      \u003ctd\u003e15400.000000\u003c/td\u003e\\n      \u003ctd\u003e3.0\u003c/td\u003e\\n      \u003ctd\u003e5.0\u003c/td\u003e\\n      \u003ctd\u003e2.0\u003c/td\u003e\\n      \u003ctd\u003e0.0\u003c/td\u003e\\n      \u003ctd\u003e0.0\u003c/td\u003e\\n      \u003ctd\u003e0.0\u003c/td\u003e\\n      \u003ctd\u003e0.0\u003c/td\u003e\\n      \u003ctd\u003e0.0\u003c/td\u003e\\n      \u003ctd\u003e...\u003c/td\u003e\\n      \u003ctd\u003e1.0\u003c/td\u003e\\n      \u003ctd\u003e0.0\u003c/td\u003e\\n      \u003ctd\u003e0.0\u003c/td\u003e\\n      \u003ctd\u003e0.0\u003c/td\u003e\\n      \u003ctd\u003e0.0\u003c/td\u003e\\n      \u003ctd\u003e1.0\u003c/td\u003e\\n      \u003ctd\u003e0.0\u003c/td\u003e\\n      \u003ctd\u003e1.0\u003c/td\u003e\\n      \u003ctd\u003e0.0\u003c/td\u003e\\n      \u003ctd\u003e1.0\u003c/td\u003e\\n    \u003c/tr\u003e\\n    \u003ctr\u003e\\n      \u003cth\u003e87\u003c/th\u003e\\n      \u003ctd\u003e88.0\u003c/td\u003e\\n      \u003ctd\u003e15400.000000\u003c/td\u003e\\n      \u003ctd\u003e6.0\u003c/td\u003e\\n      \u003ctd\u003e5.0\u003c/td\u003e\\n      \u003ctd\u003e5.0\u003c/td\u003e\\n      \u003ctd\u003e0.0\u003c/td\u003e\\n      \u003ctd\u003e0.0\u003c/td\u003e\\n      \u003ctd\u003e0.0\u003c/td\u003e\\n      \u003ctd\u003e0.0\u003c/td\u003e\\n      \u003ctd\u003e0.0\u003c/td\u003e\\n      \u003ctd\u003e...\u003c/td\u003e\\n      \u003ctd\u003e0.0\u003c/td\u003e\\n      \u003ctd\u003e0.0\u003c/td\u003e\\n      \u003ctd\u003e0.0\u003c/td\u003e\\n      \u003ctd\u003e0.0\u003c/td\u003e\\n      \u003ctd\u003e0.0\u003c/td\u003e\\n      \u003ctd\u003e1.0\u003c/td\u003e\\n      \u003ctd\u003e0.0\u003c/td\u003e\\n      \u003ctd\u003e1.0\u003c/td\u003e\\n      \u003ctd\u003e0.0\u003c/td\u003e\\n      \u003ctd\u003e1.0\u003c/td\u003e\\n    \u003c/tr\u003e\\n    \u003ctr\u003e\\n      \u003cth\u003e88\u003c/th\u003e\\n      \u003ctd\u003e89.0\u003c/td\u003e\\n      \u003ctd\u003e15400.000000\u003c/td\u003e\\n      \u003ctd\u003e3.0\u003c/td\u003e\\n      \u003ctd\u003e5.0\u003c/td\u003e\\n      \u003ctd\u003e2.0\u003c/td\u003e\\n      \u003ctd\u003e0.0\u003c/td\u003e\\n      \u003ctd\u003e0.0\u003c/td\u003e\\n      \u003ctd\u003e0.0\u003c/td\u003e\\n      \u003ctd\u003e0.0\u003c/td\u003e\\n      \u003ctd\u003e0.0\u003c/td\u003e\\n      \u003ctd\u003e...\u003c/td\u003e\\n      \u003ctd\u003e0.0\u003c/td\u003e\\n      \u003ctd\u003e0.0\u003c/td\u003e\\n      \u003ctd\u003e1.0\u003c/td\u003e\\n      \u003ctd\u003e0.0\u003c/td\u003e\\n      \u003ctd\u003e0.0\u003c/td\u003e\\n      \u003ctd\u003e1.0\u003c/td\u003e\\n      \u003ctd\u003e0.0\u003c/td\u003e\\n      \u003ctd\u003e1.0\u003c/td\u003e\\n      \u003ctd\u003e0.0\u003c/td\u003e\\n      \u003ctd\u003e1.0\u003c/td\u003e\\n    \u003c/tr\u003e\\n    \u003ctr\u003e\\n      \u003cth\u003e89\u003c/th\u003e\\n      \u003ctd\u003e90.0\u003c/td\u003e\\n      \u003ctd\u003e3681.000000\u003c/td\u003e\\n      \u003ctd\u003e1.0\u003c/td\u003e\\n      \u003ctd\u003e5.0\u003c/td\u003e\\n      \u003ctd\u003e0.0\u003c/td\u003e\\n      \u003ctd\u003e0.0\u003c/td\u003e\\n      \u003ctd\u003e0.0\u003c/td\u003e\\n      \u003ctd\u003e0.0\u003c/td\u003e\\n      \u003ctd\u003e0.0\u003c/td\u003e\\n      \u003ctd\u003e0.0\u003c/td\u003e\\n      \u003ctd\u003e...\u003c/td\u003e\\n      \u003ctd\u003e0.0\u003c/td\u003e\\n      \u003ctd\u003e0.0\u003c/td\u003e\\n      \u003ctd\u003e0.0\u003c/td\u003e\\n      \u003ctd\u003e1.0\u003c/td\u003e\\n      \u003ctd\u003e0.0\u003c/td\u003e\\n      \u003ctd\u003e1.0\u003c/td\u003e\\n      \u003ctd\u003e1.0\u003c/td\u003e\\n      \u003ctd\u003e0.0\u003c/td\u003e\\n      \u003ctd\u003e0.0\u003c/td\u003e\\n      \u003ctd\u003e1.0\u003c/td\u003e\\n    \u003c/tr\u003e\\n  \u003c/tbody\u003e\\n\u003c/table\u003e\\n\u003cp\u003e90 rows × 83 columns\u003c/p\u003e\\n\u003c/div\u003e\"","          },","          \"metadata\": {}","        }","      ],","      \"execution_count\": 9","    },","    {","      \"cell_type\": \"markdown\",","      \"source\": \"## TASK  1\\n\",","      \"metadata\": {}","    },","    {","      \"cell_type\": \"markdown\",","      \"source\": \"Create a NumPy array from the column \u003ccode\u003eClass\u003c/code\u003e in \u003ccode\u003edata\u003c/code\u003e, by applying the method \u003ccode\u003eto_numpy()\u003c/code\u003e  then\\nassign it  to the variable \u003ccode\u003eY\u003c/code\u003e,make sure the output is a  Pandas series (only one bracket df\\\\['name of  column']).\\n\",","      \"metadata\": {}","    },","    {","      \"cell_type\": \"code\",","      \"source\": \"Y = data['Class'].to_numpy()\\nY\",","      \"metadata\": {","        \"trusted\": true","      },","      \"outputs\": [","        {","          \"execution_count\": 10,","          \"output_type\": \"execute_result\",","          \"data\": {","            \"text/plain\": \"array([0, 0, 0, 0, 0, 0, 1, 1, 0, 0, 0, 0, 1, 0, 0, 0, 1, 0, 0, 1, 1, 1,\\n       1, 1, 0, 1, 1, 0, 1, 1, 0, 1, 1, 1, 0, 1, 1, 1, 1, 1, 1, 1, 1, 1,\\n       1, 0, 0, 0, 1, 1, 0, 0, 1, 1, 1, 1, 1, 1, 1, 0, 0, 1, 1, 1, 1, 1,\\n       1, 0, 1, 1, 1, 1, 0, 1, 0, 1, 0, 1, 1, 1, 1, 1, 1, 1, 1, 1, 1, 1,\\n       1, 1], dtype=int64)\"","          },","          \"metadata\": {}","        }","      ],","      \"execution_count\": 10","    },","    {","      \"cell_type\": \"markdown\",","      \"source\": \"## TASK  2\\n\",","      \"metadata\": {}","    },","    {","      \"cell_type\": \"markdown\",","      \"source\": \"Standardize the data in \u003ccode\u003eX\u003c/code\u003e then reassign it to the variable  \u003ccode\u003eX\u003c/code\u003e using the transform provided below.\\n\",","      \"metadata\": {}","    },","    {","      \"cell_type\": \"code\",","      \"source\": \"# students get this \\ntransform = preprocessing.StandardScaler()\\nscaler = preprocessing.StandardScaler().fit(X)\\nX = scaler.transform(X)\",","      \"metadata\": {","        \"trusted\": true","      },","      \"outputs\": [],","      \"execution_count\": 11","    },","    {","      \"cell_type\": \"markdown\",","      \"source\": \"We split the data into training and testing data using the  function  \u003ccode\u003etrain_test_split\u003c/code\u003e.   The training data is divided into validation data, a second set used for training  data; then the models are trained and hyperparameters are selected using the function \u003ccode\u003eGridSearchCV\u003c/code\u003e.\\n\",","      \"metadata\": {}","    },","    {","      \"cell_type\": \"markdown\",","      \"source\": \"## TASK  3\\n\",","      \"metadata\": {}","    },","    {","      \"cell_type\": \"markdown\",","      \"source\": \"Use the function train_test_split to split the data X and Y into training and test data. Set the parameter test_size to  0.2 and random_state to 2. The training data and test data should be assigned to the following labels.\\n\",","      \"metadata\": {}","    },","    {","      \"cell_type\": \"markdown\",","      \"source\": \"\u003ccode\u003eX_train, X_test, Y_train, Y_test\u003c/code\u003e\\n\",","      \"metadata\": {}","    },","    {","      \"cell_type\": \"code\",","      \"source\": \"X_train, X_test, Y_train, Y_test = train_test_split(X, Y, test_size=0.2, random_state=2)\",","      \"metadata\": {","        \"trusted\": true","      },","      \"outputs\": [],","      \"execution_count\": 12","    },","    {","      \"cell_type\": \"markdown\",","      \"source\": \"we can see we only have 18 test samples.\\n\",","      \"metadata\": {}","    },","    {","      \"cell_type\": \"code\",","      \"source\": \"Y_test.shape\",","      \"metadata\": {","        \"trusted\": true","      },","      \"outputs\": [","        {","          \"execution_count\": 13,","          \"output_type\": \"execute_result\",","          \"data\": {","            \"text/plain\": \"(18,)\"","          },","          \"metadata\": {}","        }","      ],","      \"execution_count\": 13","    },","    {","      \"cell_type\": \"markdown\",","      \"source\": \"## TASK  4\\n\",","      \"metadata\": {}","    },","    {","      \"cell_type\": \"markdown\",","      \"source\": \"Create a logistic regression object  then create a  GridSearchCV object  \u003ccode\u003elogreg_cv\u003c/code\u003e with cv = 10.  Fit the object to find the best parameters from the dictionary \u003ccode\u003eparameters\u003c/code\u003e.\\n\",","      \"metadata\": {}","    },","    {","      \"cell_type\": \"code\",","      \"source\": \"parameters ={'C':[0.01,0.1,1],\\n             'penalty':['l2'],\\n             'solver':['lbfgs']}\",","      \"metadata\": {","        \"trusted\": true","      },","      \"outputs\": [],","      \"execution_count\": 14","    },","    {","      \"cell_type\": \"code\",","      \"source\": \"parameters ={\\\"C\\\":[0.01,0.1,1],'penalty':['l2'], 'solver':['lbfgs']}# l1 lasso l2 ridge\\nlr=LogisticRegression()\\ngscv = GridSearchCV(lr, parameters, scoring='accuracy', cv=10)\\nlogreg_cv = gscv.fit(X_train, Y_train)\",","      \"metadata\": {","        \"trusted\": true","      },","      \"outputs\": [],","      \"execution_count\": 15","    },","    {","      \"cell_type\": \"markdown\",","      \"source\": \"We output the \u003ccode\u003eGridSearchCV\u003c/code\u003e object for logistic regression. We display the best parameters using the data attribute \u003ccode\u003ebest_params\\\\_\u003c/code\u003e and the accuracy on the validation data using the data attribute \u003ccode\u003ebest_score\\\\_\u003c/code\u003e.\\n\",","      \"metadata\": {}","    },","    {","      \"cell_type\": \"code\",","      \"source\": \"logreg_cv\\nprint(\\\"tuned hpyerparameters :(best parameters) \\\",logreg_cv.best_params_)\\nprint(\\\"accuracy :\\\",logreg_cv.best_score_)\",","      \"metadata\": {","        \"trusted\": true","      },","      \"outputs\": [","        {","          \"name\": \"stdout\",","          \"text\": \"tuned hpyerparameters :(best parameters)  {'C': 0.01, 'penalty': 'l2', 'solver': 'lbfgs'}\\naccuracy : 0.8464285714285713\\n\",","          \"output_type\": \"stream\"","        }","      ],","      \"execution_count\": 16","    },","    {","      \"cell_type\": \"markdown\",","      \"source\": \"## TASK  5\\n\",","      \"metadata\": {}","    },","    {","      \"cell_type\": \"markdown\",","      \"source\": \"Calculate the accuracy on the test data using the method \u003ccode\u003escore\u003c/code\u003e:\\n\",","      \"metadata\": {}","    },","    {","      \"cell_type\": \"code\",","      \"source\": \"logreg_cv.score(X_test, Y_test)\",","      \"metadata\": {","        \"trusted\": true","      },","      \"outputs\": [","        {","          \"execution_count\": 17,","          \"output_type\": \"execute_result\",","          \"data\": {","            \"text/plain\": \"0.8333333333333334\"","          },","          \"metadata\": {}","        }","      ],","      \"execution_count\": 17","    },","    {","      \"cell_type\": \"markdown\",","      \"source\": \"Lets look at the confusion matrix:\\n\",","      \"metadata\": {}","    },","    {","      \"cell_type\": \"code\",","      \"source\": \"yhat=logreg_cv.predict(X_test)\\nplot_confusion_matrix(Y_test,yhat)\",","      \"metadata\": {","        \"trusted\": true","      },","      \"outputs\": [","        {","          \"output_type\": \"display_data\",","          \"data\": {","            \"text/plain\": \"\u003cFigure size 640x480 with 2 Axes\u003e\",","            \"image/png\": \"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\"","          },","          \"metadata\": {}","        }","      ],","      \"execution_count\": 18","    },","    {","      \"cell_type\": \"markdown\",","      \"source\": \"Examining the confusion matrix, we see that logistic regression can distinguish between the different classes.  We see that the major problem is false positives.\\n\",","      \"metadata\": {}","    },","    {","      \"cell_type\": \"markdown\",","      \"source\": \"## TASK  6\\n\",","      \"metadata\": {}","    },","    {","      \"cell_type\": \"markdown\",","      \"source\": \"Create a support vector machine object then  create a  \u003ccode\u003eGridSearchCV\u003c/code\u003e object  \u003ccode\u003esvm_cv\u003c/code\u003e with cv - 10.  Fit the object to find the best parameters from the dictionary \u003ccode\u003eparameters\u003c/code\u003e.\\n\",","      \"metadata\": {}","    },","    {","      \"cell_type\": \"code\",","      \"source\": \"parameters = {'kernel':('linear', 'rbf','poly','rbf', 'sigmoid'),\\n              'C': np.logspace(-3, 3, 5),\\n              'gamma':np.logspace(-3, 3, 5)}\\nsvm = SVC()\",","      \"metadata\": {","        \"trusted\": true","      },","      \"outputs\": [],","      \"execution_count\": 19","    },","    {","      \"cell_type\": \"code\",","      \"source\": \"grsvm = GridSearchCV(svm, parameters, scoring='accuracy', cv=10)\\nsvm_cv = grsvm.fit(X_train, Y_train)\",","      \"metadata\": {","        \"trusted\": true","      },","      \"outputs\": [],","      \"execution_count\": 20","    },","    {","      \"cell_type\": \"code\",","      \"source\": \"print(\\\"tuned hpyerparameters :(best parameters) \\\",svm_cv.best_params_)\\nprint(\\\"accuracy :\\\",svm_cv.best_score_)\",","      \"metadata\": {","        \"trusted\": true","      },","      \"outputs\": [","        {","          \"name\": \"stdout\",","          \"text\": \"tuned hpyerparameters :(best parameters)  {'C': 1.0, 'gamma': 0.03162277660168379, 'kernel': 'sigmoid'}\\naccuracy : 0.8482142857142856\\n\",","          \"output_type\": \"stream\"","        }","      ],","      \"execution_count\": 21","    },","    {","      \"cell_type\": \"markdown\",","      \"source\": \"## TASK  7\\n\",","      \"metadata\": {}","    },","    {","      \"cell_type\": \"markdown\",","      \"source\": \"Calculate the accuracy on the test data using the method \u003ccode\u003escore\u003c/code\u003e:\\n\",","      \"metadata\": {}","    },","    {","      \"cell_type\": \"code\",","      \"source\": \"svm_cv.score(X_test, Y_test)\",","      \"metadata\": {","        \"trusted\": true","      },","      \"outputs\": [","        {","          \"execution_count\": 22,","          \"output_type\": \"execute_result\",","          \"data\": {","            \"text/plain\": \"0.8333333333333334\"","          },","          \"metadata\": {}","        }","      ],","      \"execution_count\": 22","    },","    {","      \"cell_type\": \"markdown\",","      \"source\": \"We can plot the confusion matrix\\n\",","      \"metadata\": {}","    },","    {","      \"cell_type\": \"code\",","      \"source\": \"yhat=svm_cv.predict(X_test)\\nplot_confusion_matrix(Y_test,yhat)\",","      \"metadata\": {","        \"trusted\": true","      },","      \"outputs\": [","        {","          \"output_type\": \"display_data\",","          \"data\": {","            \"text/plain\": \"\u003cFigure size 640x480 with 2 Axes\u003e\",","            \"image/png\": \"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\"","          },","          \"metadata\": {}","        }","      ],","      \"execution_count\": 23","    },","    {","      \"cell_type\": \"markdown\",","      \"source\": \"## TASK  8\\n\",","      \"metadata\": {}","    },","    {","      \"cell_type\": \"markdown\",","      \"source\": \"Create a decision tree classifier object then  create a  \u003ccode\u003eGridSearchCV\u003c/code\u003e object  \u003ccode\u003etree_cv\u003c/code\u003e with cv = 10.  Fit the object to find the best parameters from the dictionary \u003ccode\u003eparameters\u003c/code\u003e.\\n\",","      \"metadata\": {}","    },","    {","      \"cell_type\": \"code\",","      \"source\": \"parameters = {'criterion': ['gini', 'entropy'],\\n     'splitter': ['best', 'random'],\\n     'max_depth': [4,4,4,4],\\n     'max_features': ['log2', 'sqrt'],\\n     'min_samples_leaf': [1, 2, 4],\\n     'min_samples_split': [2, 5, 10]}\\n\\ntree = DecisionTreeClassifier()\",","      \"metadata\": {","        \"trusted\": true","      },","      \"outputs\": [],","      \"execution_count\": 30","    },","    {","      \"cell_type\": \"code\",","      \"source\": \"grtree = GridSearchCV(tree, parameters, cv=10)\\ntree_cv = grtree.fit(X_train, Y_train)\",","      \"metadata\": {","        \"trusted\": true","      },","      \"outputs\": [],","      \"execution_count\": 31","    },","    {","      \"cell_type\": \"code\",","      \"source\": \"print(\\\"tuned hpyerparameters :(best parameters) \\\",tree_cv.best_params_)\\nprint(\\\"accuracy :\\\",tree_cv.best_score_)\",","      \"metadata\": {","        \"trusted\": true","      },","      \"outputs\": [","        {","          \"name\": \"stdout\",","          \"text\": \"tuned hpyerparameters :(best parameters)  {'criterion': 'gini', 'max_depth': 4, 'max_features': 'sqrt', 'min_samples_leaf': 1, 'min_samples_split': 2, 'splitter': 'random'}\\naccuracy : 0.8767857142857143\\n\",","          \"output_type\": \"stream\"","        }","      ],","      \"execution_count\": 32","    },","    {","      \"cell_type\": \"markdown\",","      \"source\": \"## TASK  9\\n\",","      \"metadata\": {}","    },","    {","      \"cell_type\": \"markdown\",","      \"source\": \"Calculate the accuracy of tree_cv on the test data using the method \u003ccode\u003escore\u003c/code\u003e:\\n\",","      \"metadata\": {}","    },","    {","      \"cell_type\": \"code\",","      \"source\": \"tree_cv.score(X_test, Y_test)\",","      \"metadata\": {","        \"trusted\": true","      },","      \"outputs\": [","        {","          \"execution_count\": 33,","          \"output_type\": \"execute_result\",","          \"data\": {","            \"text/plain\": \"0.7222222222222222\"","          },","          \"metadata\": {}","        }","      ],","      \"execution_count\": 33","    },","    {","      \"cell_type\": \"markdown\",","      \"source\": \"We can plot the confusion matrix\\n\",","      \"metadata\": {}","    },","    {","      \"cell_type\": \"code\",","      \"source\": \"yhat = tree_cv.predict(X_test)\\nplot_confusion_matrix(Y_test,yhat)\",","      \"metadata\": {","        \"trusted\": true","      },","      \"outputs\": [","        {","          \"output_type\": \"display_data\",","          \"data\": {","            \"text/plain\": \"\u003cFigure size 640x480 with 2 Axes\u003e\",","            \"image/png\": \"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\"","          },","          \"metadata\": {}","        }","      ],","      \"execution_count\": 34","    },","    {","      \"cell_type\": \"markdown\",","      \"source\": \"## TASK  10\\n\",","      \"metadata\": {}","    },","    {","      \"cell_type\": \"markdown\",","      \"source\": \"Create a k nearest neighbors object then  create a  \u003ccode\u003eGridSearchCV\u003c/code\u003e object  \u003ccode\u003eknn_cv\u003c/code\u003e with cv = 10.  Fit the object to find the best parameters from the dictionary \u003ccode\u003eparameters\u003c/code\u003e.\\n\",","      \"metadata\": {}","    },","    {","      \"cell_type\": \"code\",","      \"source\": \"parameters = {'n_neighbors': [1, 2, 3, 4, 5, 6, 7, 8, 9, 10],\\n              'algorithm': ['auto', 'ball_tree', 'kd_tree', 'brute'],\\n              'p': [1,2]}\\n\\nKNN = KNeighborsClassifier()\",","      \"metadata\": {","        \"trusted\": true","      },","      \"outputs\": [],","      \"execution_count\": 35","    },","    {","      \"cell_type\": \"code\",","      \"source\": \"grknn = GridSearchCV(KNN, parameters, scoring='accuracy', cv=10)\\nknn_cv = grknn.fit(X_train, Y_train)\",","      \"metadata\": {","        \"trusted\": true","      },","      \"outputs\": [","        {","          \"name\": \"stderr\",","          \"text\": \"/lib/python3.11/site-packages/threadpoolctl.py:1019: RuntimeWarning: libc not found. The ctypes module in Python 3.11 is maybe too old for this OS.\\n  warnings.warn(\\n\",","          \"output_type\": \"stream\"","        }","      ],","      \"execution_count\": 36","    },","    {","      \"cell_type\": \"code\",","      \"source\": \"print(\\\"tuned hpyerparameters :(best parameters) \\\",knn_cv.best_params_)\\nprint(\\\"accuracy :\\\",knn_cv.best_score_)\",","      \"metadata\": {","        \"trusted\": true","      },","      \"outputs\": [","        {","          \"name\": \"stdout\",","          \"text\": \"tuned hpyerparameters :(best parameters)  {'algorithm': 'auto', 'n_neighbors': 10, 'p': 1}\\naccuracy : 0.8482142857142858\\n\",","          \"output_type\": \"stream\"","        }","      ],","      \"execution_count\": 37","    },","    {","      \"cell_type\": \"markdown\",","      \"source\": \"## TASK  11\\n\",","      \"metadata\": {}","    },","    {","      \"cell_type\": \"markdown\",","      \"source\": \"Calculate the accuracy of knn_cv on the test data using the method \u003ccode\u003escore\u003c/code\u003e:\\n\",","      \"metadata\": {}","    },","    {","      \"cell_type\": \"code\",","      \"source\": \"knn_cv.score(X_test, Y_test)\",","      \"metadata\": {","        \"trusted\": true","      },","      \"outputs\": [","        {","          \"execution_count\": 38,","          \"output_type\": \"execute_result\",","          \"data\": {","            \"text/plain\": \"0.8333333333333334\"","          },","          \"metadata\": {}","        }","      ],","      \"execution_count\": 38","    },","    {","      \"cell_type\": \"markdown\",","      \"source\": \"We can plot the confusion matrix\\n\",","      \"metadata\": {}","    },","    {","      \"cell_type\": \"code\",","      \"source\": \"yhat = knn_cv.predict(X_test)\\nplot_confusion_matrix(Y_test,yhat)\",","      \"metadata\": {","        \"trusted\": true","      },","      \"outputs\": [","        {","          \"output_type\": \"display_data\",","          \"data\": {","            \"text/plain\": \"\u003cFigure size 640x480 with 2 Axes\u003e\",","            \"image/png\": \"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\"","          },","          \"metadata\": {}","        }","      ],","      \"execution_count\": 35","    },","    {","      \"cell_type\": \"markdown\",","      \"source\": \"## TASK  12\\n\",","      \"metadata\": {}","    },","    {","      \"cell_type\": \"markdown\",","      \"source\": \"Find the method performs best:\\n\",","      \"metadata\": {}","    },","    {","      \"cell_type\": \"code\",","      \"source\": \"print(\\\"Logestic Regression Score: \\\", logreg_cv.score(X_test, Y_test))\\nprint(\\\"Support Vector Machine Score: \\\",svm_cv.score(X_test, Y_test))\\nprint(\\\"Decision Tree Score: \\\",tree_cv.score(X_test, Y_test))\\nprint(\\\"K Nearest Neighbors Score: \\\",knn_cv.score(X_test, Y_test))\\n\\ndata = {'Model':['LR','SVM','Tree', 'KNN'], 'Accuracy Score':[logreg_cv.score(X_test, Y_test),svm_cv.score(X_test, Y_test),tree_cv.score(X_test, Y_test),knn_cv.score(X_test, Y_test)]}\\ndf = pd.DataFrame(data=data)\\nsns.barplot(x='Model', y='Accuracy Score', data=df)\\nplt.show()\",","      \"metadata\": {","        \"trusted\": true","      },","      \"outputs\": [],","      \"execution_count\": null","    },","    {","      \"cell_type\": \"markdown\",","      \"source\": \"## Authors\\n\",","      \"metadata\": {}","    },","    {","      \"cell_type\": \"markdown\",","      \"source\": \"[Pratiksha Verma](https://www.linkedin.com/in/pratiksha-verma-6487561b1/?utm_medium=Exinfluencer\u0026utm_source=Exinfluencer\u0026utm_content=000026UJ\u0026utm_term=10006555\u0026utm_id=NA-SkillsNetwork-Channel-SkillsNetworkCoursesIBMDS0321ENSkillsNetwork865-2023-01-01)\\n\",","      \"metadata\": {}","    },","    {","      \"cell_type\": \"markdown\",","      \"source\": \"## Change Log\\n\",","      \"metadata\": {}","    },","    {","      \"cell_type\": \"markdown\",","      \"source\": \"| Date (YYYY-MM-DD) | Version | Changed By      | Change Description      |\\n| ----------------- | ------- | -------------   | ----------------------- |\\n| 2022-11-09        | 1.0     | Pratiksha Verma | Converted initial version to Jupyterlite|\\n\",","      \"metadata\": {}","    },","    {","      \"cell_type\": \"markdown\",","      \"source\": \"### \u003ch3 align=\\\"center\\\"\u003e IBM Corporation 2022. All rights reserved. \u003ch3/\u003e\\n\",","      \"metadata\": {}","    }","  ]","}"],"stylingDirectives":null,"colorizedLines":null,"csv":null,"csvError":null,"dependabotInfo":{"showConfigurationBanner":false,"configFilePath":null,"networkDependabotPath":"/CoroaPT/FinalAssignment/network/updates","dismissConfigurationNoticePath":"/settings/dismiss-notice/dependabot_configuration_notice","configurationNoticeDismissed":false},"displayName":"8. Spacex-machine-learning-prediction-api.ipynb","displayUrl":"https://notebooks.githubusercontent.com/view/ipynb?browser=chrome\u0026bypass_fastly=true\u0026color_mode=auto\u0026commit=3b46e8c461fc659448d6de4445647d71de2c6087\u0026device=unknown_device\u0026docs_host=https%3A%2F%2Fdocs.github.com\u0026enc_url=68747470733a2f2f7261772e67697468756275736572636f6e74656e742e636f6d2f436f726f6150542f46696e616c41737369676e6d656e742f336234366538633436316663363539343438643664653434343536343764373164653263363038372f382e2532305370616365782d6d616368696e652d6c6561726e696e672d70726564696374696f6e2d6170692e6970796e62\u0026logged_in=true\u0026nwo=CoroaPT%2FFinalAssignment\u0026path=8.+Spacex-machine-learning-prediction-api.ipynb\u0026platform=mac\u0026repository_id=691261244\u0026repository_type=Repository\u0026version=124","headerInfo":{"blobSize":"130 KB","deleteTooltip":"Fork this repository and delete the file","editTooltip":"Fork this repository and edit the file","ghDesktopPath":"https://desktop.github.com","isGitLfs":false,"onBranch":true,"shortPath":"57718b8","siteNavLoginPath":"/login?return_to=https%3A%2F%2Fgithub.com%2FCoroaPT%2FFinalAssignment%2Fblob%2Fmain%2F8.%2520Spacex-machine-learning-prediction-api.ipynb","isCSV":false,"isRichtext":false,"toc":null,"lineInfo":{"truncatedLoc":"723","truncatedSloc":"723"},"mode":"file"},"image":false,"isCodeownersFile":null,"isPlain":false,"isValidLegacyIssueTemplate":false,"issueTemplate":null,"discussionTemplate":null,"language":"Jupyter Notebook","languageID":185,"large":false,"planSupportInfo":{"repoIsFork":null,"repoOwnedByCurrentUser":null,"requestFullPath":"/CoroaPT/FinalAssignment/blob/main/8.%20Spacex-machine-learning-prediction-api.ipynb","showFreeOrgGatedFeatureMessage":null,"showPlanSupportBanner":null,"upgradeDataAttributes":null,"upgradePath":null},"publishBannersInfo":{"dismissActionNoticePath":"/settings/dismiss-notice/publish_action_from_dockerfile","releasePath":"/CoroaPT/FinalAssignment/releases/new?marketplace=true","showPublishActionBanner":false},"rawBlobUrl":"https://github.com/CoroaPT/FinalAssignment/raw/main/8.%20Spacex-machine-learning-prediction-api.ipynb","renderImageOrRaw":false,"richText":null,"renderedFileInfo":{"identityUUID":"d1dba7ef-9661-418e-b4d3-92e9a621e566","renderFileType":"ipynb","size":133583},"shortPath":null,"symbolsEnabled":true,"tabSize":8,"topBannersInfo":{"overridingGlobalFundingFile":false,"globalPreferredFundingPath":null,"showInvalidCitationWarning":false,"citationHelpUrl":"https://docs.github.com/github/creating-cloning-and-archiving-repositories/creating-a-repository-on-github/about-citation-files","actionsOnboardingTip":null},"truncated":false,"viewable":true,"workflowRedirectUrl":null,"symbols":{"timed_out":false,"not_analyzed":true,"symbols":[]}},"copilotInfo":{"documentationUrl":"https://docs.github.com/copilot/overview-of-github-copilot/about-github-copilot-for-individuals","notices":{"codeViewPopover":{"dismissed":false,"dismissPath":"/settings/dismiss-notice/code_view_copilot_popover"}},"userAccess":{"hasSubscriptionEnded":false,"orgHasCFBAccess":false,"userHasCFIAccess":false,"userHasOrgs":false,"userIsOrgAdmin":false,"userIsOrgMember":false,"business":null,"featureRequestInfo":null}},"copilotAccessAllowed":false,"csrf_tokens":{"/CoroaPT/FinalAssignment/branches":{"post":"4_4tFTrrsx4mi-U8tIXWBUnxFjws0nJCq7GqZUfFtIX0osRFdTHZrWmQe2SkU3PGk9_uvlX5Mc7Uz9hELVRNTA"},"/repos/preferences":{"post":"MYmKKhcwaEapPkTjGMFotFNtluLbgVAW-7nn84tON5zgla5HICGeJ3OYtvvcwgKcQGFODFMUFaKGaXqjwXCmuQ"}}},"title":"FinalAssignment/8. Spacex-machine-learning-prediction-api.ipynb at main · CoroaPT/FinalAssignment","appPayload":{"helpUrl":"https://docs.github.com","findFileWorkerPath":"/assets-cdn/worker/find-file-worker-1583894afd38.js","findInFileWorkerPath":"/assets-cdn/worker/find-in-file-worker-3a63a487027b.js","githubDevUrl":"https://github.dev/","enabled_features":{"code_nav_ui_events":false,"react_blob_overlay":true,"copilot_conversational_ux_embedding_update":false,"copilot_smell_icebreaker_ux":true,"copilot_workspace":false}}}</script>
  <div data-target="react-app.reactRoot"><style data-styled="true" data-styled-version="5.3.6">.jUriTl{font-weight:600;font-size:32px;margin:0;display:-webkit-box;display:-webkit-flex;display:-ms-flexbox;display:flex;font-size:14px;}/*!sc*/
.imcwCi{font-weight:600;font-size:32px;margin:0;font-size:16px;margin-left:8px;}/*!sc*/
.cgQnMS{font-weight:600;font-size:32px;margin:0;}/*!sc*/
.diwsLq{font-weight:600;font-size:32px;margin:0;font-weight:600;display:inline-block;max-width:100%;font-size:16px;}/*!sc*/
.jAEDJk{font-weight:600;font-size:32px;margin:0;font-weight:600;display:inline-block;max-width:100%;font-size:14px;}/*!sc*/
data-styled.g1[id="Heading__StyledHeading-sc-1c1dgg0-0"]{content:"jUriTl,imcwCi,cgQnMS,diwsLq,jAEDJk,"}/*!sc*/
.fSWWem{padding:0;}/*!sc*/
.kPPmzM{max-width:100%;margin-left:auto;margin-right:auto;display:-webkit-box;display:-webkit-flex;display:-ms-flexbox;display:flex;-webkit-flex-wrap:wrap;-ms-flex-wrap:wrap;flex-wrap:wrap;}/*!sc*/
.cIAPDV{display:-webkit-box;display:-webkit-flex;display:-ms-flexbox;display:flex;-webkit-flex:1 1 100%;-ms-flex:1 1 100%;flex:1 1 100%;-webkit-flex-wrap:wrap;-ms-flex-wrap:wrap;flex-wrap:wrap;max-width:100%;}/*!sc*/
.gvCnwW{width:100%;}/*!sc*/
@media screen and (min-width:544px){.gvCnwW{width:100%;}}/*!sc*/
@media screen and (min-width:768px){.gvCnwW{width:auto;}}/*!sc*/
.xEgty{display:-webkit-box;display:-webkit-flex;display:-ms-flexbox;display:flex;-webkit-order:1;-ms-flex-order:1;order:1;width:100%;margin-left:0;margin-right:0;-webkit-flex-direction:column;-ms-flex-direction:column;flex-direction:column;margin-bottom:0;min-width:0;}/*!sc*/
@media screen and (min-width:544px){.xEgty{-webkit-flex-direction:column;-ms-flex-direction:column;flex-direction:column;}}/*!sc*/
@media screen and (min-width:768px){.xEgty{width:auto;margin-top:0 !important;margin-bottom:0 !important;position:-webkit-sticky;position:sticky;top:0px;max-height:var(--sticky-pane-height);-webkit-flex-direction:row;-ms-flex-direction:row;flex-direction:row;margin-right:0;}}/*!sc*/
@media screen and (min-width:769px){.xEgty{height:100vh;max-height:100vh !important;}}/*!sc*/
@media print,screen and (max-width:1011px) and (min-width:768px){.xEgty{display:none;}}/*!sc*/
.eUyHuk{margin-left:0;margin-right:0;display:none;margin-top:0;}/*!sc*/
@media screen and (min-width:768px){.eUyHuk{margin-left:0 !important;margin-right:0 !important;}}/*!sc*/
.gNdDUH{--pane-min-width:256px;--pane-max-width-diff:511px;--pane-max-width:calc(100vw - var(--pane-max-width-diff));width:100%;padding:0;}/*!sc*/
@media screen and (min-width:544px){}/*!sc*/
@media screen and (min-width:768px){.gNdDUH{width:clamp(var(--pane-min-width),var(--pane-width),var(--pane-max-width));overflow:auto;}}/*!sc*/
@media screen and (min-width:1280px){.gNdDUH{--pane-max-width-diff:959px;}}/*!sc*/
.jywUSN{max-height:100%;height:100%;display:-webkit-box;display:-webkit-flex;display:-ms-flexbox;display:flex;-webkit-flex-direction:column;-ms-flex-direction:column;flex-direction:column;}/*!sc*/
@media screen and (max-width:768px){.jywUSN{display:none;}}/*!sc*/
@media screen and (min-width:768px){.jywUSN{max-height:100vh;height:100vh;}}/*!sc*/
.hBSSUC{display:-webkit-box;display:-webkit-flex;display:-ms-flexbox;display:flex;-webkit-flex-direction:column;-ms-flex-direction:column;flex-direction:column;-webkit-align-items:center;-webkit-box-align:center;-ms-flex-align:center;align-items:center;padding-left:16px;padding-right:16px;padding-bottom:8px;padding-top:16px;}/*!sc*/
.iPurHz{display:-webkit-box;display:-webkit-flex;display:-ms-flexbox;display:flex;width:100%;margin-bottom:16px;-webkit-align-items:center;-webkit-box-align:center;-ms-flex-align:center;align-items:center;}/*!sc*/
.kkrdEu{-webkit-box-pack:center;-webkit-justify-content:center;-ms-flex-pack:center;justify-content:center;}/*!sc*/
.trpoQ{display:-webkit-box;display:-webkit-flex;display:-ms-flexbox;display:flex;pointer-events:none;}/*!sc*/
.hVHHYa{margin-left:24px;margin-right:24px;display:-webkit-box;display:-webkit-flex;display:-ms-flexbox;display:flex;width:100%;}/*!sc*/
.idZfsJ{-webkit-box-flex:1;-webkit-flex-grow:1;-ms-flex-positive:1;flex-grow:1;}/*!sc*/
.bKgizp{display:-webkit-box;display:-webkit-flex;display:-ms-flexbox;display:flex;width:100%;}/*!sc*/
.dIAShY{margin-right:4px;color:var(--fgColor-muted,var(--color-fg-muted,#848d97));}/*!sc*/
.caeYDk{font-size:14px;min-width:0;overflow:hidden;text-overflow:ellipsis;white-space:nowrap;}/*!sc*/
.jahcnb{margin-left:8px;white-space:nowrap;}/*!sc*/
.jahcnb:hover button:not(:hover){border-left-color:var(--button-default-borderColor-hover,var(--color-btn-hover-border));}/*!sc*/
.ccToMy{margin-left:16px;margin-right:16px;margin-bottom:12px;}/*!sc*/
@media screen and (max-width:768px){.ccToMy{display:none;}}/*!sc*/
.cNvKlH{margin-right:-6px;}/*!sc*/
.cLfAnm{-webkit-box-flex:1;-webkit-flex-grow:1;-ms-flex-positive:1;flex-grow:1;max-height:100% !important;overflow-y:auto;-webkit-scrollbar-gutter:stable;-moz-scrollbar-gutter:stable;-ms-scrollbar-gutter:stable;scrollbar-gutter:stable;}/*!sc*/
@media screen and (max-width:768px){.cLfAnm{display:none;}}/*!sc*/
.erWCJP{padding-left:16px;padding-right:16px;padding-bottom:8px;}/*!sc*/
.hAeDYA{height:100%;position:relative;display:none;margin-left:0;}/*!sc*/
.gZHqlw{position:absolute;inset:0 -2px;cursor:col-resize;background-color:transparent;-webkit-transition-delay:0.1s;transition-delay:0.1s;}/*!sc*/
.gZHqlw:hover{background-color:var(--bgColor-neutral-muted,var(--color-neutral-muted,rgba(110,118,129,0.4)));}/*!sc*/
.emFMJu{display:-webkit-box;display:-webkit-flex;display:-ms-flexbox;display:flex;-webkit-flex-direction:column;-ms-flex-direction:column;flex-direction:column;-webkit-order:2;-ms-flex-order:2;order:2;-webkit-flex-basis:0;-ms-flex-preferred-size:0;flex-basis:0;-webkit-box-flex:1;-webkit-flex-grow:1;-ms-flex-positive:1;flex-grow:1;-webkit-flex-shrink:1;-ms-flex-negative:1;flex-shrink:1;min-width:1px;margin-right:auto;}/*!sc*/
@media print{.emFMJu{display:-webkit-box !important;display:-webkit-flex !important;display:-ms-flexbox !important;display:flex !important;}}/*!sc*/
.hlUAHL{width:100%;max-width:100%;margin-left:auto;margin-right:auto;-webkit-box-flex:1;-webkit-flex-grow:1;-ms-flex-positive:1;flex-grow:1;padding:0;}/*!sc*/
.iStsmI{margin-left:auto;margin-right:auto;-webkit-flex-direction:column;-ms-flex-direction:column;flex-direction:column;padding-bottom:40px;max-width:100%;margin-top:0;}/*!sc*/
.eIgvIk{display:inherit;}/*!sc*/
.eVFfWF{width:100%;}/*!sc*/
.fywjmm{display:-webkit-box;display:-webkit-flex;display:-ms-flexbox;display:flex;gap:8px;-webkit-flex-direction:column;-ms-flex-direction:column;flex-direction:column;width:100%;}/*!sc*/
.dyczTK{display:-webkit-box;display:-webkit-flex;display:-ms-flexbox;display:flex;-webkit-align-items:start;-webkit-box-align:start;-ms-flex-align:start;align-items:start;-webkit-box-pack:justify;-webkit-justify-content:space-between;-ms-flex-pack:justify;justify-content:space-between;gap:8px;}/*!sc*/
.kszRgZ{-webkit-align-self:center;-ms-flex-item-align:center;align-self:center;display:-webkit-box;display:-webkit-flex;display:-ms-flexbox;display:flex;padding-right:8px;min-width:0;}/*!sc*/
.eTvGbF{display:-webkit-box;display:-webkit-flex;display:-ms-flexbox;display:flex;-webkit-flex-direction:row;-ms-flex-direction:row;flex-direction:row;font-size:16px;min-width:0;-webkit-flex-shrink:1;-ms-flex-negative:1;flex-shrink:1;-webkit-flex-wrap:wrap;-ms-flex-wrap:wrap;flex-wrap:wrap;max-width:100%;-webkit-align-items:center;-webkit-box-align:center;-ms-flex-align:center;align-items:center;}/*!sc*/
.kzRgrI{max-width:100%;}/*!sc*/
.cmAPIB{max-width:100%;list-style:none;display:inline-block;}/*!sc*/
.jwXCBK{display:inline-block;max-width:100%;}/*!sc*/
.gtBUEp{min-height:32px;display:-webkit-box;display:-webkit-flex;display:-ms-flexbox;display:flex;-webkit-align-items:start;-webkit-box-align:start;-ms-flex-align:start;align-items:start;}/*!sc*/
.hVZtwF{margin-left:16px;margin-right:16px;}/*!sc*/
.cMYnca{display:-webkit-box;display:-webkit-flex;display:-ms-flexbox;display:flex;-webkit-flex-direction:column;-ms-flex-direction:column;flex-direction:column;}/*!sc*/
.brJRqk{display:-webkit-box;display:-webkit-flex;display:-ms-flexbox;display:flex;-webkit-flex-direction:row;-ms-flex-direction:row;flex-direction:row;-webkit-flex-wrap:wrap;-ms-flex-wrap:wrap;flex-wrap:wrap;-webkit-box-pack:justify;-webkit-justify-content:space-between;-ms-flex-pack:justify;justify-content:space-between;-webkit-align-items:center;-webkit-box-align:center;-ms-flex-align:center;align-items:center;gap:8px;min-width:273px;padding:8px;}/*!sc*/
@media screen and (min-width:544px){.brJRqk{-webkit-flex-wrap:nowrap;-ms-flex-wrap:nowrap;flex-wrap:nowrap;}}/*!sc*/
.iJmJly{display:-webkit-box;display:-webkit-flex;display:-ms-flexbox;display:flex;-webkit-flex-direction:row;-ms-flex-direction:row;flex-direction:row;}/*!sc*/
.jACbi{width:100%;height:-webkit-fit-content;height:-moz-fit-content;height:fit-content;min-width:0;margin-right:0;}/*!sc*/
.gIJuDf{height:40px;padding-left:4px;padding-bottom:16px;}/*!sc*/
.fleZSW{-webkit-align-items:center;-webkit-box-align:center;-ms-flex-align:center;align-items:center;}/*!sc*/
.dVVHlo{font-size:12px;-webkit-flex:auto;-ms-flex:auto;flex:auto;padding-right:16px;color:var(--fgColor-muted,var(--color-fg-muted,#848d97));min-width:0;}/*!sc*/
.VHzRk{top:0px;z-index:4;background:var(--bgColor-default,var(--color-canvas-default));position:-webkit-sticky;position:sticky;}/*!sc*/
.ePiodO{display:-webkit-box;display:-webkit-flex;display:-ms-flexbox;display:flex;-webkit-flex-direction:column;-ms-flex-direction:column;flex-direction:column;width:100%;position:absolute;}/*!sc*/
.kQJlnf{display:none;min-width:0;padding-top:8px;padding-bottom:8px;}/*!sc*/
.gJICKO{margin-right:8px;margin-left:16px;text-overflow:ellipsis;overflow:hidden;display:-webkit-box;display:-webkit-flex;display:-ms-flexbox;display:flex;-webkit-flex-direction:row;-ms-flex-direction:row;flex-direction:row;-webkit-align-items:center;-webkit-box-align:center;-ms-flex-align:center;align-items:center;-webkit-box-pack:justify;-webkit-justify-content:space-between;-ms-flex-pack:justify;justify-content:space-between;width:100%;}/*!sc*/
.iZJewz{display:-webkit-box;display:-webkit-flex;display:-ms-flexbox;display:flex;-webkit-flex-direction:row;-ms-flex-direction:row;flex-direction:row;font-size:14px;min-width:0;-webkit-flex-shrink:1;-ms-flex-negative:1;flex-shrink:1;-webkit-flex-wrap:wrap;-ms-flex-wrap:wrap;flex-wrap:wrap;max-width:100%;-webkit-align-items:center;-webkit-box-align:center;-ms-flex-align:center;align-items:center;}/*!sc*/
.jtQniD{padding-left:8px;padding-top:8px;padding-bottom:8px;display:-webkit-box;display:-webkit-flex;display:-ms-flexbox;display:flex;-webkit-flex:1;-ms-flex:1;flex:1;-webkit-align-items:center;-webkit-box-align:center;-ms-flex-align:center;align-items:center;-webkit-box-pack:justify;-webkit-justify-content:space-between;-ms-flex-pack:justify;justify-content:space-between;background-color:var(--bgColor-muted,var(--color-canvas-subtle,#161b22));border:1px solid var(--borderColor-default,var(--color-border-default));border-radius:6px 6px 0px 0px;}/*!sc*/
.bfkNRF{display:-webkit-box;display:-webkit-flex;display:-ms-flexbox;display:flex;-webkit-align-items:center;-webkit-box-align:center;-ms-flex-align:center;align-items:center;gap:8px;min-width:0;}/*!sc*/
.fXBLEV{display:block;position:relative;-webkit-box-flex:1;-webkit-flex-grow:1;-ms-flex-positive:1;flex-grow:1;margin-top:-1px;margin-bottom:-1px;--separator-color:transparent;}/*!sc*/
.fXBLEV:not(:last-child){margin-right:1px;}/*!sc*/
.fXBLEV:not(:last-child):after{background-color:var(--separator-color);content:"";position:absolute;right:-2px;top:8px;bottom:8px;width:1px;}/*!sc*/
.fXBLEV:focus-within:has(:focus-visible){--separator-color:transparent;}/*!sc*/
.fXBLEV:first-child{margin-left:-1px;}/*!sc*/
.fXBLEV:last-child{margin-right:-1px;}/*!sc*/
.illvPQ{display:block;position:relative;-webkit-box-flex:1;-webkit-flex-grow:1;-ms-flex-positive:1;flex-grow:1;margin-top:-1px;margin-bottom:-1px;--separator-color:var(--borderColor-default,var(--color-border-default,#30363d));}/*!sc*/
.illvPQ:not(:last-child){margin-right:1px;}/*!sc*/
.illvPQ:not(:last-child):after{background-color:var(--separator-color);content:"";position:absolute;right:-2px;top:8px;bottom:8px;width:1px;}/*!sc*/
.illvPQ:focus-within:has(:focus-visible){--separator-color:transparent;}/*!sc*/
.illvPQ:first-child{margin-left:-1px;}/*!sc*/
.illvPQ:last-child{margin-right:-1px;}/*!sc*/
.iBylDf{display:-webkit-box;display:-webkit-flex;display:-ms-flexbox;display:flex;-webkit-align-items:center;-webkit-box-align:center;-ms-flex-align:center;align-items:center;gap:8px;margin-right:8px;}/*!sc*/
.kSGBPx{gap:8px;}/*!sc*/
.jMJFjm{border:1px solid;border-top:none;border-color:var(--borderColor-default,var(--color-border-default,#30363d));border-radius:0px 0px 6px 6px;min-width:273px;}/*!sc*/
.eJsjkT{background-color:var(--bgColor-default,var(--color-canvas-default));border:0px;border-width:0;border-radius:0px 0px 6px 6px;padding:0;min-width:0;margin-top:46px;overflow:auto;}/*!sc*/
.aZrVR{position:fixed;top:0;right:0;height:100%;width:15px;-webkit-transition:-webkit-transform 0.3s;-webkit-transition:transform 0.3s;transition:transform 0.3s;z-index:1;}/*!sc*/
.aZrVR:hover{-webkit-transform:scaleX(1.5);-ms-transform:scaleX(1.5);transform:scaleX(1.5);}/*!sc*/
.bAzdCq{display:-webkit-box;display:-webkit-flex;display:-ms-flexbox;display:flex;-webkit-flex-direction:column;-ms-flex-direction:column;flex-direction:column;-webkit-align-items:center;-webkit-box-align:center;-ms-flex-align:center;align-items:center;padding-top:16px;padding-bottom:16px;}/*!sc*/
data-styled.g2[id="Box-sc-g0xbh4-0"]{content:"fSWWem,kPPmzM,cIAPDV,gvCnwW,xEgty,eUyHuk,gNdDUH,jywUSN,hBSSUC,iPurHz,kkrdEu,trpoQ,hVHHYa,idZfsJ,bKgizp,dIAShY,caeYDk,jahcnb,ccToMy,cNvKlH,cLfAnm,erWCJP,hAeDYA,gZHqlw,emFMJu,hlUAHL,iStsmI,eIgvIk,eVFfWF,fywjmm,dyczTK,kszRgZ,eTvGbF,kzRgrI,cmAPIB,jwXCBK,gtBUEp,hVZtwF,cMYnca,brJRqk,iJmJly,jACbi,gIJuDf,fleZSW,dVVHlo,VHzRk,ePiodO,kQJlnf,gJICKO,iZJewz,jtQniD,bfkNRF,fXBLEV,illvPQ,iBylDf,kSGBPx,jMJFjm,eJsjkT,aZrVR,bAzdCq,"}/*!sc*/
.iKABXH{border-radius:6px;border:1px solid;border-color:transparent;font-family:inherit;font-weight:500;font-size:14px;cursor:pointer;-webkit-appearance:none;-moz-appearance:none;appearance:none;-webkit-user-select:none;-moz-user-select:none;-ms-user-select:none;user-select:none;-webkit-text-decoration:none;text-decoration:none;text-align:center;display:-webkit-box;display:-webkit-flex;display:-ms-flexbox;display:flex;-webkit-align-items:center;-webkit-box-align:center;-ms-flex-align:center;align-items:center;-webkit-box-pack:justify;-webkit-justify-content:space-between;-ms-flex-pack:justify;justify-content:space-between;height:32px;padding:0 12px;gap:8px;min-width:-webkit-max-content;min-width:-moz-max-content;min-width:max-content;-webkit-transition:80ms cubic-bezier(0.65,0,0.35,1);transition:80ms cubic-bezier(0.65,0,0.35,1);-webkit-transition-property:color,fill,background-color,border-color;transition-property:color,fill,background-color,border-color;color:var(--button-default-fgColor-rest,var(--color-btn-text,#c9d1d9));background-color:transparent;box-shadow:none;}/*!sc*/
.iKABXH:focus:not(:disabled){box-shadow:none;outline:2px solid var(--fgColor-accent,var(--color-accent-fg,#2f81f7));outline-offset:-2px;}/*!sc*/
.iKABXH:focus:not(:disabled):not(:focus-visible){outline:solid 1px transparent;}/*!sc*/
.iKABXH:focus-visible:not(:disabled){box-shadow:none;outline:2px solid var(--fgColor-accent,var(--color-accent-fg,#2f81f7));outline-offset:-2px;}/*!sc*/
.iKABXH[href]{display:-webkit-inline-box;display:-webkit-inline-flex;display:-ms-inline-flexbox;display:inline-flex;}/*!sc*/
.iKABXH[href]:hover{-webkit-text-decoration:none;text-decoration:none;}/*!sc*/
.iKABXH:hover{-webkit-transition-duration:80ms;transition-duration:80ms;}/*!sc*/
.iKABXH:active{-webkit-transition:none;transition:none;}/*!sc*/
.iKABXH[data-inactive]{cursor:auto;}/*!sc*/
.iKABXH:disabled{cursor:not-allowed;box-shadow:none;color:var(--fgColor-disabled,var(--color-primer-fg-disabled,#484f58));}/*!sc*/
.iKABXH:disabled [data-component=ButtonCounter],.iKABXH:disabled [data-component="leadingVisual"],.iKABXH:disabled [data-component="trailingAction"]{color:inherit;}/*!sc*/
@media (forced-colors:active){.iKABXH:focus{outline:solid 1px transparent;}}/*!sc*/
.iKABXH [data-component=ButtonCounter]{font-size:12px;}/*!sc*/
.iKABXH[data-component=IconButton]{display:inline-grid;padding:unset;place-content:center;width:32px;min-width:unset;}/*!sc*/
.iKABXH[data-size="small"]{padding:0 8px;height:28px;gap:4px;font-size:12px;}/*!sc*/
.iKABXH[data-size="small"] [data-component="text"]{line-height:calc(20 / 12);}/*!sc*/
.iKABXH[data-size="small"] [data-component=ButtonCounter]{font-size:12px;}/*!sc*/
.iKABXH[data-size="small"] [data-component="buttonContent"] > :not(:last-child){margin-right:4px;}/*!sc*/
.iKABXH[data-size="small"][data-component=IconButton]{width:28px;padding:unset;}/*!sc*/
.iKABXH[data-size="large"]{padding:0 16px;height:40px;gap:8px;}/*!sc*/
.iKABXH[data-size="large"] [data-component="buttonContent"] > :not(:last-child){margin-right:8px;}/*!sc*/
.iKABXH[data-size="large"][data-component=IconButton]{width:40px;padding:unset;}/*!sc*/
.iKABXH[data-block="block"]{width:100%;}/*!sc*/
.iKABXH[data-inactive]:not([disabled]){background-color:var(--button-inactive-bgColor,var(--button-inactive-bgColor-rest,var(--color-btn-inactive-bg,#21262d)));border-color:var(--button-inactive-bgColor,var(--button-inactive-bgColor-rest,var(--color-btn-inactive-bg,#21262d)));color:var(--button-inactive-fgColor,var(--button-inactive-fgColor-rest,var(--color-btn-inactive-text,#8b949e)));}/*!sc*/
.iKABXH[data-inactive]:not([disabled]):focus-visible{box-shadow:none;}/*!sc*/
.iKABXH [data-component="leadingVisual"]{grid-area:leadingVisual;color:var(--fgColor-muted,var(--color-fg-muted,#848d97));}/*!sc*/
.iKABXH [data-component="text"]{grid-area:text;line-height:calc(20/14);white-space:nowrap;}/*!sc*/
.iKABXH [data-component="trailingVisual"]{grid-area:trailingVisual;}/*!sc*/
.iKABXH [data-component="trailingAction"]{margin-right:-4px;color:var(--fgColor-muted,var(--color-fg-muted,#848d97));}/*!sc*/
.iKABXH [data-component="buttonContent"]{-webkit-flex:1 0 auto;-ms-flex:1 0 auto;flex:1 0 auto;display:grid;grid-template-areas:"leadingVisual text trailingVisual";grid-template-columns:min-content minmax(0,auto) min-content;-webkit-align-items:center;-webkit-box-align:center;-ms-flex-align:center;align-items:center;-webkit-align-content:center;-ms-flex-line-pack:center;align-content:center;}/*!sc*/
.iKABXH [data-component="buttonContent"] > :not(:last-child){margin-right:8px;}/*!sc*/
.iKABXH:hover:not([disabled]){background-color:var(--control-transparent-bgColor-hover,var(--color-action-list-item-default-hover-bg,rgba(177,186,196,0.12)));}/*!sc*/
.iKABXH:active:not([disabled]){background-color:var(--control-transparent-bgColor-active,var(--color-action-list-item-default-active-bg,rgba(177,186,196,0.2)));}/*!sc*/
.iKABXH[aria-expanded=true]{background-color:var(--control-transparent-bgColor-selected,var(--color-action-list-item-default-selected-bg,rgba(177,186,196,0.08)));}/*!sc*/
.iKABXH[data-component="IconButton"][data-no-visuals]{color:var(--fgColor-muted,var(--color-fg-muted,#848d97));}/*!sc*/
.iKABXH[data-no-visuals]{color:var(--fgColor-accent,var(--color-accent-fg,#2f81f7));}/*!sc*/
.iKABXH:has([data-component="ButtonCounter"]){color:var(--button-default-fgColor-rest,var(--color-btn-text,#c9d1d9));}/*!sc*/
.iKABXH:disabled[data-no-visuals]{color:var(--fgColor-disabled,var(--color-primer-fg-disabled,#484f58));}/*!sc*/
.iKABXH:disabled[data-no-visuals] [data-component=ButtonCounter]{color:inherit;}/*!sc*/
.iKABXH{color:var(--fgColor-muted,var(--color-fg-muted,#848d97));padding-left:8px;padding-right:8px;display:none;}/*!sc*/
@media screen and (max-width:768px){.iKABXH{display:block;}}/*!sc*/
.hfWObv{border-radius:6px;border:1px solid;border-color:transparent;font-family:inherit;font-weight:500;font-size:14px;cursor:pointer;-webkit-appearance:none;-moz-appearance:none;appearance:none;-webkit-user-select:none;-moz-user-select:none;-ms-user-select:none;user-select:none;-webkit-text-decoration:none;text-decoration:none;text-align:center;display:-webkit-box;display:-webkit-flex;display:-ms-flexbox;display:flex;-webkit-align-items:center;-webkit-box-align:center;-ms-flex-align:center;align-items:center;-webkit-box-pack:justify;-webkit-justify-content:space-between;-ms-flex-pack:justify;justify-content:space-between;height:32px;padding:0 12px;gap:8px;min-width:-webkit-max-content;min-width:-moz-max-content;min-width:max-content;-webkit-transition:80ms cubic-bezier(0.65,0,0.35,1);transition:80ms cubic-bezier(0.65,0,0.35,1);-webkit-transition-property:color,fill,background-color,border-color;transition-property:color,fill,background-color,border-color;color:var(--button-default-fgColor-rest,var(--color-btn-text,#c9d1d9));background-color:transparent;box-shadow:none;}/*!sc*/
.hfWObv:focus:not(:disabled){box-shadow:none;outline:2px solid var(--fgColor-accent,var(--color-accent-fg,#2f81f7));outline-offset:-2px;}/*!sc*/
.hfWObv:focus:not(:disabled):not(:focus-visible){outline:solid 1px transparent;}/*!sc*/
.hfWObv:focus-visible:not(:disabled){box-shadow:none;outline:2px solid var(--fgColor-accent,var(--color-accent-fg,#2f81f7));outline-offset:-2px;}/*!sc*/
.hfWObv[href]{display:-webkit-inline-box;display:-webkit-inline-flex;display:-ms-inline-flexbox;display:inline-flex;}/*!sc*/
.hfWObv[href]:hover{-webkit-text-decoration:none;text-decoration:none;}/*!sc*/
.hfWObv:hover{-webkit-transition-duration:80ms;transition-duration:80ms;}/*!sc*/
.hfWObv:active{-webkit-transition:none;transition:none;}/*!sc*/
.hfWObv[data-inactive]{cursor:auto;}/*!sc*/
.hfWObv:disabled{cursor:not-allowed;box-shadow:none;color:var(--fgColor-disabled,var(--color-primer-fg-disabled,#484f58));}/*!sc*/
.hfWObv:disabled [data-component=ButtonCounter],.hfWObv:disabled [data-component="leadingVisual"],.hfWObv:disabled [data-component="trailingAction"]{color:inherit;}/*!sc*/
@media (forced-colors:active){.hfWObv:focus{outline:solid 1px transparent;}}/*!sc*/
.hfWObv [data-component=ButtonCounter]{font-size:12px;}/*!sc*/
.hfWObv[data-component=IconButton]{display:inline-grid;padding:unset;place-content:center;width:32px;min-width:unset;}/*!sc*/
.hfWObv[data-size="small"]{padding:0 8px;height:28px;gap:4px;font-size:12px;}/*!sc*/
.hfWObv[data-size="small"] [data-component="text"]{line-height:calc(20 / 12);}/*!sc*/
.hfWObv[data-size="small"] [data-component=ButtonCounter]{font-size:12px;}/*!sc*/
.hfWObv[data-size="small"] [data-component="buttonContent"] > :not(:last-child){margin-right:4px;}/*!sc*/
.hfWObv[data-size="small"][data-component=IconButton]{width:28px;padding:unset;}/*!sc*/
.hfWObv[data-size="large"]{padding:0 16px;height:40px;gap:8px;}/*!sc*/
.hfWObv[data-size="large"] [data-component="buttonContent"] > :not(:last-child){margin-right:8px;}/*!sc*/
.hfWObv[data-size="large"][data-component=IconButton]{width:40px;padding:unset;}/*!sc*/
.hfWObv[data-block="block"]{width:100%;}/*!sc*/
.hfWObv[data-inactive]:not([disabled]){background-color:var(--button-inactive-bgColor,var(--button-inactive-bgColor-rest,var(--color-btn-inactive-bg,#21262d)));border-color:var(--button-inactive-bgColor,var(--button-inactive-bgColor-rest,var(--color-btn-inactive-bg,#21262d)));color:var(--button-inactive-fgColor,var(--button-inactive-fgColor-rest,var(--color-btn-inactive-text,#8b949e)));}/*!sc*/
.hfWObv[data-inactive]:not([disabled]):focus-visible{box-shadow:none;}/*!sc*/
.hfWObv [data-component="leadingVisual"]{grid-area:leadingVisual;color:var(--fgColor-muted,var(--color-fg-muted,#848d97));}/*!sc*/
.hfWObv [data-component="text"]{grid-area:text;line-height:calc(20/14);white-space:nowrap;}/*!sc*/
.hfWObv [data-component="trailingVisual"]{grid-area:trailingVisual;}/*!sc*/
.hfWObv [data-component="trailingAction"]{margin-right:-4px;color:var(--fgColor-muted,var(--color-fg-muted,#848d97));}/*!sc*/
.hfWObv [data-component="buttonContent"]{-webkit-flex:1 0 auto;-ms-flex:1 0 auto;flex:1 0 auto;display:grid;grid-template-areas:"leadingVisual text trailingVisual";grid-template-columns:min-content minmax(0,auto) min-content;-webkit-align-items:center;-webkit-box-align:center;-ms-flex-align:center;align-items:center;-webkit-align-content:center;-ms-flex-line-pack:center;align-content:center;}/*!sc*/
.hfWObv [data-component="buttonContent"] > :not(:last-child){margin-right:8px;}/*!sc*/
.hfWObv:hover:not([disabled]){background-color:var(--control-transparent-bgColor-hover,var(--color-action-list-item-default-hover-bg,rgba(177,186,196,0.12)));}/*!sc*/
.hfWObv:active:not([disabled]){background-color:var(--control-transparent-bgColor-active,var(--color-action-list-item-default-active-bg,rgba(177,186,196,0.2)));}/*!sc*/
.hfWObv[aria-expanded=true]{background-color:var(--control-transparent-bgColor-selected,var(--color-action-list-item-default-selected-bg,rgba(177,186,196,0.08)));}/*!sc*/
.hfWObv[data-component="IconButton"][data-no-visuals]{color:var(--fgColor-muted,var(--color-fg-muted,#848d97));}/*!sc*/
.hfWObv[data-no-visuals]{color:var(--fgColor-muted,var(--color-fg-muted,#848d97));height:32px;position:relative;}/*!sc*/
@media screen and (max-width:768px){.hfWObv[data-no-visuals]{display:none;}}/*!sc*/
.hfWObv:has([data-component="ButtonCounter"]){color:var(--button-default-fgColor-rest,var(--color-btn-text,#c9d1d9));}/*!sc*/
.hfWObv:disabled[data-no-visuals]{color:var(--fgColor-disabled,var(--color-primer-fg-disabled,#484f58));}/*!sc*/
.hfWObv:disabled[data-no-visuals] [data-component=ButtonCounter]{color:inherit;}/*!sc*/
.gBsjGI{border-radius:6px;border:1px solid;border-color:var(--button-default-borderColor-rest,var(--button-default-borderColor-rest,var(--color-btn-border,rgba(240,246,252,0.1))));font-family:inherit;font-weight:500;font-size:14px;cursor:pointer;-webkit-appearance:none;-moz-appearance:none;appearance:none;-webkit-user-select:none;-moz-user-select:none;-ms-user-select:none;user-select:none;-webkit-text-decoration:none;text-decoration:none;text-align:center;display:-webkit-box;display:-webkit-flex;display:-ms-flexbox;display:flex;-webkit-align-items:center;-webkit-box-align:center;-ms-flex-align:center;align-items:center;-webkit-box-pack:justify;-webkit-justify-content:space-between;-ms-flex-pack:justify;justify-content:space-between;height:32px;padding:0 12px;gap:8px;min-width:-webkit-max-content;min-width:-moz-max-content;min-width:max-content;-webkit-transition:80ms cubic-bezier(0.65,0,0.35,1);transition:80ms cubic-bezier(0.65,0,0.35,1);-webkit-transition-property:color,fill,background-color,border-color;transition-property:color,fill,background-color,border-color;color:var(--button-default-fgColor-rest,var(--color-btn-text,#c9d1d9));background-color:var(--button-default-bgColor-rest,var(--color-btn-bg,#21262d));box-shadow:var(--button-default-shadow-resting,var(--color-btn-shadow,0 0 transparent)),var(--button-default-shadow-inset,var(--color-btn-inset-shadow,0 0 transparent));}/*!sc*/
.gBsjGI:focus:not(:disabled){box-shadow:none;outline:2px solid var(--fgColor-accent,var(--color-accent-fg,#2f81f7));outline-offset:-2px;}/*!sc*/
.gBsjGI:focus:not(:disabled):not(:focus-visible){outline:solid 1px transparent;}/*!sc*/
.gBsjGI:focus-visible:not(:disabled){box-shadow:none;outline:2px solid var(--fgColor-accent,var(--color-accent-fg,#2f81f7));outline-offset:-2px;}/*!sc*/
.gBsjGI[href]{display:-webkit-inline-box;display:-webkit-inline-flex;display:-ms-inline-flexbox;display:inline-flex;}/*!sc*/
.gBsjGI[href]:hover{-webkit-text-decoration:none;text-decoration:none;}/*!sc*/
.gBsjGI:hover{-webkit-transition-duration:80ms;transition-duration:80ms;}/*!sc*/
.gBsjGI:active{-webkit-transition:none;transition:none;}/*!sc*/
.gBsjGI[data-inactive]{cursor:auto;}/*!sc*/
.gBsjGI:disabled{cursor:not-allowed;box-shadow:none;color:var(--fgColor-disabled,var(--color-primer-fg-disabled,#484f58));border-color:var(--button-default-borderColor-disabled,var(--button-default-borderColor-rest,var(--color-btn-border,rgba(240,246,252,0.1))));background-color:var(--button-default-bgColor-disabled,var(--control-bgColor-disabled,var(--color-input-disabled-bg,rgba(110,118,129,0))));}/*!sc*/
.gBsjGI:disabled [data-component=ButtonCounter]{color:inherit;}/*!sc*/
@media (forced-colors:active){.gBsjGI:focus{outline:solid 1px transparent;}}/*!sc*/
.gBsjGI [data-component=ButtonCounter]{font-size:12px;background-color:var(--buttonCounter-default-bgColor-rest,var(--color-btn-counter-bg,#30363d));}/*!sc*/
.gBsjGI[data-component=IconButton]{display:inline-grid;padding:unset;place-content:center;width:32px;min-width:unset;}/*!sc*/
.gBsjGI[data-size="small"]{padding:0 8px;height:28px;gap:4px;font-size:12px;}/*!sc*/
.gBsjGI[data-size="small"] [data-component="text"]{line-height:calc(20 / 12);}/*!sc*/
.gBsjGI[data-size="small"] [data-component=ButtonCounter]{font-size:12px;}/*!sc*/
.gBsjGI[data-size="small"] [data-component="buttonContent"] > :not(:last-child){margin-right:4px;}/*!sc*/
.gBsjGI[data-size="small"][data-component=IconButton]{width:28px;padding:unset;}/*!sc*/
.gBsjGI[data-size="large"]{padding:0 16px;height:40px;gap:8px;}/*!sc*/
.gBsjGI[data-size="large"] [data-component="buttonContent"] > :not(:last-child){margin-right:8px;}/*!sc*/
.gBsjGI[data-size="large"][data-component=IconButton]{width:40px;padding:unset;}/*!sc*/
.gBsjGI[data-block="block"]{width:100%;}/*!sc*/
.gBsjGI[data-inactive]:not([disabled]){background-color:var(--button-inactive-bgColor,var(--button-inactive-bgColor-rest,var(--color-btn-inactive-bg,#21262d)));border-color:var(--button-inactive-bgColor,var(--button-inactive-bgColor-rest,var(--color-btn-inactive-bg,#21262d)));color:var(--button-inactive-fgColor,var(--button-inactive-fgColor-rest,var(--color-btn-inactive-text,#8b949e)));}/*!sc*/
.gBsjGI[data-inactive]:not([disabled]):focus-visible{box-shadow:none;}/*!sc*/
.gBsjGI [data-component="leadingVisual"]{grid-area:leadingVisual;}/*!sc*/
.gBsjGI [data-component="text"]{grid-area:text;line-height:calc(20/14);white-space:nowrap;}/*!sc*/
.gBsjGI [data-component="trailingVisual"]{grid-area:trailingVisual;}/*!sc*/
.gBsjGI [data-component="trailingAction"]{margin-right:-4px;}/*!sc*/
.gBsjGI [data-component="buttonContent"]{-webkit-flex:1 0 auto;-ms-flex:1 0 auto;flex:1 0 auto;display:grid;grid-template-areas:"leadingVisual text trailingVisual";grid-template-columns:min-content minmax(0,auto) min-content;-webkit-align-items:center;-webkit-box-align:center;-ms-flex-align:center;align-items:center;-webkit-align-content:center;-ms-flex-line-pack:center;align-content:center;}/*!sc*/
.gBsjGI [data-component="buttonContent"] > :not(:last-child){margin-right:8px;}/*!sc*/
.gBsjGI:hover:not([disabled]):not([data-inactive]){background-color:var(--button-default-bgColor-hover,var(--color-btn-hover-bg,#30363d));border-color:var(--button-default-borderColor-hover,var(--button-default-borderColor-hover,var(--color-btn-hover-border,#8b949e)));}/*!sc*/
.gBsjGI:active:not([disabled]):not([data-inactive]){background-color:var(--button-default-bgColor-active,var(--color-btn-active-bg,hsla(212,12%,18%,1)));border-color:var(--button-default-borderColor-active,var(--button-default-borderColor-active,var(--color-btn-active-border,#6e7681)));}/*!sc*/
.gBsjGI[aria-expanded=true]{background-color:var(--button-default-bgColor-active,var(--color-btn-active-bg,hsla(212,12%,18%,1)));border-color:var(--button-default-borderColor-active,var(--button-default-borderColor-active,var(--color-btn-active-border,#6e7681)));}/*!sc*/
.gBsjGI [data-component="leadingVisual"],.gBsjGI [data-component="trailingVisual"],.gBsjGI [data-component="trailingAction"]{color:var(--button-color,var(--fgColor-muted,var(--color-fg-muted,#848d97)));}/*!sc*/
.gBsjGI[data-component="IconButton"][data-no-visuals]{color:var(--fgColor-muted,var(--color-fg-muted,#848d97));}/*!sc*/
.gBsjGI{display:-webkit-box;display:-webkit-flex;display:-ms-flexbox;display:flex;min-width:0;}/*!sc*/
.gBsjGI svg{color:var(--fgColor-muted,var(--color-fg-muted,#848d97));}/*!sc*/
.gBsjGI > span{width:inherit;}/*!sc*/
.XJZbf{border-radius:6px;border:1px solid;border-color:var(--button-default-borderColor-rest,var(--button-default-borderColor-rest,var(--color-btn-border,rgba(240,246,252,0.1))));font-family:inherit;font-weight:500;font-size:14px;cursor:pointer;-webkit-appearance:none;-moz-appearance:none;appearance:none;-webkit-user-select:none;-moz-user-select:none;-ms-user-select:none;user-select:none;-webkit-text-decoration:none;text-decoration:none;text-align:center;display:-webkit-box;display:-webkit-flex;display:-ms-flexbox;display:flex;-webkit-align-items:center;-webkit-box-align:center;-ms-flex-align:center;align-items:center;-webkit-box-pack:justify;-webkit-justify-content:space-between;-ms-flex-pack:justify;justify-content:space-between;height:32px;padding:0 12px;gap:8px;min-width:-webkit-max-content;min-width:-moz-max-content;min-width:max-content;-webkit-transition:80ms cubic-bezier(0.65,0,0.35,1);transition:80ms cubic-bezier(0.65,0,0.35,1);-webkit-transition-property:color,fill,background-color,border-color;transition-property:color,fill,background-color,border-color;color:var(--button-default-fgColor-rest,var(--color-btn-text,#c9d1d9));background-color:var(--button-default-bgColor-rest,var(--color-btn-bg,#21262d));box-shadow:var(--button-default-shadow-resting,var(--color-btn-shadow,0 0 transparent)),var(--button-default-shadow-inset,var(--color-btn-inset-shadow,0 0 transparent));}/*!sc*/
.XJZbf:focus:not(:disabled){box-shadow:none;outline:2px solid var(--fgColor-accent,var(--color-accent-fg,#2f81f7));outline-offset:-2px;}/*!sc*/
.XJZbf:focus:not(:disabled):not(:focus-visible){outline:solid 1px transparent;}/*!sc*/
.XJZbf:focus-visible:not(:disabled){box-shadow:none;outline:2px solid var(--fgColor-accent,var(--color-accent-fg,#2f81f7));outline-offset:-2px;}/*!sc*/
.XJZbf[href]{display:-webkit-inline-box;display:-webkit-inline-flex;display:-ms-inline-flexbox;display:inline-flex;}/*!sc*/
.XJZbf[href]:hover{-webkit-text-decoration:none;text-decoration:none;}/*!sc*/
.XJZbf:hover{-webkit-transition-duration:80ms;transition-duration:80ms;}/*!sc*/
.XJZbf:active{-webkit-transition:none;transition:none;}/*!sc*/
.XJZbf[data-inactive]{cursor:auto;}/*!sc*/
.XJZbf:disabled{cursor:not-allowed;box-shadow:none;color:var(--fgColor-disabled,var(--color-primer-fg-disabled,#484f58));border-color:var(--button-default-borderColor-disabled,var(--button-default-borderColor-rest,var(--color-btn-border,rgba(240,246,252,0.1))));background-color:var(--button-default-bgColor-disabled,var(--control-bgColor-disabled,var(--color-input-disabled-bg,rgba(110,118,129,0))));}/*!sc*/
.XJZbf:disabled [data-component=ButtonCounter]{color:inherit;}/*!sc*/
@media (forced-colors:active){.XJZbf:focus{outline:solid 1px transparent;}}/*!sc*/
.XJZbf [data-component=ButtonCounter]{font-size:12px;background-color:var(--buttonCounter-default-bgColor-rest,var(--color-btn-counter-bg,#30363d));}/*!sc*/
.XJZbf[data-component=IconButton]{display:inline-grid;padding:unset;place-content:center;width:32px;min-width:unset;}/*!sc*/
.XJZbf[data-size="small"]{padding:0 8px;height:28px;gap:4px;font-size:12px;}/*!sc*/
.XJZbf[data-size="small"] [data-component="text"]{line-height:calc(20 / 12);}/*!sc*/
.XJZbf[data-size="small"] [data-component=ButtonCounter]{font-size:12px;}/*!sc*/
.XJZbf[data-size="small"] [data-component="buttonContent"] > :not(:last-child){margin-right:4px;}/*!sc*/
.XJZbf[data-size="small"][data-component=IconButton]{width:28px;padding:unset;}/*!sc*/
.XJZbf[data-size="large"]{padding:0 16px;height:40px;gap:8px;}/*!sc*/
.XJZbf[data-size="large"] [data-component="buttonContent"] > :not(:last-child){margin-right:8px;}/*!sc*/
.XJZbf[data-size="large"][data-component=IconButton]{width:40px;padding:unset;}/*!sc*/
.XJZbf[data-block="block"]{width:100%;}/*!sc*/
.XJZbf[data-inactive]:not([disabled]){background-color:var(--button-inactive-bgColor,var(--button-inactive-bgColor-rest,var(--color-btn-inactive-bg,#21262d)));border-color:var(--button-inactive-bgColor,var(--button-inactive-bgColor-rest,var(--color-btn-inactive-bg,#21262d)));color:var(--button-inactive-fgColor,var(--button-inactive-fgColor-rest,var(--color-btn-inactive-text,#8b949e)));}/*!sc*/
.XJZbf[data-inactive]:not([disabled]):focus-visible{box-shadow:none;}/*!sc*/
.XJZbf [data-component="leadingVisual"]{grid-area:leadingVisual;}/*!sc*/
.XJZbf [data-component="text"]{grid-area:text;line-height:calc(20/14);white-space:nowrap;}/*!sc*/
.XJZbf [data-component="trailingVisual"]{grid-area:trailingVisual;}/*!sc*/
.XJZbf [data-component="trailingAction"]{margin-right:-4px;}/*!sc*/
.XJZbf [data-component="buttonContent"]{-webkit-flex:1 0 auto;-ms-flex:1 0 auto;flex:1 0 auto;display:grid;grid-template-areas:"leadingVisual text trailingVisual";grid-template-columns:min-content minmax(0,auto) min-content;-webkit-align-items:center;-webkit-box-align:center;-ms-flex-align:center;align-items:center;-webkit-align-content:center;-ms-flex-line-pack:center;align-content:center;}/*!sc*/
.XJZbf [data-component="buttonContent"] > :not(:last-child){margin-right:8px;}/*!sc*/
.XJZbf:hover:not([disabled]):not([data-inactive]){background-color:var(--button-default-bgColor-hover,var(--color-btn-hover-bg,#30363d));border-color:var(--button-default-borderColor-hover,var(--button-default-borderColor-hover,var(--color-btn-hover-border,#8b949e)));}/*!sc*/
.XJZbf:active:not([disabled]):not([data-inactive]){background-color:var(--button-default-bgColor-active,var(--color-btn-active-bg,hsla(212,12%,18%,1)));border-color:var(--button-default-borderColor-active,var(--button-default-borderColor-active,var(--color-btn-active-border,#6e7681)));}/*!sc*/
.XJZbf[aria-expanded=true]{background-color:var(--button-default-bgColor-active,var(--color-btn-active-bg,hsla(212,12%,18%,1)));border-color:var(--button-default-borderColor-active,var(--button-default-borderColor-active,var(--color-btn-active-border,#6e7681)));}/*!sc*/
.XJZbf [data-component="leadingVisual"],.XJZbf [data-component="trailingVisual"],.XJZbf [data-component="trailingAction"]{color:var(--button-color,var(--fgColor-muted,var(--color-fg-muted,#848d97)));}/*!sc*/
.XJZbf[data-component="IconButton"][data-no-visuals]{color:var(--fgColor-muted,var(--color-fg-muted,#848d97));}/*!sc*/
.XJZbf[data-no-visuals]{color:var(--fgColor-muted,var(--color-fg-subtle,#6e7681));border-top-right-radius:0;border-bottom-right-radius:0;border-right:0;}/*!sc*/
.cBjhIZ{border-radius:6px;border:1px solid;border-color:var(--button-default-borderColor-rest,var(--button-default-borderColor-rest,var(--color-btn-border,rgba(240,246,252,0.1))));font-family:inherit;font-weight:500;font-size:14px;cursor:pointer;-webkit-appearance:none;-moz-appearance:none;appearance:none;-webkit-user-select:none;-moz-user-select:none;-ms-user-select:none;user-select:none;-webkit-text-decoration:none;text-decoration:none;text-align:center;display:-webkit-box;display:-webkit-flex;display:-ms-flexbox;display:flex;-webkit-align-items:center;-webkit-box-align:center;-ms-flex-align:center;align-items:center;-webkit-box-pack:justify;-webkit-justify-content:space-between;-ms-flex-pack:justify;justify-content:space-between;height:32px;padding:0 12px;gap:8px;min-width:-webkit-max-content;min-width:-moz-max-content;min-width:max-content;-webkit-transition:80ms cubic-bezier(0.65,0,0.35,1);transition:80ms cubic-bezier(0.65,0,0.35,1);-webkit-transition-property:color,fill,background-color,border-color;transition-property:color,fill,background-color,border-color;color:var(--button-default-fgColor-rest,var(--color-btn-text,#c9d1d9));background-color:var(--button-default-bgColor-rest,var(--color-btn-bg,#21262d));box-shadow:var(--button-default-shadow-resting,var(--color-btn-shadow,0 0 transparent)),var(--button-default-shadow-inset,var(--color-btn-inset-shadow,0 0 transparent));}/*!sc*/
.cBjhIZ:focus:not(:disabled){box-shadow:none;outline:2px solid var(--fgColor-accent,var(--color-accent-fg,#2f81f7));outline-offset:-2px;}/*!sc*/
.cBjhIZ:focus:not(:disabled):not(:focus-visible){outline:solid 1px transparent;}/*!sc*/
.cBjhIZ:focus-visible:not(:disabled){box-shadow:none;outline:2px solid var(--fgColor-accent,var(--color-accent-fg,#2f81f7));outline-offset:-2px;}/*!sc*/
.cBjhIZ[href]{display:-webkit-inline-box;display:-webkit-inline-flex;display:-ms-inline-flexbox;display:inline-flex;}/*!sc*/
.cBjhIZ[href]:hover{-webkit-text-decoration:none;text-decoration:none;}/*!sc*/
.cBjhIZ:hover{-webkit-transition-duration:80ms;transition-duration:80ms;}/*!sc*/
.cBjhIZ:active{-webkit-transition:none;transition:none;}/*!sc*/
.cBjhIZ[data-inactive]{cursor:auto;}/*!sc*/
.cBjhIZ:disabled{cursor:not-allowed;box-shadow:none;color:var(--fgColor-disabled,var(--color-primer-fg-disabled,#484f58));border-color:var(--button-default-borderColor-disabled,var(--button-default-borderColor-rest,var(--color-btn-border,rgba(240,246,252,0.1))));background-color:var(--button-default-bgColor-disabled,var(--control-bgColor-disabled,var(--color-input-disabled-bg,rgba(110,118,129,0))));}/*!sc*/
.cBjhIZ:disabled [data-component=ButtonCounter]{color:inherit;}/*!sc*/
@media (forced-colors:active){.cBjhIZ:focus{outline:solid 1px transparent;}}/*!sc*/
.cBjhIZ [data-component=ButtonCounter]{font-size:12px;background-color:var(--buttonCounter-default-bgColor-rest,var(--color-btn-counter-bg,#30363d));}/*!sc*/
.cBjhIZ[data-component=IconButton]{display:inline-grid;padding:unset;place-content:center;width:32px;min-width:unset;}/*!sc*/
.cBjhIZ[data-size="small"]{padding:0 8px;height:28px;gap:4px;font-size:12px;}/*!sc*/
.cBjhIZ[data-size="small"] [data-component="text"]{line-height:calc(20 / 12);}/*!sc*/
.cBjhIZ[data-size="small"] [data-component=ButtonCounter]{font-size:12px;}/*!sc*/
.cBjhIZ[data-size="small"] [data-component="buttonContent"] > :not(:last-child){margin-right:4px;}/*!sc*/
.cBjhIZ[data-size="small"][data-component=IconButton]{width:28px;padding:unset;}/*!sc*/
.cBjhIZ[data-size="large"]{padding:0 16px;height:40px;gap:8px;}/*!sc*/
.cBjhIZ[data-size="large"] [data-component="buttonContent"] > :not(:last-child){margin-right:8px;}/*!sc*/
.cBjhIZ[data-size="large"][data-component=IconButton]{width:40px;padding:unset;}/*!sc*/
.cBjhIZ[data-block="block"]{width:100%;}/*!sc*/
.cBjhIZ[data-inactive]:not([disabled]){background-color:var(--button-inactive-bgColor,var(--button-inactive-bgColor-rest,var(--color-btn-inactive-bg,#21262d)));border-color:var(--button-inactive-bgColor,var(--button-inactive-bgColor-rest,var(--color-btn-inactive-bg,#21262d)));color:var(--button-inactive-fgColor,var(--button-inactive-fgColor-rest,var(--color-btn-inactive-text,#8b949e)));}/*!sc*/
.cBjhIZ[data-inactive]:not([disabled]):focus-visible{box-shadow:none;}/*!sc*/
.cBjhIZ [data-component="leadingVisual"]{grid-area:leadingVisual;}/*!sc*/
.cBjhIZ [data-component="text"]{grid-area:text;line-height:calc(20/14);white-space:nowrap;}/*!sc*/
.cBjhIZ [data-component="trailingVisual"]{grid-area:trailingVisual;}/*!sc*/
.cBjhIZ [data-component="trailingAction"]{margin-right:-4px;}/*!sc*/
.cBjhIZ [data-component="buttonContent"]{-webkit-flex:1 0 auto;-ms-flex:1 0 auto;flex:1 0 auto;display:grid;grid-template-areas:"leadingVisual text trailingVisual";grid-template-columns:min-content minmax(0,auto) min-content;-webkit-align-items:center;-webkit-box-align:center;-ms-flex-align:center;align-items:center;-webkit-align-content:center;-ms-flex-line-pack:center;align-content:center;}/*!sc*/
.cBjhIZ [data-component="buttonContent"] > :not(:last-child){margin-right:8px;}/*!sc*/
.cBjhIZ:hover:not([disabled]):not([data-inactive]){background-color:var(--button-default-bgColor-hover,var(--color-btn-hover-bg,#30363d));border-color:var(--button-default-borderColor-hover,var(--button-default-borderColor-hover,var(--color-btn-hover-border,#8b949e)));}/*!sc*/
.cBjhIZ:active:not([disabled]):not([data-inactive]){background-color:var(--button-default-bgColor-active,var(--color-btn-active-bg,hsla(212,12%,18%,1)));border-color:var(--button-default-borderColor-active,var(--button-default-borderColor-active,var(--color-btn-active-border,#6e7681)));}/*!sc*/
.cBjhIZ[aria-expanded=true]{background-color:var(--button-default-bgColor-active,var(--color-btn-active-bg,hsla(212,12%,18%,1)));border-color:var(--button-default-borderColor-active,var(--button-default-borderColor-active,var(--color-btn-active-border,#6e7681)));}/*!sc*/
.cBjhIZ [data-component="leadingVisual"],.cBjhIZ [data-component="trailingVisual"],.cBjhIZ [data-component="trailingAction"]{color:var(--button-color,var(--fgColor-muted,var(--color-fg-muted,#848d97)));}/*!sc*/
.cBjhIZ[data-component="IconButton"][data-no-visuals]{color:var(--fgColor-muted,var(--color-fg-muted,#848d97));}/*!sc*/
.cBjhIZ[data-no-visuals]{color:var(--fgColor-muted,var(--color-fg-subtle,#6e7681));font-size:14px;font-weight:400;-webkit-flex-shrink:0;-ms-flex-negative:0;flex-shrink:0;border-top-left-radius:0;border-bottom-left-radius:0;}/*!sc*/
.hWITRv{border-radius:6px;border:1px solid;border-color:transparent;font-family:inherit;font-weight:500;font-size:14px;cursor:pointer;-webkit-appearance:none;-moz-appearance:none;appearance:none;-webkit-user-select:none;-moz-user-select:none;-ms-user-select:none;user-select:none;-webkit-text-decoration:none;text-decoration:none;text-align:center;display:-webkit-box;display:-webkit-flex;display:-ms-flexbox;display:flex;-webkit-align-items:center;-webkit-box-align:center;-ms-flex-align:center;align-items:center;-webkit-box-pack:justify;-webkit-justify-content:space-between;-ms-flex-pack:justify;justify-content:space-between;height:32px;padding:0 12px;gap:8px;min-width:-webkit-max-content;min-width:-moz-max-content;min-width:max-content;-webkit-transition:80ms cubic-bezier(0.65,0,0.35,1);transition:80ms cubic-bezier(0.65,0,0.35,1);-webkit-transition-property:color,fill,background-color,border-color;transition-property:color,fill,background-color,border-color;color:var(--button-default-fgColor-rest,var(--color-btn-text,#c9d1d9));background-color:transparent;box-shadow:none;}/*!sc*/
.hWITRv:focus:not(:disabled){box-shadow:none;outline:2px solid var(--fgColor-accent,var(--color-accent-fg,#2f81f7));outline-offset:-2px;}/*!sc*/
.hWITRv:focus:not(:disabled):not(:focus-visible){outline:solid 1px transparent;}/*!sc*/
.hWITRv:focus-visible:not(:disabled){box-shadow:none;outline:2px solid var(--fgColor-accent,var(--color-accent-fg,#2f81f7));outline-offset:-2px;}/*!sc*/
.hWITRv[href]{display:-webkit-inline-box;display:-webkit-inline-flex;display:-ms-inline-flexbox;display:inline-flex;}/*!sc*/
.hWITRv[href]:hover{-webkit-text-decoration:none;text-decoration:none;}/*!sc*/
.hWITRv:hover{-webkit-transition-duration:80ms;transition-duration:80ms;}/*!sc*/
.hWITRv:active{-webkit-transition:none;transition:none;}/*!sc*/
.hWITRv[data-inactive]{cursor:auto;}/*!sc*/
.hWITRv:disabled{cursor:not-allowed;box-shadow:none;color:var(--fgColor-disabled,var(--color-primer-fg-disabled,#484f58));}/*!sc*/
.hWITRv:disabled [data-component=ButtonCounter],.hWITRv:disabled [data-component="leadingVisual"],.hWITRv:disabled [data-component="trailingAction"]{color:inherit;}/*!sc*/
@media (forced-colors:active){.hWITRv:focus{outline:solid 1px transparent;}}/*!sc*/
.hWITRv [data-component=ButtonCounter]{font-size:12px;}/*!sc*/
.hWITRv[data-component=IconButton]{display:inline-grid;padding:unset;place-content:center;width:32px;min-width:unset;}/*!sc*/
.hWITRv[data-size="small"]{padding:0 8px;height:28px;gap:4px;font-size:12px;}/*!sc*/
.hWITRv[data-size="small"] [data-component="text"]{line-height:calc(20 / 12);}/*!sc*/
.hWITRv[data-size="small"] [data-component=ButtonCounter]{font-size:12px;}/*!sc*/
.hWITRv[data-size="small"] [data-component="buttonContent"] > :not(:last-child){margin-right:4px;}/*!sc*/
.hWITRv[data-size="small"][data-component=IconButton]{width:28px;padding:unset;}/*!sc*/
.hWITRv[data-size="large"]{padding:0 16px;height:40px;gap:8px;}/*!sc*/
.hWITRv[data-size="large"] [data-component="buttonContent"] > :not(:last-child){margin-right:8px;}/*!sc*/
.hWITRv[data-size="large"][data-component=IconButton]{width:40px;padding:unset;}/*!sc*/
.hWITRv[data-block="block"]{width:100%;}/*!sc*/
.hWITRv[data-inactive]:not([disabled]){background-color:var(--button-inactive-bgColor,var(--button-inactive-bgColor-rest,var(--color-btn-inactive-bg,#21262d)));border-color:var(--button-inactive-bgColor,var(--button-inactive-bgColor-rest,var(--color-btn-inactive-bg,#21262d)));color:var(--button-inactive-fgColor,var(--button-inactive-fgColor-rest,var(--color-btn-inactive-text,#8b949e)));}/*!sc*/
.hWITRv[data-inactive]:not([disabled]):focus-visible{box-shadow:none;}/*!sc*/
.hWITRv [data-component="leadingVisual"]{grid-area:leadingVisual;color:var(--fgColor-muted,var(--color-fg-muted,#848d97));}/*!sc*/
.hWITRv [data-component="text"]{grid-area:text;line-height:calc(20/14);white-space:nowrap;}/*!sc*/
.hWITRv [data-component="trailingVisual"]{grid-area:trailingVisual;}/*!sc*/
.hWITRv [data-component="trailingAction"]{margin-right:-4px;color:var(--fgColor-muted,var(--color-fg-muted,#848d97));}/*!sc*/
.hWITRv [data-component="buttonContent"]{-webkit-flex:1 0 auto;-ms-flex:1 0 auto;flex:1 0 auto;display:grid;grid-template-areas:"leadingVisual text trailingVisual";grid-template-columns:min-content minmax(0,auto) min-content;-webkit-align-items:center;-webkit-box-align:center;-ms-flex-align:center;align-items:center;-webkit-align-content:center;-ms-flex-line-pack:center;align-content:center;}/*!sc*/
.hWITRv [data-component="buttonContent"] > :not(:last-child){margin-right:8px;}/*!sc*/
.hWITRv:hover:not([disabled]){background-color:var(--control-transparent-bgColor-hover,var(--color-action-list-item-default-hover-bg,rgba(177,186,196,0.12)));}/*!sc*/
.hWITRv:active:not([disabled]){background-color:var(--control-transparent-bgColor-active,var(--color-action-list-item-default-active-bg,rgba(177,186,196,0.2)));}/*!sc*/
.hWITRv[aria-expanded=true]{background-color:var(--control-transparent-bgColor-selected,var(--color-action-list-item-default-selected-bg,rgba(177,186,196,0.08)));}/*!sc*/
.hWITRv[data-component="IconButton"][data-no-visuals]{color:var(--fgColor-muted,var(--color-fg-muted,#848d97));}/*!sc*/
.hWITRv[data-no-visuals]{color:var(--fgColor-accent,var(--color-accent-fg,#2f81f7));}/*!sc*/
.hWITRv:has([data-component="ButtonCounter"]){color:var(--button-default-fgColor-rest,var(--color-btn-text,#c9d1d9));}/*!sc*/
.hWITRv:disabled[data-no-visuals]{color:var(--fgColor-disabled,var(--color-primer-fg-disabled,#484f58));}/*!sc*/
.hWITRv:disabled[data-no-visuals] [data-component=ButtonCounter]{color:inherit;}/*!sc*/
.fXsbsD{border-radius:6px;border:1px solid;border-color:var(--button-default-borderColor-rest,var(--button-default-borderColor-rest,var(--color-btn-border,rgba(240,246,252,0.1))));font-family:inherit;font-weight:500;font-size:14px;cursor:pointer;-webkit-appearance:none;-moz-appearance:none;appearance:none;-webkit-user-select:none;-moz-user-select:none;-ms-user-select:none;user-select:none;-webkit-text-decoration:none;text-decoration:none;text-align:center;display:-webkit-box;display:-webkit-flex;display:-ms-flexbox;display:flex;-webkit-align-items:center;-webkit-box-align:center;-ms-flex-align:center;align-items:center;-webkit-box-pack:justify;-webkit-justify-content:space-between;-ms-flex-pack:justify;justify-content:space-between;height:32px;padding:0 12px;gap:8px;min-width:-webkit-max-content;min-width:-moz-max-content;min-width:max-content;-webkit-transition:80ms cubic-bezier(0.65,0,0.35,1);transition:80ms cubic-bezier(0.65,0,0.35,1);-webkit-transition-property:color,fill,background-color,border-color;transition-property:color,fill,background-color,border-color;color:var(--button-default-fgColor-rest,var(--color-btn-text,#c9d1d9));background-color:var(--button-default-bgColor-rest,var(--color-btn-bg,#21262d));box-shadow:var(--button-default-shadow-resting,var(--color-btn-shadow,0 0 transparent)),var(--button-default-shadow-inset,var(--color-btn-inset-shadow,0 0 transparent));}/*!sc*/
.fXsbsD:focus:not(:disabled){box-shadow:none;outline:2px solid var(--fgColor-accent,var(--color-accent-fg,#2f81f7));outline-offset:-2px;}/*!sc*/
.fXsbsD:focus:not(:disabled):not(:focus-visible){outline:solid 1px transparent;}/*!sc*/
.fXsbsD:focus-visible:not(:disabled){box-shadow:none;outline:2px solid var(--fgColor-accent,var(--color-accent-fg,#2f81f7));outline-offset:-2px;}/*!sc*/
.fXsbsD[href]{display:-webkit-inline-box;display:-webkit-inline-flex;display:-ms-inline-flexbox;display:inline-flex;}/*!sc*/
.fXsbsD[href]:hover{-webkit-text-decoration:none;text-decoration:none;}/*!sc*/
.fXsbsD:hover{-webkit-transition-duration:80ms;transition-duration:80ms;}/*!sc*/
.fXsbsD:active{-webkit-transition:none;transition:none;}/*!sc*/
.fXsbsD[data-inactive]{cursor:auto;}/*!sc*/
.fXsbsD:disabled{cursor:not-allowed;box-shadow:none;color:var(--fgColor-disabled,var(--color-primer-fg-disabled,#484f58));border-color:var(--button-default-borderColor-disabled,var(--button-default-borderColor-rest,var(--color-btn-border,rgba(240,246,252,0.1))));background-color:var(--button-default-bgColor-disabled,var(--control-bgColor-disabled,var(--color-input-disabled-bg,rgba(110,118,129,0))));}/*!sc*/
.fXsbsD:disabled [data-component=ButtonCounter]{color:inherit;}/*!sc*/
@media (forced-colors:active){.fXsbsD:focus{outline:solid 1px transparent;}}/*!sc*/
.fXsbsD [data-component=ButtonCounter]{font-size:12px;background-color:var(--buttonCounter-default-bgColor-rest,var(--color-btn-counter-bg,#30363d));}/*!sc*/
.fXsbsD[data-component=IconButton]{display:inline-grid;padding:unset;place-content:center;width:32px;min-width:unset;}/*!sc*/
.fXsbsD[data-size="small"]{padding:0 8px;height:28px;gap:4px;font-size:12px;}/*!sc*/
.fXsbsD[data-size="small"] [data-component="text"]{line-height:calc(20 / 12);}/*!sc*/
.fXsbsD[data-size="small"] [data-component=ButtonCounter]{font-size:12px;}/*!sc*/
.fXsbsD[data-size="small"] [data-component="buttonContent"] > :not(:last-child){margin-right:4px;}/*!sc*/
.fXsbsD[data-size="small"][data-component=IconButton]{width:28px;padding:unset;}/*!sc*/
.fXsbsD[data-size="large"]{padding:0 16px;height:40px;gap:8px;}/*!sc*/
.fXsbsD[data-size="large"] [data-component="buttonContent"] > :not(:last-child){margin-right:8px;}/*!sc*/
.fXsbsD[data-size="large"][data-component=IconButton]{width:40px;padding:unset;}/*!sc*/
.fXsbsD[data-block="block"]{width:100%;}/*!sc*/
.fXsbsD[data-inactive]:not([disabled]){background-color:var(--button-inactive-bgColor,var(--button-inactive-bgColor-rest,var(--color-btn-inactive-bg,#21262d)));border-color:var(--button-inactive-bgColor,var(--button-inactive-bgColor-rest,var(--color-btn-inactive-bg,#21262d)));color:var(--button-inactive-fgColor,var(--button-inactive-fgColor-rest,var(--color-btn-inactive-text,#8b949e)));}/*!sc*/
.fXsbsD[data-inactive]:not([disabled]):focus-visible{box-shadow:none;}/*!sc*/
.fXsbsD [data-component="leadingVisual"]{grid-area:leadingVisual;}/*!sc*/
.fXsbsD [data-component="text"]{grid-area:text;line-height:calc(20/14);white-space:nowrap;}/*!sc*/
.fXsbsD [data-component="trailingVisual"]{grid-area:trailingVisual;}/*!sc*/
.fXsbsD [data-component="trailingAction"]{margin-right:-4px;}/*!sc*/
.fXsbsD [data-component="buttonContent"]{-webkit-flex:1 0 auto;-ms-flex:1 0 auto;flex:1 0 auto;display:grid;grid-template-areas:"leadingVisual text trailingVisual";grid-template-columns:min-content minmax(0,auto) min-content;-webkit-align-items:center;-webkit-box-align:center;-ms-flex-align:center;align-items:center;-webkit-align-content:center;-ms-flex-line-pack:center;align-content:center;}/*!sc*/
.fXsbsD [data-component="buttonContent"] > :not(:last-child){margin-right:8px;}/*!sc*/
.fXsbsD:hover:not([disabled]):not([data-inactive]){background-color:var(--button-default-bgColor-hover,var(--color-btn-hover-bg,#30363d));border-color:var(--button-default-borderColor-hover,var(--button-default-borderColor-hover,var(--color-btn-hover-border,#8b949e)));}/*!sc*/
.fXsbsD:active:not([disabled]):not([data-inactive]){background-color:var(--button-default-bgColor-active,var(--color-btn-active-bg,hsla(212,12%,18%,1)));border-color:var(--button-default-borderColor-active,var(--button-default-borderColor-active,var(--color-btn-active-border,#6e7681)));}/*!sc*/
.fXsbsD[aria-expanded=true]{background-color:var(--button-default-bgColor-active,var(--color-btn-active-bg,hsla(212,12%,18%,1)));border-color:var(--button-default-borderColor-active,var(--button-default-borderColor-active,var(--color-btn-active-border,#6e7681)));}/*!sc*/
.fXsbsD [data-component="leadingVisual"],.fXsbsD [data-component="trailingVisual"],.fXsbsD [data-component="trailingAction"]{color:var(--button-color,var(--fgColor-muted,var(--color-fg-muted,#848d97)));}/*!sc*/
.fXsbsD[data-component="IconButton"][data-no-visuals]{color:var(--fgColor-muted,var(--color-fg-muted,#848d97));}/*!sc*/
.fXsbsD[data-no-visuals]{border-top-left-radius:0;border-bottom-left-radius:0;display:none;}/*!sc*/
.hiXxwe{border-radius:6px;border:1px solid;border-color:var(--button-default-borderColor-rest,var(--button-default-borderColor-rest,var(--color-btn-border,rgba(240,246,252,0.1))));font-family:inherit;font-weight:500;font-size:14px;cursor:pointer;-webkit-appearance:none;-moz-appearance:none;appearance:none;-webkit-user-select:none;-moz-user-select:none;-ms-user-select:none;user-select:none;-webkit-text-decoration:none;text-decoration:none;text-align:center;display:-webkit-box;display:-webkit-flex;display:-ms-flexbox;display:flex;-webkit-align-items:center;-webkit-box-align:center;-ms-flex-align:center;align-items:center;-webkit-box-pack:justify;-webkit-justify-content:space-between;-ms-flex-pack:justify;justify-content:space-between;height:32px;padding:0 12px;gap:8px;min-width:-webkit-max-content;min-width:-moz-max-content;min-width:max-content;-webkit-transition:80ms cubic-bezier(0.65,0,0.35,1);transition:80ms cubic-bezier(0.65,0,0.35,1);-webkit-transition-property:color,fill,background-color,border-color;transition-property:color,fill,background-color,border-color;color:var(--button-default-fgColor-rest,var(--color-btn-text,#c9d1d9));background-color:var(--button-default-bgColor-rest,var(--color-btn-bg,#21262d));box-shadow:var(--button-default-shadow-resting,var(--color-btn-shadow,0 0 transparent)),var(--button-default-shadow-inset,var(--color-btn-inset-shadow,0 0 transparent));}/*!sc*/
.hiXxwe:focus:not(:disabled){box-shadow:none;outline:2px solid var(--fgColor-accent,var(--color-accent-fg,#2f81f7));outline-offset:-2px;}/*!sc*/
.hiXxwe:focus:not(:disabled):not(:focus-visible){outline:solid 1px transparent;}/*!sc*/
.hiXxwe:focus-visible:not(:disabled){box-shadow:none;outline:2px solid var(--fgColor-accent,var(--color-accent-fg,#2f81f7));outline-offset:-2px;}/*!sc*/
.hiXxwe[href]{display:-webkit-inline-box;display:-webkit-inline-flex;display:-ms-inline-flexbox;display:inline-flex;}/*!sc*/
.hiXxwe[href]:hover{-webkit-text-decoration:none;text-decoration:none;}/*!sc*/
.hiXxwe:hover{-webkit-transition-duration:80ms;transition-duration:80ms;}/*!sc*/
.hiXxwe:active{-webkit-transition:none;transition:none;}/*!sc*/
.hiXxwe[data-inactive]{cursor:auto;}/*!sc*/
.hiXxwe:disabled{cursor:not-allowed;box-shadow:none;color:var(--fgColor-disabled,var(--color-primer-fg-disabled,#484f58));border-color:var(--button-default-borderColor-disabled,var(--button-default-borderColor-rest,var(--color-btn-border,rgba(240,246,252,0.1))));background-color:var(--button-default-bgColor-disabled,var(--control-bgColor-disabled,var(--color-input-disabled-bg,rgba(110,118,129,0))));}/*!sc*/
.hiXxwe:disabled [data-component=ButtonCounter]{color:inherit;}/*!sc*/
@media (forced-colors:active){.hiXxwe:focus{outline:solid 1px transparent;}}/*!sc*/
.hiXxwe [data-component=ButtonCounter]{font-size:12px;background-color:var(--buttonCounter-default-bgColor-rest,var(--color-btn-counter-bg,#30363d));}/*!sc*/
.hiXxwe[data-component=IconButton]{display:inline-grid;padding:unset;place-content:center;width:32px;min-width:unset;}/*!sc*/
.hiXxwe[data-size="small"]{padding:0 8px;height:28px;gap:4px;font-size:12px;}/*!sc*/
.hiXxwe[data-size="small"] [data-component="text"]{line-height:calc(20 / 12);}/*!sc*/
.hiXxwe[data-size="small"] [data-component=ButtonCounter]{font-size:12px;}/*!sc*/
.hiXxwe[data-size="small"] [data-component="buttonContent"] > :not(:last-child){margin-right:4px;}/*!sc*/
.hiXxwe[data-size="small"][data-component=IconButton]{width:28px;padding:unset;}/*!sc*/
.hiXxwe[data-size="large"]{padding:0 16px;height:40px;gap:8px;}/*!sc*/
.hiXxwe[data-size="large"] [data-component="buttonContent"] > :not(:last-child){margin-right:8px;}/*!sc*/
.hiXxwe[data-size="large"][data-component=IconButton]{width:40px;padding:unset;}/*!sc*/
.hiXxwe[data-block="block"]{width:100%;}/*!sc*/
.hiXxwe[data-inactive]:not([disabled]){background-color:var(--button-inactive-bgColor,var(--button-inactive-bgColor-rest,var(--color-btn-inactive-bg,#21262d)));border-color:var(--button-inactive-bgColor,var(--button-inactive-bgColor-rest,var(--color-btn-inactive-bg,#21262d)));color:var(--button-inactive-fgColor,var(--button-inactive-fgColor-rest,var(--color-btn-inactive-text,#8b949e)));}/*!sc*/
.hiXxwe[data-inactive]:not([disabled]):focus-visible{box-shadow:none;}/*!sc*/
.hiXxwe [data-component="leadingVisual"]{grid-area:leadingVisual;}/*!sc*/
.hiXxwe [data-component="text"]{grid-area:text;line-height:calc(20/14);white-space:nowrap;}/*!sc*/
.hiXxwe [data-component="trailingVisual"]{grid-area:trailingVisual;}/*!sc*/
.hiXxwe [data-component="trailingAction"]{margin-right:-4px;}/*!sc*/
.hiXxwe [data-component="buttonContent"]{-webkit-flex:1 0 auto;-ms-flex:1 0 auto;flex:1 0 auto;display:grid;grid-template-areas:"leadingVisual text trailingVisual";grid-template-columns:min-content minmax(0,auto) min-content;-webkit-align-items:center;-webkit-box-align:center;-ms-flex-align:center;align-items:center;-webkit-align-content:center;-ms-flex-line-pack:center;align-content:center;}/*!sc*/
.hiXxwe [data-component="buttonContent"] > :not(:last-child){margin-right:8px;}/*!sc*/
.hiXxwe:hover:not([disabled]):not([data-inactive]){background-color:var(--button-default-bgColor-hover,var(--color-btn-hover-bg,#30363d));border-color:var(--button-default-borderColor-hover,var(--button-default-borderColor-hover,var(--color-btn-hover-border,#8b949e)));}/*!sc*/
.hiXxwe:active:not([disabled]):not([data-inactive]){background-color:var(--button-default-bgColor-active,var(--color-btn-active-bg,hsla(212,12%,18%,1)));border-color:var(--button-default-borderColor-active,var(--button-default-borderColor-active,var(--color-btn-active-border,#6e7681)));}/*!sc*/
.hiXxwe[aria-expanded=true]{background-color:var(--button-default-bgColor-active,var(--color-btn-active-bg,hsla(212,12%,18%,1)));border-color:var(--button-default-borderColor-active,var(--button-default-borderColor-active,var(--color-btn-active-border,#6e7681)));}/*!sc*/
.hiXxwe [data-component="leadingVisual"],.hiXxwe [data-component="trailingVisual"],.hiXxwe [data-component="trailingAction"]{color:var(--button-color,var(--fgColor-muted,var(--color-fg-muted,#848d97)));}/*!sc*/
.hiXxwe[data-component="IconButton"][data-no-visuals]{color:var(--fgColor-muted,var(--color-fg-muted,#848d97));}/*!sc*/
.hiXxwe[data-no-visuals]{color:var(--fgColor-muted,var(--color-fg-muted,#848d97));}/*!sc*/
.hhunph{border-radius:6px;border:1px solid;border-color:transparent;font-family:inherit;font-weight:500;font-size:14px;cursor:pointer;-webkit-appearance:none;-moz-appearance:none;appearance:none;-webkit-user-select:none;-moz-user-select:none;-ms-user-select:none;user-select:none;-webkit-text-decoration:none;text-decoration:none;text-align:center;display:-webkit-box;display:-webkit-flex;display:-ms-flexbox;display:flex;-webkit-align-items:center;-webkit-box-align:center;-ms-flex-align:center;align-items:center;-webkit-box-pack:justify;-webkit-justify-content:space-between;-ms-flex-pack:justify;justify-content:space-between;height:32px;padding:0 12px;gap:8px;min-width:-webkit-max-content;min-width:-moz-max-content;min-width:max-content;-webkit-transition:80ms cubic-bezier(0.65,0,0.35,1);transition:80ms cubic-bezier(0.65,0,0.35,1);-webkit-transition-property:color,fill,background-color,border-color;transition-property:color,fill,background-color,border-color;color:var(--button-default-fgColor-rest,var(--color-btn-text,#c9d1d9));background-color:transparent;box-shadow:none;}/*!sc*/
.hhunph:focus:not(:disabled){box-shadow:none;outline:2px solid var(--fgColor-accent,var(--color-accent-fg,#2f81f7));outline-offset:-2px;}/*!sc*/
.hhunph:focus:not(:disabled):not(:focus-visible){outline:solid 1px transparent;}/*!sc*/
.hhunph:focus-visible:not(:disabled){box-shadow:none;outline:2px solid var(--fgColor-accent,var(--color-accent-fg,#2f81f7));outline-offset:-2px;}/*!sc*/
.hhunph[href]{display:-webkit-inline-box;display:-webkit-inline-flex;display:-ms-inline-flexbox;display:inline-flex;}/*!sc*/
.hhunph[href]:hover{-webkit-text-decoration:none;text-decoration:none;}/*!sc*/
.hhunph:hover{-webkit-transition-duration:80ms;transition-duration:80ms;}/*!sc*/
.hhunph:active{-webkit-transition:none;transition:none;}/*!sc*/
.hhunph[data-inactive]{cursor:auto;}/*!sc*/
.hhunph:disabled{cursor:not-allowed;box-shadow:none;color:var(--fgColor-disabled,var(--color-primer-fg-disabled,#484f58));}/*!sc*/
.hhunph:disabled [data-component=ButtonCounter],.hhunph:disabled [data-component="leadingVisual"],.hhunph:disabled [data-component="trailingAction"]{color:inherit;}/*!sc*/
@media (forced-colors:active){.hhunph:focus{outline:solid 1px transparent;}}/*!sc*/
.hhunph [data-component=ButtonCounter]{font-size:12px;}/*!sc*/
.hhunph[data-component=IconButton]{display:inline-grid;padding:unset;place-content:center;width:32px;min-width:unset;}/*!sc*/
.hhunph[data-size="small"]{padding:0 8px;height:28px;gap:4px;font-size:12px;color:var(--fgColor-default,var(--color-fg-default,#e6edf3));display:none;}/*!sc*/
.hhunph[data-size="small"] [data-component="text"]{line-height:calc(20 / 12);}/*!sc*/
.hhunph[data-size="small"] [data-component=ButtonCounter]{font-size:12px;}/*!sc*/
.hhunph[data-size="small"] [data-component="buttonContent"] > :not(:last-child){margin-right:4px;}/*!sc*/
.hhunph[data-size="small"][data-component=IconButton]{width:28px;padding:unset;}/*!sc*/
@media screen and (min-width:544px){.hhunph[data-size="small"]{display:none;}}/*!sc*/
@media screen and (min-width:768px){.hhunph[data-size="small"]{display:none;}}/*!sc*/
@media screen and (min-width:1012px){.hhunph[data-size="small"]{display:none;}}/*!sc*/
@media screen and (min-width:1280px){.hhunph[data-size="small"]{display:block;}}/*!sc*/
.hhunph[data-size="large"]{padding:0 16px;height:40px;gap:8px;}/*!sc*/
.hhunph[data-size="large"] [data-component="buttonContent"] > :not(:last-child){margin-right:8px;}/*!sc*/
.hhunph[data-size="large"][data-component=IconButton]{width:40px;padding:unset;}/*!sc*/
.hhunph[data-block="block"]{width:100%;}/*!sc*/
.hhunph[data-inactive]:not([disabled]){background-color:var(--button-inactive-bgColor,var(--button-inactive-bgColor-rest,var(--color-btn-inactive-bg,#21262d)));border-color:var(--button-inactive-bgColor,var(--button-inactive-bgColor-rest,var(--color-btn-inactive-bg,#21262d)));color:var(--button-inactive-fgColor,var(--button-inactive-fgColor-rest,var(--color-btn-inactive-text,#8b949e)));}/*!sc*/
.hhunph[data-inactive]:not([disabled]):focus-visible{box-shadow:none;}/*!sc*/
.hhunph [data-component="leadingVisual"]{grid-area:leadingVisual;color:var(--fgColor-muted,var(--color-fg-muted,#848d97));}/*!sc*/
.hhunph [data-component="text"]{grid-area:text;line-height:calc(20/14);white-space:nowrap;}/*!sc*/
.hhunph [data-component="trailingVisual"]{grid-area:trailingVisual;}/*!sc*/
.hhunph [data-component="trailingAction"]{margin-right:-4px;color:var(--fgColor-muted,var(--color-fg-muted,#848d97));}/*!sc*/
.hhunph [data-component="buttonContent"]{-webkit-flex:1 0 auto;-ms-flex:1 0 auto;flex:1 0 auto;display:grid;grid-template-areas:"leadingVisual text trailingVisual";grid-template-columns:min-content minmax(0,auto) min-content;-webkit-align-items:center;-webkit-box-align:center;-ms-flex-align:center;align-items:center;-webkit-align-content:center;-ms-flex-line-pack:center;align-content:center;}/*!sc*/
.hhunph [data-component="buttonContent"] > :not(:last-child){margin-right:8px;}/*!sc*/
.hhunph:hover:not([disabled]){background-color:var(--control-transparent-bgColor-hover,var(--color-action-list-item-default-hover-bg,rgba(177,186,196,0.12)));}/*!sc*/
.hhunph:active:not([disabled]){background-color:var(--control-transparent-bgColor-active,var(--color-action-list-item-default-active-bg,rgba(177,186,196,0.2)));}/*!sc*/
.hhunph[aria-expanded=true]{background-color:var(--control-transparent-bgColor-selected,var(--color-action-list-item-default-selected-bg,rgba(177,186,196,0.08)));}/*!sc*/
.hhunph[data-component="IconButton"][data-no-visuals]{color:var(--fgColor-muted,var(--color-fg-muted,#848d97));}/*!sc*/
.hhunph[data-no-visuals]{color:var(--fgColor-accent,var(--color-accent-fg,#2f81f7));}/*!sc*/
.hhunph:has([data-component="ButtonCounter"]){color:var(--button-default-fgColor-rest,var(--color-btn-text,#c9d1d9));}/*!sc*/
.hhunph:disabled[data-no-visuals]{color:var(--fgColor-disabled,var(--color-primer-fg-disabled,#484f58));}/*!sc*/
.hhunph:disabled[data-no-visuals] [data-component=ButtonCounter]{color:inherit;}/*!sc*/
.ecGgfP{border-radius:6px;border:1px solid;border-color:transparent;font-family:inherit;font-weight:500;font-size:14px;cursor:pointer;-webkit-appearance:none;-moz-appearance:none;appearance:none;-webkit-user-select:none;-moz-user-select:none;-ms-user-select:none;user-select:none;-webkit-text-decoration:none;text-decoration:none;text-align:center;display:-webkit-box;display:-webkit-flex;display:-ms-flexbox;display:flex;-webkit-align-items:center;-webkit-box-align:center;-ms-flex-align:center;align-items:center;-webkit-box-pack:justify;-webkit-justify-content:space-between;-ms-flex-pack:justify;justify-content:space-between;height:32px;padding:0 12px;gap:8px;min-width:-webkit-max-content;min-width:-moz-max-content;min-width:max-content;-webkit-transition:80ms cubic-bezier(0.65,0,0.35,1);transition:80ms cubic-bezier(0.65,0,0.35,1);-webkit-transition-property:color,fill,background-color,border-color;transition-property:color,fill,background-color,border-color;color:var(--button-default-fgColor-rest,var(--color-btn-text,#c9d1d9));background-color:transparent;box-shadow:none;}/*!sc*/
.ecGgfP:focus:not(:disabled){box-shadow:none;outline:2px solid var(--fgColor-accent,var(--color-accent-fg,#2f81f7));outline-offset:-2px;}/*!sc*/
.ecGgfP:focus:not(:disabled):not(:focus-visible){outline:solid 1px transparent;}/*!sc*/
.ecGgfP:focus-visible:not(:disabled){box-shadow:none;outline:2px solid var(--fgColor-accent,var(--color-accent-fg,#2f81f7));outline-offset:-2px;}/*!sc*/
.ecGgfP[href]{display:-webkit-inline-box;display:-webkit-inline-flex;display:-ms-inline-flexbox;display:inline-flex;}/*!sc*/
.ecGgfP[href]:hover{-webkit-text-decoration:none;text-decoration:none;}/*!sc*/
.ecGgfP:hover{-webkit-transition-duration:80ms;transition-duration:80ms;}/*!sc*/
.ecGgfP:active{-webkit-transition:none;transition:none;}/*!sc*/
.ecGgfP[data-inactive]{cursor:auto;}/*!sc*/
.ecGgfP:disabled{cursor:not-allowed;box-shadow:none;color:var(--fgColor-disabled,var(--color-primer-fg-disabled,#484f58));}/*!sc*/
.ecGgfP:disabled [data-component=ButtonCounter],.ecGgfP:disabled [data-component="leadingVisual"],.ecGgfP:disabled [data-component="trailingAction"]{color:inherit;}/*!sc*/
@media (forced-colors:active){.ecGgfP:focus{outline:solid 1px transparent;}}/*!sc*/
.ecGgfP [data-component=ButtonCounter]{font-size:12px;}/*!sc*/
.ecGgfP[data-component=IconButton]{display:inline-grid;padding:unset;place-content:center;width:32px;min-width:unset;}/*!sc*/
.ecGgfP[data-size="small"]{padding:0 8px;height:28px;gap:4px;font-size:12px;color:var(--fgColor-default,var(--color-fg-default,#e6edf3));margin-left:8px;}/*!sc*/
.ecGgfP[data-size="small"] [data-component="text"]{line-height:calc(20 / 12);}/*!sc*/
.ecGgfP[data-size="small"] [data-component=ButtonCounter]{font-size:12px;}/*!sc*/
.ecGgfP[data-size="small"] [data-component="buttonContent"] > :not(:last-child){margin-right:4px;}/*!sc*/
.ecGgfP[data-size="small"][data-component=IconButton]{width:28px;padding:unset;}/*!sc*/
.ecGgfP[data-size="large"]{padding:0 16px;height:40px;gap:8px;}/*!sc*/
.ecGgfP[data-size="large"] [data-component="buttonContent"] > :not(:last-child){margin-right:8px;}/*!sc*/
.ecGgfP[data-size="large"][data-component=IconButton]{width:40px;padding:unset;}/*!sc*/
.ecGgfP[data-block="block"]{width:100%;}/*!sc*/
.ecGgfP[data-inactive]:not([disabled]){background-color:var(--button-inactive-bgColor,var(--button-inactive-bgColor-rest,var(--color-btn-inactive-bg,#21262d)));border-color:var(--button-inactive-bgColor,var(--button-inactive-bgColor-rest,var(--color-btn-inactive-bg,#21262d)));color:var(--button-inactive-fgColor,var(--button-inactive-fgColor-rest,var(--color-btn-inactive-text,#8b949e)));}/*!sc*/
.ecGgfP[data-inactive]:not([disabled]):focus-visible{box-shadow:none;}/*!sc*/
.ecGgfP [data-component="leadingVisual"]{grid-area:leadingVisual;color:var(--fgColor-muted,var(--color-fg-muted,#848d97));}/*!sc*/
.ecGgfP [data-component="text"]{grid-area:text;line-height:calc(20/14);white-space:nowrap;}/*!sc*/
.ecGgfP [data-component="trailingVisual"]{grid-area:trailingVisual;}/*!sc*/
.ecGgfP [data-component="trailingAction"]{margin-right:-4px;color:var(--fgColor-muted,var(--color-fg-muted,#848d97));}/*!sc*/
.ecGgfP [data-component="buttonContent"]{-webkit-flex:1 0 auto;-ms-flex:1 0 auto;flex:1 0 auto;display:grid;grid-template-areas:"leadingVisual text trailingVisual";grid-template-columns:min-content minmax(0,auto) min-content;-webkit-align-items:center;-webkit-box-align:center;-ms-flex-align:center;align-items:center;-webkit-align-content:center;-ms-flex-line-pack:center;align-content:center;}/*!sc*/
.ecGgfP [data-component="buttonContent"] > :not(:last-child){margin-right:8px;}/*!sc*/
.ecGgfP:hover:not([disabled]){background-color:var(--control-transparent-bgColor-hover,var(--color-action-list-item-default-hover-bg,rgba(177,186,196,0.12)));}/*!sc*/
.ecGgfP:active:not([disabled]){background-color:var(--control-transparent-bgColor-active,var(--color-action-list-item-default-active-bg,rgba(177,186,196,0.2)));}/*!sc*/
.ecGgfP[aria-expanded=true]{background-color:var(--control-transparent-bgColor-selected,var(--color-action-list-item-default-selected-bg,rgba(177,186,196,0.08)));}/*!sc*/
.ecGgfP[data-component="IconButton"][data-no-visuals]{color:var(--fgColor-muted,var(--color-fg-muted,#848d97));}/*!sc*/
.ecGgfP[data-no-visuals]{color:var(--fgColor-accent,var(--color-accent-fg,#2f81f7));}/*!sc*/
.ecGgfP:has([data-component="ButtonCounter"]){color:var(--button-default-fgColor-rest,var(--color-btn-text,#c9d1d9));}/*!sc*/
.ecGgfP:disabled[data-no-visuals]{color:var(--fgColor-disabled,var(--color-primer-fg-disabled,#484f58));}/*!sc*/
.ecGgfP:disabled[data-no-visuals] [data-component=ButtonCounter]{color:inherit;}/*!sc*/
.dupbIv{border-radius:6px;border:1px solid;border-color:var(--button-default-borderColor-rest,var(--button-default-borderColor-rest,var(--color-btn-border,rgba(240,246,252,0.1))));font-family:inherit;font-weight:500;font-size:14px;cursor:pointer;-webkit-appearance:none;-moz-appearance:none;appearance:none;-webkit-user-select:none;-moz-user-select:none;-ms-user-select:none;user-select:none;-webkit-text-decoration:none;text-decoration:none;text-align:center;display:-webkit-box;display:-webkit-flex;display:-ms-flexbox;display:flex;-webkit-align-items:center;-webkit-box-align:center;-ms-flex-align:center;align-items:center;-webkit-box-pack:justify;-webkit-justify-content:space-between;-ms-flex-pack:justify;justify-content:space-between;height:32px;padding:0 12px;gap:8px;min-width:-webkit-max-content;min-width:-moz-max-content;min-width:max-content;-webkit-transition:80ms cubic-bezier(0.65,0,0.35,1);transition:80ms cubic-bezier(0.65,0,0.35,1);-webkit-transition-property:color,fill,background-color,border-color;transition-property:color,fill,background-color,border-color;color:var(--button-default-fgColor-rest,var(--color-btn-text,#c9d1d9));background-color:var(--button-default-bgColor-rest,var(--color-btn-bg,#21262d));box-shadow:var(--button-default-shadow-resting,var(--color-btn-shadow,0 0 transparent)),var(--button-default-shadow-inset,var(--color-btn-inset-shadow,0 0 transparent));padding-left:8px;padding-right:8px;}/*!sc*/
.dupbIv:focus:not(:disabled){box-shadow:none;outline:2px solid var(--fgColor-accent,var(--color-accent-fg,#2f81f7));outline-offset:-2px;}/*!sc*/
.dupbIv:focus:not(:disabled):not(:focus-visible){outline:solid 1px transparent;}/*!sc*/
.dupbIv:focus-visible:not(:disabled){box-shadow:none;outline:2px solid var(--fgColor-accent,var(--color-accent-fg,#2f81f7));outline-offset:-2px;}/*!sc*/
.dupbIv[href]{display:-webkit-inline-box;display:-webkit-inline-flex;display:-ms-inline-flexbox;display:inline-flex;}/*!sc*/
.dupbIv[href]:hover{-webkit-text-decoration:none;text-decoration:none;}/*!sc*/
.dupbIv:hover{-webkit-transition-duration:80ms;transition-duration:80ms;}/*!sc*/
.dupbIv:active{-webkit-transition:none;transition:none;}/*!sc*/
.dupbIv[data-inactive]{cursor:auto;}/*!sc*/
.dupbIv:disabled{cursor:not-allowed;box-shadow:none;color:var(--fgColor-disabled,var(--color-primer-fg-disabled,#484f58));border-color:var(--button-default-borderColor-disabled,var(--button-default-borderColor-rest,var(--color-btn-border,rgba(240,246,252,0.1))));background-color:var(--button-default-bgColor-disabled,var(--control-bgColor-disabled,var(--color-input-disabled-bg,rgba(110,118,129,0))));}/*!sc*/
.dupbIv:disabled [data-component=ButtonCounter]{color:inherit;}/*!sc*/
@media (forced-colors:active){.dupbIv:focus{outline:solid 1px transparent;}}/*!sc*/
.dupbIv [data-component=ButtonCounter]{font-size:12px;background-color:var(--buttonCounter-default-bgColor-rest,var(--color-btn-counter-bg,#30363d));}/*!sc*/
.dupbIv[data-component=IconButton]{display:inline-grid;padding:unset;place-content:center;width:32px;min-width:unset;}/*!sc*/
.dupbIv[data-size="small"]{padding:0 8px;height:28px;gap:4px;font-size:12px;}/*!sc*/
.dupbIv[data-size="small"] [data-component="text"]{line-height:calc(20 / 12);}/*!sc*/
.dupbIv[data-size="small"] [data-component=ButtonCounter]{font-size:12px;}/*!sc*/
.dupbIv[data-size="small"] [data-component="buttonContent"] > :not(:last-child){margin-right:4px;}/*!sc*/
.dupbIv[data-size="small"][data-component=IconButton]{width:28px;padding:unset;}/*!sc*/
.dupbIv[data-size="large"]{padding:0 16px;height:40px;gap:8px;}/*!sc*/
.dupbIv[data-size="large"] [data-component="buttonContent"] > :not(:last-child){margin-right:8px;}/*!sc*/
.dupbIv[data-size="large"][data-component=IconButton]{width:40px;padding:unset;}/*!sc*/
.dupbIv[data-block="block"]{width:100%;}/*!sc*/
.dupbIv[data-inactive]:not([disabled]){background-color:var(--button-inactive-bgColor,var(--button-inactive-bgColor-rest,var(--color-btn-inactive-bg,#21262d)));border-color:var(--button-inactive-bgColor,var(--button-inactive-bgColor-rest,var(--color-btn-inactive-bg,#21262d)));color:var(--button-inactive-fgColor,var(--button-inactive-fgColor-rest,var(--color-btn-inactive-text,#8b949e)));}/*!sc*/
.dupbIv[data-inactive]:not([disabled]):focus-visible{box-shadow:none;}/*!sc*/
.dupbIv [data-component="leadingVisual"]{grid-area:leadingVisual;}/*!sc*/
.dupbIv [data-component="text"]{grid-area:text;line-height:calc(20/14);white-space:nowrap;}/*!sc*/
.dupbIv [data-component="trailingVisual"]{grid-area:trailingVisual;}/*!sc*/
.dupbIv [data-component="trailingAction"]{margin-right:-4px;}/*!sc*/
.dupbIv [data-component="buttonContent"]{-webkit-flex:1 0 auto;-ms-flex:1 0 auto;flex:1 0 auto;display:grid;grid-template-areas:"leadingVisual text trailingVisual";grid-template-columns:min-content minmax(0,auto) min-content;-webkit-align-items:center;-webkit-box-align:center;-ms-flex-align:center;align-items:center;-webkit-align-content:center;-ms-flex-line-pack:center;align-content:center;}/*!sc*/
.dupbIv [data-component="buttonContent"] > :not(:last-child){margin-right:8px;}/*!sc*/
.dupbIv:hover:not([disabled]):not([data-inactive]){background-color:var(--button-default-bgColor-hover,var(--color-btn-hover-bg,#30363d));border-color:var(--button-default-borderColor-hover,var(--button-default-borderColor-hover,var(--color-btn-hover-border,#8b949e)));}/*!sc*/
.dupbIv:active:not([disabled]):not([data-inactive]){background-color:var(--button-default-bgColor-active,var(--color-btn-active-bg,hsla(212,12%,18%,1)));border-color:var(--button-default-borderColor-active,var(--button-default-borderColor-active,var(--color-btn-active-border,#6e7681)));}/*!sc*/
.dupbIv[aria-expanded=true]{background-color:var(--button-default-bgColor-active,var(--color-btn-active-bg,hsla(212,12%,18%,1)));border-color:var(--button-default-borderColor-active,var(--button-default-borderColor-active,var(--color-btn-active-border,#6e7681)));}/*!sc*/
.dupbIv [data-component="leadingVisual"],.dupbIv [data-component="trailingVisual"],.dupbIv [data-component="trailingAction"]{color:var(--button-color,var(--fgColor-muted,var(--color-fg-muted,#848d97)));}/*!sc*/
.dupbIv[data-component="IconButton"][data-no-visuals]{color:var(--fgColor-muted,var(--color-fg-muted,#848d97));}/*!sc*/
.dupbIv linkButtonSx:hover:not([disabled]){-webkit-text-decoration:none;text-decoration:none;}/*!sc*/
.dupbIv linkButtonSx:focus:not([disabled]){-webkit-text-decoration:none;text-decoration:none;}/*!sc*/
.dupbIv linkButtonSx:active:not([disabled]){-webkit-text-decoration:none;text-decoration:none;}/*!sc*/
.dMUxwi{border-radius:6px;border:1px solid;border-color:var(--button-default-borderColor-rest,var(--button-default-borderColor-rest,var(--color-btn-border,rgba(240,246,252,0.1))));font-family:inherit;font-weight:500;font-size:14px;cursor:pointer;-webkit-appearance:none;-moz-appearance:none;appearance:none;-webkit-user-select:none;-moz-user-select:none;-ms-user-select:none;user-select:none;-webkit-text-decoration:none;text-decoration:none;text-align:center;display:-webkit-box;display:-webkit-flex;display:-ms-flexbox;display:flex;-webkit-align-items:center;-webkit-box-align:center;-ms-flex-align:center;align-items:center;-webkit-box-pack:justify;-webkit-justify-content:space-between;-ms-flex-pack:justify;justify-content:space-between;height:32px;padding:0 12px;gap:8px;min-width:-webkit-max-content;min-width:-moz-max-content;min-width:max-content;-webkit-transition:80ms cubic-bezier(0.65,0,0.35,1);transition:80ms cubic-bezier(0.65,0,0.35,1);-webkit-transition-property:color,fill,background-color,border-color;transition-property:color,fill,background-color,border-color;color:var(--button-default-fgColor-rest,var(--color-btn-text,#c9d1d9));background-color:var(--button-default-bgColor-rest,var(--color-btn-bg,#21262d));box-shadow:var(--button-default-shadow-resting,var(--color-btn-shadow,0 0 transparent)),var(--button-default-shadow-inset,var(--color-btn-inset-shadow,0 0 transparent));}/*!sc*/
.dMUxwi:focus:not(:disabled){box-shadow:none;outline:2px solid var(--fgColor-accent,var(--color-accent-fg,#2f81f7));outline-offset:-2px;}/*!sc*/
.dMUxwi:focus:not(:disabled):not(:focus-visible){outline:solid 1px transparent;}/*!sc*/
.dMUxwi:focus-visible:not(:disabled){box-shadow:none;outline:2px solid var(--fgColor-accent,var(--color-accent-fg,#2f81f7));outline-offset:-2px;}/*!sc*/
.dMUxwi[href]{display:-webkit-inline-box;display:-webkit-inline-flex;display:-ms-inline-flexbox;display:inline-flex;}/*!sc*/
.dMUxwi[href]:hover{-webkit-text-decoration:none;text-decoration:none;}/*!sc*/
.dMUxwi:hover{-webkit-transition-duration:80ms;transition-duration:80ms;}/*!sc*/
.dMUxwi:active{-webkit-transition:none;transition:none;}/*!sc*/
.dMUxwi[data-inactive]{cursor:auto;}/*!sc*/
.dMUxwi:disabled{cursor:not-allowed;box-shadow:none;color:var(--fgColor-disabled,var(--color-primer-fg-disabled,#484f58));border-color:var(--button-default-borderColor-disabled,var(--button-default-borderColor-rest,var(--color-btn-border,rgba(240,246,252,0.1))));background-color:var(--button-default-bgColor-disabled,var(--control-bgColor-disabled,var(--color-input-disabled-bg,rgba(110,118,129,0))));}/*!sc*/
.dMUxwi:disabled [data-component=ButtonCounter]{color:inherit;}/*!sc*/
@media (forced-colors:active){.dMUxwi:focus{outline:solid 1px transparent;}}/*!sc*/
.dMUxwi [data-component=ButtonCounter]{font-size:12px;background-color:var(--buttonCounter-default-bgColor-rest,var(--color-btn-counter-bg,#30363d));}/*!sc*/
.dMUxwi[data-component=IconButton]{display:inline-grid;padding:unset;place-content:center;width:32px;min-width:unset;}/*!sc*/
.dMUxwi[data-size="small"]{padding:0 8px;height:28px;gap:4px;font-size:12px;}/*!sc*/
.dMUxwi[data-size="small"] [data-component="text"]{line-height:calc(20 / 12);}/*!sc*/
.dMUxwi[data-size="small"] [data-component=ButtonCounter]{font-size:12px;}/*!sc*/
.dMUxwi[data-size="small"] [data-component="buttonContent"] > :not(:last-child){margin-right:4px;}/*!sc*/
.dMUxwi[data-size="small"][data-component=IconButton]{width:28px;padding:unset;}/*!sc*/
.dMUxwi[data-size="large"]{padding:0 16px;height:40px;gap:8px;}/*!sc*/
.dMUxwi[data-size="large"] [data-component="buttonContent"] > :not(:last-child){margin-right:8px;}/*!sc*/
.dMUxwi[data-size="large"][data-component=IconButton]{width:40px;padding:unset;}/*!sc*/
.dMUxwi[data-block="block"]{width:100%;}/*!sc*/
.dMUxwi[data-inactive]:not([disabled]){background-color:var(--button-inactive-bgColor,var(--button-inactive-bgColor-rest,var(--color-btn-inactive-bg,#21262d)));border-color:var(--button-inactive-bgColor,var(--button-inactive-bgColor-rest,var(--color-btn-inactive-bg,#21262d)));color:var(--button-inactive-fgColor,var(--button-inactive-fgColor-rest,var(--color-btn-inactive-text,#8b949e)));}/*!sc*/
.dMUxwi[data-inactive]:not([disabled]):focus-visible{box-shadow:none;}/*!sc*/
.dMUxwi [data-component="leadingVisual"]{grid-area:leadingVisual;}/*!sc*/
.dMUxwi [data-component="text"]{grid-area:text;line-height:calc(20/14);white-space:nowrap;}/*!sc*/
.dMUxwi [data-component="trailingVisual"]{grid-area:trailingVisual;}/*!sc*/
.dMUxwi [data-component="trailingAction"]{margin-right:-4px;}/*!sc*/
.dMUxwi [data-component="buttonContent"]{-webkit-flex:1 0 auto;-ms-flex:1 0 auto;flex:1 0 auto;display:grid;grid-template-areas:"leadingVisual text trailingVisual";grid-template-columns:min-content minmax(0,auto) min-content;-webkit-align-items:center;-webkit-box-align:center;-ms-flex-align:center;align-items:center;-webkit-align-content:center;-ms-flex-line-pack:center;align-content:center;}/*!sc*/
.dMUxwi [data-component="buttonContent"] > :not(:last-child){margin-right:8px;}/*!sc*/
.dMUxwi:hover:not([disabled]):not([data-inactive]){background-color:var(--button-default-bgColor-hover,var(--color-btn-hover-bg,#30363d));border-color:var(--button-default-borderColor-hover,var(--button-default-borderColor-hover,var(--color-btn-hover-border,#8b949e)));}/*!sc*/
.dMUxwi:active:not([disabled]):not([data-inactive]){background-color:var(--button-default-bgColor-active,var(--color-btn-active-bg,hsla(212,12%,18%,1)));border-color:var(--button-default-borderColor-active,var(--button-default-borderColor-active,var(--color-btn-active-border,#6e7681)));}/*!sc*/
.dMUxwi[aria-expanded=true]{background-color:var(--button-default-bgColor-active,var(--color-btn-active-bg,hsla(212,12%,18%,1)));border-color:var(--button-default-borderColor-active,var(--button-default-borderColor-active,var(--color-btn-active-border,#6e7681)));}/*!sc*/
.dMUxwi [data-component="leadingVisual"],.dMUxwi [data-component="trailingVisual"],.dMUxwi [data-component="trailingAction"]{color:var(--button-color,var(--fgColor-muted,var(--color-fg-muted,#848d97)));}/*!sc*/
.dMUxwi[data-component="IconButton"][data-no-visuals]{color:var(--fgColor-muted,var(--color-fg-muted,#848d97));}/*!sc*/
.fCIOmi{border-radius:6px;border:1px solid;border-color:var(--button-default-borderColor-rest,var(--button-default-borderColor-rest,var(--color-btn-border,rgba(240,246,252,0.1))));font-family:inherit;font-weight:500;font-size:14px;cursor:pointer;-webkit-appearance:none;-moz-appearance:none;appearance:none;-webkit-user-select:none;-moz-user-select:none;-ms-user-select:none;user-select:none;-webkit-text-decoration:none;text-decoration:none;text-align:center;display:-webkit-box;display:-webkit-flex;display:-ms-flexbox;display:flex;-webkit-align-items:center;-webkit-box-align:center;-ms-flex-align:center;align-items:center;-webkit-box-pack:justify;-webkit-justify-content:space-between;-ms-flex-pack:justify;justify-content:space-between;height:32px;padding:0 12px;gap:8px;min-width:-webkit-max-content;min-width:-moz-max-content;min-width:max-content;-webkit-transition:80ms cubic-bezier(0.65,0,0.35,1);transition:80ms cubic-bezier(0.65,0,0.35,1);-webkit-transition-property:color,fill,background-color,border-color;transition-property:color,fill,background-color,border-color;color:var(--button-default-fgColor-rest,var(--color-btn-text,#c9d1d9));background-color:var(--button-default-bgColor-rest,var(--color-btn-bg,#21262d));box-shadow:var(--button-default-shadow-resting,var(--color-btn-shadow,0 0 transparent)),var(--button-default-shadow-inset,var(--color-btn-inset-shadow,0 0 transparent));}/*!sc*/
.fCIOmi:focus:not(:disabled){box-shadow:none;outline:2px solid var(--fgColor-accent,var(--color-accent-fg,#2f81f7));outline-offset:-2px;}/*!sc*/
.fCIOmi:focus:not(:disabled):not(:focus-visible){outline:solid 1px transparent;}/*!sc*/
.fCIOmi:focus-visible:not(:disabled){box-shadow:none;outline:2px solid var(--fgColor-accent,var(--color-accent-fg,#2f81f7));outline-offset:-2px;}/*!sc*/
.fCIOmi[href]{display:-webkit-inline-box;display:-webkit-inline-flex;display:-ms-inline-flexbox;display:inline-flex;}/*!sc*/
.fCIOmi[href]:hover{-webkit-text-decoration:none;text-decoration:none;}/*!sc*/
.fCIOmi:hover{-webkit-transition-duration:80ms;transition-duration:80ms;}/*!sc*/
.fCIOmi:active{-webkit-transition:none;transition:none;}/*!sc*/
.fCIOmi[data-inactive]{cursor:auto;}/*!sc*/
.fCIOmi:disabled{cursor:not-allowed;box-shadow:none;color:var(--fgColor-disabled,var(--color-primer-fg-disabled,#484f58));border-color:var(--button-default-borderColor-disabled,var(--button-default-borderColor-rest,var(--color-btn-border,rgba(240,246,252,0.1))));background-color:var(--button-default-bgColor-disabled,var(--control-bgColor-disabled,var(--color-input-disabled-bg,rgba(110,118,129,0))));}/*!sc*/
.fCIOmi:disabled [data-component=ButtonCounter]{color:inherit;}/*!sc*/
@media (forced-colors:active){.fCIOmi:focus{outline:solid 1px transparent;}}/*!sc*/
.fCIOmi [data-component=ButtonCounter]{font-size:12px;background-color:var(--buttonCounter-default-bgColor-rest,var(--color-btn-counter-bg,#30363d));}/*!sc*/
.fCIOmi[data-component=IconButton]{display:inline-grid;padding:unset;place-content:center;width:32px;min-width:unset;}/*!sc*/
.fCIOmi[data-size="small"]{padding:0 8px;height:28px;gap:4px;font-size:12px;}/*!sc*/
.fCIOmi[data-size="small"] [data-component="text"]{line-height:calc(20 / 12);}/*!sc*/
.fCIOmi[data-size="small"] [data-component=ButtonCounter]{font-size:12px;}/*!sc*/
.fCIOmi[data-size="small"] [data-component="buttonContent"] > :not(:last-child){margin-right:4px;}/*!sc*/
.fCIOmi[data-size="small"][data-component=IconButton]{width:28px;padding:unset;}/*!sc*/
.fCIOmi[data-size="large"]{padding:0 16px;height:40px;gap:8px;}/*!sc*/
.fCIOmi[data-size="large"] [data-component="buttonContent"] > :not(:last-child){margin-right:8px;}/*!sc*/
.fCIOmi[data-size="large"][data-component=IconButton]{width:40px;padding:unset;}/*!sc*/
.fCIOmi[data-block="block"]{width:100%;}/*!sc*/
.fCIOmi[data-inactive]:not([disabled]){background-color:var(--button-inactive-bgColor,var(--button-inactive-bgColor-rest,var(--color-btn-inactive-bg,#21262d)));border-color:var(--button-inactive-bgColor,var(--button-inactive-bgColor-rest,var(--color-btn-inactive-bg,#21262d)));color:var(--button-inactive-fgColor,var(--button-inactive-fgColor-rest,var(--color-btn-inactive-text,#8b949e)));}/*!sc*/
.fCIOmi[data-inactive]:not([disabled]):focus-visible{box-shadow:none;}/*!sc*/
.fCIOmi [data-component="leadingVisual"]{grid-area:leadingVisual;}/*!sc*/
.fCIOmi [data-component="text"]{grid-area:text;line-height:calc(20/14);white-space:nowrap;}/*!sc*/
.fCIOmi [data-component="trailingVisual"]{grid-area:trailingVisual;}/*!sc*/
.fCIOmi [data-component="trailingAction"]{margin-right:-4px;}/*!sc*/
.fCIOmi [data-component="buttonContent"]{-webkit-flex:1 0 auto;-ms-flex:1 0 auto;flex:1 0 auto;display:grid;grid-template-areas:"leadingVisual text trailingVisual";grid-template-columns:min-content minmax(0,auto) min-content;-webkit-align-items:center;-webkit-box-align:center;-ms-flex-align:center;align-items:center;-webkit-align-content:center;-ms-flex-line-pack:center;align-content:center;}/*!sc*/
.fCIOmi [data-component="buttonContent"] > :not(:last-child){margin-right:8px;}/*!sc*/
.fCIOmi:hover:not([disabled]):not([data-inactive]){background-color:var(--button-default-bgColor-hover,var(--color-btn-hover-bg,#30363d));border-color:var(--button-default-borderColor-hover,var(--button-default-borderColor-hover,var(--color-btn-hover-border,#8b949e)));}/*!sc*/
.fCIOmi:active:not([disabled]):not([data-inactive]){background-color:var(--button-default-bgColor-active,var(--color-btn-active-bg,hsla(212,12%,18%,1)));border-color:var(--button-default-borderColor-active,var(--button-default-borderColor-active,var(--color-btn-active-border,#6e7681)));}/*!sc*/
.fCIOmi[aria-expanded=true]{background-color:var(--button-default-bgColor-active,var(--color-btn-active-bg,hsla(212,12%,18%,1)));border-color:var(--button-default-borderColor-active,var(--button-default-borderColor-active,var(--color-btn-active-border,#6e7681)));}/*!sc*/
.fCIOmi [data-component="leadingVisual"],.fCIOmi [data-component="trailingVisual"],.fCIOmi [data-component="trailingAction"]{color:var(--button-color,var(--fgColor-muted,var(--color-fg-muted,#848d97)));}/*!sc*/
.fCIOmi[data-component="IconButton"][data-no-visuals]{color:var(--fgColor-muted,var(--color-fg-muted,#848d97));}/*!sc*/
.fCIOmi[data-size="small"][data-no-visuals]{border-top-left-radius:0;border-bottom-left-radius:0;}/*!sc*/
.ksnFc{border-radius:6px;border:1px solid;border-color:var(--button-default-borderColor-rest,var(--button-default-borderColor-rest,var(--color-btn-border,rgba(240,246,252,0.1))));font-family:inherit;font-weight:500;font-size:14px;cursor:pointer;-webkit-appearance:none;-moz-appearance:none;appearance:none;-webkit-user-select:none;-moz-user-select:none;-ms-user-select:none;user-select:none;-webkit-text-decoration:none;text-decoration:none;text-align:center;display:-webkit-box;display:-webkit-flex;display:-ms-flexbox;display:flex;-webkit-align-items:center;-webkit-box-align:center;-ms-flex-align:center;align-items:center;-webkit-box-pack:justify;-webkit-justify-content:space-between;-ms-flex-pack:justify;justify-content:space-between;height:32px;padding:0 12px;gap:8px;min-width:-webkit-max-content;min-width:-moz-max-content;min-width:max-content;-webkit-transition:80ms cubic-bezier(0.65,0,0.35,1);transition:80ms cubic-bezier(0.65,0,0.35,1);-webkit-transition-property:color,fill,background-color,border-color;transition-property:color,fill,background-color,border-color;color:var(--button-default-fgColor-rest,var(--color-btn-text,#c9d1d9));background-color:var(--button-default-bgColor-rest,var(--color-btn-bg,#21262d));box-shadow:var(--button-default-shadow-resting,var(--color-btn-shadow,0 0 transparent)),var(--button-default-shadow-inset,var(--color-btn-inset-shadow,0 0 transparent));}/*!sc*/
.ksnFc:focus:not(:disabled){box-shadow:none;outline:2px solid var(--fgColor-accent,var(--color-accent-fg,#2f81f7));outline-offset:-2px;}/*!sc*/
.ksnFc:focus:not(:disabled):not(:focus-visible){outline:solid 1px transparent;}/*!sc*/
.ksnFc:focus-visible:not(:disabled){box-shadow:none;outline:2px solid var(--fgColor-accent,var(--color-accent-fg,#2f81f7));outline-offset:-2px;}/*!sc*/
.ksnFc[href]{display:-webkit-inline-box;display:-webkit-inline-flex;display:-ms-inline-flexbox;display:inline-flex;}/*!sc*/
.ksnFc[href]:hover{-webkit-text-decoration:none;text-decoration:none;}/*!sc*/
.ksnFc:hover{-webkit-transition-duration:80ms;transition-duration:80ms;}/*!sc*/
.ksnFc:active{-webkit-transition:none;transition:none;}/*!sc*/
.ksnFc[data-inactive]{cursor:auto;}/*!sc*/
.ksnFc:disabled{cursor:not-allowed;box-shadow:none;color:var(--fgColor-disabled,var(--color-primer-fg-disabled,#484f58));border-color:var(--button-default-borderColor-disabled,var(--button-default-borderColor-rest,var(--color-btn-border,rgba(240,246,252,0.1))));background-color:var(--button-default-bgColor-disabled,var(--control-bgColor-disabled,var(--color-input-disabled-bg,rgba(110,118,129,0))));}/*!sc*/
.ksnFc:disabled [data-component=ButtonCounter]{color:inherit;}/*!sc*/
@media (forced-colors:active){.ksnFc:focus{outline:solid 1px transparent;}}/*!sc*/
.ksnFc [data-component=ButtonCounter]{font-size:12px;background-color:var(--buttonCounter-default-bgColor-rest,var(--color-btn-counter-bg,#30363d));}/*!sc*/
.ksnFc[data-component=IconButton]{display:inline-grid;padding:unset;place-content:center;width:32px;min-width:unset;}/*!sc*/
.ksnFc[data-size="small"]{padding:0 8px;height:28px;gap:4px;font-size:12px;}/*!sc*/
.ksnFc[data-size="small"] [data-component="text"]{line-height:calc(20 / 12);}/*!sc*/
.ksnFc[data-size="small"] [data-component=ButtonCounter]{font-size:12px;}/*!sc*/
.ksnFc[data-size="small"] [data-component="buttonContent"] > :not(:last-child){margin-right:4px;}/*!sc*/
.ksnFc[data-size="small"][data-component=IconButton]{width:28px;padding:unset;}/*!sc*/
.ksnFc[data-size="large"]{padding:0 16px;height:40px;gap:8px;}/*!sc*/
.ksnFc[data-size="large"] [data-component="buttonContent"] > :not(:last-child){margin-right:8px;}/*!sc*/
.ksnFc[data-size="large"][data-component=IconButton]{width:40px;padding:unset;}/*!sc*/
.ksnFc[data-block="block"]{width:100%;}/*!sc*/
.ksnFc[data-inactive]:not([disabled]){background-color:var(--button-inactive-bgColor,var(--button-inactive-bgColor-rest,var(--color-btn-inactive-bg,#21262d)));border-color:var(--button-inactive-bgColor,var(--button-inactive-bgColor-rest,var(--color-btn-inactive-bg,#21262d)));color:var(--button-inactive-fgColor,var(--button-inactive-fgColor-rest,var(--color-btn-inactive-text,#8b949e)));}/*!sc*/
.ksnFc[data-inactive]:not([disabled]):focus-visible{box-shadow:none;}/*!sc*/
.ksnFc [data-component="leadingVisual"]{grid-area:leadingVisual;}/*!sc*/
.ksnFc [data-component="text"]{grid-area:text;line-height:calc(20/14);white-space:nowrap;}/*!sc*/
.ksnFc [data-component="trailingVisual"]{grid-area:trailingVisual;}/*!sc*/
.ksnFc [data-component="trailingAction"]{margin-right:-4px;}/*!sc*/
.ksnFc [data-component="buttonContent"]{-webkit-flex:1 0 auto;-ms-flex:1 0 auto;flex:1 0 auto;display:grid;grid-template-areas:"leadingVisual text trailingVisual";grid-template-columns:min-content minmax(0,auto) min-content;-webkit-align-items:center;-webkit-box-align:center;-ms-flex-align:center;align-items:center;-webkit-align-content:center;-ms-flex-line-pack:center;align-content:center;}/*!sc*/
.ksnFc [data-component="buttonContent"] > :not(:last-child){margin-right:8px;}/*!sc*/
.ksnFc:hover:not([disabled]):not([data-inactive]){background-color:var(--button-default-bgColor-hover,var(--color-btn-hover-bg,#30363d));border-color:var(--button-default-borderColor-hover,var(--button-default-borderColor-hover,var(--color-btn-hover-border,#8b949e)));}/*!sc*/
.ksnFc:active:not([disabled]):not([data-inactive]){background-color:var(--button-default-bgColor-active,var(--color-btn-active-bg,hsla(212,12%,18%,1)));border-color:var(--button-default-borderColor-active,var(--button-default-borderColor-active,var(--color-btn-active-border,#6e7681)));}/*!sc*/
.ksnFc[aria-expanded=true]{background-color:var(--button-default-bgColor-active,var(--color-btn-active-bg,hsla(212,12%,18%,1)));border-color:var(--button-default-borderColor-active,var(--button-default-borderColor-active,var(--color-btn-active-border,#6e7681)));}/*!sc*/
.ksnFc [data-component="leadingVisual"],.ksnFc [data-component="trailingVisual"],.ksnFc [data-component="trailingAction"]{color:var(--button-color,var(--fgColor-muted,var(--color-fg-muted,#848d97)));}/*!sc*/
.ksnFc[data-component="IconButton"][data-no-visuals]{color:var(--fgColor-muted,var(--color-fg-muted,#848d97));}/*!sc*/
.ksnFc[data-size="small"][data-no-visuals]{border-top-right-radius:0;border-bottom-right-radius:0;border-right-width:0;}/*!sc*/
.ksnFc[data-size="small"][data-no-visuals]:hover:not([disabled]){-webkit-text-decoration:none;text-decoration:none;}/*!sc*/
.ksnFc[data-size="small"][data-no-visuals]:focus:not([disabled]){-webkit-text-decoration:none;text-decoration:none;}/*!sc*/
.ksnFc[data-size="small"][data-no-visuals]:active:not([disabled]){-webkit-text-decoration:none;text-decoration:none;}/*!sc*/
.htXhGX{border-radius:6px;border:1px solid;border-color:transparent;font-family:inherit;font-weight:500;font-size:14px;cursor:pointer;-webkit-appearance:none;-moz-appearance:none;appearance:none;-webkit-user-select:none;-moz-user-select:none;-ms-user-select:none;user-select:none;-webkit-text-decoration:none;text-decoration:none;text-align:center;display:-webkit-box;display:-webkit-flex;display:-ms-flexbox;display:flex;-webkit-align-items:center;-webkit-box-align:center;-ms-flex-align:center;align-items:center;-webkit-box-pack:justify;-webkit-justify-content:space-between;-ms-flex-pack:justify;justify-content:space-between;height:32px;padding:0 12px;gap:8px;min-width:-webkit-max-content;min-width:-moz-max-content;min-width:max-content;-webkit-transition:80ms cubic-bezier(0.65,0,0.35,1);transition:80ms cubic-bezier(0.65,0,0.35,1);-webkit-transition-property:color,fill,background-color,border-color;transition-property:color,fill,background-color,border-color;color:var(--button-default-fgColor-rest,var(--color-btn-text,#c9d1d9));background-color:transparent;box-shadow:none;}/*!sc*/
.htXhGX:focus:not(:disabled){box-shadow:none;outline:2px solid var(--fgColor-accent,var(--color-accent-fg,#2f81f7));outline-offset:-2px;}/*!sc*/
.htXhGX:focus:not(:disabled):not(:focus-visible){outline:solid 1px transparent;}/*!sc*/
.htXhGX:focus-visible:not(:disabled){box-shadow:none;outline:2px solid var(--fgColor-accent,var(--color-accent-fg,#2f81f7));outline-offset:-2px;}/*!sc*/
.htXhGX[href]{display:-webkit-inline-box;display:-webkit-inline-flex;display:-ms-inline-flexbox;display:inline-flex;}/*!sc*/
.htXhGX[href]:hover{-webkit-text-decoration:none;text-decoration:none;}/*!sc*/
.htXhGX:hover{-webkit-transition-duration:80ms;transition-duration:80ms;}/*!sc*/
.htXhGX:active{-webkit-transition:none;transition:none;}/*!sc*/
.htXhGX[data-inactive]{cursor:auto;}/*!sc*/
.htXhGX:disabled{cursor:not-allowed;box-shadow:none;color:var(--fgColor-disabled,var(--color-primer-fg-disabled,#484f58));}/*!sc*/
.htXhGX:disabled [data-component=ButtonCounter],.htXhGX:disabled [data-component="leadingVisual"],.htXhGX:disabled [data-component="trailingAction"]{color:inherit;}/*!sc*/
@media (forced-colors:active){.htXhGX:focus{outline:solid 1px transparent;}}/*!sc*/
.htXhGX [data-component=ButtonCounter]{font-size:12px;}/*!sc*/
.htXhGX[data-component=IconButton]{display:inline-grid;padding:unset;place-content:center;width:32px;min-width:unset;}/*!sc*/
.htXhGX[data-size="small"]{padding:0 8px;height:28px;gap:4px;font-size:12px;}/*!sc*/
.htXhGX[data-size="small"] [data-component="text"]{line-height:calc(20 / 12);}/*!sc*/
.htXhGX[data-size="small"] [data-component=ButtonCounter]{font-size:12px;}/*!sc*/
.htXhGX[data-size="small"] [data-component="buttonContent"] > :not(:last-child){margin-right:4px;}/*!sc*/
.htXhGX[data-size="small"][data-component=IconButton]{width:28px;padding:unset;}/*!sc*/
.htXhGX[data-size="large"]{padding:0 16px;height:40px;gap:8px;}/*!sc*/
.htXhGX[data-size="large"] [data-component="buttonContent"] > :not(:last-child){margin-right:8px;}/*!sc*/
.htXhGX[data-size="large"][data-component=IconButton]{width:40px;padding:unset;}/*!sc*/
.htXhGX[data-block="block"]{width:100%;}/*!sc*/
.htXhGX[data-inactive]:not([disabled]){background-color:var(--button-inactive-bgColor,var(--button-inactive-bgColor-rest,var(--color-btn-inactive-bg,#21262d)));border-color:var(--button-inactive-bgColor,var(--button-inactive-bgColor-rest,var(--color-btn-inactive-bg,#21262d)));color:var(--button-inactive-fgColor,var(--button-inactive-fgColor-rest,var(--color-btn-inactive-text,#8b949e)));}/*!sc*/
.htXhGX[data-inactive]:not([disabled]):focus-visible{box-shadow:none;}/*!sc*/
.htXhGX [data-component="leadingVisual"]{grid-area:leadingVisual;color:var(--fgColor-muted,var(--color-fg-muted,#848d97));}/*!sc*/
.htXhGX [data-component="text"]{grid-area:text;line-height:calc(20/14);white-space:nowrap;}/*!sc*/
.htXhGX [data-component="trailingVisual"]{grid-area:trailingVisual;}/*!sc*/
.htXhGX [data-component="trailingAction"]{margin-right:-4px;color:var(--fgColor-muted,var(--color-fg-muted,#848d97));}/*!sc*/
.htXhGX [data-component="buttonContent"]{-webkit-flex:1 0 auto;-ms-flex:1 0 auto;flex:1 0 auto;display:grid;grid-template-areas:"leadingVisual text trailingVisual";grid-template-columns:min-content minmax(0,auto) min-content;-webkit-align-items:center;-webkit-box-align:center;-ms-flex-align:center;align-items:center;-webkit-align-content:center;-ms-flex-line-pack:center;align-content:center;}/*!sc*/
.htXhGX [data-component="buttonContent"] > :not(:last-child){margin-right:8px;}/*!sc*/
.htXhGX:hover:not([disabled]){background-color:var(--control-transparent-bgColor-hover,var(--color-action-list-item-default-hover-bg,rgba(177,186,196,0.12)));}/*!sc*/
.htXhGX:active:not([disabled]){background-color:var(--control-transparent-bgColor-active,var(--color-action-list-item-default-active-bg,rgba(177,186,196,0.2)));}/*!sc*/
.htXhGX[aria-expanded=true]{background-color:var(--control-transparent-bgColor-selected,var(--color-action-list-item-default-selected-bg,rgba(177,186,196,0.08)));}/*!sc*/
.htXhGX[data-component="IconButton"][data-no-visuals]{color:var(--fgColor-muted,var(--color-fg-muted,#848d97));}/*!sc*/
.htXhGX[data-no-visuals]{color:var(--fgColor-accent,var(--color-accent-fg,#2f81f7));}/*!sc*/
.htXhGX:has([data-component="ButtonCounter"]){color:var(--button-default-fgColor-rest,var(--color-btn-text,#c9d1d9));}/*!sc*/
.htXhGX:disabled[data-no-visuals]{color:var(--fgColor-disabled,var(--color-primer-fg-disabled,#484f58));}/*!sc*/
.htXhGX:disabled[data-no-visuals] [data-component=ButtonCounter]{color:inherit;}/*!sc*/
.htXhGX[data-size="small"][data-no-visuals]{color:var(--fgColor-muted,var(--color-fg-muted,#848d97));}/*!sc*/
data-styled.g4[id="types__StyledButton-sc-ws60qy-0"]{content:"iKABXH,hfWObv,gBsjGI,XJZbf,cBjhIZ,hWITRv,fXsbsD,hiXxwe,hhunph,ecGgfP,dupbIv,dMUxwi,fCIOmi,ksnFc,htXhGX,"}/*!sc*/
.rTZSs{position:absolute;width:1px;height:1px;padding:0;margin:-1px;overflow:hidden;-webkit-clip:rect(0,0,0,0);clip:rect(0,0,0,0);white-space:nowrap;border-width:0;}/*!sc*/
data-styled.g5[id="_VisuallyHidden__VisuallyHidden-sc-11jhm7a-0"]{content:"rTZSs,"}/*!sc*/
.bOMzPg{min-width:0;}/*!sc*/
.ePvrxx{padding-left:4px;padding-right:4px;font-weight:400;color:var(--fgColor-muted,var(--color-fg-muted,#848d97));font-size:16px;}/*!sc*/
.fQxKLn{padding-left:4px;padding-right:4px;font-weight:400;color:var(--fgColor-muted,var(--color-fg-muted,#848d97));font-size:14px;}/*!sc*/
data-styled.g7[id="Text-sc-17v1xeu-0"]{content:"bOMzPg,ePvrxx,gPDEWA,fQxKLn,"}/*!sc*/
.dpowyu{color:var(--fgColor-accent,var(--color-accent-fg,#2f81f7));-webkit-text-decoration:none;text-decoration:none;font-weight:600;}/*!sc*/
[data-a11y-link-underlines='true'] .Link__StyledLink-sc-14289xe-0[data-inline='true']{-webkit-text-decoration:underline;text-decoration:underline;}/*!sc*/
.dpowyu:hover{-webkit-text-decoration:underline;text-decoration:underline;}/*!sc*/
.dpowyu:is(button){display:inline-block;padding:0;font-size:inherit;white-space:nowrap;cursor:pointer;-webkit-user-select:none;-moz-user-select:none;-ms-user-select:none;user-select:none;background-color:transparent;border:0;-webkit-appearance:none;-moz-appearance:none;appearance:none;}/*!sc*/
.elltiT{color:var(--fgColor-accent,var(--color-accent-fg,#2f81f7));-webkit-text-decoration:none;text-decoration:none;}/*!sc*/
[data-a11y-link-underlines='true'] .Link__StyledLink-sc-14289xe-0[data-inline='true']{-webkit-text-decoration:underline;text-decoration:underline;}/*!sc*/
.elltiT:hover{-webkit-text-decoration:underline;text-decoration:underline;}/*!sc*/
.elltiT:is(button){display:inline-block;padding:0;font-size:inherit;white-space:nowrap;cursor:pointer;-webkit-user-select:none;-moz-user-select:none;-ms-user-select:none;user-select:none;background-color:transparent;border:0;-webkit-appearance:none;-moz-appearance:none;appearance:none;}/*!sc*/
data-styled.g8[id="Link__StyledLink-sc-14289xe-0"]{content:"dpowyu,elltiT,"}/*!sc*/
.izAlVj{position:relative;display:inline-block;}/*!sc*/
.izAlVj::after{position:absolute;z-index:1000000;display:none;padding:0.5em 0.75em;font:normal normal 11px/1.5 -apple-system,BlinkMacSystemFont,"Segoe UI","Noto Sans",Helvetica,Arial,sans-serif,"Apple Color Emoji","Segoe UI Emoji";-webkit-font-smoothing:subpixel-antialiased;color:var(--fgColor-onEmphasis,var(--color-fg-on-emphasis,#ffffff));text-align:center;-webkit-text-decoration:none;text-decoration:none;text-shadow:none;text-transform:none;-webkit-letter-spacing:normal;-moz-letter-spacing:normal;-ms-letter-spacing:normal;letter-spacing:normal;word-wrap:break-word;white-space:pre;pointer-events:none;content:attr(aria-label);background:var(--bgColor-emphasis,var(--color-neutral-emphasis-plus,#6e7681));border-radius:6px;opacity:0;}/*!sc*/
@-webkit-keyframes tooltip-appear{from{opacity:0;}to{opacity:1;}}/*!sc*/
@keyframes tooltip-appear{from{opacity:0;}to{opacity:1;}}/*!sc*/
.izAlVj:hover::after,.izAlVj:active::after,.izAlVj:focus::after,.izAlVj:focus-within::after{display:inline-block;-webkit-text-decoration:none;text-decoration:none;-webkit-animation-name:tooltip-appear;animation-name:tooltip-appear;-webkit-animation-duration:0.1s;animation-duration:0.1s;-webkit-animation-fill-mode:forwards;animation-fill-mode:forwards;-webkit-animation-timing-function:ease-in;animation-timing-function:ease-in;-webkit-animation-delay:0s;animation-delay:0s;}/*!sc*/
.izAlVj.tooltipped-no-delay:hover::after,.izAlVj.tooltipped-no-delay:active::after,.izAlVj.tooltipped-no-delay:focus::after,.izAlVj.tooltipped-no-delay:focus-within::after{-webkit-animation-delay:0s;animation-delay:0s;}/*!sc*/
.izAlVj.tooltipped-multiline:hover::after,.izAlVj.tooltipped-multiline:active::after,.izAlVj.tooltipped-multiline:focus::after,.izAlVj.tooltipped-multiline:focus-within::after{display:table-cell;}/*!sc*/
.izAlVj.tooltipped-s::after,.izAlVj.tooltipped-se::after,.izAlVj.tooltipped-sw::after{top:100%;right:50%;margin-top:6px;}/*!sc*/
.izAlVj.tooltipped-se::after{right:auto;left:50%;margin-left:-16px;}/*!sc*/
.izAlVj.tooltipped-sw::after{margin-right:-16px;}/*!sc*/
.izAlVj.tooltipped-n::after,.izAlVj.tooltipped-ne::after,.izAlVj.tooltipped-nw::after{right:50%;bottom:100%;margin-bottom:6px;}/*!sc*/
.izAlVj.tooltipped-ne::after{right:auto;left:50%;margin-left:-16px;}/*!sc*/
.izAlVj.tooltipped-nw::after{margin-right:-16px;}/*!sc*/
.izAlVj.tooltipped-s::after,.izAlVj.tooltipped-n::after{-webkit-transform:translateX(50%);-ms-transform:translateX(50%);transform:translateX(50%);}/*!sc*/
.izAlVj.tooltipped-w::after{right:100%;bottom:50%;margin-right:6px;-webkit-transform:translateY(50%);-ms-transform:translateY(50%);transform:translateY(50%);}/*!sc*/
.izAlVj.tooltipped-e::after{bottom:50%;left:100%;margin-left:6px;-webkit-transform:translateY(50%);-ms-transform:translateY(50%);transform:translateY(50%);}/*!sc*/
.izAlVj.tooltipped-multiline::after{width:-webkit-max-content;width:-moz-max-content;width:max-content;max-width:250px;word-wrap:break-word;white-space:pre-line;border-collapse:separate;}/*!sc*/
.izAlVj.tooltipped-multiline.tooltipped-s::after,.izAlVj.tooltipped-multiline.tooltipped-n::after{right:auto;left:50%;-webkit-transform:translateX(-50%);-ms-transform:translateX(-50%);transform:translateX(-50%);}/*!sc*/
.izAlVj.tooltipped-multiline.tooltipped-w::after,.izAlVj.tooltipped-multiline.tooltipped-e::after{right:100%;}/*!sc*/
.izAlVj.tooltipped-align-right-2::after{right:0;margin-right:0;}/*!sc*/
.izAlVj.tooltipped-align-left-2::after{left:0;margin-left:0;}/*!sc*/
data-styled.g9[id="Tooltip__TooltipBase-sc-17tf59c-0"]{content:"izAlVj,"}/*!sc*/
.fUpWeN{display:inline-block;overflow:hidden;text-overflow:ellipsis;vertical-align:top;white-space:nowrap;max-width:125px;max-width:100%;}/*!sc*/
data-styled.g13[id="Truncate__StyledTruncate-sc-23o1d2-0"]{content:"fUpWeN,"}/*!sc*/
.hPEVNM{-webkit-animation:rotate-keyframes 1s linear infinite;animation:rotate-keyframes 1s linear infinite;}/*!sc*/
@-webkit-keyframes rotate-keyframes{100%{-webkit-transform:rotate(360deg);-ms-transform:rotate(360deg);transform:rotate(360deg);}}/*!sc*/
@keyframes rotate-keyframes{100%{-webkit-transform:rotate(360deg);-ms-transform:rotate(360deg);transform:rotate(360deg);}}/*!sc*/
data-styled.g16[id="Spinner__StyledSpinner-sc-1knt686-0"]{content:"hPEVNM,"}/*!sc*/
.kbCZWh{font-size:14px;line-height:20px;color:var(--fgColor-default,var(--color-fg-default,#e6edf3));vertical-align:middle;background-color:var(--bgColor-default,var(--color-canvas-default,#0d1117));border:1px solid var(--control-borderColor-rest,var(--borderColor-default,var(--color-border-default,#30363d)));border-radius:6px;outline:none;box-shadow:var(--shadow-inset,var(--color-primer-shadow-inset,0 0 transparent));display:-webkit-inline-box;display:-webkit-inline-flex;display:-ms-inline-flexbox;display:inline-flex;-webkit-align-items:stretch;-webkit-box-align:stretch;-ms-flex-align:stretch;align-items:stretch;min-height:32px;overflow:hidden;display:-webkit-box;display:-webkit-flex;display:-ms-flexbox;display:flex;min-width:160px;}/*!sc*/
.kbCZWh input,.kbCZWh textarea{cursor:text;}/*!sc*/
.kbCZWh select{cursor:pointer;}/*!sc*/
.kbCZWh input::-webkit-input-placeholder,.kbCZWh textarea::-webkit-input-placeholder,.kbCZWh select::-webkit-input-placeholder{color:var(---control-fgColor-placeholder,var(--fgColor-muted,var(--color-fg-muted,#848d97)));}/*!sc*/
.kbCZWh input::-moz-placeholder,.kbCZWh textarea::-moz-placeholder,.kbCZWh select::-moz-placeholder{color:var(---control-fgColor-placeholder,var(--fgColor-muted,var(--color-fg-muted,#848d97)));}/*!sc*/
.kbCZWh input:-ms-input-placeholder,.kbCZWh textarea:-ms-input-placeholder,.kbCZWh select:-ms-input-placeholder{color:var(---control-fgColor-placeholder,var(--fgColor-muted,var(--color-fg-muted,#848d97)));}/*!sc*/
.kbCZWh input::placeholder,.kbCZWh textarea::placeholder,.kbCZWh select::placeholder{color:var(---control-fgColor-placeholder,var(--fgColor-muted,var(--color-fg-muted,#848d97)));}/*!sc*/
.kbCZWh:focus-within{border-color:var(--fgColor-accent,var(--color-accent-fg,#2f81f7));outline:2px solid var(--fgColor-accent,var(--color-accent-fg,#2f81f7));outline-offset:-1px;}/*!sc*/
.kbCZWh > textarea{padding:12px;}/*!sc*/
@media (min-width:768px){.kbCZWh{font-size:14px;}}/*!sc*/
data-styled.g17[id="TextInputWrapper__TextInputBaseWrapper-sc-1mqhpbi-0"]{content:"kbCZWh,"}/*!sc*/
.jxgrJS{background-repeat:no-repeat;background-position:right 8px center;padding-left:12px;padding-right:12px;display:-webkit-box;display:-webkit-flex;display:-ms-flexbox;display:flex;min-width:160px;}/*!sc*/
.jxgrJS > :not(:last-child){margin-right:8px;}/*!sc*/
.jxgrJS .TextInput-icon,.jxgrJS .TextInput-action{-webkit-align-self:center;-ms-flex-item-align:center;align-self:center;color:var(--fgColor-muted,var(--color-fg-muted,#848d97));-webkit-flex-shrink:0;-ms-flex-negative:0;flex-shrink:0;}/*!sc*/
.jxgrJS > input,.jxgrJS > select{padding-left:0;padding-right:0;}/*!sc*/
data-styled.g18[id="TextInputWrapper-sc-1mqhpbi-1"]{content:"jxgrJS,"}/*!sc*/
.cDLBls{border:0;font-size:inherit;font-family:inherit;background-color:transparent;-webkit-appearance:none;color:inherit;width:100%;}/*!sc*/
.cDLBls:focus{outline:0;}/*!sc*/
data-styled.g19[id="UnstyledTextInput-sc-14ypya-0"]{content:"cDLBls,"}/*!sc*/
body[data-page-layout-dragging="true"]{cursor:col-resize;}/*!sc*/
body[data-page-layout-dragging="true"] *{-webkit-user-select:none;-moz-user-select:none;-ms-user-select:none;user-select:none;}/*!sc*/
data-styled.g28[id="sc-global-gbKrvU1"]{content:"sc-global-gbKrvU1,"}/*!sc*/
.bfhvai{list-style:none;padding:0;margin:0;}/*!sc*/
.bfhvai .PRIVATE_TreeView-item{outline:none;}/*!sc*/
.bfhvai .PRIVATE_TreeView-item:focus-visible > div,.bfhvai .PRIVATE_TreeView-item.focus-visible > div{box-shadow:inset 0 0 0 2px var(--fgColor-accent,var(--color-accent-fg,#2f81f7));}/*!sc*/
@media (forced-colors:active){.bfhvai .PRIVATE_TreeView-item:focus-visible > div,.bfhvai .PRIVATE_TreeView-item.focus-visible > div{outline:2px solid HighlightText;outline-offset:-2;}}/*!sc*/
.bfhvai .PRIVATE_TreeView-item[data-has-leading-action]{--has-leading-action:1;}/*!sc*/
.bfhvai .PRIVATE_TreeView-item-container{--level:1;--toggle-width:1rem;--min-item-height:2rem;position:relative;display:grid;--leading-action-width:calc(var(--has-leading-action,0) * 1.5rem);--spacer-width:calc(calc(var(--level) - 1) * (var(--toggle-width) / 2));grid-template-columns:var(--spacer-width) var(--leading-action-width) var(--toggle-width) 1fr;grid-template-areas:'spacer leadingAction toggle content';width:100%;font-size:14px;color:var(--fgColor-default,var(--color-fg-default,#e6edf3));border-radius:6px;cursor:pointer;}/*!sc*/
.bfhvai .PRIVATE_TreeView-item-container:hover{background-color:var(--control-transparent-bgColor-hover,var(--color-action-list-item-default-hover-bg,rgba(177,186,196,0.12)));}/*!sc*/
@media (forced-colors:active){.bfhvai .PRIVATE_TreeView-item-container:hover{outline:2px solid transparent;outline-offset:-2px;}}/*!sc*/
@media (pointer:coarse){.bfhvai .PRIVATE_TreeView-item-container{--toggle-width:1.5rem;--min-item-height:2.75rem;}}/*!sc*/
.bfhvai .PRIVATE_TreeView-item-container:has(.PRIVATE_TreeView-item-skeleton):hover{background-color:transparent;cursor:default;}/*!sc*/
@media (forced-colors:active){.bfhvai .PRIVATE_TreeView-item-container:has(.PRIVATE_TreeView-item-skeleton):hover{outline:none;}}/*!sc*/
.bfhvai[data-omit-spacer='true'] .PRIVATE_TreeView-item-container{grid-template-columns:0 0 0 1fr;}/*!sc*/
.bfhvai .PRIVATE_TreeView-item[aria-current='true'] > .PRIVATE_TreeView-item-container{background-color:var(--control-transparent-bgColor-selected,var(--color-action-list-item-default-selected-bg,rgba(177,186,196,0.08)));}/*!sc*/
.bfhvai .PRIVATE_TreeView-item[aria-current='true'] > .PRIVATE_TreeView-item-container::after{content:'';position:absolute;top:calc(50% - 0.75rem);left:-8px;width:0.25rem;height:1.5rem;background-color:var(--fgColor-accent,var(--color-accent-fg,#2f81f7));border-radius:6px;}/*!sc*/
@media (forced-colors:active){.bfhvai .PRIVATE_TreeView-item[aria-current='true'] > .PRIVATE_TreeView-item-container::after{background-color:HighlightText;}}/*!sc*/
.bfhvai .PRIVATE_TreeView-item-toggle{grid-area:toggle;display:-webkit-box;display:-webkit-flex;display:-ms-flexbox;display:flex;-webkit-box-pack:center;-webkit-justify-content:center;-ms-flex-pack:center;justify-content:center;-webkit-align-items:flex-start;-webkit-box-align:flex-start;-ms-flex-align:flex-start;align-items:flex-start;padding-top:calc(var(--min-item-height) / 2 - 12px / 2);height:100%;color:var(--fgColor-muted,var(--color-fg-muted,#848d97));}/*!sc*/
.bfhvai .PRIVATE_TreeView-item-toggle--hover:hover{background-color:var(--control-transparent-bgColor-hover,var(--color-tree-view-item-chevron-hover-bg,rgba(177,186,196,0.12)));}/*!sc*/
.bfhvai .PRIVATE_TreeView-item-toggle--end{border-top-left-radius:6px;border-bottom-left-radius:6px;}/*!sc*/
.bfhvai .PRIVATE_TreeView-item-content{grid-area:content;display:-webkit-box;display:-webkit-flex;display:-ms-flexbox;display:flex;height:100%;padding:0 8px;gap:8px;line-height:var(--custom-line-height,var(--text-body-lineHeight-medium,1.4285));padding-top:calc((var(--min-item-height) - var(--custom-line-height,1.3rem)) / 2);padding-bottom:calc((var(--min-item-height) - var(--custom-line-height,1.3rem)) / 2);}/*!sc*/
.bfhvai .PRIVATE_TreeView-item-content-text{-webkit-flex:1 1 auto;-ms-flex:1 1 auto;flex:1 1 auto;width:0;overflow:hidden;white-space:nowrap;text-overflow:ellipsis;}/*!sc*/
.bfhvai .PRIVATE_TreeView-item-visual{display:-webkit-box;display:-webkit-flex;display:-ms-flexbox;display:flex;-webkit-align-items:center;-webkit-box-align:center;-ms-flex-align:center;align-items:center;color:var(--fgColor-muted,var(--color-fg-muted,#848d97));height:var(--custom-line-height,1.3rem);}/*!sc*/
.bfhvai .PRIVATE_TreeView-item-leading-action{display:-webkit-box;display:-webkit-flex;display:-ms-flexbox;display:flex;color:var(--fgColor-muted,var(--color-fg-muted,#848d97));grid-area:leadingAction;}/*!sc*/
.bfhvai .PRIVATE_TreeView-item-level-line{width:100%;height:100%;border-right:1px solid;border-color:var(--borderColor-muted,var(--color-border-subtle,rgba(240,246,252,0.1)));}/*!sc*/
@media (hover:hover){.bfhvai .PRIVATE_TreeView-item-level-line{border-color:transparent;}.bfhvai:hover .PRIVATE_TreeView-item-level-line,.bfhvai:focus-within .PRIVATE_TreeView-item-level-line{border-color:var(--borderColor-muted,var(--color-border-subtle,rgba(240,246,252,0.1)));}}/*!sc*/
.bfhvai .PRIVATE_TreeView-directory-icon{display:grid;color:var(--treeViewItem-leadingVisual-bgColor-rest,var(--color-tree-view-item-directory-fill,#848d97));}/*!sc*/
.bfhvai .PRIVATE_VisuallyHidden{position:absolute;width:1px;height:1px;padding:0;margin:-1px;overflow:hidden;-webkit-clip:rect(0,0,0,0);clip:rect(0,0,0,0);white-space:nowrap;border-width:0;}/*!sc*/
data-styled.g42[id="TreeView__UlBox-sc-4ex6b6-0"]{content:"bfhvai,"}/*!sc*/
.cjbBGq{display:-webkit-inline-box;display:-webkit-inline-flex;display:-ms-inline-flexbox;display:inline-flex;vertical-align:middle;isolation:isolate;}/*!sc*/
.cjbBGq.cjbBGq > *{margin-inline-end:-1px;position:relative;border-radius:0;}/*!sc*/
.cjbBGq.cjbBGq > *:first-child{border-top-left-radius:6px;border-bottom-left-radius:6px;}/*!sc*/
.cjbBGq.cjbBGq > *:last-child{border-top-right-radius:6px;border-bottom-right-radius:6px;}/*!sc*/
.cjbBGq.cjbBGq > *:focus,.cjbBGq.cjbBGq > *:active,.cjbBGq.cjbBGq > *:hover{z-index:1;}/*!sc*/
data-styled.g47[id="ButtonGroup-sc-1gxhls1-0"]{content:"cjbBGq,"}/*!sc*/
.NCWSJ{--segmented-control-button-inner-padding:12px;--segmented-control-button-bg-inset:4px;--segmented-control-outer-radius:6px;background-color:transparent;border-color:transparent;border-radius:var(--segmented-control-outer-radius);border-width:0;color:currentColor;cursor:pointer;font-family:inherit;font-size:inherit;font-weight:600;padding:0;height:100%;width:100%;}/*!sc*/
.NCWSJ .segmentedControl-content{-webkit-align-items:center;-webkit-box-align:center;-ms-flex-align:center;align-items:center;background-color:var(--controlKnob-bgColor-rest,var(--color-segmented-control-button-bg,#0d1117));border-color:var(--controlKnob-borderColor-rest,var(--color-segmented-control-button-selected-border,#6e7681));border-style:solid;border-width:1px;border-radius:var(--segmented-control-outer-radius);display:-webkit-box;display:-webkit-flex;display:-ms-flexbox;display:flex;height:100%;-webkit-box-pack:center;-webkit-justify-content:center;-ms-flex-pack:center;justify-content:center;padding-left:var(--segmented-control-button-inner-padding);padding-right:var(--segmented-control-button-inner-padding);}/*!sc*/
.NCWSJ svg{fill:var(--fgColor-muted,var(--color-fg-muted,#848d97));}/*!sc*/
.NCWSJ:focus:focus-visible:not(:last-child):after{width:0;}/*!sc*/
.NCWSJ .segmentedControl-text:after{content:"Preview";display:block;font-weight:600;height:0;overflow:hidden;pointer-events:none;-webkit-user-select:none;-moz-user-select:none;-ms-user-select:none;user-select:none;visibility:hidden;}/*!sc*/
@media (pointer:coarse){.NCWSJ:before{content:"";position:absolute;left:0;right:0;-webkit-transform:translateY(-50%);-ms-transform:translateY(-50%);transform:translateY(-50%);top:50%;min-height:44px;}}/*!sc*/
.lfqhlR{--segmented-control-button-inner-padding:12px;--segmented-control-button-bg-inset:4px;--segmented-control-outer-radius:6px;background-color:transparent;border-color:transparent;border-radius:var(--segmented-control-outer-radius);border-width:0;color:currentColor;cursor:pointer;font-family:inherit;font-size:inherit;font-weight:400;padding:var(--segmented-control-button-bg-inset);height:100%;width:100%;}/*!sc*/
.lfqhlR .segmentedControl-content{-webkit-align-items:center;-webkit-box-align:center;-ms-flex-align:center;align-items:center;background-color:transparent;border-color:transparent;border-style:solid;border-width:1px;border-radius:calc(var(--segmented-control-outer-radius) - var(--segmented-control-button-bg-inset) / 2);display:-webkit-box;display:-webkit-flex;display:-ms-flexbox;display:flex;height:100%;-webkit-box-pack:center;-webkit-justify-content:center;-ms-flex-pack:center;justify-content:center;padding-left:calc(var(--segmented-control-button-inner-padding) - var(--segmented-control-button-bg-inset));padding-right:calc(var(--segmented-control-button-inner-padding) - var(--segmented-control-button-bg-inset));}/*!sc*/
.lfqhlR svg{fill:var(--fgColor-muted,var(--color-fg-muted,#848d97));}/*!sc*/
.lfqhlR:hover .segmentedControl-content{background-color:var(--controlTrack-bgColor-hover,var(--color-segmented-control-button-hover-bg,#30363d));}/*!sc*/
.lfqhlR:active .segmentedControl-content{background-color:var(--controlTrack-bgColor-active,var(--color-segmented-control-button-active-bg,#21262d));}/*!sc*/
.lfqhlR:focus:focus-visible:not(:last-child):after{width:0;}/*!sc*/
.lfqhlR .segmentedControl-text:after{content:"Code";display:block;font-weight:600;height:0;overflow:hidden;pointer-events:none;-webkit-user-select:none;-moz-user-select:none;-ms-user-select:none;user-select:none;visibility:hidden;}/*!sc*/
@media (pointer:coarse){.lfqhlR:before{content:"";position:absolute;left:0;right:0;-webkit-transform:translateY(-50%);-ms-transform:translateY(-50%);transform:translateY(-50%);top:50%;min-height:44px;}}/*!sc*/
.iDBPxb{--segmented-control-button-inner-padding:12px;--segmented-control-button-bg-inset:4px;--segmented-control-outer-radius:6px;background-color:transparent;border-color:transparent;border-radius:var(--segmented-control-outer-radius);border-width:0;color:currentColor;cursor:pointer;font-family:inherit;font-size:inherit;font-weight:400;padding:var(--segmented-control-button-bg-inset);height:100%;width:100%;}/*!sc*/
.iDBPxb .segmentedControl-content{-webkit-align-items:center;-webkit-box-align:center;-ms-flex-align:center;align-items:center;background-color:transparent;border-color:transparent;border-style:solid;border-width:1px;border-radius:calc(var(--segmented-control-outer-radius) - var(--segmented-control-button-bg-inset) / 2);display:-webkit-box;display:-webkit-flex;display:-ms-flexbox;display:flex;height:100%;-webkit-box-pack:center;-webkit-justify-content:center;-ms-flex-pack:center;justify-content:center;padding-left:calc(var(--segmented-control-button-inner-padding) - var(--segmented-control-button-bg-inset));padding-right:calc(var(--segmented-control-button-inner-padding) - var(--segmented-control-button-bg-inset));}/*!sc*/
.iDBPxb svg{fill:var(--fgColor-muted,var(--color-fg-muted,#848d97));}/*!sc*/
.iDBPxb:hover .segmentedControl-content{background-color:var(--controlTrack-bgColor-hover,var(--color-segmented-control-button-hover-bg,#30363d));}/*!sc*/
.iDBPxb:active .segmentedControl-content{background-color:var(--controlTrack-bgColor-active,var(--color-segmented-control-button-active-bg,#21262d));}/*!sc*/
.iDBPxb:focus:focus-visible:not(:last-child):after{width:0;}/*!sc*/
.iDBPxb .segmentedControl-text:after{content:"Blame";display:block;font-weight:600;height:0;overflow:hidden;pointer-events:none;-webkit-user-select:none;-moz-user-select:none;-ms-user-select:none;user-select:none;visibility:hidden;}/*!sc*/
@media (pointer:coarse){.iDBPxb:before{content:"";position:absolute;left:0;right:0;-webkit-transform:translateY(-50%);-ms-transform:translateY(-50%);transform:translateY(-50%);top:50%;min-height:44px;}}/*!sc*/
data-styled.g58[id="SegmentedControlButton__SegmentedControlButtonStyled-sc-8lkgxl-0"]{content:"NCWSJ,lfqhlR,iDBPxb,"}/*!sc*/
.dlXtLG{background-color:var(--controlTrack-bgColor-rest,var(--color-segmented-control-bg,rgba(110,118,129,0.1)));border-radius:6px;display:-webkit-inline-box;display:-webkit-inline-flex;display:-ms-inline-flexbox;display:inline-flex;font-size:14px;height:28px;margin:0;padding:0;}/*!sc*/
data-styled.g60[id="SegmentedControl__SegmentedControlList-sc-1rzig82-0"]{content:"dlXtLG,"}/*!sc*/
</style><meta data-hydrostats="publish"/> <!-- --> <!-- --> <!-- --> <button hidden="" data-testid="header-permalink-button" data-hotkey-scope="read-only-cursor-text-area"></button><button hidden=""></button><div><div style="--sticky-pane-height:100vh" class="Box-sc-g0xbh4-0 fSWWem"><div class="Box-sc-g0xbh4-0 kPPmzM"><div class="Box-sc-g0xbh4-0 cIAPDV"><div tabindex="0" class="Box-sc-g0xbh4-0 gvCnwW"><div class="Box-sc-g0xbh4-0 xEgty"><div class="Box-sc-g0xbh4-0 eUyHuk"></div><div style="--pane-width:320px" class="Box-sc-g0xbh4-0 gNdDUH"><div class="Box-sc-g0xbh4-0 react-tree-pane-contents"><div id="repos-file-tree" class="Box-sc-g0xbh4-0 jywUSN"><div class="Box-sc-g0xbh4-0 hBSSUC"><div class="Box-sc-g0xbh4-0 iPurHz"><h2 class="Heading__StyledHeading-sc-1c1dgg0-0 jUriTl"><button style="--button-color:fg.muted" type="button" aria-label="Expand file tree" data-testid="expand-file-tree-button-mobile" class="types__StyledButton-sc-ws60qy-0 iKABXH"><span data-component="buttonContent" class="Box-sc-g0xbh4-0 kkrdEu"><span data-component="leadingVisual" class="Box-sc-g0xbh4-0 trpoQ"><svg aria-hidden="true" focusable="false" role="img" class="octicon octicon-arrow-left" viewBox="0 0 16 16" width="16" height="16" fill="currentColor" style="display:inline-block;user-select:none;vertical-align:text-bottom;overflow:visible"><path d="M7.78 12.53a.75.75 0 0 1-1.06 0L2.47 8.28a.75.75 0 0 1 0-1.06l4.25-4.25a.751.751 0 0 1 1.042.018.751.751 0 0 1 .018 1.042L4.81 7h7.44a.75.75 0 0 1 0 1.5H4.81l2.97 2.97a.75.75 0 0 1 0 1.06Z"></path></svg></span><span data-component="text">Files</span></span></button><span role="tooltip" aria-label="Collapse file tree" id="expand-button-file-tree-button" class="Tooltip__TooltipBase-sc-17tf59c-0 izAlVj tooltipped-se"><button data-component="IconButton" type="button" data-testid="collapse-file-tree-button" aria-labelledby="expand-button-file-tree-button" aria-expanded="true" aria-controls="repos-file-tree" class="types__StyledButton-sc-ws60qy-0 hfWObv" data-no-visuals="true"><svg aria-hidden="true" focusable="false" role="img" class="octicon octicon-sidebar-expand" viewBox="0 0 16 16" width="16" height="16" fill="currentColor" style="display:inline-block;user-select:none;vertical-align:text-bottom;overflow:visible"><path d="m4.177 7.823 2.396-2.396A.25.25 0 0 1 7 5.604v4.792a.25.25 0 0 1-.427.177L4.177 8.177a.25.25 0 0 1 0-.354Z"></path><path d="M0 1.75C0 .784.784 0 1.75 0h12.5C15.216 0 16 .784 16 1.75v12.5A1.75 1.75 0 0 1 14.25 16H1.75A1.75 1.75 0 0 1 0 14.25Zm1.75-.25a.25.25 0 0 0-.25.25v12.5c0 .138.112.25.25.25H9.5v-13Zm12.5 13a.25.25 0 0 0 .25-.25V1.75a.25.25 0 0 0-.25-.25H11v13Z"></path></svg></button></span><button hidden="" data-testid="" data-hotkey-scope="read-only-cursor-text-area"></button></h2><h2 class="Heading__StyledHeading-sc-1c1dgg0-0 imcwCi">Files</h2></div><div class="Box-sc-g0xbh4-0 hVHHYa"><div class="Box-sc-g0xbh4-0 idZfsJ"><button type="button" id="branch-picker-repos-header-ref-selector" aria-haspopup="true" aria-expanded="false" tabindex="0" aria-label="main branch" data-testid="anchor-button" class="types__StyledButton-sc-ws60qy-0 gBsjGI react-repos-tree-pane-ref-selector width-full ref-selector-class"><span data-component="buttonContent" class="Box-sc-g0xbh4-0 kkrdEu"><span data-component="text"><div class="Box-sc-g0xbh4-0 bKgizp"><div class="Box-sc-g0xbh4-0 dIAShY"><svg aria-hidden="true" focusable="false" role="img" class="octicon octicon-git-branch" viewBox="0 0 16 16" width="16" height="16" fill="currentColor" style="display:inline-block;user-select:none;vertical-align:text-bottom;overflow:visible"><path d="M9.5 3.25a2.25 2.25 0 1 1 3 2.122V6A2.5 2.5 0 0 1 10 8.5H6a1 1 0 0 0-1 1v1.128a2.251 2.251 0 1 1-1.5 0V5.372a2.25 2.25 0 1 1 1.5 0v1.836A2.493 2.493 0 0 1 6 7h4a1 1 0 0 0 1-1v-.628A2.25 2.25 0 0 1 9.5 3.25Zm-6 0a.75.75 0 1 0 1.5 0 .75.75 0 0 0-1.5 0Zm8.25-.75a.75.75 0 1 0 0 1.5.75.75 0 0 0 0-1.5ZM4.25 12a.75.75 0 1 0 0 1.5.75.75 0 0 0 0-1.5Z"></path></svg></div><div class="Box-sc-g0xbh4-0 caeYDk ref-selector-button-text-container"><span class="Text-sc-17v1xeu-0 bOMzPg"> <!-- -->main</span></div></div></span><span data-component="trailingVisual" class="Box-sc-g0xbh4-0 trpoQ"><svg aria-hidden="true" focusable="false" role="img" class="octicon octicon-triangle-down" viewBox="0 0 16 16" width="16" height="16" fill="currentColor" style="display:inline-block;user-select:none;vertical-align:text-bottom;overflow:visible"><path d="m4.427 7.427 3.396 3.396a.25.25 0 0 0 .354 0l3.396-3.396A.25.25 0 0 0 11.396 7H4.604a.25.25 0 0 0-.177.427Z"></path></svg></span></span></button><button hidden="" data-hotkey-scope="read-only-cursor-text-area"></button></div><div class="Box-sc-g0xbh4-0 jahcnb"><span role="tooltip" aria-label="Add file" id=":Rq6mplaeb:" class="Tooltip__TooltipBase-sc-17tf59c-0 izAlVj tooltipped-s"><a sx="[object Object]" data-component="IconButton" type="button" aria-label="Add file" data-no-visuals="true" class="types__StyledButton-sc-ws60qy-0 XJZbf" href="/CoroaPT/FinalAssignment/new/main"><svg aria-hidden="true" focusable="false" role="img" class="octicon octicon-plus" viewBox="0 0 16 16" width="16" height="16" fill="currentColor" style="display:inline-block;user-select:none;vertical-align:text-bottom;overflow:visible"><path d="M7.75 2a.75.75 0 0 1 .75.75V7h4.25a.75.75 0 0 1 0 1.5H8.5v4.25a.75.75 0 0 1-1.5 0V8.5H2.75a.75.75 0 0 1 0-1.5H7V2.75A.75.75 0 0 1 7.75 2Z"></path></svg></a></span><button data-component="IconButton" type="button" aria-label="Search this repository" data-no-visuals="true" class="types__StyledButton-sc-ws60qy-0 cBjhIZ"><svg aria-hidden="true" focusable="false" role="img" class="octicon octicon-search" viewBox="0 0 16 16" width="16" height="16" fill="currentColor" style="display:inline-block;user-select:none;vertical-align:text-bottom;overflow:visible"><path d="M10.68 11.74a6 6 0 0 1-7.922-8.982 6 6 0 0 1 8.982 7.922l3.04 3.04a.749.749 0 0 1-.326 1.275.749.749 0 0 1-.734-.215ZM11.5 7a4.499 4.499 0 1 0-8.997 0A4.499 4.499 0 0 0 11.5 7Z"></path></svg></button><button hidden="" data-testid="" data-hotkey-scope="read-only-cursor-text-area"></button></div></div></div><div class="Box-sc-g0xbh4-0 ccToMy"><span class="TextInputWrapper__TextInputBaseWrapper-sc-1mqhpbi-0 TextInputWrapper-sc-1mqhpbi-1 kbCZWh jxgrJS TextInput-wrapper" aria-busy="false"><span class="TextInput-icon"><svg aria-hidden="true" focusable="false" role="img" class="octicon octicon-search" viewBox="0 0 16 16" width="16" height="16" fill="currentColor" style="display:inline-block;user-select:none;vertical-align:text-bottom;overflow:visible"><path d="M10.68 11.74a6 6 0 0 1-7.922-8.982 6 6 0 0 1 8.982 7.922l3.04 3.04a.749.749 0 0 1-.326 1.275.749.749 0 0 1-.734-.215ZM11.5 7a4.499 4.499 0 1 0-8.997 0A4.499 4.499 0 0 0 11.5 7Z"></path></svg></span><input type="text" aria-label="Go to file" role="combobox" aria-controls="file-results-list" aria-expanded="false" aria-haspopup="dialog" autoCorrect="off" spellcheck="false" placeholder="Go to file" data-component="input" class="UnstyledTextInput-sc-14ypya-0 cDLBls" value=""/><span class="TextInput-icon"><div class="Box-sc-g0xbh4-0 cNvKlH"><kbd>t</kbd></div></span></span></div><button hidden="" data-testid="" data-hotkey-scope="read-only-cursor-text-area"></button><button hidden=""></button><div class="Box-sc-g0xbh4-0 cLfAnm"><div class="react-tree-show-tree-items"><div data-testid="repos-file-tree-container" class="Box-sc-g0xbh4-0 erWCJP"><nav aria-label="File Tree Navigation"><span role="status" aria-live="polite" aria-atomic="true" class="_VisuallyHidden__VisuallyHidden-sc-11jhm7a-0 rTZSs"></span><ul role="tree" aria-label="Files" class="TreeView__UlBox-sc-4ex6b6-0 bfhvai"><li class="PRIVATE_TreeView-item" tabindex="0" id="1. Spacex-data-collection-api.pdf-item" role="treeitem" aria-labelledby=":R39implaeb:" aria-describedby=":R39implaebH1: :R39implaebH2:" aria-level="1" aria-selected="false"><div class="PRIVATE_TreeView-item-container" style="--level:1;content-visibility:auto;contain-intrinsic-size:auto 2rem"><div style="grid-area:spacer;display:flex"><div style="width:100%;display:flex"></div></div><div id=":R39implaeb:" class="PRIVATE_TreeView-item-content"><div class="PRIVATE_VisuallyHidden" aria-hidden="true" id=":R39implaebH1:"></div><div class="PRIVATE_TreeView-item-visual" aria-hidden="true"><svg aria-hidden="true" focusable="false" role="img" class="octicon octicon-file" viewBox="0 0 16 16" width="16" height="16" fill="currentColor" style="display:inline-block;user-select:none;vertical-align:text-bottom;overflow:visible"><path d="M2 1.75C2 .784 2.784 0 3.75 0h6.586c.464 0 .909.184 1.237.513l2.914 2.914c.329.328.513.773.513 1.237v9.586A1.75 1.75 0 0 1 13.25 16h-9.5A1.75 1.75 0 0 1 2 14.25Zm1.75-.25a.25.25 0 0 0-.25.25v12.5c0 .138.112.25.25.25h9.5a.25.25 0 0 0 .25-.25V6h-2.75A1.75 1.75 0 0 1 9 4.25V1.5Zm6.75.062V4.25c0 .138.112.25.25.25h2.688l-.011-.013-2.914-2.914-.013-.011Z"></path></svg></div><span class="PRIVATE_TreeView-item-content-text"><span>1. Spacex-data-collection-api.pdf</span></span></div></div></li><li class="PRIVATE_TreeView-item" tabindex="0" id="2. Spacex-webscraping-api.pdf-item" role="treeitem" aria-labelledby=":R59implaeb:" aria-describedby=":R59implaebH1: :R59implaebH2:" aria-level="1" aria-selected="false"><div class="PRIVATE_TreeView-item-container" style="--level:1;content-visibility:auto;contain-intrinsic-size:auto 2rem"><div style="grid-area:spacer;display:flex"><div style="width:100%;display:flex"></div></div><div id=":R59implaeb:" class="PRIVATE_TreeView-item-content"><div class="PRIVATE_VisuallyHidden" aria-hidden="true" id=":R59implaebH1:"></div><div class="PRIVATE_TreeView-item-visual" aria-hidden="true"><svg aria-hidden="true" focusable="false" role="img" class="octicon octicon-file" viewBox="0 0 16 16" width="16" height="16" fill="currentColor" style="display:inline-block;user-select:none;vertical-align:text-bottom;overflow:visible"><path d="M2 1.75C2 .784 2.784 0 3.75 0h6.586c.464 0 .909.184 1.237.513l2.914 2.914c.329.328.513.773.513 1.237v9.586A1.75 1.75 0 0 1 13.25 16h-9.5A1.75 1.75 0 0 1 2 14.25Zm1.75-.25a.25.25 0 0 0-.25.25v12.5c0 .138.112.25.25.25h9.5a.25.25 0 0 0 .25-.25V6h-2.75A1.75 1.75 0 0 1 9 4.25V1.5Zm6.75.062V4.25c0 .138.112.25.25.25h2.688l-.011-.013-2.914-2.914-.013-.011Z"></path></svg></div><span class="PRIVATE_TreeView-item-content-text"><span>2. Spacex-webscraping-api.pdf</span></span></div></div></li><li class="PRIVATE_TreeView-item" tabindex="0" id="3. Spacex-data-wrangling-api.pdf-item" role="treeitem" aria-labelledby=":R79implaeb:" aria-describedby=":R79implaebH1: :R79implaebH2:" aria-level="1" aria-selected="false"><div class="PRIVATE_TreeView-item-container" style="--level:1;content-visibility:auto;contain-intrinsic-size:auto 2rem"><div style="grid-area:spacer;display:flex"><div style="width:100%;display:flex"></div></div><div id=":R79implaeb:" class="PRIVATE_TreeView-item-content"><div class="PRIVATE_VisuallyHidden" aria-hidden="true" id=":R79implaebH1:"></div><div class="PRIVATE_TreeView-item-visual" aria-hidden="true"><svg aria-hidden="true" focusable="false" role="img" class="octicon octicon-file" viewBox="0 0 16 16" width="16" height="16" fill="currentColor" style="display:inline-block;user-select:none;vertical-align:text-bottom;overflow:visible"><path d="M2 1.75C2 .784 2.784 0 3.75 0h6.586c.464 0 .909.184 1.237.513l2.914 2.914c.329.328.513.773.513 1.237v9.586A1.75 1.75 0 0 1 13.25 16h-9.5A1.75 1.75 0 0 1 2 14.25Zm1.75-.25a.25.25 0 0 0-.25.25v12.5c0 .138.112.25.25.25h9.5a.25.25 0 0 0 .25-.25V6h-2.75A1.75 1.75 0 0 1 9 4.25V1.5Zm6.75.062V4.25c0 .138.112.25.25.25h2.688l-.011-.013-2.914-2.914-.013-.011Z"></path></svg></div><span class="PRIVATE_TreeView-item-content-text"><span>3. Spacex-data-wrangling-api.pdf</span></span></div></div></li><li class="PRIVATE_TreeView-item" tabindex="0" id="4. Spacex-data-visualisation-api.ipynb-item" role="treeitem" aria-labelledby=":R99implaeb:" aria-describedby=":R99implaebH1: :R99implaebH2:" aria-level="1" aria-selected="false"><div class="PRIVATE_TreeView-item-container" style="--level:1;content-visibility:auto;contain-intrinsic-size:auto 2rem"><div style="grid-area:spacer;display:flex"><div style="width:100%;display:flex"></div></div><div id=":R99implaeb:" class="PRIVATE_TreeView-item-content"><div class="PRIVATE_VisuallyHidden" aria-hidden="true" id=":R99implaebH1:"></div><div class="PRIVATE_TreeView-item-visual" aria-hidden="true"><svg aria-hidden="true" focusable="false" role="img" class="octicon octicon-file" viewBox="0 0 16 16" width="16" height="16" fill="currentColor" style="display:inline-block;user-select:none;vertical-align:text-bottom;overflow:visible"><path d="M2 1.75C2 .784 2.784 0 3.75 0h6.586c.464 0 .909.184 1.237.513l2.914 2.914c.329.328.513.773.513 1.237v9.586A1.75 1.75 0 0 1 13.25 16h-9.5A1.75 1.75 0 0 1 2 14.25Zm1.75-.25a.25.25 0 0 0-.25.25v12.5c0 .138.112.25.25.25h9.5a.25.25 0 0 0 .25-.25V6h-2.75A1.75 1.75 0 0 1 9 4.25V1.5Zm6.75.062V4.25c0 .138.112.25.25.25h2.688l-.011-.013-2.914-2.914-.013-.011Z"></path></svg></div><span class="PRIVATE_TreeView-item-content-text"><span>4. Spacex-data-visualisation-api.ipynb</span></span></div></div></li><li class="PRIVATE_TreeView-item" tabindex="0" id="5. Spacex-sqllite-api.pdf-item" role="treeitem" aria-labelledby=":Rb9implaeb:" aria-describedby=":Rb9implaebH1: :Rb9implaebH2:" aria-level="1" aria-selected="false"><div class="PRIVATE_TreeView-item-container" style="--level:1;content-visibility:auto;contain-intrinsic-size:auto 2rem"><div style="grid-area:spacer;display:flex"><div style="width:100%;display:flex"></div></div><div id=":Rb9implaeb:" class="PRIVATE_TreeView-item-content"><div class="PRIVATE_VisuallyHidden" aria-hidden="true" id=":Rb9implaebH1:"></div><div class="PRIVATE_TreeView-item-visual" aria-hidden="true"><svg aria-hidden="true" focusable="false" role="img" class="octicon octicon-file" viewBox="0 0 16 16" width="16" height="16" fill="currentColor" style="display:inline-block;user-select:none;vertical-align:text-bottom;overflow:visible"><path d="M2 1.75C2 .784 2.784 0 3.75 0h6.586c.464 0 .909.184 1.237.513l2.914 2.914c.329.328.513.773.513 1.237v9.586A1.75 1.75 0 0 1 13.25 16h-9.5A1.75 1.75 0 0 1 2 14.25Zm1.75-.25a.25.25 0 0 0-.25.25v12.5c0 .138.112.25.25.25h9.5a.25.25 0 0 0 .25-.25V6h-2.75A1.75 1.75 0 0 1 9 4.25V1.5Zm6.75.062V4.25c0 .138.112.25.25.25h2.688l-.011-.013-2.914-2.914-.013-.011Z"></path></svg></div><span class="PRIVATE_TreeView-item-content-text"><span>5. Spacex-sqllite-api.pdf</span></span></div></div></li><li class="PRIVATE_TreeView-item" tabindex="0" id="6. Spacex-folium-map-api.ipynb-item" role="treeitem" aria-labelledby=":Rd9implaeb:" aria-describedby=":Rd9implaebH1: :Rd9implaebH2:" aria-level="1" aria-selected="false"><div class="PRIVATE_TreeView-item-container" style="--level:1;content-visibility:auto;contain-intrinsic-size:auto 2rem"><div style="grid-area:spacer;display:flex"><div style="width:100%;display:flex"></div></div><div id=":Rd9implaeb:" class="PRIVATE_TreeView-item-content"><div class="PRIVATE_VisuallyHidden" aria-hidden="true" id=":Rd9implaebH1:"></div><div class="PRIVATE_TreeView-item-visual" aria-hidden="true"><svg aria-hidden="true" focusable="false" role="img" class="octicon octicon-file" viewBox="0 0 16 16" width="16" height="16" fill="currentColor" style="display:inline-block;user-select:none;vertical-align:text-bottom;overflow:visible"><path d="M2 1.75C2 .784 2.784 0 3.75 0h6.586c.464 0 .909.184 1.237.513l2.914 2.914c.329.328.513.773.513 1.237v9.586A1.75 1.75 0 0 1 13.25 16h-9.5A1.75 1.75 0 0 1 2 14.25Zm1.75-.25a.25.25 0 0 0-.25.25v12.5c0 .138.112.25.25.25h9.5a.25.25 0 0 0 .25-.25V6h-2.75A1.75 1.75 0 0 1 9 4.25V1.5Zm6.75.062V4.25c0 .138.112.25.25.25h2.688l-.011-.013-2.914-2.914-.013-.011Z"></path></svg></div><span class="PRIVATE_TreeView-item-content-text"><span>6. Spacex-folium-map-api.ipynb</span></span></div></div></li><li class="PRIVATE_TreeView-item" tabindex="0" id="7. Spacex-dash-app-api.py-item" role="treeitem" aria-labelledby=":Rf9implaeb:" aria-describedby=":Rf9implaebH1: :Rf9implaebH2:" aria-level="1" aria-selected="false"><div class="PRIVATE_TreeView-item-container" style="--level:1;content-visibility:auto;contain-intrinsic-size:auto 2rem"><div style="grid-area:spacer;display:flex"><div style="width:100%;display:flex"></div></div><div id=":Rf9implaeb:" class="PRIVATE_TreeView-item-content"><div class="PRIVATE_VisuallyHidden" aria-hidden="true" id=":Rf9implaebH1:"></div><div class="PRIVATE_TreeView-item-visual" aria-hidden="true"><svg aria-hidden="true" focusable="false" role="img" class="octicon octicon-file" viewBox="0 0 16 16" width="16" height="16" fill="currentColor" style="display:inline-block;user-select:none;vertical-align:text-bottom;overflow:visible"><path d="M2 1.75C2 .784 2.784 0 3.75 0h6.586c.464 0 .909.184 1.237.513l2.914 2.914c.329.328.513.773.513 1.237v9.586A1.75 1.75 0 0 1 13.25 16h-9.5A1.75 1.75 0 0 1 2 14.25Zm1.75-.25a.25.25 0 0 0-.25.25v12.5c0 .138.112.25.25.25h9.5a.25.25 0 0 0 .25-.25V6h-2.75A1.75 1.75 0 0 1 9 4.25V1.5Zm6.75.062V4.25c0 .138.112.25.25.25h2.688l-.011-.013-2.914-2.914-.013-.011Z"></path></svg></div><span class="PRIVATE_TreeView-item-content-text"><span>7. Spacex-dash-app-api.py</span></span></div></div></li><li class="PRIVATE_TreeView-item" tabindex="0" id="8. Spacex-machine-learning-prediction-api.ipynb-item" role="treeitem" aria-labelledby=":Rh9implaeb:" aria-describedby=":Rh9implaebH1: :Rh9implaebH2:" aria-level="1" aria-current="true" aria-selected="false"><div class="PRIVATE_TreeView-item-container" style="--level:1"><div style="grid-area:spacer;display:flex"><div style="width:100%;display:flex"></div></div><div id=":Rh9implaeb:" class="PRIVATE_TreeView-item-content"><div class="PRIVATE_VisuallyHidden" aria-hidden="true" id=":Rh9implaebH1:"></div><div class="PRIVATE_TreeView-item-visual" aria-hidden="true"><svg aria-hidden="true" focusable="false" role="img" class="octicon octicon-file" viewBox="0 0 16 16" width="16" height="16" fill="currentColor" style="display:inline-block;user-select:none;vertical-align:text-bottom;overflow:visible"><path d="M2 1.75C2 .784 2.784 0 3.75 0h6.586c.464 0 .909.184 1.237.513l2.914 2.914c.329.328.513.773.513 1.237v9.586A1.75 1.75 0 0 1 13.25 16h-9.5A1.75 1.75 0 0 1 2 14.25Zm1.75-.25a.25.25 0 0 0-.25.25v12.5c0 .138.112.25.25.25h9.5a.25.25 0 0 0 .25-.25V6h-2.75A1.75 1.75 0 0 1 9 4.25V1.5Zm6.75.062V4.25c0 .138.112.25.25.25h2.688l-.011-.013-2.914-2.914-.013-.011Z"></path></svg></div><span class="PRIVATE_TreeView-item-content-text"><span>8. Spacex-machine-learning-prediction-api.ipynb</span></span></div></div></li><li class="PRIVATE_TreeView-item" tabindex="0" id="README.md-item" role="treeitem" aria-labelledby=":Rj9implaeb:" aria-describedby=":Rj9implaebH1: :Rj9implaebH2:" aria-level="1" aria-selected="false"><div class="PRIVATE_TreeView-item-container" style="--level:1;content-visibility:auto;contain-intrinsic-size:auto 2rem"><div style="grid-area:spacer;display:flex"><div style="width:100%;display:flex"></div></div><div id=":Rj9implaeb:" class="PRIVATE_TreeView-item-content"><div class="PRIVATE_VisuallyHidden" aria-hidden="true" id=":Rj9implaebH1:"></div><div class="PRIVATE_TreeView-item-visual" aria-hidden="true"><svg aria-hidden="true" focusable="false" role="img" class="octicon octicon-file" viewBox="0 0 16 16" width="16" height="16" fill="currentColor" style="display:inline-block;user-select:none;vertical-align:text-bottom;overflow:visible"><path d="M2 1.75C2 .784 2.784 0 3.75 0h6.586c.464 0 .909.184 1.237.513l2.914 2.914c.329.328.513.773.513 1.237v9.586A1.75 1.75 0 0 1 13.25 16h-9.5A1.75 1.75 0 0 1 2 14.25Zm1.75-.25a.25.25 0 0 0-.25.25v12.5c0 .138.112.25.25.25h9.5a.25.25 0 0 0 .25-.25V6h-2.75A1.75 1.75 0 0 1 9 4.25V1.5Zm6.75.062V4.25c0 .138.112.25.25.25h2.688l-.011-.013-2.914-2.914-.013-.011Z"></path></svg></div><span class="PRIVATE_TreeView-item-content-text"><span>README.md</span></span></div></div></li></ul></nav></div></div></div></div></div></div><div class="Box-sc-g0xbh4-0 hAeDYA"><div role="slider" aria-label="Draggable pane splitter" aria-valuemin="0" aria-valuemax="0" aria-valuenow="0" aria-valuetext="Pane width 0 pixels" tabindex="0" class="Box-sc-g0xbh4-0 gZHqlw"></div></div></div></div><div class="Box-sc-g0xbh4-0 emFMJu"><div class="Box-sc-g0xbh4-0"></div><div class="Box-sc-g0xbh4-0 hlUAHL"><div data-selector="repos-split-pane-content" tabindex="0" class="Box-sc-g0xbh4-0 iStsmI"><div class="Box-sc-g0xbh4-0 eIgvIk"><div class="Box-sc-g0xbh4-0 eVFfWF container"><div class="px-3 pt-3 pb-0" id="StickyHeader"><div class="Box-sc-g0xbh4-0 fywjmm"><div class="Box-sc-g0xbh4-0 dyczTK"><div class="Box-sc-g0xbh4-0 kszRgZ"><div class="Box-sc-g0xbh4-0 eTvGbF"><nav data-testid="breadcrumbs" aria-labelledby="repos-header-breadcrumb--wide-heading" id="repos-header-breadcrumb--wide" class="Box-sc-g0xbh4-0 kzRgrI"><h2 class="Heading__StyledHeading-sc-1c1dgg0-0 cgQnMS sr-only" data-testid="screen-reader-heading" id="repos-header-breadcrumb--wide-heading">Breadcrumbs</h2><ol class="Box-sc-g0xbh4-0 cmAPIB"><li class="Box-sc-g0xbh4-0 jwXCBK"><a sx="[object Object]" data-testid="breadcrumbs-repo-link" class="Link__StyledLink-sc-14289xe-0 dpowyu" href="/CoroaPT/FinalAssignment/tree/main">FinalAssignment</a></li></ol></nav><div data-testid="breadcrumbs-filename" class="Box-sc-g0xbh4-0 jwXCBK"><span aria-hidden="true" class="Text-sc-17v1xeu-0 ePvrxx">/</span><h1 tabindex="-1" id="file-name-id-wide" class="Heading__StyledHeading-sc-1c1dgg0-0 diwsLq">8. Spacex-machine-learning-prediction-api.ipynb</h1></div><div aria-describedby=":Rdd9laeb:"><button data-component="IconButton" type="button" aria-label="Copy path" tabindex="0" class="types__StyledButton-sc-ws60qy-0 hWITRv" data-size="small" data-no-visuals="true"><svg aria-hidden="true" focusable="false" role="img" class="octicon octicon-copy" viewBox="0 0 16 16" width="16" height="16" fill="currentColor" style="display:inline-block;user-select:none;vertical-align:text-bottom;overflow:visible"><path d="M0 6.75C0 5.784.784 5 1.75 5h1.5a.75.75 0 0 1 0 1.5h-1.5a.25.25 0 0 0-.25.25v7.5c0 .138.112.25.25.25h7.5a.25.25 0 0 0 .25-.25v-1.5a.75.75 0 0 1 1.5 0v1.5A1.75 1.75 0 0 1 9.25 16h-7.5A1.75 1.75 0 0 1 0 14.25Z"></path><path d="M5 1.75C5 .784 5.784 0 6.75 0h7.5C15.216 0 16 .784 16 1.75v7.5A1.75 1.75 0 0 1 14.25 11h-7.5A1.75 1.75 0 0 1 5 9.25Zm1.75-.25a.25.25 0 0 0-.25.25v7.5c0 .138.112.25.25.25h7.5a.25.25 0 0 0 .25-.25v-7.5a.25.25 0 0 0-.25-.25Z"></path></svg></button></div></div></div><div class="react-code-view-header-element--wide"><div class="Box-sc-g0xbh4-0 gtBUEp"><div class="d-flex gap-2"> <button type="button" data-no-visuals="true" class="types__StyledButton-sc-ws60qy-0 fXsbsD"><span data-component="buttonContent" class="Box-sc-g0xbh4-0 kkrdEu"><span data-component="text">Blame</span></span></button><button hidden="" data-testid="" data-hotkey-scope="read-only-cursor-text-area"></button><button data-component="IconButton" type="button" aria-label="More file actions" class="types__StyledButton-sc-ws60qy-0 hiXxwe js-blob-dropdown-click" title="More file actions" data-testid="more-file-actions-button-nav-menu-wide" id=":R156d9laeb:" aria-haspopup="true" aria-expanded="false" tabindex="0" data-no-visuals="true"><svg aria-hidden="true" focusable="false" role="img" class="octicon octicon-kebab-horizontal" viewBox="0 0 16 16" width="16" height="16" fill="currentColor" style="display:inline-block;user-select:none;vertical-align:text-bottom;overflow:visible"><path d="M8 9a1.5 1.5 0 1 0 0-3 1.5 1.5 0 0 0 0 3ZM1.5 9a1.5 1.5 0 1 0 0-3 1.5 1.5 0 0 0 0 3Zm13 0a1.5 1.5 0 1 0 0-3 1.5 1.5 0 0 0 0 3Z"></path></svg></button> </div></div></div><div class="react-code-view-header-element--narrow"><div class="Box-sc-g0xbh4-0 gtBUEp"><div class="d-flex gap-2"> <button type="button" data-no-visuals="true" class="types__StyledButton-sc-ws60qy-0 fXsbsD"><span data-component="buttonContent" class="Box-sc-g0xbh4-0 kkrdEu"><span data-component="text">Blame</span></span></button><button hidden="" data-testid="" data-hotkey-scope="read-only-cursor-text-area"></button><button data-component="IconButton" type="button" aria-label="More file actions" class="types__StyledButton-sc-ws60qy-0 hiXxwe js-blob-dropdown-click" title="More file actions" data-testid="more-file-actions-button-nav-menu-narrow" id=":R157d9laeb:" aria-haspopup="true" aria-expanded="false" tabindex="0" data-no-visuals="true"><svg aria-hidden="true" focusable="false" role="img" class="octicon octicon-kebab-horizontal" viewBox="0 0 16 16" width="16" height="16" fill="currentColor" style="display:inline-block;user-select:none;vertical-align:text-bottom;overflow:visible"><path d="M8 9a1.5 1.5 0 1 0 0-3 1.5 1.5 0 0 0 0 3ZM1.5 9a1.5 1.5 0 1 0 0-3 1.5 1.5 0 0 0 0 3Zm13 0a1.5 1.5 0 1 0 0-3 1.5 1.5 0 0 0 0 3Z"></path></svg></button> </div></div></div></div></div></div></div></div><div class="Box-sc-g0xbh4-0 hVZtwF react-code-view-bottom-padding"> <div class="Box-sc-g0xbh4-0 cMYnca"></div> <!-- --> <!-- --> </div><div class="Box-sc-g0xbh4-0 hVZtwF"> <!-- --> <!-- --> <div class="d-flex flex-column border rounded-2 mb-3 pl-1"><div class="Box-sc-g0xbh4-0 brJRqk"><h2 class="Heading__StyledHeading-sc-1c1dgg0-0 cgQnMS sr-only" data-testid="screen-reader-heading">Latest commit</h2><div style="width:120px" class="Skeleton Skeleton--text" data-testid="loading"> </div><div class="d-flex flex-shrink-0 gap-2"><div data-testid="latest-commit-details" class="d-none d-sm-flex flex-items-center"></div><div class="d-flex gap-2"><h2 class="Heading__StyledHeading-sc-1c1dgg0-0 cgQnMS sr-only" data-testid="screen-reader-heading">History</h2><a aria-label="Commit history" class="types__StyledButton-sc-ws60qy-0 hWITRv d-none d-lg-flex LinkButton-module__code-view-link-button--xvCGA flex-items-center fgColor-default" href="/CoroaPT/FinalAssignment/commits/main/8.%20Spacex-machine-learning-prediction-api.ipynb" data-size="small"><span data-component="buttonContent" class="Box-sc-g0xbh4-0 kkrdEu"><span data-component="leadingVisual" class="Box-sc-g0xbh4-0 trpoQ"><svg aria-hidden="true" focusable="false" role="img" class="octicon octicon-history" viewBox="0 0 16 16" width="16" height="16" fill="currentColor" style="display:inline-block;user-select:none;vertical-align:text-bottom;overflow:visible"><path d="m.427 1.927 1.215 1.215a8.002 8.002 0 1 1-1.6 5.685.75.75 0 1 1 1.493-.154 6.5 6.5 0 1 0 1.18-4.458l1.358 1.358A.25.25 0 0 1 3.896 6H.25A.25.25 0 0 1 0 5.75V2.104a.25.25 0 0 1 .427-.177ZM7.75 4a.75.75 0 0 1 .75.75v2.992l2.028.812a.75.75 0 0 1-.557 1.392l-2.5-1A.751.751 0 0 1 7 8.25v-3.5A.75.75 0 0 1 7.75 4Z"></path></svg></span><span data-component="text"><span class="Text-sc-17v1xeu-0 gPDEWA fgColor-default">History</span></span></span></a><div class="d-sm-none"></div><div class="d-flex d-lg-none"><span role="tooltip" aria-label="History" id="history-icon-button-tooltip" class="Tooltip__TooltipBase-sc-17tf59c-0 izAlVj tooltipped-n"><a aria-label="Commit history" aria-describedby="history-icon-button-tooltip" class="types__StyledButton-sc-ws60qy-0 hWITRv LinkButton-module__code-view-link-button--xvCGA flex-items-center fgColor-default" href="/CoroaPT/FinalAssignment/commits/main/8.%20Spacex-machine-learning-prediction-api.ipynb" data-size="small"><span data-component="buttonContent" class="Box-sc-g0xbh4-0 kkrdEu"><span data-component="leadingVisual" class="Box-sc-g0xbh4-0 trpoQ"><svg aria-hidden="true" focusable="false" role="img" class="octicon octicon-history" viewBox="0 0 16 16" width="16" height="16" fill="currentColor" style="display:inline-block;user-select:none;vertical-align:text-bottom;overflow:visible"><path d="m.427 1.927 1.215 1.215a8.002 8.002 0 1 1-1.6 5.685.75.75 0 1 1 1.493-.154 6.5 6.5 0 1 0 1.18-4.458l1.358 1.358A.25.25 0 0 1 3.896 6H.25A.25.25 0 0 1 0 5.75V2.104a.25.25 0 0 1 .427-.177ZM7.75 4a.75.75 0 0 1 .75.75v2.992l2.028.812a.75.75 0 0 1-.557 1.392l-2.5-1A.751.751 0 0 1 7 8.25v-3.5A.75.75 0 0 1 7.75 4Z"></path></svg></span></span></a></span></div></div></div></div></div><div class="Box-sc-g0xbh4-0 iJmJly"><div class="Box-sc-g0xbh4-0 jACbi container"><div class="Box-sc-g0xbh4-0 gIJuDf react-code-size-details-banner"><div class="Box-sc-g0xbh4-0 fleZSW react-code-size-details-banner"><div class="Box-sc-g0xbh4-0 dVVHlo text-mono"><div title="130 KB" data-testid="blob-size" class="Truncate__StyledTruncate-sc-23o1d2-0 fUpWeN"><span class="Text-sc-17v1xeu-0 gPDEWA">723 lines (723 loc) · 130 KB</span></div></div></div><div class="Box-sc-g0xbh4-0 react-code-size-details-banner"><button style="--button-color:fg.default" type="button" id=":R15tal9laeb:" aria-haspopup="true" aria-expanded="false" tabindex="0" data-testid="copilot-popover-button" data-size="small" class="types__StyledButton-sc-ws60qy-0 hhunph"><span data-component="buttonContent" class="Box-sc-g0xbh4-0 kkrdEu"><span data-component="leadingVisual" class="Box-sc-g0xbh4-0 trpoQ"><svg aria-hidden="true" focusable="false" role="img" class="octicon octicon-copilot" viewBox="0 0 16 16" width="16" height="16" fill="currentColor" style="display:inline-block;user-select:none;vertical-align:text-bottom;overflow:visible"><path d="M7.998 15.035c-4.562 0-7.873-2.914-7.998-3.749V9.338c.085-.628.677-1.686 1.588-2.065.013-.07.024-.143.036-.218.029-.183.06-.384.126-.612-.201-.508-.254-1.084-.254-1.656 0-.87.128-1.769.693-2.484.579-.733 1.494-1.124 2.724-1.261 1.206-.134 2.262.034 2.944.765.05.053.096.108.139.165.044-.057.094-.112.143-.165.682-.731 1.738-.899 2.944-.765 1.23.137 2.145.528 2.724 1.261.566.715.693 1.614.693 2.484 0 .572-.053 1.148-.254 1.656.066.228.098.429.126.612.012.076.024.148.037.218.924.385 1.522 1.471 1.591 2.095v1.872c0 .766-3.351 3.795-8.002 3.795Zm0-1.485c2.28 0 4.584-1.11 5.002-1.433V7.862l-.023-.116c-.49.21-1.075.291-1.727.291-1.146 0-2.059-.327-2.71-.991A3.222 3.222 0 0 1 8 6.303a3.24 3.24 0 0 1-.544.743c-.65.664-1.563.991-2.71.991-.652 0-1.236-.081-1.727-.291l-.023.116v4.255c.419.323 2.722 1.433 5.002 1.433ZM6.762 2.83c-.193-.206-.637-.413-1.682-.297-1.019.113-1.479.404-1.713.7-.247.312-.369.789-.369 1.554 0 .793.129 1.171.308 1.371.162.181.519.379 1.442.379.853 0 1.339-.235 1.638-.54.315-.322.527-.827.617-1.553.117-.935-.037-1.395-.241-1.614Zm4.155-.297c-1.044-.116-1.488.091-1.681.297-.204.219-.359.679-.242 1.614.091.726.303 1.231.618 1.553.299.305.784.54 1.638.54.922 0 1.28-.198 1.442-.379.179-.2.308-.578.308-1.371 0-.765-.123-1.242-.37-1.554-.233-.296-.693-.587-1.713-.7Z"></path><path d="M6.25 9.037a.75.75 0 0 1 .75.75v1.501a.75.75 0 0 1-1.5 0V9.787a.75.75 0 0 1 .75-.75Zm4.25.75v1.501a.75.75 0 0 1-1.5 0V9.787a.75.75 0 0 1 1.5 0Z"></path></svg></span><span data-component="text">Code 55% faster with GitHub Copilot</span></span></button></div></div><div class="Box-sc-g0xbh4-0 VHzRk react-blob-view-header-sticky" id="repos-sticky-header"><div class="Box-sc-g0xbh4-0 ePiodO"><div class="Box-sc-g0xbh4-0 react-blob-sticky-header"><div class="Box-sc-g0xbh4-0 kQJlnf"><div class="Box-sc-g0xbh4-0 gJICKO"><div class="Box-sc-g0xbh4-0 iZJewz"><nav data-testid="breadcrumbs" aria-labelledby="sticky-breadcrumb-heading" id="sticky-breadcrumb" class="Box-sc-g0xbh4-0 kzRgrI"><h2 class="Heading__StyledHeading-sc-1c1dgg0-0 cgQnMS sr-only" data-testid="screen-reader-heading" id="sticky-breadcrumb-heading">Breadcrumbs</h2><ol class="Box-sc-g0xbh4-0 cmAPIB"><li class="Box-sc-g0xbh4-0 jwXCBK"><a sx="[object Object]" data-testid="breadcrumbs-repo-link" class="Link__StyledLink-sc-14289xe-0 dpowyu" href="/CoroaPT/FinalAssignment/tree/main">FinalAssignment</a></li></ol></nav><div data-testid="breadcrumbs-filename" class="Box-sc-g0xbh4-0 jwXCBK"><span aria-hidden="true" class="Text-sc-17v1xeu-0 fQxKLn">/</span><h1 tabindex="-1" id="sticky-file-name-id" class="Heading__StyledHeading-sc-1c1dgg0-0 jAEDJk">8. Spacex-machine-learning-prediction-api.ipynb</h1></div></div><button style="--button-color:fg.default" type="button" data-size="small" class="types__StyledButton-sc-ws60qy-0 ecGgfP"><span data-component="buttonContent" class="Box-sc-g0xbh4-0 kkrdEu"><span data-component="leadingVisual" class="Box-sc-g0xbh4-0 trpoQ"><svg aria-hidden="true" focusable="false" role="img" class="octicon octicon-arrow-up" viewBox="0 0 16 16" width="16" height="16" fill="currentColor" style="display:inline-block;user-select:none;vertical-align:text-bottom;overflow:visible"><path d="M3.47 7.78a.75.75 0 0 1 0-1.06l4.25-4.25a.75.75 0 0 1 1.06 0l4.25 4.25a.751.751 0 0 1-.018 1.042.751.751 0 0 1-1.042.018L9 4.81v7.44a.75.75 0 0 1-1.5 0V4.81L4.53 7.78a.75.75 0 0 1-1.06 0Z"></path></svg></span><span data-component="text">Top</span></span></button></div></div></div><div class="Box-sc-g0xbh4-0 jtQniD"><h2 class="Heading__StyledHeading-sc-1c1dgg0-0 cgQnMS sr-only" data-testid="screen-reader-heading">File metadata and controls</h2><div class="Box-sc-g0xbh4-0 bfkNRF"><ul aria-label="File view" class="SegmentedControl__SegmentedControlList-sc-1rzig82-0 dlXtLG"><li class="Box-sc-g0xbh4-0 fXBLEV"><button aria-current="true" type="button" class="SegmentedControlButton__SegmentedControlButtonStyled-sc-8lkgxl-0 NCWSJ"><span class="segmentedControl-content"><div class="Box-sc-g0xbh4-0 segmentedControl-text">Preview</div></span></button></li><li class="Box-sc-g0xbh4-0 illvPQ"><button aria-current="false" type="button" class="SegmentedControlButton__SegmentedControlButtonStyled-sc-8lkgxl-0 lfqhlR"><span class="segmentedControl-content"><div class="Box-sc-g0xbh4-0 segmentedControl-text">Code</div></span></button></li><li class="Box-sc-g0xbh4-0 illvPQ"><button aria-current="false" type="button" class="SegmentedControlButton__SegmentedControlButtonStyled-sc-8lkgxl-0 iDBPxb"><span class="segmentedControl-content"><div class="Box-sc-g0xbh4-0 segmentedControl-text">Blame</div></span></button></li></ul><button hidden="" data-testid="" data-hotkey-scope="read-only-cursor-text-area"></button><button hidden="" data-testid="" data-hotkey-scope="read-only-cursor-text-area"></button><button hidden="" data-testid="" data-hotkey-scope="read-only-cursor-text-area"></button><div class="Box-sc-g0xbh4-0 fleZSW react-code-size-details-in-header"><div class="Box-sc-g0xbh4-0 dVVHlo text-mono"><div title="130 KB" data-testid="blob-size" class="Truncate__StyledTruncate-sc-23o1d2-0 fUpWeN"><span class="Text-sc-17v1xeu-0 gPDEWA">723 lines (723 loc) · 130 KB</span></div></div></div><div class="Box-sc-g0xbh4-0 react-code-size-details-in-header"><button style="--button-color:fg.default" type="button" id=":R3kptal9laeb:" aria-haspopup="true" aria-expanded="false" tabindex="0" data-testid="copilot-popover-button" data-size="small" class="types__StyledButton-sc-ws60qy-0 hhunph"><span data-component="buttonContent" class="Box-sc-g0xbh4-0 kkrdEu"><span data-component="leadingVisual" class="Box-sc-g0xbh4-0 trpoQ"><svg aria-hidden="true" focusable="false" role="img" class="octicon octicon-copilot" viewBox="0 0 16 16" width="16" height="16" fill="currentColor" style="display:inline-block;user-select:none;vertical-align:text-bottom;overflow:visible"><path d="M7.998 15.035c-4.562 0-7.873-2.914-7.998-3.749V9.338c.085-.628.677-1.686 1.588-2.065.013-.07.024-.143.036-.218.029-.183.06-.384.126-.612-.201-.508-.254-1.084-.254-1.656 0-.87.128-1.769.693-2.484.579-.733 1.494-1.124 2.724-1.261 1.206-.134 2.262.034 2.944.765.05.053.096.108.139.165.044-.057.094-.112.143-.165.682-.731 1.738-.899 2.944-.765 1.23.137 2.145.528 2.724 1.261.566.715.693 1.614.693 2.484 0 .572-.053 1.148-.254 1.656.066.228.098.429.126.612.012.076.024.148.037.218.924.385 1.522 1.471 1.591 2.095v1.872c0 .766-3.351 3.795-8.002 3.795Zm0-1.485c2.28 0 4.584-1.11 5.002-1.433V7.862l-.023-.116c-.49.21-1.075.291-1.727.291-1.146 0-2.059-.327-2.71-.991A3.222 3.222 0 0 1 8 6.303a3.24 3.24 0 0 1-.544.743c-.65.664-1.563.991-2.71.991-.652 0-1.236-.081-1.727-.291l-.023.116v4.255c.419.323 2.722 1.433 5.002 1.433ZM6.762 2.83c-.193-.206-.637-.413-1.682-.297-1.019.113-1.479.404-1.713.7-.247.312-.369.789-.369 1.554 0 .793.129 1.171.308 1.371.162.181.519.379 1.442.379.853 0 1.339-.235 1.638-.54.315-.322.527-.827.617-1.553.117-.935-.037-1.395-.241-1.614Zm4.155-.297c-1.044-.116-1.488.091-1.681.297-.204.219-.359.679-.242 1.614.091.726.303 1.231.618 1.553.299.305.784.54 1.638.54.922 0 1.28-.198 1.442-.379.179-.2.308-.578.308-1.371 0-.765-.123-1.242-.37-1.554-.233-.296-.693-.587-1.713-.7Z"></path><path d="M6.25 9.037a.75.75 0 0 1 .75.75v1.501a.75.75 0 0 1-1.5 0V9.787a.75.75 0 0 1 .75-.75Zm4.25.75v1.501a.75.75 0 0 1-1.5 0V9.787a.75.75 0 0 1 1.5 0Z"></path></svg></span><span data-component="text">Code 55% faster with GitHub Copilot</span></span></button></div></div><div class="Box-sc-g0xbh4-0 iBylDf"><div class="Box-sc-g0xbh4-0 kSGBPx react-blob-header-edit-and-raw-actions"><div class="ButtonGroup-sc-1gxhls1-0 cjbBGq"><a href="https://github.com/CoroaPT/FinalAssignment/raw/main/8.%20Spacex-machine-learning-prediction-api.ipynb" data-testid="raw-button" data-size="small" data-no-visuals="true" class="types__StyledButton-sc-ws60qy-0 dupbIv"><span data-component="buttonContent" class="Box-sc-g0xbh4-0 kkrdEu"><span data-component="text">Raw</span></span></a><button data-component="IconButton" type="button" aria-label="Copy raw content" data-testid="copy-raw-button" data-size="small" data-no-visuals="true" class="types__StyledButton-sc-ws60qy-0 dMUxwi"><svg aria-hidden="true" focusable="false" role="img" class="octicon octicon-copy" viewBox="0 0 16 16" width="16" height="16" fill="currentColor" style="display:inline-block;user-select:none;vertical-align:text-bottom;overflow:visible"><path d="M0 6.75C0 5.784.784 5 1.75 5h1.5a.75.75 0 0 1 0 1.5h-1.5a.25.25 0 0 0-.25.25v7.5c0 .138.112.25.25.25h7.5a.25.25 0 0 0 .25-.25v-1.5a.75.75 0 0 1 1.5 0v1.5A1.75 1.75 0 0 1 9.25 16h-7.5A1.75 1.75 0 0 1 0 14.25Z"></path><path d="M5 1.75C5 .784 5.784 0 6.75 0h7.5C15.216 0 16 .784 16 1.75v7.5A1.75 1.75 0 0 1 14.25 11h-7.5A1.75 1.75 0 0 1 5 9.25Zm1.75-.25a.25.25 0 0 0-.25.25v7.5c0 .138.112.25.25.25h7.5a.25.25 0 0 0 .25-.25v-7.5a.25.25 0 0 0-.25-.25Z"></path></svg></button><span role="tooltip" aria-label="Download raw file" id=":Rdcsptal9laeb:" class="Tooltip__TooltipBase-sc-17tf59c-0 izAlVj tooltipped-n"><button data-component="IconButton" type="button" aria-label="Download raw content" data-testid="download-raw-button" data-size="small" data-no-visuals="true" class="types__StyledButton-sc-ws60qy-0 fCIOmi"><svg aria-hidden="true" focusable="false" role="img" class="octicon octicon-download" viewBox="0 0 16 16" width="16" height="16" fill="currentColor" style="display:inline-block;user-select:none;vertical-align:text-bottom;overflow:visible"><path d="M2.75 14A1.75 1.75 0 0 1 1 12.25v-2.5a.75.75 0 0 1 1.5 0v2.5c0 .138.112.25.25.25h10.5a.25.25 0 0 0 .25-.25v-2.5a.75.75 0 0 1 1.5 0v2.5A1.75 1.75 0 0 1 13.25 14Z"></path><path d="M7.25 7.689V2a.75.75 0 0 1 1.5 0v5.689l1.97-1.969a.749.749 0 1 1 1.06 1.06l-3.25 3.25a.749.749 0 0 1-1.06 0L4.22 6.78a.749.749 0 1 1 1.06-1.06l1.97 1.969Z"></path></svg></button></span></div><button hidden="" data-testid="raw-button-shortcut" data-hotkey-scope="read-only-cursor-text-area"></button><button hidden="" data-testid="copy-raw-button-shortcut" data-hotkey-scope="read-only-cursor-text-area"></button><button hidden="" data-testid="download-raw-button-shortcut" data-hotkey-scope="read-only-cursor-text-area"></button><a class="Link__StyledLink-sc-14289xe-0 elltiT js-github-dev-shortcut d-none" href="https://github.dev/"></a><button hidden="" data-testid="" data-hotkey-scope="read-only-cursor-text-area"></button><a class="Link__StyledLink-sc-14289xe-0 elltiT js-github-dev-new-tab-shortcut d-none" href="https://github.dev/" target="_blank"></a><button hidden="" data-testid="" data-hotkey-scope="read-only-cursor-text-area"></button><div class="ButtonGroup-sc-1gxhls1-0 cjbBGq"><span role="tooltip" aria-label="Fork this repository and edit the file" id=":R6ksptal9laeb:" class="Tooltip__TooltipBase-sc-17tf59c-0 izAlVj tooltipped-nw"><a sx="[object Object]" data-component="IconButton" type="button" aria-label="Edit file" data-testid="edit-button" data-size="small" data-no-visuals="true" class="types__StyledButton-sc-ws60qy-0 ksnFc" href="/CoroaPT/FinalAssignment/edit/main/8.%20Spacex-machine-learning-prediction-api.ipynb"><svg aria-hidden="true" focusable="false" role="img" class="octicon octicon-pencil" viewBox="0 0 16 16" width="16" height="16" fill="currentColor" style="display:inline-block;user-select:none;vertical-align:text-bottom;overflow:visible"><path d="M11.013 1.427a1.75 1.75 0 0 1 2.474 0l1.086 1.086a1.75 1.75 0 0 1 0 2.474l-8.61 8.61c-.21.21-.47.364-.756.445l-3.251.93a.75.75 0 0 1-.927-.928l.929-3.25c.081-.286.235-.547.445-.758l8.61-8.61Zm.176 4.823L9.75 4.81l-6.286 6.287a.253.253 0 0 0-.064.108l-.558 1.953 1.953-.558a.253.253 0 0 0 .108-.064Zm1.238-3.763a.25.25 0 0 0-.354 0L10.811 3.75l1.439 1.44 1.263-1.263a.25.25 0 0 0 0-.354Z"></path></svg></a></span><button data-component="IconButton" type="button" aria-label="More edit options" data-testid="more-edit-button" id=":Raksptal9laeb:" aria-haspopup="true" aria-expanded="false" tabindex="0" data-size="small" data-no-visuals="true" class="types__StyledButton-sc-ws60qy-0 dMUxwi"><svg aria-hidden="true" focusable="false" role="img" class="octicon octicon-triangle-down" viewBox="0 0 16 16" width="16" height="16" fill="currentColor" style="display:inline-block;user-select:none;vertical-align:text-bottom;overflow:visible"><path d="m4.427 7.427 3.396 3.396a.25.25 0 0 0 .354 0l3.396-3.396A.25.25 0 0 0 11.396 7H4.604a.25.25 0 0 0-.177.427Z"></path></svg></button></div><button hidden="" data-testid="" data-hotkey="e,Shift+E" data-hotkey-scope="read-only-cursor-text-area"></button></div><div class="Box-sc-g0xbh4-0 react-blob-header-edit-and-raw-actions-combined"><button data-component="IconButton" type="button" aria-label="Edit and raw actions" class="types__StyledButton-sc-ws60qy-0 htXhGX js-blob-dropdown-click" title="More file actions" data-testid="more-file-actions-button" id=":Rnsptal9laeb:" aria-haspopup="true" aria-expanded="false" tabindex="0" data-size="small" data-no-visuals="true"><svg aria-hidden="true" focusable="false" role="img" class="octicon octicon-kebab-horizontal" viewBox="0 0 16 16" width="16" height="16" fill="currentColor" style="display:inline-block;user-select:none;vertical-align:text-bottom;overflow:visible"><path d="M8 9a1.5 1.5 0 1 0 0-3 1.5 1.5 0 0 0 0 3ZM1.5 9a1.5 1.5 0 1 0 0-3 1.5 1.5 0 0 0 0 3Zm13 0a1.5 1.5 0 1 0 0-3 1.5 1.5 0 0 0 0 3Z"></path></svg></button></div></div></div></div><div></div></div><div class="Box-sc-g0xbh4-0 jMJFjm"><section aria-labelledby="file-name-id-wide file-name-id-mobile" class="Box-sc-g0xbh4-0 eJsjkT"><!--$!--><template></template><div data-testid="suspense-spinner" class="Box-sc-g0xbh4-0 bAzdCq"><svg height="32px" width="32px" viewBox="0 0 16 16" fill="none" aria-label="Loading" class="Spinner__StyledSpinner-sc-1knt686-0 hPEVNM"><circle cx="8" cy="8" r="7" stroke="currentColor" stroke-opacity="0.25" stroke-width="2" vector-effect="non-scaling-stroke"></circle><path d="M15 8a7.002 7.002 0 00-7-7" stroke="currentColor" stroke-width="2" stroke-linecap="round" vector-effect="non-scaling-stroke"></path></svg></div><!--/$--></section></div></div></div> <!-- --> <!-- --> </div></div></div><div class="Box-sc-g0xbh4-0"></div></div></div></div></div><div id="find-result-marks-container" class="Box-sc-g0xbh4-0 aZrVR"></div><button hidden="" data-testid="" data-hotkey-scope="read-only-cursor-text-area"></button><button hidden=""></button></div> <!-- --> <!-- --> <!-- --> <script type="application/json" id="__PRIMER_DATA_:R0:__">{"resolvedServerColorMode":"night"}</script></div>
</react-app>
</turbo-frame>



  </div>

</turbo-frame>

    </main>
  </div>

  </div>

          <footer class="footer pt-8 pb-6 f6 color-fg-muted p-responsive" role="contentinfo" >
  <h2 class='sr-only'>Footer</h2>

  


  <div class="d-flex flex-justify-center flex-items-center flex-column-reverse flex-lg-row flex-wrap flex-lg-nowrap">
    <div class="d-flex flex-items-center flex-shrink-0 mx-2">
      <a aria-label="Homepage" title="GitHub" class="footer-octicon mr-2" href="https://github.com">
        <svg aria-hidden="true" height="24" viewBox="0 0 16 16" version="1.1" width="24" data-view-component="true" class="octicon octicon-mark-github">
    <path d="M8 0c4.42 0 8 3.58 8 8a8.013 8.013 0 0 1-5.45 7.59c-.4.08-.55-.17-.55-.38 0-.27.01-1.13.01-2.2 0-.75-.25-1.23-.54-1.48 1.78-.2 3.65-.88 3.65-3.95 0-.88-.31-1.59-.82-2.15.08-.2.36-1.02-.08-2.12 0 0-.67-.22-2.2.82-.64-.18-1.32-.27-2-.27-.68 0-1.36.09-2 .27-1.53-1.03-2.2-.82-2.2-.82-.44 1.1-.16 1.92-.08 2.12-.51.56-.82 1.28-.82 2.15 0 3.06 1.86 3.75 3.64 3.95-.23.2-.44.55-.51 1.07-.46.21-1.61.55-2.33-.66-.15-.24-.6-.83-1.23-.82-.67.01-.27.38.01.53.34.19.73.9.82 1.13.16.45.68 1.31 2.69.94 0 .67.01 1.3.01 1.49 0 .21-.15.45-.55.38A7.995 7.995 0 0 1 0 8c0-4.42 3.58-8 8-8Z"></path>
</svg>
</a>
      <span>
        &copy; 2024 GitHub,&nbsp;Inc.
      </span>
    </div>

    <nav aria-label="Footer">
      <h3 class="sr-only" id="sr-footer-heading">Footer navigation</h3>

      <ul class="list-style-none d-flex flex-justify-center flex-wrap mb-2 mb-lg-0" aria-labelledby="sr-footer-heading">

          <li class="mx-2">
            <a data-analytics-event="{&quot;category&quot;:&quot;Footer&quot;,&quot;action&quot;:&quot;go to Terms&quot;,&quot;label&quot;:&quot;text:terms&quot;}" href="https://docs.github.com/site-policy/github-terms/github-terms-of-service" data-view-component="true" class="Link--secondary Link">Terms</a>
          </li>

          <li class="mx-2">
            <a data-analytics-event="{&quot;category&quot;:&quot;Footer&quot;,&quot;action&quot;:&quot;go to privacy&quot;,&quot;label&quot;:&quot;text:privacy&quot;}" href="https://docs.github.com/site-policy/privacy-policies/github-privacy-statement" data-view-component="true" class="Link--secondary Link">Privacy</a>
          </li>

          <li class="mx-2">
            <a data-analytics-event="{&quot;category&quot;:&quot;Footer&quot;,&quot;action&quot;:&quot;go to security&quot;,&quot;label&quot;:&quot;text:security&quot;}" href="https://github.com/security" data-view-component="true" class="Link--secondary Link">Security</a>
          </li>

          <li class="mx-2">
            <a data-analytics-event="{&quot;category&quot;:&quot;Footer&quot;,&quot;action&quot;:&quot;go to status&quot;,&quot;label&quot;:&quot;text:status&quot;}" href="https://www.githubstatus.com/" data-view-component="true" class="Link--secondary Link">Status</a>
          </li>

          <li class="mx-2">
            <a data-analytics-event="{&quot;category&quot;:&quot;Footer&quot;,&quot;action&quot;:&quot;go to docs&quot;,&quot;label&quot;:&quot;text:docs&quot;}" href="https://docs.github.com/" data-view-component="true" class="Link--secondary Link">Docs</a>
          </li>

          <li class="mx-2">
            <a data-analytics-event="{&quot;category&quot;:&quot;Footer&quot;,&quot;action&quot;:&quot;go to contact&quot;,&quot;label&quot;:&quot;text:contact&quot;}" href="https://support.github.com?tags=dotcom-footer" data-view-component="true" class="Link--secondary Link">Contact</a>
          </li>

          <li class="mr-3" >
  <cookie-consent-link>
    <button type="button" class="Link--secondary underline-on-hover border-0 p-0 color-bg-transparent" data-action="click:cookie-consent-link#showConsentManagement">
      Manage cookies
    </button>
  </cookie-consent-link>
</li>

<li class="mr-3">
  <cookie-consent-link>
    <button type="button" class="Link--secondary underline-on-hover border-0 p-0 color-bg-transparent" data-action="click:cookie-consent-link#showConsentManagement">
      Do not share my personal information
    </button>
  </cookie-consent-link>
</li>

      </ul>
    </nav>
  </div>
</footer>




    <ghcc-consent id="ghcc" class="position-fixed bottom-0 left-0" style="z-index: 999999" data-initial-cookie-consent-allowed="" data-cookie-consent-required="false"></ghcc-consent>


  <div id="ajax-error-message" class="ajax-error-message flash flash-error" hidden>
    <svg aria-hidden="true" height="16" viewBox="0 0 16 16" version="1.1" width="16" data-view-component="true" class="octicon octicon-alert">
    <path d="M6.457 1.047c.659-1.234 2.427-1.234 3.086 0l6.082 11.378A1.75 1.75 0 0 1 14.082 15H1.918a1.75 1.75 0 0 1-1.543-2.575Zm1.763.707a.25.25 0 0 0-.44 0L1.698 13.132a.25.25 0 0 0 .22.368h12.164a.25.25 0 0 0 .22-.368Zm.53 3.996v2.5a.75.75 0 0 1-1.5 0v-2.5a.75.75 0 0 1 1.5 0ZM9 11a1 1 0 1 1-2 0 1 1 0 0 1 2 0Z"></path>
</svg>
    <button type="button" class="flash-close js-ajax-error-dismiss" aria-label="Dismiss error">
      <svg aria-hidden="true" height="16" viewBox="0 0 16 16" version="1.1" width="16" data-view-component="true" class="octicon octicon-x">
    <path d="M3.72 3.72a.75.75 0 0 1 1.06 0L8 6.94l3.22-3.22a.749.749 0 0 1 1.275.326.749.749 0 0 1-.215.734L9.06 8l3.22 3.22a.749.749 0 0 1-.326 1.275.749.749 0 0 1-.734-.215L8 9.06l-3.22 3.22a.751.751 0 0 1-1.042-.018.751.751 0 0 1-.018-1.042L6.94 8 3.72 4.78a.75.75 0 0 1 0-1.06Z"></path>
</svg>
    </button>
    You can’t perform that action at this time.
  </div>

    <template id="site-details-dialog">
  <details class="details-reset details-overlay details-overlay-dark lh-default color-fg-default hx_rsm" open>
    <summary role="button" aria-label="Close dialog"></summary>
    <details-dialog class="Box Box--overlay d-flex flex-column anim-fade-in fast hx_rsm-dialog hx_rsm-modal">
      <button class="Box-btn-octicon m-0 btn-octicon position-absolute right-0 top-0" type="button" aria-label="Close dialog" data-close-dialog>
        <svg aria-hidden="true" height="16" viewBox="0 0 16 16" version="1.1" width="16" data-view-component="true" class="octicon octicon-x">
    <path d="M3.72 3.72a.75.75 0 0 1 1.06 0L8 6.94l3.22-3.22a.749.749 0 0 1 1.275.326.749.749 0 0 1-.215.734L9.06 8l3.22 3.22a.749.749 0 0 1-.326 1.275.749.749 0 0 1-.734-.215L8 9.06l-3.22 3.22a.751.751 0 0 1-1.042-.018.751.751 0 0 1-.018-1.042L6.94 8 3.72 4.78a.75.75 0 0 1 0-1.06Z"></path>
</svg>
      </button>
      <div class="octocat-spinner my-6 js-details-dialog-spinner"></div>
    </details-dialog>
  </details>
</template>

    <div class="Popover js-hovercard-content position-absolute" style="display: none; outline: none;" tabindex="0">
  <div class="Popover-message Popover-message--bottom-left Popover-message--large Box color-shadow-large" style="width:360px;">
  </div>
</div>

    <template id="snippet-clipboard-copy-button">
  <div class="zeroclipboard-container position-absolute right-0 top-0">
    <clipboard-copy aria-label="Copy" class="ClipboardButton btn js-clipboard-copy m-2 p-0 tooltipped-no-delay" data-copy-feedback="Copied!" data-tooltip-direction="w">
      <svg aria-hidden="true" height="16" viewBox="0 0 16 16" version="1.1" width="16" data-view-component="true" class="octicon octicon-copy js-clipboard-copy-icon m-2">
    <path d="M0 6.75C0 5.784.784 5 1.75 5h1.5a.75.75 0 0 1 0 1.5h-1.5a.25.25 0 0 0-.25.25v7.5c0 .138.112.25.25.25h7.5a.25.25 0 0 0 .25-.25v-1.5a.75.75 0 0 1 1.5 0v1.5A1.75 1.75 0 0 1 9.25 16h-7.5A1.75 1.75 0 0 1 0 14.25Z"></path><path d="M5 1.75C5 .784 5.784 0 6.75 0h7.5C15.216 0 16 .784 16 1.75v7.5A1.75 1.75 0 0 1 14.25 11h-7.5A1.75 1.75 0 0 1 5 9.25Zm1.75-.25a.25.25 0 0 0-.25.25v7.5c0 .138.112.25.25.25h7.5a.25.25 0 0 0 .25-.25v-7.5a.25.25 0 0 0-.25-.25Z"></path>
</svg>
      <svg aria-hidden="true" height="16" viewBox="0 0 16 16" version="1.1" width="16" data-view-component="true" class="octicon octicon-check js-clipboard-check-icon color-fg-success d-none m-2">
    <path d="M13.78 4.22a.75.75 0 0 1 0 1.06l-7.25 7.25a.75.75 0 0 1-1.06 0L2.22 9.28a.751.751 0 0 1 .018-1.042.751.751 0 0 1 1.042-.018L6 10.94l6.72-6.72a.75.75 0 0 1 1.06 0Z"></path>
</svg>
    </clipboard-copy>
  </div>
</template>
<template id="snippet-clipboard-copy-button-unpositioned">
  <div class="zeroclipboard-container">
    <clipboard-copy aria-label="Copy" class="ClipboardButton btn btn-invisible js-clipboard-copy m-2 p-0 tooltipped-no-delay d-flex flex-justify-center flex-items-center" data-copy-feedback="Copied!" data-tooltip-direction="w">
      <svg aria-hidden="true" height="16" viewBox="0 0 16 16" version="1.1" width="16" data-view-component="true" class="octicon octicon-copy js-clipboard-copy-icon">
    <path d="M0 6.75C0 5.784.784 5 1.75 5h1.5a.75.75 0 0 1 0 1.5h-1.5a.25.25 0 0 0-.25.25v7.5c0 .138.112.25.25.25h7.5a.25.25 0 0 0 .25-.25v-1.5a.75.75 0 0 1 1.5 0v1.5A1.75 1.75 0 0 1 9.25 16h-7.5A1.75 1.75 0 0 1 0 14.25Z"></path><path d="M5 1.75C5 .784 5.784 0 6.75 0h7.5C15.216 0 16 .784 16 1.75v7.5A1.75 1.75 0 0 1 14.25 11h-7.5A1.75 1.75 0 0 1 5 9.25Zm1.75-.25a.25.25 0 0 0-.25.25v7.5c0 .138.112.25.25.25h7.5a.25.25 0 0 0 .25-.25v-7.5a.25.25 0 0 0-.25-.25Z"></path>
</svg>
      <svg aria-hidden="true" height="16" viewBox="0 0 16 16" version="1.1" width="16" data-view-component="true" class="octicon octicon-check js-clipboard-check-icon color-fg-success d-none">
    <path d="M13.78 4.22a.75.75 0 0 1 0 1.06l-7.25 7.25a.75.75 0 0 1-1.06 0L2.22 9.28a.751.751 0 0 1 .018-1.042.751.751 0 0 1 1.042-.018L6 10.94l6.72-6.72a.75.75 0 0 1 1.06 0Z"></path>
</svg>
    </clipboard-copy>
  </div>
</template>


    <style>
      .user-mention[href$="/ragyaverma"] {
        color: var(--color-user-mention-fg);
        background-color: var(--bgColor-attention-muted, var(--color-attention-subtle));
        border-radius: 2px;
        margin-left: -2px;
        margin-right: -2px;
        padding: 0 2px;
      }
    </style>


    </div>

    <div id="js-global-screen-reader-notice" class="sr-only mt-n1" aria-live="polite" aria-atomic="true" ></div>
    <div id="js-global-screen-reader-notice-assertive" class="sr-only mt-n1" aria-live="assertive" aria-atomic="true"></div>
  </body>
</html>

